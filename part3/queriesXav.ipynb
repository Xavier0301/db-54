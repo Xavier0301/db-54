{
 "metadata": {
  "language_info": {
   "codemirror_mode": {
    "name": "ipython",
    "version": 3
   },
   "file_extension": ".py",
   "mimetype": "text/x-python",
   "name": "python",
   "nbconvert_exporter": "python",
   "pygments_lexer": "ipython3",
   "version": "3.7.3"
  },
  "orig_nbformat": 2,
  "kernelspec": {
   "name": "python373jvsc74a57bd0575ef1d0e6bebc78cce9f41e5461ee9c36f6b463def79c68585633dbbf58454e",
   "display_name": "Python 3.7.3 64-bit ('base': conda)"
  }
 },
 "nbformat": 4,
 "nbformat_minor": 2,
 "cells": [
  {
   "cell_type": "code",
   "execution_count": 1,
   "metadata": {},
   "outputs": [],
   "source": [
    "import mysql.connector\n",
    "from mysql.connector.constants import ClientFlag"
   ]
  },
  {
   "cell_type": "code",
   "execution_count": 2,
   "metadata": {},
   "outputs": [],
   "source": [
    "config = {\n",
    "    'user': 'root',\n",
    "    'password': 'Hh12H8y2ppBAq5Cj',\n",
    "    'host': 'localhost',\n",
    "    'database': 'data'\n",
    "}\n",
    "\n",
    "cnx = mysql.connector.connect(**config)\n",
    "cnx.autocommit = True\n",
    "cursor = cnx.cursor()"
   ]
  },
  {
   "source": [
    "# Query 1"
   ],
   "cell_type": "markdown",
   "metadata": {}
  },
  {
   "cell_type": "code",
   "execution_count": 23,
   "metadata": {},
   "outputs": [],
   "source": [
    "cursor.execute(\"\"\"\n",
    "SELECT\n",
    "  q1.AgeGroup,\n",
    "  q2.Count * 100.0 / q1.Count AS Percentage\n",
    "FROM\n",
    "  (\n",
    "    SELECT\n",
    "      CASE WHEN party_age BETWEEN 0\n",
    "      AND 18 THEN 'Underage' WHEN party_age BETWEEN 19\n",
    "      AND 21 THEN 'Young I' WHEN party_age BETWEEN 22\n",
    "      AND 24 THEN 'Young II' WHEN party_age BETWEEN 24\n",
    "      AND 60 THEN 'Adult' WHEN party_age BETWEEN 61\n",
    "      AND 64 THEN 'Elder I' ELSE 'Elder II' END AS AgeGroup,\n",
    "      count(1) AS Count\n",
    "    FROM\n",
    "      Parties\n",
    "    GROUP BY\n",
    "      AgeGroup\n",
    "  ) q1\n",
    "  INNER JOIN (\n",
    "    SELECT\n",
    "      CASE WHEN p.party_age BETWEEN 0\n",
    "      AND 18 THEN 'Underage' WHEN p.party_age BETWEEN 18\n",
    "      AND 21 THEN 'Young I' WHEN p.party_age BETWEEN 21\n",
    "      AND 24 THEN 'Young II' WHEN p.party_age BETWEEN 24\n",
    "      AND 60 THEN 'Adult' WHEN p.party_age BETWEEN 60\n",
    "      AND 64 THEN 'Elder I' ELSE 'Elder II' END AS AgeGroup,\n",
    "      count(1) AS Count\n",
    "    FROM\n",
    "      Parties p\n",
    "    WHERE\n",
    "      p.at_fault = true\n",
    "      AND p.party_type IN (SELECT id FROM PartyType WHERE description='driver')\n",
    "    GROUP BY\n",
    "      AgeGroup\n",
    "  ) q2 ON q1.AgeGroup = q2.AgeGroup\"\"\")"
   ]
  },
  {
   "cell_type": "code",
   "execution_count": 24,
   "metadata": {},
   "outputs": [],
   "source": [
    "res = cursor.fetchall()"
   ]
  },
  {
   "cell_type": "code",
   "execution_count": 25,
   "metadata": {},
   "outputs": [
    {
     "output_type": "stream",
     "name": "stdout",
     "text": [
      "('Young I', Decimal('56.28855'))\n('Underage', Decimal('56.44656'))\n('Adult', Decimal('40.01389'))\n('Elder II', Decimal('43.00967'))\n('Young II', Decimal('50.83931'))\n('Elder I', Decimal('38.93744'))\n"
     ]
    }
   ],
   "source": [
    "for x in res:\n",
    "    print(x)"
   ]
  },
  {
   "source": [
    "# Query 4\n",
    "## Part 1"
   ],
   "cell_type": "markdown",
   "metadata": {}
  },
  {
   "cell_type": "code",
   "execution_count": null,
   "metadata": {},
   "outputs": [],
   "source": [
    "cursor.execute(\"\"\"\n",
    "SELECT\n",
    "  q1.SeatingPosition,\n",
    "  q2.Count / q1.Count AS SafetyIndex\n",
    "FROM\n",
    "  (\n",
    "    SELECT\n",
    "      CASE WHEN victim_seating_position BETWEEN 1\n",
    "      AND 1 THEN 'Driver' WHEN victim_seating_position BETWEEN 2\n",
    "      AND 6 THEN 'Passenger' WHEN victim_seating_position BETWEEN 7\n",
    "      AND 7 THEN 'Station Wagon Rear' WHEN victim_seating_position BETWEEN 8\n",
    "      AND 8 THEN 'Rear Occupant of Truck or Van' WHEN victim_seating_position BETWEEN 9\n",
    "      AND 9 THEN 'Position Unknown' WHEN victim_seating_position BETWEEN 0\n",
    "      AND 0 THEN 'Other Occupants' WHEN victim_seating_position BETWEEN 'A'\n",
    "      AND 'Z' THEN 'Bus Occupants' ELSE 'Not Stated' END AS SeatingPosition,\n",
    "      count(1) AS Count\n",
    "    FROM\n",
    "      Victims\n",
    "    GROUP BY\n",
    "      SeatingPosition\n",
    "  ) q1\n",
    "  INNER JOIN (\n",
    "    SELECT\n",
    "      CASE WHEN victim_seating_position BETWEEN 1\n",
    "      AND 1 THEN 'Driver' WHEN victim_seating_position BETWEEN 2\n",
    "      AND 6 THEN 'Passenger' WHEN victim_seating_position BETWEEN 7\n",
    "      AND 7 THEN 'Station Wagon Rear' WHEN victim_seating_position BETWEEN 8\n",
    "      AND 8 THEN 'Rear Occupant of Truck or Van' WHEN victim_seating_position BETWEEN 9\n",
    "      AND 9 THEN 'Position Unknown' WHEN victim_seating_position BETWEEN 0\n",
    "      AND 0 THEN 'Other Occupants' WHEN victim_seating_position BETWEEN 'A'\n",
    "      AND 'Z' THEN 'Bus Occupants' ELSE 'Not Stated' END AS SeatingPosition,\n",
    "      count(1) AS Count\n",
    "    FROM\n",
    "      Victims\n",
    "    WHERE\n",
    "      victim_degree_of_injury IN (SELECT id FROM VictimDegreeOfInjury WHERE description='no injury')\n",
    "    GROUP BY\n",
    "      SeatingPosition\n",
    "  ) q2 ON q1.SeatingPosition = q2.SeatingPosition\"\"\")"
   ]
  },
  {
   "cell_type": "code",
   "execution_count": null,
   "metadata": {},
   "outputs": [],
   "source": [
    "res = cursor.fetchall()"
   ]
  },
  {
   "cell_type": "code",
   "execution_count": null,
   "metadata": {},
   "outputs": [],
   "source": [
    "for x in res:\n",
    "    print(x)"
   ]
  },
  {
   "source": [
    "## Part 2"
   ],
   "cell_type": "markdown",
   "metadata": {}
  },
  {
   "cell_type": "code",
   "execution_count": 27,
   "metadata": {},
   "outputs": [],
   "source": [
    "cursor.execute(\"\"\"\n",
    "CREATE VIEW SafetyIndexes AS \n",
    "    (SELECT\n",
    "    q1.SeatingPosition,\n",
    "    q2.Count / q1.Count AS SafetyIndex\n",
    "    FROM\n",
    "    (\n",
    "        SELECT\n",
    "        CASE WHEN victim_seating_position BETWEEN 1\n",
    "        AND 1 THEN 'Driver' WHEN victim_seating_position BETWEEN 2\n",
    "        AND 6 THEN 'Passenger' WHEN victim_seating_position BETWEEN 7\n",
    "        AND 7 THEN 'Station Wagon Rear' WHEN victim_seating_position BETWEEN 8\n",
    "        AND 8 THEN 'Rear Occupant of Truck or Van' WHEN victim_seating_position BETWEEN 9\n",
    "        AND 9 THEN 'Position Unknown' WHEN victim_seating_position BETWEEN 0\n",
    "        AND 0 THEN 'Other Occupants' WHEN victim_seating_position BETWEEN 'A'\n",
    "        AND 'Z' THEN 'Bus Occupants' ELSE 'Not Stated' END AS SeatingPosition,\n",
    "        count(1) AS Count\n",
    "        FROM\n",
    "        Victims\n",
    "        GROUP BY\n",
    "        SeatingPosition\n",
    "    ) q1\n",
    "    INNER JOIN (\n",
    "        SELECT\n",
    "        CASE WHEN victim_seating_position BETWEEN 1\n",
    "        AND 1 THEN 'Driver' WHEN victim_seating_position BETWEEN 2\n",
    "        AND 6 THEN 'Passenger' WHEN victim_seating_position BETWEEN 7\n",
    "        AND 7 THEN 'Station Wagon Rear' WHEN victim_seating_position BETWEEN 8\n",
    "        AND 8 THEN 'Rear Occupant of Truck or Van' WHEN victim_seating_position BETWEEN 9\n",
    "        AND 9 THEN 'Position Unknown' WHEN victim_seating_position BETWEEN 0\n",
    "        AND 0 THEN 'Other Occupants' WHEN victim_seating_position BETWEEN 'A'\n",
    "        AND 'Z' THEN 'Bus Occupants' ELSE 'Not Stated' END AS SeatingPosition,\n",
    "        count(1) AS Count\n",
    "        FROM\n",
    "        Victims\n",
    "        WHERE\n",
    "        victim_degree_of_injury IN (SELECT id FROM VictimDegreeOfInjury WHERE description='no injury')\n",
    "        GROUP BY\n",
    "        SeatingPosition\n",
    "    ) q2 ON q1.SeatingPosition = q2.SeatingPosition)\"\"\")"
   ]
  },
  {
   "cell_type": "code",
   "execution_count": 28,
   "metadata": {},
   "outputs": [],
   "source": [
    "cursor.execute(\"\"\"\n",
    "SELECT \n",
    "    *\n",
    "FROM \n",
    "    SafetyIndexes\n",
    "WHERE\n",
    "    SafetyIndex IN (\n",
    "          (SELECT MIN(SafetyIndex) FROM SafetyIndexes),\n",
    "          (SELECT MAX(SafetyIndex) FROM SafetyIndexes)\n",
    "      )\"\"\")"
   ]
  },
  {
   "cell_type": "code",
   "execution_count": 29,
   "metadata": {},
   "outputs": [],
   "source": [
    "res = cursor.fetchall()"
   ]
  },
  {
   "cell_type": "code",
   "execution_count": 30,
   "metadata": {},
   "outputs": [
    {
     "output_type": "stream",
     "name": "stdout",
     "text": [
      "('Station Wagon Rear', Decimal('0.8251'))\n('Driver', Decimal('0.0090'))\n"
     ]
    }
   ],
   "source": [
    "for x in res:\n",
    "    print(x)"
   ]
  },
  {
   "source": [
    "# Optimisations"
   ],
   "cell_type": "markdown",
   "metadata": {}
  },
  {
   "source": [
    "The two commands to get the wanted indexes are:\n",
    "\n",
    "```python\n",
    "cursor.execute(\"CREATE INDEX index_hash_party_type ON Parties(party_type) USING HASH;\")\n",
    "cursor.execute(\"CREATE INDEX index_hash_victim_injury ON Victims(victim_degree_of_injury) USING HASH;\")\n",
    "```"
   ],
   "cell_type": "markdown",
   "metadata": {}
  },
  {
   "source": [
    "## Query 1"
   ],
   "cell_type": "markdown",
   "metadata": {}
  },
  {
   "source": [
    "Before any optimisation, the query:\n",
    "\n",
    "* Runs in 8.050s before introducting an index\n",
    "* Does a full scan on the outer relation of the join\n",
    "\n",
    "Then, after introduction a hash index on the `party_type` of `Parties`:\n",
    "```python\n",
    "cursor.execute(\"CREATE INDEX index_hash_party_type ON Parties(party_type) USING HASH;\")\n",
    "```\n",
    "We obtain the following results:\n",
    "* Runs in 1m17s\n",
    "* Uses the index on the outer relation of the join\n",
    "\n",
    "We obtain a decrease in performance after optimisation."
   ],
   "cell_type": "markdown",
   "metadata": {}
  },
  {
   "source": [
    "## Query 4"
   ],
   "cell_type": "markdown",
   "metadata": {}
  },
  {
   "source": [
    "The second queries which consists in getting the maximum and minimum values of the table `SafetyIndexes` runs fast and need no optimisation as it is composed only a couple of entries. We will focuse here on optimising the first part of the query: getting the safety indexes for each seating position."
   ],
   "cell_type": "markdown",
   "metadata": {}
  },
  {
   "source": [
    "Before any optimisation, the query:\n",
    "\n",
    "* Runs in 4.590s before introducting an index\n",
    "* Does a full scan on the outer relation of the join\n",
    "\n",
    "Then, after introduction a hash index on the `victim_degree_of_injury` of `Victims`:\n",
    "```python\n",
    "cursor.execute(\"CREATE INDEX index_hash_victim_injury ON Victims(victim_degree_of_injury) USING HASH;\")\n",
    "```\n",
    "We obtain the following results:\n",
    "* Runs in 33.865s\n",
    "* Uses the index on the outer relation of the join\n",
    "\n",
    "We obtain a decrease in performance after optimisation."
   ],
   "cell_type": "markdown",
   "metadata": {}
  },
  {
   "cell_type": "code",
   "execution_count": 27,
   "metadata": {},
   "outputs": [],
   "source": [
    "cursor.execute(\"\"\"  \n",
    "SELECT COUNT(*)\n",
    "FROM (SELECT statewide_vehicle_type  ,COUNT(Parties.case_id) as collisions ,COUNT(DISTINCT county_city_location) as city\n",
    "      FROM (Vehicles   INNER JOIN Parties ON Parties.id = Vehicles.party_id\n",
    "                       INNER JOIN Locations ON Locations.case_id = Parties.id)\n",
    "GROUP BY statewide_vehicle_type\n",
    ") A\n",
    "WHERE A.collisions > 10 AND\n",
    "      A.city > (\n",
    "SELECT COUNT(DISTINCT county_city_location)\n",
    "FROM Locations)/2\"\"\")"
   ]
  },
  {
   "cell_type": "code",
   "execution_count": 25,
   "metadata": {},
   "outputs": [],
   "source": [
    "res = cursor.fetchall()"
   ]
  },
  {
   "cell_type": "code",
   "execution_count": 26,
   "metadata": {},
   "outputs": [
    {
     "output_type": "stream",
     "name": "stdout",
     "text": [
      "(1, 'PRIMARY', '<derived2>', None, 'ALL', None, None, None, None, 3452238, 33.33, 'Using where')\n(3, 'SUBQUERY', 'Locations', None, 'ALL', None, None, None, None, 3452238, 100.0, None)\n(2, 'DERIVED', 'Locations', None, 'ALL', 'case_id', None, None, None, 3452238, 100.0, 'Using temporary; Using filesort')\n(2, 'DERIVED', 'Vehicles', None, 'ref', 'statewide_vehicle_type,party_id', 'party_id', '4', 'data.Locations.case_id', 1, 100.0, 'Using index condition')\n(2, 'DERIVED', 'Parties', None, 'eq_ref', 'PRIMARY', 'PRIMARY', '4', 'data.Locations.case_id', 1, 100.0, 'Using where')\n"
     ]
    }
   ],
   "source": [
    "for x in res:\n",
    "    print(x)"
   ]
  },
  {
   "cell_type": "code",
   "execution_count": null,
   "metadata": {},
   "outputs": [],
   "source": []
  }
 ]
}