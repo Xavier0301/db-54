{
 "metadata": {
  "language_info": {
   "codemirror_mode": {
    "name": "ipython",
    "version": 3
   },
   "file_extension": ".py",
   "mimetype": "text/x-python",
   "name": "python",
   "nbconvert_exporter": "python",
   "pygments_lexer": "ipython3",
   "version": "3.7.3"
  },
  "orig_nbformat": 2,
  "kernelspec": {
   "name": "python373jvsc74a57bd0575ef1d0e6bebc78cce9f41e5461ee9c36f6b463def79c68585633dbbf58454e",
   "display_name": "Python 3.7.3 64-bit ('base': conda)"
  }
 },
 "nbformat": 4,
 "nbformat_minor": 2,
 "cells": [
  {
   "cell_type": "code",
   "execution_count": 1,
   "metadata": {},
   "outputs": [],
   "source": [
    "import mysql.connector\n",
    "from mysql.connector.constants import ClientFlag"
   ]
  },
  {
   "cell_type": "code",
   "execution_count": 29,
   "metadata": {},
   "outputs": [],
   "source": [
    "config = {\n",
    "    'user': 'root',\n",
    "    'password': 'Hh12H8y2ppBAq5Cj',\n",
    "    'host': 'localhost',\n",
    "    'database': 'data'\n",
    "}\n",
    "\n",
    "cnx = mysql.connector.connect(**config)\n",
    "cnx.autocommit = True\n",
    "cursor = cnx.cursor()"
   ]
  },
  {
   "cell_type": "code",
   "execution_count": 28,
   "metadata": {},
   "outputs": [],
   "source": [
    "def markdown_table(res, titles):\n",
    "    if len(titles) != len(res[0]):\n",
    "        raise Exception(\"arg arrays don't match\")\n",
    "\n",
    "    table = ' | '.join(titles)\n",
    "    table += '\\n'\n",
    "    table += ' | '.join([\":---:\"] * len(titles))\n",
    "    table += '\\n'\n",
    "\n",
    "    for row in res:\n",
    "        table += ' | '.join([str(elem) for elem in row])\n",
    "        table += '\\n'\n",
    "\n",
    "    return table"
   ]
  },
  {
   "source": [
    "# Query 1"
   ],
   "cell_type": "markdown",
   "metadata": {}
  },
  {
   "cell_type": "code",
   "execution_count": 30,
   "metadata": {},
   "outputs": [],
   "source": [
    "cursor.execute(\"\"\"\n",
    "SELECT\n",
    "  q1.AgeGroup as age_group,\n",
    "  q2.Count * 100.0 / q1.Count AS percentage\n",
    "FROM\n",
    "  (\n",
    "    SELECT\n",
    "      CASE WHEN party_age BETWEEN 0\n",
    "      AND 18 THEN 'Underage' WHEN party_age BETWEEN 19\n",
    "      AND 21 THEN 'Young I' WHEN party_age BETWEEN 22\n",
    "      AND 24 THEN 'Young II' WHEN party_age BETWEEN 24\n",
    "      AND 60 THEN 'Adult' WHEN party_age BETWEEN 61\n",
    "      AND 64 THEN 'Elder I' ELSE 'Elder II' END AS AgeGroup,\n",
    "      count(1) AS Count\n",
    "    FROM\n",
    "      Parties\n",
    "    GROUP BY\n",
    "      AgeGroup\n",
    "  ) q1\n",
    "  INNER JOIN (\n",
    "    SELECT\n",
    "      CASE WHEN p.party_age BETWEEN 0\n",
    "      AND 18 THEN 'Underage' WHEN p.party_age BETWEEN 18\n",
    "      AND 21 THEN 'Young I' WHEN p.party_age BETWEEN 21\n",
    "      AND 24 THEN 'Young II' WHEN p.party_age BETWEEN 24\n",
    "      AND 60 THEN 'Adult' WHEN p.party_age BETWEEN 60\n",
    "      AND 64 THEN 'Elder I' ELSE 'Elder II' END AS AgeGroup,\n",
    "      count(1) AS Count\n",
    "    FROM\n",
    "      Parties p\n",
    "    WHERE\n",
    "      p.at_fault = true\n",
    "      AND p.party_type IN (SELECT id FROM PartyType WHERE description='driver')\n",
    "    GROUP BY\n",
    "      AgeGroup\n",
    "  ) q2 ON q1.AgeGroup = q2.AgeGroup\"\"\")"
   ]
  },
  {
   "cell_type": "code",
   "execution_count": 31,
   "metadata": {},
   "outputs": [],
   "source": [
    "res = cursor.fetchall()"
   ]
  },
  {
   "cell_type": "code",
   "execution_count": 32,
   "metadata": {},
   "outputs": [
    {
     "output_type": "stream",
     "name": "stdout",
     "text": [
      "('Young I', Decimal('56.28855'))\n('Underage', Decimal('56.44656'))\n('Adult', Decimal('40.01389'))\n('Elder II', Decimal('43.00967'))\n('Young II', Decimal('50.83931'))\n('Elder I', Decimal('38.93744'))\n"
     ]
    }
   ],
   "source": [
    "for x in res:\n",
    "    print(x)"
   ]
  },
  {
   "cell_type": "code",
   "execution_count": 33,
   "metadata": {},
   "outputs": [
    {
     "output_type": "stream",
     "name": "stdout",
     "text": [
      "age_group | percentage\n:---: | :---:\nYoung I | 56.28855\nUnderage | 56.44656\nAdult | 40.01389\nElder II | 43.00967\nYoung II | 50.83931\nElder I | 38.93744\n\n"
     ]
    }
   ],
   "source": [
    "print(markdown_table(res, [\"age_group\", \"percentage\"]))"
   ]
  },
  {
   "source": [
    "# Query 4\n",
    "## Part 1"
   ],
   "cell_type": "markdown",
   "metadata": {}
  },
  {
   "cell_type": "code",
   "execution_count": 34,
   "metadata": {},
   "outputs": [],
   "source": [
    "cursor.execute(\"\"\"\n",
    "SELECT\n",
    "  q1.SeatingPosition AS seating_position,\n",
    "  q2.Count / q1.Count AS safety_index\n",
    "FROM\n",
    "  (\n",
    "    SELECT\n",
    "      CASE WHEN victim_seating_position BETWEEN 1\n",
    "      AND 1 THEN 'Driver' WHEN victim_seating_position BETWEEN 2\n",
    "      AND 6 THEN 'Passenger' WHEN victim_seating_position BETWEEN 7\n",
    "      AND 7 THEN 'Station Wagon Rear' WHEN victim_seating_position BETWEEN 8\n",
    "      AND 8 THEN 'Rear Occupant of Truck or Van' WHEN victim_seating_position BETWEEN 9\n",
    "      AND 9 THEN 'Position Unknown' WHEN victim_seating_position BETWEEN 0\n",
    "      AND 0 THEN 'Other Occupants' WHEN victim_seating_position BETWEEN 'A'\n",
    "      AND 'Z' THEN 'Bus Occupants' ELSE 'Not Stated' END AS SeatingPosition,\n",
    "      count(1) AS Count\n",
    "    FROM\n",
    "      Victims\n",
    "    GROUP BY\n",
    "      SeatingPosition\n",
    "  ) q1\n",
    "  INNER JOIN (\n",
    "    SELECT\n",
    "      CASE WHEN victim_seating_position BETWEEN 1\n",
    "      AND 1 THEN 'Driver' WHEN victim_seating_position BETWEEN 2\n",
    "      AND 6 THEN 'Passenger' WHEN victim_seating_position BETWEEN 7\n",
    "      AND 7 THEN 'Station Wagon Rear' WHEN victim_seating_position BETWEEN 8\n",
    "      AND 8 THEN 'Rear Occupant of Truck or Van' WHEN victim_seating_position BETWEEN 9\n",
    "      AND 9 THEN 'Position Unknown' WHEN victim_seating_position BETWEEN 0\n",
    "      AND 0 THEN 'Other Occupants' WHEN victim_seating_position BETWEEN 'A'\n",
    "      AND 'Z' THEN 'Bus Occupants' ELSE 'Not Stated' END AS SeatingPosition,\n",
    "      count(1) AS Count\n",
    "    FROM\n",
    "      Victims\n",
    "    WHERE\n",
    "      victim_degree_of_injury IN (SELECT id FROM VictimDegreeOfInjury WHERE description='no injury')\n",
    "    GROUP BY\n",
    "      SeatingPosition\n",
    "  ) q2 ON q1.SeatingPosition = q2.SeatingPosition\"\"\")"
   ]
  },
  {
   "cell_type": "code",
   "execution_count": 35,
   "metadata": {},
   "outputs": [],
   "source": [
    "res = cursor.fetchall()"
   ]
  },
  {
   "cell_type": "code",
   "execution_count": null,
   "metadata": {},
   "outputs": [],
   "source": [
    "for x in res:\n",
    "    print(x)"
   ]
  },
  {
   "cell_type": "code",
   "execution_count": 36,
   "metadata": {},
   "outputs": [
    {
     "output_type": "stream",
     "name": "stdout",
     "text": [
      "seating_position | safety_index\n:---: | :---:\nPassenger | 0.7548\nPosition Unknown | 0.3440\nOther Occupants | 0.6244\nRear Occupant of Truck or Van | 0.8177\nStation Wagon Rear | 0.8251\nNot Stated | 0.1822\nDriver | 0.0090\n\n"
     ]
    }
   ],
   "source": [
    "print(markdown_table(res, [\"seating_position\", \"safety_index\"]))"
   ]
  },
  {
   "source": [
    "## Part 2"
   ],
   "cell_type": "markdown",
   "metadata": {}
  },
  {
   "cell_type": "code",
   "execution_count": 37,
   "metadata": {},
   "outputs": [
    {
     "output_type": "error",
     "ename": "ProgrammingError",
     "evalue": "1050 (42S01): Table 'SafetyIndexes' already exists",
     "traceback": [
      "\u001b[0;31m---------------------------------------------------------------------------\u001b[0m",
      "\u001b[0;31mProgrammingError\u001b[0m                          Traceback (most recent call last)",
      "\u001b[0;32m<ipython-input-37-c4e6cbed749c>\u001b[0m in \u001b[0;36m<module>\u001b[0;34m\u001b[0m\n\u001b[1;32m     38\u001b[0m         \u001b[0mGROUP\u001b[0m \u001b[0mBY\u001b[0m\u001b[0;34m\u001b[0m\u001b[0;34m\u001b[0m\u001b[0m\n\u001b[1;32m     39\u001b[0m         \u001b[0mSeatingPosition\u001b[0m\u001b[0;34m\u001b[0m\u001b[0;34m\u001b[0m\u001b[0m\n\u001b[0;32m---> 40\u001b[0;31m     ) q2 ON q1.SeatingPosition = q2.SeatingPosition)\"\"\")\n\u001b[0m",
      "\u001b[0;32m~/miniconda3/lib/python3.7/site-packages/mysql/connector/cursor.py\u001b[0m in \u001b[0;36mexecute\u001b[0;34m(self, operation, params, multi)\u001b[0m\n\u001b[1;32m    566\u001b[0m \u001b[0;34m\u001b[0m\u001b[0m\n\u001b[1;32m    567\u001b[0m         \u001b[0;32mtry\u001b[0m\u001b[0;34m:\u001b[0m\u001b[0;34m\u001b[0m\u001b[0;34m\u001b[0m\u001b[0m\n\u001b[0;32m--> 568\u001b[0;31m             \u001b[0mself\u001b[0m\u001b[0;34m.\u001b[0m\u001b[0m_handle_result\u001b[0m\u001b[0;34m(\u001b[0m\u001b[0mself\u001b[0m\u001b[0;34m.\u001b[0m\u001b[0m_connection\u001b[0m\u001b[0;34m.\u001b[0m\u001b[0mcmd_query\u001b[0m\u001b[0;34m(\u001b[0m\u001b[0mstmt\u001b[0m\u001b[0;34m)\u001b[0m\u001b[0;34m)\u001b[0m\u001b[0;34m\u001b[0m\u001b[0;34m\u001b[0m\u001b[0m\n\u001b[0m\u001b[1;32m    569\u001b[0m         \u001b[0;32mexcept\u001b[0m \u001b[0merrors\u001b[0m\u001b[0;34m.\u001b[0m\u001b[0mInterfaceError\u001b[0m\u001b[0;34m:\u001b[0m\u001b[0;34m\u001b[0m\u001b[0;34m\u001b[0m\u001b[0m\n\u001b[1;32m    570\u001b[0m             \u001b[0;32mif\u001b[0m \u001b[0mself\u001b[0m\u001b[0;34m.\u001b[0m\u001b[0m_connection\u001b[0m\u001b[0;34m.\u001b[0m\u001b[0m_have_next_result\u001b[0m\u001b[0;34m:\u001b[0m  \u001b[0;31m# pylint: disable=W0212\u001b[0m\u001b[0;34m\u001b[0m\u001b[0;34m\u001b[0m\u001b[0m\n",
      "\u001b[0;32m~/miniconda3/lib/python3.7/site-packages/mysql/connector/connection.py\u001b[0m in \u001b[0;36mcmd_query\u001b[0;34m(self, query, raw, buffered, raw_as_string)\u001b[0m\n\u001b[1;32m    684\u001b[0m             \u001b[0mquery\u001b[0m \u001b[0;34m=\u001b[0m \u001b[0mquery\u001b[0m\u001b[0;34m.\u001b[0m\u001b[0mencode\u001b[0m\u001b[0;34m(\u001b[0m\u001b[0;34m'utf-8'\u001b[0m\u001b[0;34m)\u001b[0m\u001b[0;34m\u001b[0m\u001b[0;34m\u001b[0m\u001b[0m\n\u001b[1;32m    685\u001b[0m         \u001b[0;32mtry\u001b[0m\u001b[0;34m:\u001b[0m\u001b[0;34m\u001b[0m\u001b[0;34m\u001b[0m\u001b[0m\n\u001b[0;32m--> 686\u001b[0;31m             \u001b[0mresult\u001b[0m \u001b[0;34m=\u001b[0m \u001b[0mself\u001b[0m\u001b[0;34m.\u001b[0m\u001b[0m_handle_result\u001b[0m\u001b[0;34m(\u001b[0m\u001b[0mself\u001b[0m\u001b[0;34m.\u001b[0m\u001b[0m_send_cmd\u001b[0m\u001b[0;34m(\u001b[0m\u001b[0mServerCmd\u001b[0m\u001b[0;34m.\u001b[0m\u001b[0mQUERY\u001b[0m\u001b[0;34m,\u001b[0m \u001b[0mquery\u001b[0m\u001b[0;34m)\u001b[0m\u001b[0;34m)\u001b[0m\u001b[0;34m\u001b[0m\u001b[0;34m\u001b[0m\u001b[0m\n\u001b[0m\u001b[1;32m    687\u001b[0m         \u001b[0;32mexcept\u001b[0m \u001b[0merrors\u001b[0m\u001b[0;34m.\u001b[0m\u001b[0mProgrammingError\u001b[0m \u001b[0;32mas\u001b[0m \u001b[0merr\u001b[0m\u001b[0;34m:\u001b[0m\u001b[0;34m\u001b[0m\u001b[0;34m\u001b[0m\u001b[0m\n\u001b[1;32m    688\u001b[0m             \u001b[0;32mif\u001b[0m \u001b[0merr\u001b[0m\u001b[0;34m.\u001b[0m\u001b[0merrno\u001b[0m \u001b[0;34m==\u001b[0m \u001b[0;36m3948\u001b[0m \u001b[0;32mand\u001b[0m\u001b[0;31m \u001b[0m\u001b[0;31m\\\u001b[0m\u001b[0;34m\u001b[0m\u001b[0;34m\u001b[0m\u001b[0m\n",
      "\u001b[0;32m~/miniconda3/lib/python3.7/site-packages/mysql/connector/connection.py\u001b[0m in \u001b[0;36m_handle_result\u001b[0;34m(self, packet)\u001b[0m\n\u001b[1;32m    571\u001b[0m             \u001b[0;32mreturn\u001b[0m \u001b[0mself\u001b[0m\u001b[0;34m.\u001b[0m\u001b[0m_handle_eof\u001b[0m\u001b[0;34m(\u001b[0m\u001b[0mpacket\u001b[0m\u001b[0;34m)\u001b[0m\u001b[0;34m\u001b[0m\u001b[0;34m\u001b[0m\u001b[0m\n\u001b[1;32m    572\u001b[0m         \u001b[0;32melif\u001b[0m \u001b[0mpacket\u001b[0m\u001b[0;34m[\u001b[0m\u001b[0;36m4\u001b[0m\u001b[0;34m]\u001b[0m \u001b[0;34m==\u001b[0m \u001b[0;36m255\u001b[0m\u001b[0;34m:\u001b[0m\u001b[0;34m\u001b[0m\u001b[0;34m\u001b[0m\u001b[0m\n\u001b[0;32m--> 573\u001b[0;31m             \u001b[0;32mraise\u001b[0m \u001b[0merrors\u001b[0m\u001b[0;34m.\u001b[0m\u001b[0mget_exception\u001b[0m\u001b[0;34m(\u001b[0m\u001b[0mpacket\u001b[0m\u001b[0;34m)\u001b[0m\u001b[0;34m\u001b[0m\u001b[0;34m\u001b[0m\u001b[0m\n\u001b[0m\u001b[1;32m    574\u001b[0m \u001b[0;34m\u001b[0m\u001b[0m\n\u001b[1;32m    575\u001b[0m         \u001b[0;31m# We have a text result set\u001b[0m\u001b[0;34m\u001b[0m\u001b[0;34m\u001b[0m\u001b[0;34m\u001b[0m\u001b[0m\n",
      "\u001b[0;31mProgrammingError\u001b[0m: 1050 (42S01): Table 'SafetyIndexes' already exists"
     ]
    }
   ],
   "source": [
    "cursor.execute(\"\"\"\n",
    "CREATE VIEW SafetyIndexes AS \n",
    "    (SELECT\n",
    "    q1.SeatingPosition,\n",
    "    q2.Count / q1.Count AS SafetyIndex\n",
    "    FROM\n",
    "    (\n",
    "        SELECT\n",
    "        CASE WHEN victim_seating_position BETWEEN 1\n",
    "        AND 1 THEN 'Driver' WHEN victim_seating_position BETWEEN 2\n",
    "        AND 6 THEN 'Passenger' WHEN victim_seating_position BETWEEN 7\n",
    "        AND 7 THEN 'Station Wagon Rear' WHEN victim_seating_position BETWEEN 8\n",
    "        AND 8 THEN 'Rear Occupant of Truck or Van' WHEN victim_seating_position BETWEEN 9\n",
    "        AND 9 THEN 'Position Unknown' WHEN victim_seating_position BETWEEN 0\n",
    "        AND 0 THEN 'Other Occupants' WHEN victim_seating_position BETWEEN 'A'\n",
    "        AND 'Z' THEN 'Bus Occupants' ELSE 'Not Stated' END AS SeatingPosition,\n",
    "        count(1) AS Count\n",
    "        FROM\n",
    "        Victims\n",
    "        GROUP BY\n",
    "        SeatingPosition\n",
    "    ) q1\n",
    "    INNER JOIN (\n",
    "        SELECT\n",
    "        CASE WHEN victim_seating_position BETWEEN 1\n",
    "        AND 1 THEN 'Driver' WHEN victim_seating_position BETWEEN 2\n",
    "        AND 6 THEN 'Passenger' WHEN victim_seating_position BETWEEN 7\n",
    "        AND 7 THEN 'Station Wagon Rear' WHEN victim_seating_position BETWEEN 8\n",
    "        AND 8 THEN 'Rear Occupant of Truck or Van' WHEN victim_seating_position BETWEEN 9\n",
    "        AND 9 THEN 'Position Unknown' WHEN victim_seating_position BETWEEN 0\n",
    "        AND 0 THEN 'Other Occupants' WHEN victim_seating_position BETWEEN 'A'\n",
    "        AND 'Z' THEN 'Bus Occupants' ELSE 'Not Stated' END AS SeatingPosition,\n",
    "        count(1) AS Count\n",
    "        FROM\n",
    "        Victims\n",
    "        WHERE\n",
    "        victim_degree_of_injury IN (SELECT id FROM VictimDegreeOfInjury WHERE description='no injury')\n",
    "        GROUP BY\n",
    "        SeatingPosition\n",
    "    ) q2 ON q1.SeatingPosition = q2.SeatingPosition)\"\"\")"
   ]
  },
  {
   "cell_type": "code",
   "execution_count": 38,
   "metadata": {},
   "outputs": [],
   "source": [
    "cursor.execute(\"\"\"\n",
    "SELECT \n",
    "    *\n",
    "FROM \n",
    "    SafetyIndexes\n",
    "WHERE\n",
    "    SafetyIndex IN (\n",
    "          (SELECT MIN(SafetyIndex) FROM SafetyIndexes),\n",
    "          (SELECT MAX(SafetyIndex) FROM SafetyIndexes)\n",
    "      )\"\"\")"
   ]
  },
  {
   "cell_type": "code",
   "execution_count": 39,
   "metadata": {},
   "outputs": [],
   "source": [
    "res = cursor.fetchall()"
   ]
  },
  {
   "cell_type": "code",
   "execution_count": 30,
   "metadata": {},
   "outputs": [
    {
     "output_type": "stream",
     "name": "stdout",
     "text": [
      "('Station Wagon Rear', Decimal('0.8251'))\n('Driver', Decimal('0.0090'))\n"
     ]
    }
   ],
   "source": [
    "for x in res:\n",
    "    print(x)"
   ]
  },
  {
   "cell_type": "code",
   "execution_count": 40,
   "metadata": {},
   "outputs": [
    {
     "output_type": "stream",
     "name": "stdout",
     "text": [
      "seating_position | safety_index\n:---: | :---:\nStation Wagon Rear | 0.8251\nDriver | 0.0090\n\n"
     ]
    }
   ],
   "source": [
    "print(markdown_table(res, [\"seating_position\", \"safety_index\"]))"
   ]
  },
  {
   "source": [
    "# Optimisations"
   ],
   "cell_type": "markdown",
   "metadata": {}
  },
  {
   "source": [
    "The two commands to get the wanted indexes are:\n",
    "\n",
    "```python\n",
    "cursor.execute(\"CREATE INDEX index_hash_party_type ON Parties(party_type) USING HASH;\")\n",
    "cursor.execute(\"CREATE INDEX index_hash_victim_injury ON Victims(victim_degree_of_injury) USING HASH;\")\n",
    "```"
   ],
   "cell_type": "markdown",
   "metadata": {}
  },
  {
   "source": [
    "## Query 1"
   ],
   "cell_type": "markdown",
   "metadata": {}
  },
  {
   "source": [
    "Before any optimisation, the query:\n",
    "\n",
    "* Runs in 8.050s before introducting an index\n",
    "* Does a full scan on the outer relation of the join\n",
    "\n",
    "Then, after introduction a hash index on the `party_type` of `Parties`:\n",
    "```python\n",
    "cursor.execute(\"CREATE INDEX index_hash_party_type ON Parties(party_type) USING HASH;\")\n",
    "```\n",
    "We obtain the following results:\n",
    "* Runs in 1m17s\n",
    "* Uses the index on the outer relation of the join\n",
    "\n",
    "We obtain a decrease in performance after optimisation."
   ],
   "cell_type": "markdown",
   "metadata": {}
  },
  {
   "source": [
    "## Query 4"
   ],
   "cell_type": "markdown",
   "metadata": {}
  },
  {
   "source": [
    "The second queries which consists in getting the maximum and minimum values of the table `SafetyIndexes` runs fast and need no optimisation as it is composed only a couple of entries. We will focuse here on optimising the first part of the query: getting the safety indexes for each seating position."
   ],
   "cell_type": "markdown",
   "metadata": {}
  },
  {
   "source": [
    "Before any optimisation, the query:\n",
    "\n",
    "* Runs in 4.590s before introducting an index\n",
    "* Does a full scan on the outer relation of the join\n",
    "\n",
    "Then, after introduction a hash index on the `victim_degree_of_injury` of `Victims`:\n",
    "```python\n",
    "cursor.execute(\"CREATE INDEX index_hash_victim_injury ON Victims(victim_degree_of_injury) USING HASH;\")\n",
    "```\n",
    "We obtain the following results:\n",
    "* Runs in 33.865s\n",
    "* Uses the index on the outer relation of the join\n",
    "\n",
    "We obtain a decrease in performance after optimisation."
   ],
   "cell_type": "markdown",
   "metadata": {}
  },
  {
   "cell_type": "code",
   "execution_count": 27,
   "metadata": {},
   "outputs": [],
   "source": [
    "cursor.execute(\"\"\"  \n",
    "SELECT COUNT(*)\n",
    "FROM (SELECT statewide_vehicle_type  ,COUNT(Parties.case_id) as collisions ,COUNT(DISTINCT county_city_location) as city\n",
    "      FROM (Vehicles   INNER JOIN Parties ON Parties.id = Vehicles.party_id\n",
    "                       INNER JOIN Locations ON Locations.case_id = Parties.id)\n",
    "GROUP BY statewide_vehicle_type\n",
    ") A\n",
    "WHERE A.collisions > 10 AND\n",
    "      A.city > (\n",
    "SELECT COUNT(DISTINCT county_city_location)\n",
    "FROM Locations)/2\"\"\")"
   ]
  },
  {
   "cell_type": "code",
   "execution_count": 25,
   "metadata": {},
   "outputs": [],
   "source": [
    "res = cursor.fetchall()"
   ]
  },
  {
   "cell_type": "code",
   "execution_count": 26,
   "metadata": {},
   "outputs": [
    {
     "output_type": "stream",
     "name": "stdout",
     "text": [
      "(1, 'PRIMARY', '<derived2>', None, 'ALL', None, None, None, None, 3452238, 33.33, 'Using where')\n(3, 'SUBQUERY', 'Locations', None, 'ALL', None, None, None, None, 3452238, 100.0, None)\n(2, 'DERIVED', 'Locations', None, 'ALL', 'case_id', None, None, None, 3452238, 100.0, 'Using temporary; Using filesort')\n(2, 'DERIVED', 'Vehicles', None, 'ref', 'statewide_vehicle_type,party_id', 'party_id', '4', 'data.Locations.case_id', 1, 100.0, 'Using index condition')\n(2, 'DERIVED', 'Parties', None, 'eq_ref', 'PRIMARY', 'PRIMARY', '4', 'data.Locations.case_id', 1, 100.0, 'Using where')\n"
     ]
    }
   ],
   "source": [
    "for x in res:\n",
    "    print(x)"
   ]
  },
  {
   "cell_type": "code",
   "execution_count": null,
   "metadata": {},
   "outputs": [],
   "source": []
  }
 ]
}