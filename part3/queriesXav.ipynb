{
 "metadata": {
  "language_info": {
   "codemirror_mode": {
    "name": "ipython",
    "version": 3
   },
   "file_extension": ".py",
   "mimetype": "text/x-python",
   "name": "python",
   "nbconvert_exporter": "python",
   "pygments_lexer": "ipython3",
   "version": "3.7.3"
  },
  "orig_nbformat": 2,
  "kernelspec": {
   "name": "python373jvsc74a57bd0575ef1d0e6bebc78cce9f41e5461ee9c36f6b463def79c68585633dbbf58454e",
   "display_name": "Python 3.7.3 64-bit ('base': conda)"
  }
 },
 "nbformat": 4,
 "nbformat_minor": 2,
 "cells": [
  {
   "cell_type": "code",
   "execution_count": 31,
   "metadata": {},
   "outputs": [],
   "source": [
    "import mysql.connector\n",
    "from mysql.connector.constants import ClientFlag"
   ]
  },
  {
   "cell_type": "code",
   "execution_count": 32,
   "metadata": {},
   "outputs": [],
   "source": [
    "config = {\n",
    "    'user': 'root',\n",
    "    'password': 'Hh12H8y2ppBAq5Cj',\n",
    "    'host': 'localhost',\n",
    "    'database': 'data'\n",
    "}\n",
    "\n",
    "cnx = mysql.connector.connect(**config)\n",
    "cnx.autocommit = True\n",
    "cursor = cnx.cursor()"
   ]
  },
  {
   "source": [
    "# Query 1"
   ],
   "cell_type": "markdown",
   "metadata": {}
  },
  {
   "cell_type": "code",
   "execution_count": 23,
   "metadata": {},
   "outputs": [],
   "source": [
    "cursor.execute(\"\"\"\n",
    "SELECT\n",
    "  q1.AgeGroup,\n",
    "  q2.Count * 100.0 / q1.Count AS Percentage\n",
    "FROM\n",
    "  (\n",
    "    SELECT\n",
    "      CASE WHEN party_age BETWEEN 0\n",
    "      AND 18 THEN 'Underage' WHEN party_age BETWEEN 19\n",
    "      AND 21 THEN 'Young I' WHEN party_age BETWEEN 22\n",
    "      AND 24 THEN 'Young II' WHEN party_age BETWEEN 24\n",
    "      AND 60 THEN 'Adult' WHEN party_age BETWEEN 61\n",
    "      AND 64 THEN 'Elder I' ELSE 'Elder II' END AS AgeGroup,\n",
    "      count(1) AS Count\n",
    "    FROM\n",
    "      Parties\n",
    "    GROUP BY\n",
    "      AgeGroup\n",
    "  ) q1\n",
    "  INNER JOIN (\n",
    "    SELECT\n",
    "      CASE WHEN p.party_age BETWEEN 0\n",
    "      AND 18 THEN 'Underage' WHEN p.party_age BETWEEN 18\n",
    "      AND 21 THEN 'Young I' WHEN p.party_age BETWEEN 21\n",
    "      AND 24 THEN 'Young II' WHEN p.party_age BETWEEN 24\n",
    "      AND 60 THEN 'Adult' WHEN p.party_age BETWEEN 60\n",
    "      AND 64 THEN 'Elder I' ELSE 'Elder II' END AS AgeGroup,\n",
    "      count(1) AS Count\n",
    "    FROM\n",
    "      Parties p\n",
    "    WHERE\n",
    "      p.at_fault = true\n",
    "      AND p.party_type IN (SELECT id FROM PartyType WHERE description='driver')\n",
    "    GROUP BY\n",
    "      AgeGroup\n",
    "  ) q2 ON q1.AgeGroup = q2.AgeGroup\"\"\")"
   ]
  },
  {
   "cell_type": "code",
   "execution_count": 35,
   "metadata": {},
   "outputs": [
    {
     "output_type": "error",
     "ename": "KeyboardInterrupt",
     "evalue": "",
     "traceback": [
      "\u001b[0;31m---------------------------------------------------------------------------\u001b[0m",
      "\u001b[0;31mKeyboardInterrupt\u001b[0m                         Traceback (most recent call last)",
      "\u001b[0;32m<ipython-input-35-801693cbeac1>\u001b[0m in \u001b[0;36m<module>\u001b[0;34m\u001b[0m\n\u001b[1;32m     10\u001b[0m       \u001b[0mParties\u001b[0m\u001b[0;34m\u001b[0m\u001b[0;34m\u001b[0m\u001b[0m\n\u001b[1;32m     11\u001b[0m     \u001b[0mGROUP\u001b[0m \u001b[0mBY\u001b[0m\u001b[0;34m\u001b[0m\u001b[0;34m\u001b[0m\u001b[0m\n\u001b[0;32m---> 12\u001b[0;31m       AgeGroup\"\"\")\n\u001b[0m",
      "\u001b[0;32m~/miniconda3/lib/python3.7/site-packages/mysql/connector/cursor.py\u001b[0m in \u001b[0;36mexecute\u001b[0;34m(self, operation, params, multi)\u001b[0m\n\u001b[1;32m    566\u001b[0m \u001b[0;34m\u001b[0m\u001b[0m\n\u001b[1;32m    567\u001b[0m         \u001b[0;32mtry\u001b[0m\u001b[0;34m:\u001b[0m\u001b[0;34m\u001b[0m\u001b[0;34m\u001b[0m\u001b[0m\n\u001b[0;32m--> 568\u001b[0;31m             \u001b[0mself\u001b[0m\u001b[0;34m.\u001b[0m\u001b[0m_handle_result\u001b[0m\u001b[0;34m(\u001b[0m\u001b[0mself\u001b[0m\u001b[0;34m.\u001b[0m\u001b[0m_connection\u001b[0m\u001b[0;34m.\u001b[0m\u001b[0mcmd_query\u001b[0m\u001b[0;34m(\u001b[0m\u001b[0mstmt\u001b[0m\u001b[0;34m)\u001b[0m\u001b[0;34m)\u001b[0m\u001b[0;34m\u001b[0m\u001b[0;34m\u001b[0m\u001b[0m\n\u001b[0m\u001b[1;32m    569\u001b[0m         \u001b[0;32mexcept\u001b[0m \u001b[0merrors\u001b[0m\u001b[0;34m.\u001b[0m\u001b[0mInterfaceError\u001b[0m\u001b[0;34m:\u001b[0m\u001b[0;34m\u001b[0m\u001b[0;34m\u001b[0m\u001b[0m\n\u001b[1;32m    570\u001b[0m             \u001b[0;32mif\u001b[0m \u001b[0mself\u001b[0m\u001b[0;34m.\u001b[0m\u001b[0m_connection\u001b[0m\u001b[0;34m.\u001b[0m\u001b[0m_have_next_result\u001b[0m\u001b[0;34m:\u001b[0m  \u001b[0;31m# pylint: disable=W0212\u001b[0m\u001b[0;34m\u001b[0m\u001b[0;34m\u001b[0m\u001b[0m\n",
      "\u001b[0;32m~/miniconda3/lib/python3.7/site-packages/mysql/connector/connection.py\u001b[0m in \u001b[0;36mcmd_query\u001b[0;34m(self, query, raw, buffered, raw_as_string)\u001b[0m\n\u001b[1;32m    684\u001b[0m             \u001b[0mquery\u001b[0m \u001b[0;34m=\u001b[0m \u001b[0mquery\u001b[0m\u001b[0;34m.\u001b[0m\u001b[0mencode\u001b[0m\u001b[0;34m(\u001b[0m\u001b[0;34m'utf-8'\u001b[0m\u001b[0;34m)\u001b[0m\u001b[0;34m\u001b[0m\u001b[0;34m\u001b[0m\u001b[0m\n\u001b[1;32m    685\u001b[0m         \u001b[0;32mtry\u001b[0m\u001b[0;34m:\u001b[0m\u001b[0;34m\u001b[0m\u001b[0;34m\u001b[0m\u001b[0m\n\u001b[0;32m--> 686\u001b[0;31m             \u001b[0mresult\u001b[0m \u001b[0;34m=\u001b[0m \u001b[0mself\u001b[0m\u001b[0;34m.\u001b[0m\u001b[0m_handle_result\u001b[0m\u001b[0;34m(\u001b[0m\u001b[0mself\u001b[0m\u001b[0;34m.\u001b[0m\u001b[0m_send_cmd\u001b[0m\u001b[0;34m(\u001b[0m\u001b[0mServerCmd\u001b[0m\u001b[0;34m.\u001b[0m\u001b[0mQUERY\u001b[0m\u001b[0;34m,\u001b[0m \u001b[0mquery\u001b[0m\u001b[0;34m)\u001b[0m\u001b[0;34m)\u001b[0m\u001b[0;34m\u001b[0m\u001b[0;34m\u001b[0m\u001b[0m\n\u001b[0m\u001b[1;32m    687\u001b[0m         \u001b[0;32mexcept\u001b[0m \u001b[0merrors\u001b[0m\u001b[0;34m.\u001b[0m\u001b[0mProgrammingError\u001b[0m \u001b[0;32mas\u001b[0m \u001b[0merr\u001b[0m\u001b[0;34m:\u001b[0m\u001b[0;34m\u001b[0m\u001b[0;34m\u001b[0m\u001b[0m\n\u001b[1;32m    688\u001b[0m             \u001b[0;32mif\u001b[0m \u001b[0merr\u001b[0m\u001b[0;34m.\u001b[0m\u001b[0merrno\u001b[0m \u001b[0;34m==\u001b[0m \u001b[0;36m3948\u001b[0m \u001b[0;32mand\u001b[0m\u001b[0;31m \u001b[0m\u001b[0;31m\\\u001b[0m\u001b[0;34m\u001b[0m\u001b[0;34m\u001b[0m\u001b[0m\n",
      "\u001b[0;32m~/miniconda3/lib/python3.7/site-packages/mysql/connector/connection.py\u001b[0m in \u001b[0;36m_send_cmd\u001b[0;34m(self, command, argument, packet_number, packet, expect_response, compressed_packet_number)\u001b[0m\n\u001b[1;32m    416\u001b[0m         \u001b[0;32mif\u001b[0m \u001b[0;32mnot\u001b[0m \u001b[0mexpect_response\u001b[0m\u001b[0;34m:\u001b[0m\u001b[0;34m\u001b[0m\u001b[0;34m\u001b[0m\u001b[0m\n\u001b[1;32m    417\u001b[0m             \u001b[0;32mreturn\u001b[0m \u001b[0;32mNone\u001b[0m\u001b[0;34m\u001b[0m\u001b[0;34m\u001b[0m\u001b[0m\n\u001b[0;32m--> 418\u001b[0;31m         \u001b[0;32mreturn\u001b[0m \u001b[0mself\u001b[0m\u001b[0;34m.\u001b[0m\u001b[0m_socket\u001b[0m\u001b[0;34m.\u001b[0m\u001b[0mrecv\u001b[0m\u001b[0;34m(\u001b[0m\u001b[0;34m)\u001b[0m\u001b[0;34m\u001b[0m\u001b[0;34m\u001b[0m\u001b[0m\n\u001b[0m\u001b[1;32m    419\u001b[0m \u001b[0;34m\u001b[0m\u001b[0m\n\u001b[1;32m    420\u001b[0m     \u001b[0;32mdef\u001b[0m \u001b[0m_send_data\u001b[0m\u001b[0;34m(\u001b[0m\u001b[0mself\u001b[0m\u001b[0;34m,\u001b[0m \u001b[0mdata_file\u001b[0m\u001b[0;34m,\u001b[0m \u001b[0msend_empty_packet\u001b[0m\u001b[0;34m=\u001b[0m\u001b[0;32mFalse\u001b[0m\u001b[0;34m)\u001b[0m\u001b[0;34m:\u001b[0m\u001b[0;34m\u001b[0m\u001b[0;34m\u001b[0m\u001b[0m\n",
      "\u001b[0;32m~/miniconda3/lib/python3.7/site-packages/mysql/connector/network.py\u001b[0m in \u001b[0;36mrecv_plain\u001b[0;34m(self)\u001b[0m\n\u001b[1;32m    244\u001b[0m             \u001b[0mpacket_len\u001b[0m \u001b[0;34m=\u001b[0m \u001b[0;36m0\u001b[0m\u001b[0;34m\u001b[0m\u001b[0;34m\u001b[0m\u001b[0m\n\u001b[1;32m    245\u001b[0m             \u001b[0;32mwhile\u001b[0m \u001b[0mpacket_len\u001b[0m \u001b[0;34m<\u001b[0m \u001b[0;36m4\u001b[0m\u001b[0;34m:\u001b[0m\u001b[0;34m\u001b[0m\u001b[0;34m\u001b[0m\u001b[0m\n\u001b[0;32m--> 246\u001b[0;31m                 \u001b[0mchunk\u001b[0m \u001b[0;34m=\u001b[0m \u001b[0mself\u001b[0m\u001b[0;34m.\u001b[0m\u001b[0msock\u001b[0m\u001b[0;34m.\u001b[0m\u001b[0mrecv\u001b[0m\u001b[0;34m(\u001b[0m\u001b[0;36m4\u001b[0m \u001b[0;34m-\u001b[0m \u001b[0mpacket_len\u001b[0m\u001b[0;34m)\u001b[0m\u001b[0;34m\u001b[0m\u001b[0;34m\u001b[0m\u001b[0m\n\u001b[0m\u001b[1;32m    247\u001b[0m                 \u001b[0;32mif\u001b[0m \u001b[0;32mnot\u001b[0m \u001b[0mchunk\u001b[0m\u001b[0;34m:\u001b[0m\u001b[0;34m\u001b[0m\u001b[0;34m\u001b[0m\u001b[0m\n\u001b[1;32m    248\u001b[0m                     \u001b[0;32mraise\u001b[0m \u001b[0merrors\u001b[0m\u001b[0;34m.\u001b[0m\u001b[0mInterfaceError\u001b[0m\u001b[0;34m(\u001b[0m\u001b[0merrno\u001b[0m\u001b[0;34m=\u001b[0m\u001b[0;36m2013\u001b[0m\u001b[0;34m)\u001b[0m\u001b[0;34m\u001b[0m\u001b[0;34m\u001b[0m\u001b[0m\n",
      "\u001b[0;32m~/miniconda3/lib/python3.7/ssl.py\u001b[0m in \u001b[0;36mrecv\u001b[0;34m(self, buflen, flags)\u001b[0m\n\u001b[1;32m   1035\u001b[0m                     \u001b[0;34m\"non-zero flags not allowed in calls to recv() on %s\"\u001b[0m \u001b[0;34m%\u001b[0m\u001b[0;34m\u001b[0m\u001b[0;34m\u001b[0m\u001b[0m\n\u001b[1;32m   1036\u001b[0m                     self.__class__)\n\u001b[0;32m-> 1037\u001b[0;31m             \u001b[0;32mreturn\u001b[0m \u001b[0mself\u001b[0m\u001b[0;34m.\u001b[0m\u001b[0mread\u001b[0m\u001b[0;34m(\u001b[0m\u001b[0mbuflen\u001b[0m\u001b[0;34m)\u001b[0m\u001b[0;34m\u001b[0m\u001b[0;34m\u001b[0m\u001b[0m\n\u001b[0m\u001b[1;32m   1038\u001b[0m         \u001b[0;32melse\u001b[0m\u001b[0;34m:\u001b[0m\u001b[0;34m\u001b[0m\u001b[0;34m\u001b[0m\u001b[0m\n\u001b[1;32m   1039\u001b[0m             \u001b[0;32mreturn\u001b[0m \u001b[0msuper\u001b[0m\u001b[0;34m(\u001b[0m\u001b[0;34m)\u001b[0m\u001b[0;34m.\u001b[0m\u001b[0mrecv\u001b[0m\u001b[0;34m(\u001b[0m\u001b[0mbuflen\u001b[0m\u001b[0;34m,\u001b[0m \u001b[0mflags\u001b[0m\u001b[0;34m)\u001b[0m\u001b[0;34m\u001b[0m\u001b[0;34m\u001b[0m\u001b[0m\n",
      "\u001b[0;32m~/miniconda3/lib/python3.7/ssl.py\u001b[0m in \u001b[0;36mread\u001b[0;34m(self, len, buffer)\u001b[0m\n\u001b[1;32m    911\u001b[0m                 \u001b[0;32mreturn\u001b[0m \u001b[0mself\u001b[0m\u001b[0;34m.\u001b[0m\u001b[0m_sslobj\u001b[0m\u001b[0;34m.\u001b[0m\u001b[0mread\u001b[0m\u001b[0;34m(\u001b[0m\u001b[0mlen\u001b[0m\u001b[0;34m,\u001b[0m \u001b[0mbuffer\u001b[0m\u001b[0;34m)\u001b[0m\u001b[0;34m\u001b[0m\u001b[0;34m\u001b[0m\u001b[0m\n\u001b[1;32m    912\u001b[0m             \u001b[0;32melse\u001b[0m\u001b[0;34m:\u001b[0m\u001b[0;34m\u001b[0m\u001b[0;34m\u001b[0m\u001b[0m\n\u001b[0;32m--> 913\u001b[0;31m                 \u001b[0;32mreturn\u001b[0m \u001b[0mself\u001b[0m\u001b[0;34m.\u001b[0m\u001b[0m_sslobj\u001b[0m\u001b[0;34m.\u001b[0m\u001b[0mread\u001b[0m\u001b[0;34m(\u001b[0m\u001b[0mlen\u001b[0m\u001b[0;34m)\u001b[0m\u001b[0;34m\u001b[0m\u001b[0;34m\u001b[0m\u001b[0m\n\u001b[0m\u001b[1;32m    914\u001b[0m         \u001b[0;32mexcept\u001b[0m \u001b[0mSSLError\u001b[0m \u001b[0;32mas\u001b[0m \u001b[0mx\u001b[0m\u001b[0;34m:\u001b[0m\u001b[0;34m\u001b[0m\u001b[0;34m\u001b[0m\u001b[0m\n\u001b[1;32m    915\u001b[0m             \u001b[0;32mif\u001b[0m \u001b[0mx\u001b[0m\u001b[0;34m.\u001b[0m\u001b[0margs\u001b[0m\u001b[0;34m[\u001b[0m\u001b[0;36m0\u001b[0m\u001b[0;34m]\u001b[0m \u001b[0;34m==\u001b[0m \u001b[0mSSL_ERROR_EOF\u001b[0m \u001b[0;32mand\u001b[0m \u001b[0mself\u001b[0m\u001b[0;34m.\u001b[0m\u001b[0msuppress_ragged_eofs\u001b[0m\u001b[0;34m:\u001b[0m\u001b[0;34m\u001b[0m\u001b[0;34m\u001b[0m\u001b[0m\n",
      "\u001b[0;31mKeyboardInterrupt\u001b[0m: "
     ]
    }
   ],
   "source": [
    "cursor.execute(\"\"\"SELECT\n",
    "      CASE WHEN party_age BETWEEN 0\n",
    "      AND 18 THEN 'Underage' WHEN party_age BETWEEN 19\n",
    "      AND 21 THEN 'Young I' WHEN party_age BETWEEN 22\n",
    "      AND 24 THEN 'Young II' WHEN party_age BETWEEN 24\n",
    "      AND 60 THEN 'Adult' WHEN party_age BETWEEN 61\n",
    "      AND 64 THEN 'Elder I' ELSE 'Elder II' END AS AgeGroup,\n",
    "      count(1) AS Count\n",
    "    FROM\n",
    "      Parties\n",
    "    GROUP BY\n",
    "      AgeGroup\"\"\")"
   ]
  },
  {
   "cell_type": "code",
   "execution_count": 24,
   "metadata": {},
   "outputs": [],
   "source": [
    "res = cursor.fetchall()"
   ]
  },
  {
   "cell_type": "code",
   "execution_count": 25,
   "metadata": {},
   "outputs": [
    {
     "output_type": "stream",
     "name": "stdout",
     "text": [
      "('Young I', Decimal('56.28855'))\n('Underage', Decimal('56.44656'))\n('Adult', Decimal('40.01389'))\n('Elder II', Decimal('43.00967'))\n('Young II', Decimal('50.83931'))\n('Elder I', Decimal('38.93744'))\n"
     ]
    }
   ],
   "source": [
    "for x in res:\n",
    "    print(x)"
   ]
  },
  {
   "source": [
    "# Query 4\n",
    "## Part 1"
   ],
   "cell_type": "markdown",
   "metadata": {}
  },
  {
   "cell_type": "code",
   "execution_count": null,
   "metadata": {},
   "outputs": [],
   "source": [
    "cursor.execute(\"\"\"\n",
    "SELECT\n",
    "  q1.SeatingPosition,\n",
    "  q2.Count / q1.Count AS SafetyIndex\n",
    "FROM\n",
    "  (\n",
    "    SELECT\n",
    "      CASE WHEN victim_seating_position BETWEEN 1\n",
    "      AND 1 THEN 'Driver' WHEN victim_seating_position BETWEEN 2\n",
    "      AND 6 THEN 'Passenger' WHEN victim_seating_position BETWEEN 7\n",
    "      AND 7 THEN 'Station Wagon Rear' WHEN victim_seating_position BETWEEN 8\n",
    "      AND 8 THEN 'Rear Occupant of Truck or Van' WHEN victim_seating_position BETWEEN 9\n",
    "      AND 9 THEN 'Position Unknown' WHEN victim_seating_position BETWEEN 0\n",
    "      AND 0 THEN 'Other Occupants' WHEN victim_seating_position BETWEEN 'A'\n",
    "      AND 'Z' THEN 'Bus Occupants' ELSE 'Not Stated' END AS SeatingPosition,\n",
    "      count(1) AS Count\n",
    "    FROM\n",
    "      Victims\n",
    "    GROUP BY\n",
    "      SeatingPosition\n",
    "  ) q1\n",
    "  INNER JOIN (\n",
    "    SELECT\n",
    "      CASE WHEN victim_seating_position BETWEEN 1\n",
    "      AND 1 THEN 'Driver' WHEN victim_seating_position BETWEEN 2\n",
    "      AND 6 THEN 'Passenger' WHEN victim_seating_position BETWEEN 7\n",
    "      AND 7 THEN 'Station Wagon Rear' WHEN victim_seating_position BETWEEN 8\n",
    "      AND 8 THEN 'Rear Occupant of Truck or Van' WHEN victim_seating_position BETWEEN 9\n",
    "      AND 9 THEN 'Position Unknown' WHEN victim_seating_position BETWEEN 0\n",
    "      AND 0 THEN 'Other Occupants' WHEN victim_seating_position BETWEEN 'A'\n",
    "      AND 'Z' THEN 'Bus Occupants' ELSE 'Not Stated' END AS SeatingPosition,\n",
    "      count(1) AS Count\n",
    "    FROM\n",
    "      Victims\n",
    "    WHERE\n",
    "      victim_degree_of_injury IN (SELECT id FROM VictimDegreeOfInjury WHERE description='no injury')\n",
    "    GROUP BY\n",
    "      SeatingPosition\n",
    "  ) q2 ON q1.SeatingPosition = q2.SeatingPosition\"\"\")"
   ]
  },
  {
   "cell_type": "code",
   "execution_count": null,
   "metadata": {},
   "outputs": [],
   "source": [
    "res = cursor.fetchall()"
   ]
  },
  {
   "cell_type": "code",
   "execution_count": null,
   "metadata": {},
   "outputs": [],
   "source": [
    "for x in res:\n",
    "    print(x)"
   ]
  },
  {
   "source": [
    "## Part 2"
   ],
   "cell_type": "markdown",
   "metadata": {}
  },
  {
   "cell_type": "code",
   "execution_count": 27,
   "metadata": {},
   "outputs": [],
   "source": [
    "cursor.execute(\"\"\"\n",
    "CREATE VIEW SafetyIndexes AS \n",
    "    (SELECT\n",
    "    q1.SeatingPosition,\n",
    "    q2.Count / q1.Count AS SafetyIndex\n",
    "    FROM\n",
    "    (\n",
    "        SELECT\n",
    "        CASE WHEN victim_seating_position BETWEEN 1\n",
    "        AND 1 THEN 'Driver' WHEN victim_seating_position BETWEEN 2\n",
    "        AND 6 THEN 'Passenger' WHEN victim_seating_position BETWEEN 7\n",
    "        AND 7 THEN 'Station Wagon Rear' WHEN victim_seating_position BETWEEN 8\n",
    "        AND 8 THEN 'Rear Occupant of Truck or Van' WHEN victim_seating_position BETWEEN 9\n",
    "        AND 9 THEN 'Position Unknown' WHEN victim_seating_position BETWEEN 0\n",
    "        AND 0 THEN 'Other Occupants' WHEN victim_seating_position BETWEEN 'A'\n",
    "        AND 'Z' THEN 'Bus Occupants' ELSE 'Not Stated' END AS SeatingPosition,\n",
    "        count(1) AS Count\n",
    "        FROM\n",
    "        Victims\n",
    "        GROUP BY\n",
    "        SeatingPosition\n",
    "    ) q1\n",
    "    INNER JOIN (\n",
    "        SELECT\n",
    "        CASE WHEN victim_seating_position BETWEEN 1\n",
    "        AND 1 THEN 'Driver' WHEN victim_seating_position BETWEEN 2\n",
    "        AND 6 THEN 'Passenger' WHEN victim_seating_position BETWEEN 7\n",
    "        AND 7 THEN 'Station Wagon Rear' WHEN victim_seating_position BETWEEN 8\n",
    "        AND 8 THEN 'Rear Occupant of Truck or Van' WHEN victim_seating_position BETWEEN 9\n",
    "        AND 9 THEN 'Position Unknown' WHEN victim_seating_position BETWEEN 0\n",
    "        AND 0 THEN 'Other Occupants' WHEN victim_seating_position BETWEEN 'A'\n",
    "        AND 'Z' THEN 'Bus Occupants' ELSE 'Not Stated' END AS SeatingPosition,\n",
    "        count(1) AS Count\n",
    "        FROM\n",
    "        Victims\n",
    "        WHERE\n",
    "        victim_degree_of_injury IN (SELECT id FROM VictimDegreeOfInjury WHERE description='no injury')\n",
    "        GROUP BY\n",
    "        SeatingPosition\n",
    "    ) q2 ON q1.SeatingPosition = q2.SeatingPosition)\"\"\")"
   ]
  },
  {
   "cell_type": "code",
   "execution_count": 28,
   "metadata": {},
   "outputs": [],
   "source": [
    "cursor.execute(\"\"\"\n",
    "SELECT \n",
    "    *\n",
    "FROM \n",
    "    SafetyIndexes\n",
    "WHERE\n",
    "    SafetyIndex IN (\n",
    "          (SELECT MIN(SafetyIndex) FROM SafetyIndexes),\n",
    "          (SELECT MAX(SafetyIndex) FROM SafetyIndexes)\n",
    "      )\"\"\")"
   ]
  },
  {
   "cell_type": "code",
   "execution_count": 29,
   "metadata": {},
   "outputs": [],
   "source": [
    "res = cursor.fetchall()"
   ]
  },
  {
   "cell_type": "code",
   "execution_count": 30,
   "metadata": {},
   "outputs": [
    {
     "output_type": "stream",
     "name": "stdout",
     "text": [
      "('Station Wagon Rear', Decimal('0.8251'))\n('Driver', Decimal('0.0090'))\n"
     ]
    }
   ],
   "source": [
    "for x in res:\n",
    "    print(x)"
   ]
  },
  {
   "cell_type": "code",
   "execution_count": null,
   "metadata": {},
   "outputs": [],
   "source": []
  }
 ]
}