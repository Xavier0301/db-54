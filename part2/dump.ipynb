{
 "metadata": {
  "language_info": {
   "codemirror_mode": {
    "name": "ipython",
    "version": 3
   },
   "file_extension": ".py",
   "mimetype": "text/x-python",
   "name": "python",
   "nbconvert_exporter": "python",
   "pygments_lexer": "ipython3",
   "version": "3.7.3"
  },
  "orig_nbformat": 2,
  "kernelspec": {
   "name": "python373jvsc74a57bd0575ef1d0e6bebc78cce9f41e5461ee9c36f6b463def79c68585633dbbf58454e",
   "display_name": "Python 3.7.3 64-bit ('base': conda)"
  }
 },
 "nbformat": 4,
 "nbformat_minor": 2,
 "cells": [
  {
   "cell_type": "code",
   "execution_count": 5,
   "metadata": {},
   "outputs": [],
   "source": [
    "import mysql.connector\n",
    "from mysql.connector.constants import ClientFlag"
   ]
  },
  {
   "cell_type": "code",
   "execution_count": 6,
   "metadata": {},
   "outputs": [],
   "source": [
    "config = {\n",
    "    'user': 'root',\n",
    "    'password': 'Hh12H8y2ppBAq5Cj',\n",
    "    'host': '34.65.175.109',\n",
    "    'client_flags': [ClientFlag.SSL],\n",
    "    'ssl_ca': '/Users/xavier/Desktop/EPFL_Cours/Ici/DB/db-54/part2/ssl/server-ca.pem',\n",
    "    'ssl_cert': '/Users/xavier/Desktop/EPFL_Cours/Ici/DB/db-54/part2/ssl/client-cert.pem',\n",
    "    'ssl_key': '/Users/xavier/Desktop/EPFL_Cours/Ici/DB/db-54/part2/ssl/client-key.pem',\n",
    "    'database': 'data'\n",
    "}\n",
    "\n",
    "cnx = mysql.connector.connect(**config)\n",
    "cursor = cnx.cursor()"
   ]
  },
  {
   "source": [
    "# Party"
   ],
   "cell_type": "markdown",
   "metadata": {}
  },
  {
   "cell_type": "code",
   "execution_count": 11,
   "metadata": {},
   "outputs": [],
   "source": [
    "cursor.execute(\"DROP TABLE OtherAssociatedFactors\")\n",
    "cursor.execute(\"CREATE TABLE OtherAssociatedFactors (id INTEGER,\"\n",
    "    \"description CHAR(1) NOT NULL UNIQUE,\"\n",
    "    \"CHECK (description BETWEEN 'A' AND 'Z'),\"\n",
    "    \"PRIMARY KEY(id))\")"
   ]
  },
  {
   "cell_type": "code",
   "execution_count": 12,
   "metadata": {},
   "outputs": [],
   "source": [
    "cursor.execute(\"DROP TABLE CellphoneUse\")\n",
    "cursor.execute(\"\"\"CREATE TABLE CellphoneUse(id INTEGER,\n",
    "\t\t\t   description CHAR(1) NOT NULL UNIQUE,\n",
    "                CHECK (description BETWEEN 'B' AND 'D'),\t\n",
    "\t\t\t   PRIMARY KEY(id))\"\"\")\n",
    "# messy data: 1 -> B, 2 -> C, 3 -> D"
   ]
  },
  {
   "cell_type": "code",
   "execution_count": 14,
   "metadata": {},
   "outputs": [],
   "source": [
    "cursor.execute(\"\"\"CREATE TABLE FinancialResponsability(id INTEGER,\n",
    "\t\t\t   \t      description CHAR(1) NOT NULL UNIQUE,\n",
    "                                      CHECK (description IN ('N', 'Y', 'O', 'E', '-')),\t\n",
    "\t\t\t              PRIMARY KEY(id))\"\"\")\n",
    "\n",
    "# clean data "
   ]
  },
  {
   "cell_type": "code",
   "execution_count": 16,
   "metadata": {},
   "outputs": [],
   "source": [
    "cursor.execute(\"\"\"CREATE TABLE MovementPrecedingCollision(id INTEGER,\n",
    "\t\t\t\t\t description VARCHAR(100) NOT NULL UNIQUE,\n",
    "\t\t\t\t\t PRIMARY KEY(id))\"\"\")\n",
    "# varchar -> messy data, whatever."
   ]
  },
  {
   "cell_type": "code",
   "execution_count": 17,
   "metadata": {},
   "outputs": [],
   "source": [
    "cursor.execute(\"\"\"CREATE TABLE PartyDrugPhysical(id INTEGER,\n",
    "\t\t\t       description CHAR(1) NOT NULL UNIQUE,\n",
    "                            CHECK (description IN ('E', 'F', 'H', 'I')),\n",
    "\t\t\t       PRIMARY KEY(id))\"\"\")\n",
    "\n",
    "# messy: letter G most prevalent: interpret as n/a ?"
   ]
  },
  {
   "cell_type": "code",
   "execution_count": 18,
   "metadata": {},
   "outputs": [],
   "source": [
    "cursor.execute(\"\"\"CREATE TABLE PartySafetyEquipement(id INTEGER,\n",
    "\t\t\t\t   description CHAR(1) NOT NULL UNIQUE,\n",
    "                                   CHECK (description BETWEEN 'A' AND 'Y'),\n",
    "\t\t\t\t   PRIMARY KEY(id))\"\"\")\n",
    "# clean as far as i can tell"
   ]
  },
  {
   "source": [
    "The following table holds for `VictimSex` and `PartySex`"
   ],
   "cell_type": "markdown",
   "metadata": {}
  },
  {
   "cell_type": "code",
   "execution_count": 37,
   "metadata": {},
   "outputs": [],
   "source": [
    "cursor.execute(\"\"\"CREATE TABLE PersonSex(id INTEGER,\n",
    "\t\t       description VARCHAR(6) NOT NULL UNIQUE,\n",
    "                       CHECK (description in ('male', 'female')),\n",
    "\t\t       PRIMARY KEY(id))\"\"\")\n",
    "# clean af, for PartySex and VictimSex"
   ]
  },
  {
   "cell_type": "code",
   "execution_count": 20,
   "metadata": {},
   "outputs": [],
   "source": [
    "cursor.execute(\"\"\"CREATE TABLE PartySobriety(id INTEGER,\n",
    "\t\t\t    description CHAR(1) NOT NULL UNIQUE,\n",
    "                            CHECK (description IN ('A', 'B', 'C', 'D', 'G', 'H')),\n",
    "\t\t\t    PRIMARY KEY(id))\"\"\")\n",
    "# clean af"
   ]
  },
  {
   "cell_type": "code",
   "execution_count": 22,
   "metadata": {},
   "outputs": [],
   "source": [
    "cursor.execute(\"\"\"CREATE TABLE PartyType(id INTEGER,\n",
    "\t\t\tdescription VARCHAR(15) NOT NULL UNIQUE,\n",
    "\t\t\tPRIMARY KEY(id))\"\"\")\n",
    "\n",
    "# clean"
   ]
  },
  {
   "cell_type": "code",
   "execution_count": 23,
   "metadata": {},
   "outputs": [],
   "source": [
    "cursor.execute(\"\"\"CREATE TABLE StatewideVehiculeType(id INTEGER,\n",
    "\t\t\t\t    description VARCHAR(30) NOT NULL UNIQUE,\n",
    "\t\t\t\t    PRIMARY KEY(id))\"\"\")\n",
    "# clean as far as i can tell"
   ]
  },
  {
   "cell_type": "code",
   "execution_count": 24,
   "metadata": {},
   "outputs": [],
   "source": [
    "cursor.execute(\"\"\"CREATE TABLE VehiculeMake(id INTEGER,\n",
    "\t\t\t   description VARCHAR(100) NOT NULL,\n",
    "\t\t\t   PRIMARY KEY(id))\"\"\")\n",
    "\n",
    "# clean"
   ]
  },
  {
   "source": [
    "# Collision"
   ],
   "cell_type": "markdown",
   "metadata": {}
  },
  {
   "cell_type": "code",
   "execution_count": 25,
   "metadata": {},
   "outputs": [],
   "source": [
    "cursor.execute(\"\"\"CREATE TABLE CollisionSeverity(id INTEGER,\n",
    "\t\t\t       description VARCHAR(25) NOT NULL UNIQUE,\n",
    "\t\t\t       PRIMARY KEY(id))\"\"\")\n",
    "# clean"
   ]
  },
  {
   "cell_type": "code",
   "execution_count": 26,
   "metadata": {},
   "outputs": [],
   "source": [
    "cursor.execute(\"\"\"CREATE TABLE HitAndRun(id INTEGER,\n",
    "\t\t\tdescription VARCHAR(20) NOT NULL UNIQUE,\n",
    "\t\t\tPRIMARY KEY(id))\"\"\")\n",
    "# One dirty value: D -> NaN "
   ]
  },
  {
   "cell_type": "code",
   "execution_count": 27,
   "metadata": {},
   "outputs": [],
   "source": [
    "cursor.execute(\"\"\"CREATE TABLE Lighting(id INTEGER,\n",
    "\t\t       description VARCHAR(35) NOT NULL UNIQUE,\n",
    "\t\t       PRIMARY KEY(id))\"\"\")\n",
    "# Clean"
   ]
  },
  {
   "cell_type": "code",
   "execution_count": 28,
   "metadata": {},
   "outputs": [],
   "source": [
    "cursor.execute(\"\"\"CREATE TABLE LocationType(id INTEGER,\n",
    "\t\t\t   description VARCHAR(20) NOT NULL UNIQUE,\n",
    "\t\t\t   PRIMARY KEY(id))\"\"\")\n",
    "# clean"
   ]
  },
  {
   "cell_type": "code",
   "execution_count": 29,
   "metadata": {},
   "outputs": [],
   "source": [
    "cursor.execute(\"\"\"CREATE TABLE PcfViolationCategory(id INTEGER,\n",
    "\t\t\t\t   description VARCHAR(70) NOT NULL UNIQUE,\n",
    "\t\t\t\t   PRIMARY KEY(id))\"\"\")\n",
    "\n",
    "# One dirty value: 21804 -> NaN"
   ]
  },
  {
   "cell_type": "code",
   "execution_count": 30,
   "metadata": {},
   "outputs": [],
   "source": [
    "cursor.execute(\"\"\"CREATE TABLE PrimaryCollisionFactor(id INTEGER,\n",
    "\t\t\t\t     description VARCHAR(25) NOT NULL UNIQUE,\n",
    "\t\t\t\t     PRIMARY KEY(id))\"\"\")\n",
    "# clean"
   ]
  },
  {
   "cell_type": "code",
   "execution_count": 31,
   "metadata": {},
   "outputs": [],
   "source": [
    "cursor.execute(\"\"\"CREATE TABLE RoadCondition(id INTEGER,\n",
    "\t\t\t    description VARCHAR(20) NOT NULL UNIQUE,\n",
    "\t\t\t    PRIMARY KEY(id))\"\"\")\n",
    "# clean"
   ]
  },
  {
   "cell_type": "code",
   "execution_count": 32,
   "metadata": {},
   "outputs": [],
   "source": [
    "cursor.execute(\"\"\"CREATE TABLE RoadSurface(id INTEGER,\n",
    "\t\t\t  description VARCHAR(15) NOT NULL UNIQUE,\n",
    "\t\t\t  PRIMARY KEY(id))\"\"\")\n",
    "# one dirty value: H -> NaN"
   ]
  },
  {
   "cell_type": "code",
   "execution_count": 33,
   "metadata": {},
   "outputs": [],
   "source": [
    "cursor.execute(\"\"\"CREATE TABLE TypeOfCollision(id INTEGER,\n",
    "\t\t\t      description VARCHAR(15) NOT NULL UNIQUE,\n",
    "\t\t\t      PRIMARY KEY(id))\"\"\")\n",
    "# clean"
   ]
  },
  {
   "cell_type": "code",
   "execution_count": 34,
   "metadata": {},
   "outputs": [],
   "source": [
    "cursor.execute(\"\"\"CREATE TABLE Weather(id INTEGER,\n",
    "\t\t      description VARCHAR(10) NOT NULL UNIQUE,\n",
    "\t\t      PRIMARY KEY(id))\"\"\")\n",
    "# clean"
   ]
  },
  {
   "source": [
    "# Victim"
   ],
   "cell_type": "markdown",
   "metadata": {}
  },
  {
   "cell_type": "code",
   "execution_count": 36,
   "metadata": {},
   "outputs": [],
   "source": [
    "cursor.execute(\"\"\"CREATE TABLE VictimDegreeOfInjury(id INTEGER,\n",
    "\t\t\t\t   description VARCHAR(30) NOT NULL UNIQUE,\n",
    "\t\t\t\t   PRIMARY KEY(id))\"\"\")\n",
    "# one drity value: 7 -> NaN"
   ]
  }
 ]
}