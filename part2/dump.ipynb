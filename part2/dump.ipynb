{
 "metadata": {
  "language_info": {
   "codemirror_mode": {
    "name": "ipython",
    "version": 3
   },
   "file_extension": ".py",
   "mimetype": "text/x-python",
   "name": "python",
   "nbconvert_exporter": "python",
   "pygments_lexer": "ipython3",
   "version": "3.7.3"
  },
  "orig_nbformat": 2,
  "kernelspec": {
   "name": "python373jvsc74a57bd0575ef1d0e6bebc78cce9f41e5461ee9c36f6b463def79c68585633dbbf58454e",
   "display_name": "Python 3.7.3 64-bit ('base': conda)"
  }
 },
 "nbformat": 4,
 "nbformat_minor": 2,
 "cells": [
  {
   "cell_type": "code",
   "execution_count": 5,
   "metadata": {},
   "outputs": [],
   "source": [
    "import mysql.connector\n",
    "from mysql.connector.constants import ClientFlag"
   ]
  },
  {
   "cell_type": "code",
   "execution_count": 6,
   "metadata": {},
   "outputs": [],
   "source": [
    "config = {\n",
    "    'user': 'root',\n",
    "    'password': 'Hh12H8y2ppBAq5Cj',\n",
    "    'host': '34.65.175.109',\n",
    "    'client_flags': [ClientFlag.SSL],\n",
    "    'ssl_ca': '/Users/xavier/Desktop/EPFL_Cours/Ici/DB/db-54/part2/ssl/server-ca.pem',\n",
    "    'ssl_cert': '/Users/xavier/Desktop/EPFL_Cours/Ici/DB/db-54/part2/ssl/client-cert.pem',\n",
    "    'ssl_key': '/Users/xavier/Desktop/EPFL_Cours/Ici/DB/db-54/part2/ssl/client-key.pem',\n",
    "    'database': 'data'\n",
    "}\n",
    "\n",
    "cnx = mysql.connector.connect(**config)\n",
    "cursor = cnx.cursor()"
   ]
  },
  {
   "source": [
    "# Party\n",
    "## Main Tables"
   ],
   "cell_type": "markdown",
   "metadata": {}
  },
  {
   "cell_type": "code",
   "execution_count": 49,
   "metadata": {},
   "outputs": [],
   "source": [
    "cursor.execute(\"\"\"CREATE TABLE Parties(id INTEGER,\n",
    "                        case_id INTEGER NOT NULL,\n",
    "                        party_number INTEGER NOT NULL,\n",
    "                        finanicial_responsibility INTEGER,\n",
    "                        party_age INTEGER,\n",
    "                        party_sex INTEGER,\n",
    "                        at_fault BIT NOT NULL,\n",
    "                        cellphone_use INTEGER,\n",
    "                        hazardous_materials CHAR(1),\n",
    "                        movement_preceding_collision INTEGER,\n",
    "                        other_associate_factor_1 INTEGER,\n",
    "                        other_associate_factor_2 INTEGER,\n",
    "                        party_drug_physical INTEGER,\n",
    "                        party_safety_equipment_1 INTEGER,\n",
    "                        party_safety_equipment_2 INTEGER,\n",
    "                        party_sobriety INTEGER,\n",
    "                        PRIMARY KEY(id),\n",
    "                        FOREIGN KEY(finanicial_responsibility) REFERENCES FinancialResponsability(id),\n",
    "                        FOREIGN KEY(party_sex) REFERENCES PersonSex(id),\n",
    "                        FOREIGN KEY(cellphone_use) REFERENCES CellphoneUse(id),\n",
    "                        FOREIGN KEY(movement_preceding_collision) REFERENCES MovementPrecedingCollision(id),\n",
    "                        FOREIGN KEY(other_associate_factor_1) REFERENCES OtherAssociatedFactors(id),\n",
    "                        FOREIGN KEY(other_associate_factor_2) REFERENCES OtherAssociatedFactors(id),\n",
    "                        FOREIGN KEY(party_drug_physical) REFERENCES PartyDrugPhysical(id),\n",
    "                        FOREIGN KEY(party_safety_equipment_1) REFERENCES PartySafetyEquipement(id),\n",
    "                        FOREIGN KEY(party_safety_equipment_2) REFERENCES PartySafetyEquipement(id),\n",
    "                        FOREIGN KEY(party_sobriety) REFERENCES PartySobriety(id),\n",
    "                        FOREIGN KEY(case_id) REFERENCES Collisions(case_id))\"\"\")"
   ]
  },
  {
   "cell_type": "code",
   "execution_count": 50,
   "metadata": {},
   "outputs": [],
   "source": [
    "cursor.execute(\"\"\"CREATE TABLE Vehicles(party_id INTEGER NOT NULL,\n",
    "                        school_bus_related BIT,\n",
    "                        statewide_vehicle_type INTEGER,\n",
    "                        vehicle_make INTEGER,\n",
    "                        vehicle_year INTEGER,\n",
    "                        FOREIGN KEY(statewide_vehicle_type) REFERENCES StatewideVehiculeType(id),\n",
    "                        FOREIGN KEY(vehicle_make) REFERENCES VehiculeMake(id),\n",
    "                        FOREIGN KEY(party_id) REFERENCES Parties(id))\"\"\")"
   ]
  },
  {
   "source": [
    "## Satelite Enum Tables"
   ],
   "cell_type": "markdown",
   "metadata": {}
  },
  {
   "cell_type": "code",
   "execution_count": 11,
   "metadata": {},
   "outputs": [],
   "source": [
    "cursor.execute(\"DROP TABLE OtherAssociatedFactors\")\n",
    "cursor.execute(\"CREATE TABLE OtherAssociatedFactors (id INTEGER,\"\n",
    "    \"description CHAR(1) NOT NULL UNIQUE,\"\n",
    "    \"CHECK (description BETWEEN 'A' AND 'Z'),\"\n",
    "    \"PRIMARY KEY(id))\")"
   ]
  },
  {
   "cell_type": "code",
   "execution_count": 12,
   "metadata": {},
   "outputs": [],
   "source": [
    "cursor.execute(\"DROP TABLE CellphoneUse\")\n",
    "cursor.execute(\"\"\"CREATE TABLE CellphoneUse(id INTEGER,\n",
    "\t\t\t   description CHAR(1) NOT NULL UNIQUE,\n",
    "                CHECK (description BETWEEN 'B' AND 'D'),\t\n",
    "\t\t\t   PRIMARY KEY(id))\"\"\")\n",
    "# messy data: 1 -> B, 2 -> C, 3 -> D"
   ]
  },
  {
   "cell_type": "code",
   "execution_count": 14,
   "metadata": {},
   "outputs": [],
   "source": [
    "cursor.execute(\"\"\"CREATE TABLE FinancialResponsability(id INTEGER,\n",
    "\t\t\t   \t      description CHAR(1) NOT NULL UNIQUE,\n",
    "                                      CHECK (description IN ('N', 'Y', 'O', 'E', '-')),\t\n",
    "\t\t\t              PRIMARY KEY(id))\"\"\")\n",
    "\n",
    "# clean data "
   ]
  },
  {
   "cell_type": "code",
   "execution_count": 16,
   "metadata": {},
   "outputs": [],
   "source": [
    "cursor.execute(\"\"\"CREATE TABLE MovementPrecedingCollision(id INTEGER,\n",
    "\t\t\t\t\t description VARCHAR(100) NOT NULL UNIQUE,\n",
    "\t\t\t\t\t PRIMARY KEY(id))\"\"\")\n",
    "# varchar -> messy data, whatever."
   ]
  },
  {
   "cell_type": "code",
   "execution_count": 17,
   "metadata": {},
   "outputs": [],
   "source": [
    "cursor.execute(\"\"\"CREATE TABLE PartyDrugPhysical(id INTEGER,\n",
    "\t\t\t       description CHAR(1) NOT NULL UNIQUE,\n",
    "                            CHECK (description IN ('E', 'F', 'H', 'I')),\n",
    "\t\t\t       PRIMARY KEY(id))\"\"\")\n",
    "\n",
    "# messy: letter G most prevalent: interpret as n/a ?"
   ]
  },
  {
   "cell_type": "code",
   "execution_count": 18,
   "metadata": {},
   "outputs": [],
   "source": [
    "cursor.execute(\"\"\"CREATE TABLE PartySafetyEquipement(id INTEGER,\n",
    "\t\t\t\t   description CHAR(1) NOT NULL UNIQUE,\n",
    "                                   CHECK (description BETWEEN 'A' AND 'Y'),\n",
    "\t\t\t\t   PRIMARY KEY(id))\"\"\")\n",
    "# clean as far as i can tell"
   ]
  },
  {
   "source": [
    "The following table holds for `VictimSex` and `PartySex`"
   ],
   "cell_type": "markdown",
   "metadata": {}
  },
  {
   "cell_type": "code",
   "execution_count": 37,
   "metadata": {},
   "outputs": [],
   "source": [
    "cursor.execute(\"\"\"CREATE TABLE PersonSex(id INTEGER,\n",
    "\t\t       description VARCHAR(6) NOT NULL UNIQUE,\n",
    "                       CHECK (description in ('male', 'female')),\n",
    "\t\t       PRIMARY KEY(id))\"\"\")\n",
    "# clean af, for PartySex and VictimSex"
   ]
  },
  {
   "cell_type": "code",
   "execution_count": 20,
   "metadata": {},
   "outputs": [],
   "source": [
    "cursor.execute(\"\"\"CREATE TABLE PartySobriety(id INTEGER,\n",
    "\t\t\t    description CHAR(1) NOT NULL UNIQUE,\n",
    "                            CHECK (description IN ('A', 'B', 'C', 'D', 'G', 'H')),\n",
    "\t\t\t    PRIMARY KEY(id))\"\"\")\n",
    "# clean af"
   ]
  },
  {
   "cell_type": "code",
   "execution_count": 22,
   "metadata": {},
   "outputs": [],
   "source": [
    "cursor.execute(\"\"\"CREATE TABLE PartyType(id INTEGER,\n",
    "\t\t\tdescription VARCHAR(15) NOT NULL UNIQUE,\n",
    "\t\t\tPRIMARY KEY(id))\"\"\")\n",
    "\n",
    "# clean"
   ]
  },
  {
   "cell_type": "code",
   "execution_count": 23,
   "metadata": {},
   "outputs": [],
   "source": [
    "cursor.execute(\"\"\"CREATE TABLE StatewideVehiculeType(id INTEGER,\n",
    "\t\t\t\t    description VARCHAR(30) NOT NULL UNIQUE,\n",
    "\t\t\t\t    PRIMARY KEY(id))\"\"\")\n",
    "# clean as far as i can tell"
   ]
  },
  {
   "cell_type": "code",
   "execution_count": 24,
   "metadata": {},
   "outputs": [],
   "source": [
    "cursor.execute(\"\"\"CREATE TABLE VehiculeMake(id INTEGER,\n",
    "\t\t\t   description VARCHAR(100) NOT NULL,\n",
    "\t\t\t   PRIMARY KEY(id))\"\"\")\n",
    "\n",
    "# clean"
   ]
  },
  {
   "source": [
    "# Collision\n",
    "## Main Tables"
   ],
   "cell_type": "markdown",
   "metadata": {}
  },
  {
   "cell_type": "code",
   "execution_count": 42,
   "metadata": {},
   "outputs": [],
   "source": [
    "cursor.execute(\"\"\"CREATE TABLE Collisions(case_id INTEGER, \n",
    "                        collision_date DATE NOT NULL,\n",
    "                        collision_time TIME,\n",
    "                        type_of_collision INTEGER,\n",
    "                        collision_severity INTEGER NOT NULL,\n",
    "                        hit_and_run INTEGER NOT NULL,\n",
    "                        tow_away BIT,\n",
    "                        FOREIGN KEY(type_of_collision) REFERENCES TypeOfCollision(id), \n",
    "                        FOREIGN KEY(collision_severity) REFERENCES CollisionSeverity(id), \n",
    "                        FOREIGN KEY(hit_and_run) REFERENCES HitAndRun(id),                      \n",
    "                        PRIMARY KEY(case_id))\"\"\")"
   ]
  },
  {
   "cell_type": "code",
   "execution_count": 43,
   "metadata": {},
   "outputs": [],
   "source": [
    "cursor.execute(\"\"\"CREATE TABLE Pcfs(case_id INTEGER NOT NULL,\n",
    "                    pcf_violation INTEGER,\n",
    "                    pcf_violation_category INTEGER,\n",
    "                    pcf_violation_subsection CHAR(1),\n",
    "                    FOREIGN KEY(pcf_violation_category) REFERENCES PcfViolationCategory(id),\n",
    "                    FOREIGN KEY(case_id) REFERENCES Collisions(case_id))\"\"\")\n",
    "# pcf_violation_subscection has weird values but we cannot infer\n",
    "# that they are wrong."
   ]
  },
  {
   "cell_type": "code",
   "execution_count": 44,
   "metadata": {},
   "outputs": [],
   "source": [
    "cursor.execute(\"\"\"CREATE TABLE Locations(case_id INTEGER NOT NULL,\n",
    "                        population INTEGER,\n",
    "                        county_city_location INTEGER NOT NULL,\n",
    "                        FOREIGN KEY(case_id) REFERENCES Collisions(case_id))\"\"\")"
   ]
  },
  {
   "cell_type": "code",
   "execution_count": 45,
   "metadata": {},
   "outputs": [],
   "source": [
    "cursor.execute(\"\"\"CREATE TABLE Factors(case_id INTEGER NOT NULL,\n",
    "                        location_type INTEGER,\n",
    "                        lighting INTEGER,\n",
    "                        road_condition_1 INTEGER,\n",
    "                        road_condition_2 INTEGER,\n",
    "                        road_surface INTEGER,\n",
    "                        weather_1 INTEGER,\n",
    "                        weather_2 INTEGER,\n",
    "                        FOREIGN KEY(location_type) REFERENCES LocationType(id),\n",
    "                        FOREIGN KEY(lighting) REFERENCES Lighting(id),\n",
    "                        FOREIGN KEY(road_condition_1) REFERENCES RoadCondition(id),\n",
    "                        FOREIGN KEY(road_condition_2) REFERENCES RoadCondition(id),\n",
    "                        FOREIGN KEY(road_surface) REFERENCES RoadSurface(id),\n",
    "                        FOREIGN KEY(weather_1) REFERENCES Weather(id),\n",
    "                        FOREIGN KEY(weather_2) REFERENCES Weather(id),\n",
    "                        FOREIGN KEY(case_id) REFERENCES Collisions(case_id))\"\"\")"
   ]
  },
  {
   "cell_type": "code",
   "execution_count": 46,
   "metadata": {},
   "outputs": [],
   "source": [
    "cursor.execute(\"\"\"CREATE TABLE Cases(case_id INTEGER NOT NULL,\n",
    "                    process_date DATE NOT NULL,\n",
    "                    officer_id VARCHAR(8),\n",
    "                    jurisdiction INTEGER,\n",
    "                    FOREIGN KEY(case_id) REFERENCES Collisions(case_id))\"\"\")\n",
    "# max officer_id length is 8. As some include letters, better make it VARCHAR."
   ]
  },
  {
   "source": [
    "## Satelite Enum Tables"
   ],
   "cell_type": "markdown",
   "metadata": {}
  },
  {
   "cell_type": "code",
   "execution_count": 25,
   "metadata": {},
   "outputs": [],
   "source": [
    "cursor.execute(\"\"\"CREATE TABLE CollisionSeverity(id INTEGER,\n",
    "\t\t\t       description VARCHAR(25) NOT NULL UNIQUE,\n",
    "\t\t\t       PRIMARY KEY(id))\"\"\")\n",
    "# clean"
   ]
  },
  {
   "cell_type": "code",
   "execution_count": 26,
   "metadata": {},
   "outputs": [],
   "source": [
    "cursor.execute(\"\"\"CREATE TABLE HitAndRun(id INTEGER,\n",
    "\t\t\tdescription VARCHAR(20) NOT NULL UNIQUE,\n",
    "\t\t\tPRIMARY KEY(id))\"\"\")\n",
    "# One dirty value: D -> NaN "
   ]
  },
  {
   "cell_type": "code",
   "execution_count": 27,
   "metadata": {},
   "outputs": [],
   "source": [
    "cursor.execute(\"\"\"CREATE TABLE Lighting(id INTEGER,\n",
    "\t\t       description VARCHAR(35) NOT NULL UNIQUE,\n",
    "\t\t       PRIMARY KEY(id))\"\"\")\n",
    "# Clean"
   ]
  },
  {
   "cell_type": "code",
   "execution_count": 28,
   "metadata": {},
   "outputs": [],
   "source": [
    "cursor.execute(\"\"\"CREATE TABLE LocationType(id INTEGER,\n",
    "\t\t\t   description VARCHAR(20) NOT NULL UNIQUE,\n",
    "\t\t\t   PRIMARY KEY(id))\"\"\")\n",
    "# clean"
   ]
  },
  {
   "cell_type": "code",
   "execution_count": 29,
   "metadata": {},
   "outputs": [],
   "source": [
    "cursor.execute(\"\"\"CREATE TABLE PcfViolationCategory(id INTEGER,\n",
    "\t\t\t\t   description VARCHAR(70) NOT NULL UNIQUE,\n",
    "\t\t\t\t   PRIMARY KEY(id))\"\"\")\n",
    "\n",
    "# One dirty value: 21804 -> NaN"
   ]
  },
  {
   "cell_type": "code",
   "execution_count": 30,
   "metadata": {},
   "outputs": [],
   "source": [
    "cursor.execute(\"\"\"CREATE TABLE PrimaryCollisionFactor(id INTEGER,\n",
    "\t\t\t\t     description VARCHAR(25) NOT NULL UNIQUE,\n",
    "\t\t\t\t     PRIMARY KEY(id))\"\"\")\n",
    "# clean"
   ]
  },
  {
   "cell_type": "code",
   "execution_count": 31,
   "metadata": {},
   "outputs": [],
   "source": [
    "cursor.execute(\"\"\"CREATE TABLE RoadCondition(id INTEGER,\n",
    "\t\t\t    description VARCHAR(20) NOT NULL UNIQUE,\n",
    "\t\t\t    PRIMARY KEY(id))\"\"\")\n",
    "# clean"
   ]
  },
  {
   "cell_type": "code",
   "execution_count": 32,
   "metadata": {},
   "outputs": [],
   "source": [
    "cursor.execute(\"\"\"CREATE TABLE RoadSurface(id INTEGER,\n",
    "\t\t\t  description VARCHAR(15) NOT NULL UNIQUE,\n",
    "\t\t\t  PRIMARY KEY(id))\"\"\")\n",
    "# one dirty value: H -> NaN"
   ]
  },
  {
   "cell_type": "code",
   "execution_count": 33,
   "metadata": {},
   "outputs": [],
   "source": [
    "cursor.execute(\"\"\"CREATE TABLE TypeOfCollision(id INTEGER,\n",
    "\t\t\t      description VARCHAR(15) NOT NULL UNIQUE,\n",
    "\t\t\t      PRIMARY KEY(id))\"\"\")\n",
    "# clean"
   ]
  },
  {
   "cell_type": "code",
   "execution_count": 34,
   "metadata": {},
   "outputs": [],
   "source": [
    "cursor.execute(\"\"\"CREATE TABLE Weather(id INTEGER,\n",
    "\t\t      description VARCHAR(10) NOT NULL UNIQUE,\n",
    "\t\t      PRIMARY KEY(id))\"\"\")\n",
    "# clean"
   ]
  },
  {
   "source": [
    "# Victim\n",
    "## Main Table"
   ],
   "cell_type": "markdown",
   "metadata": {}
  },
  {
   "cell_type": "code",
   "execution_count": 53,
   "metadata": {},
   "outputs": [],
   "source": [
    "cursor.execute(\"\"\"CREATE TABLE Victims(id INTEGER,\n",
    "                        case_id INTEGER NOT NULL,\n",
    "                        party_number INTEGER NOT NULL,\n",
    "                        victim_age INTEGER,\n",
    "                        victim_sex INTEGER,\n",
    "                        victim_degree_of_injury INTEGER,\n",
    "                        victim_ejected INTEGER,\n",
    "                        victim_role INTEGER NOT NULL,\n",
    "                        victim_safety_equipment_1 INTEGER,\n",
    "                        victim_safety_equipment_2 INTEGER,\n",
    "                        victim_seating_position INTEGER,\n",
    "                        PRIMARY KEY(id),\n",
    "                        FOREIGN KEY(victim_sex) REFERENCES PersonSex(id),\n",
    "                        FOREIGN KEY(victim_safety_equipment_1) REFERENCES VictimSafetyEquipment(id),\n",
    "                        FOREIGN KEY(victim_safety_equipment_2) REFERENCES VictimSafetyEquipment(id),\n",
    "                        FOREIGN KEY(victim_degree_of_injury) REFERENCES VictimDegreeOfInjury(id),\n",
    "                        FOREIGN KEY(case_id) REFERENCES Collisions(case_id))\"\"\")"
   ]
  },
  {
   "source": [
    "## Satelite Table"
   ],
   "cell_type": "markdown",
   "metadata": {}
  },
  {
   "cell_type": "code",
   "execution_count": 52,
   "metadata": {},
   "outputs": [],
   "source": [
    "cursor.execute(\"\"\"CREATE TABLE VictimSafetyEquipment(id INTEGER,\n",
    "\t\t\t\t   description CHAR(1) NOT NULL UNIQUE,\n",
    "                                   CHECK(description BETWEEN 'A' AND 'Z'),\n",
    "\t\t\t\t   PRIMARY KEY(id))\"\"\")"
   ]
  },
  {
   "cell_type": "code",
   "execution_count": 36,
   "metadata": {},
   "outputs": [],
   "source": [
    "cursor.execute(\"\"\"CREATE TABLE VictimDegreeOfInjury(id INTEGER,\n",
    "\t\t\t\t   description VARCHAR(30) NOT NULL UNIQUE,\n",
    "\t\t\t\t   PRIMARY KEY(id))\"\"\")\n",
    "# one drity value: 7 -> NaN"
   ]
  }
 ]
}