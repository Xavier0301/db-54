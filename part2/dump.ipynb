{
 "metadata": {
  "language_info": {
   "codemirror_mode": {
    "name": "ipython",
    "version": 3
   },
   "file_extension": ".py",
   "mimetype": "text/x-python",
   "name": "python",
   "nbconvert_exporter": "python",
   "pygments_lexer": "ipython3",
   "version": "3.7.3"
  },
  "orig_nbformat": 2,
  "kernelspec": {
   "name": "python373jvsc74a57bd0575ef1d0e6bebc78cce9f41e5461ee9c36f6b463def79c68585633dbbf58454e",
   "display_name": "Python 3.7.3 64-bit ('base': conda)"
  }
 },
 "nbformat": 4,
 "nbformat_minor": 2,
 "cells": [
  {
   "cell_type": "code",
   "execution_count": 57,
   "metadata": {},
   "outputs": [],
   "source": [
    "import mysql.connector\n",
    "from mysql.connector.constants import ClientFlag"
   ]
  },
  {
   "cell_type": "code",
   "execution_count": 58,
   "metadata": {},
   "outputs": [],
   "source": [
    "config = {\n",
    "    'user': 'root',\n",
    "    'password': 'Hh12H8y2ppBAq5Cj',\n",
    "    'host': '34.65.175.109',\n",
    "    'client_flags': [ClientFlag.SSL],\n",
    "    'ssl_ca': '/Users/xavier/Desktop/EPFL_Cours/Ici/DB/db-54/part2/ssl/server-ca.pem',\n",
    "    'ssl_cert': '/Users/xavier/Desktop/EPFL_Cours/Ici/DB/db-54/part2/ssl/client-cert.pem',\n",
    "    'ssl_key': '/Users/xavier/Desktop/EPFL_Cours/Ici/DB/db-54/part2/ssl/client-key.pem',\n",
    "    'database': 'data'\n",
    "}\n",
    "\n",
    "cnx = mysql.connector.connect(**config)\n",
    "cursor = cnx.cursor()"
   ]
  },
  {
   "source": [
    "# Party\n",
    "## Main Tables"
   ],
   "cell_type": "markdown",
   "metadata": {}
  },
  {
   "cell_type": "code",
   "execution_count": 49,
   "metadata": {},
   "outputs": [],
   "source": [
    "cursor.execute(\"\"\"CREATE TABLE Parties(id INTEGER,\n",
    "                        case_id INTEGER NOT NULL,\n",
    "                        party_number INTEGER NOT NULL,\n",
    "                        finanicial_responsibility INTEGER,\n",
    "                        party_age INTEGER,\n",
    "                        party_sex INTEGER,\n",
    "                        at_fault BIT NOT NULL,\n",
    "                        cellphone_use INTEGER,\n",
    "                        hazardous_materials CHAR(1),\n",
    "                        movement_preceding_collision INTEGER,\n",
    "                        other_associate_factor_1 INTEGER,\n",
    "                        other_associate_factor_2 INTEGER,\n",
    "                        party_drug_physical INTEGER,\n",
    "                        party_safety_equipment_1 INTEGER,\n",
    "                        party_safety_equipment_2 INTEGER,\n",
    "                        party_sobriety INTEGER,\n",
    "                        PRIMARY KEY(id),\n",
    "                        FOREIGN KEY(finanicial_responsibility) REFERENCES FinancialResponsability(id),\n",
    "                        FOREIGN KEY(party_sex) REFERENCES PersonSex(id),\n",
    "                        FOREIGN KEY(cellphone_use) REFERENCES CellphoneUse(id),\n",
    "                        FOREIGN KEY(movement_preceding_collision) REFERENCES MovementPrecedingCollision(id),\n",
    "                        FOREIGN KEY(other_associate_factor_1) REFERENCES OtherAssociatedFactors(id),\n",
    "                        FOREIGN KEY(other_associate_factor_2) REFERENCES OtherAssociatedFactors(id),\n",
    "                        FOREIGN KEY(party_drug_physical) REFERENCES PartyDrugPhysical(id),\n",
    "                        FOREIGN KEY(party_safety_equipment_1) REFERENCES PartySafetyEquipement(id),\n",
    "                        FOREIGN KEY(party_safety_equipment_2) REFERENCES PartySafetyEquipement(id),\n",
    "                        FOREIGN KEY(party_sobriety) REFERENCES PartySobriety(id),\n",
    "                        FOREIGN KEY(case_id) REFERENCES Collisions(case_id))\"\"\")"
   ]
  },
  {
   "cell_type": "code",
   "execution_count": 50,
   "metadata": {},
   "outputs": [],
   "source": [
    "cursor.execute(\"\"\"CREATE TABLE Vehicles(party_id INTEGER NOT NULL,\n",
    "                        school_bus_related BIT,\n",
    "                        statewide_vehicle_type INTEGER,\n",
    "                        vehicle_make INTEGER,\n",
    "                        vehicle_year INTEGER,\n",
    "                        FOREIGN KEY(statewide_vehicle_type) REFERENCES StatewideVehiculeType(id),\n",
    "                        FOREIGN KEY(vehicle_make) REFERENCES VehiculeMake(id),\n",
    "                        FOREIGN KEY(party_id) REFERENCES Parties(id))\"\"\")"
   ]
  },
  {
   "source": [
    "## Satelite Enum Tables"
   ],
   "cell_type": "markdown",
   "metadata": {}
  },
  {
   "cell_type": "code",
   "execution_count": 11,
   "metadata": {},
   "outputs": [],
   "source": [
    "cursor.execute(\"DROP TABLE OtherAssociatedFactors\")\n",
    "cursor.execute(\"CREATE TABLE OtherAssociatedFactors (id INTEGER,\"\n",
    "    \"description CHAR(1) NOT NULL UNIQUE,\"\n",
    "    \"CHECK (description BETWEEN 'A' AND 'Z'),\"\n",
    "    \"PRIMARY KEY(id))\")"
   ]
  },
  {
   "cell_type": "code",
   "execution_count": 12,
   "metadata": {},
   "outputs": [],
   "source": [
    "cursor.execute(\"DROP TABLE CellphoneUse\")\n",
    "cursor.execute(\"\"\"CREATE TABLE CellphoneUse(id INTEGER,\n",
    "\t\t\t   description CHAR(1) NOT NULL UNIQUE,\n",
    "                CHECK (description BETWEEN 'B' AND 'D'),\t\n",
    "\t\t\t   PRIMARY KEY(id))\"\"\")\n",
    "# messy data: 1 -> B, 2 -> C, 3 -> D"
   ]
  },
  {
   "cell_type": "code",
   "execution_count": 14,
   "metadata": {},
   "outputs": [],
   "source": [
    "cursor.execute(\"\"\"CREATE TABLE FinancialResponsability(id INTEGER,\n",
    "\t\t\t   \t      description CHAR(1) NOT NULL UNIQUE,\n",
    "                                      CHECK (description IN ('N', 'Y', 'O', 'E', '-')),\t\n",
    "\t\t\t              PRIMARY KEY(id))\"\"\")\n",
    "\n",
    "# clean data "
   ]
  },
  {
   "cell_type": "code",
   "execution_count": 16,
   "metadata": {},
   "outputs": [],
   "source": [
    "cursor.execute(\"\"\"CREATE TABLE MovementPrecedingCollision(id INTEGER,\n",
    "\t\t\t\t\t description VARCHAR(100) NOT NULL UNIQUE,\n",
    "\t\t\t\t\t PRIMARY KEY(id))\"\"\")\n",
    "# varchar -> messy data, whatever."
   ]
  },
  {
   "cell_type": "code",
   "execution_count": 17,
   "metadata": {},
   "outputs": [],
   "source": [
    "cursor.execute(\"\"\"CREATE TABLE PartyDrugPhysical(id INTEGER,\n",
    "\t\t\t       description CHAR(1) NOT NULL UNIQUE,\n",
    "                            CHECK (description IN ('E', 'F', 'H', 'I')),\n",
    "\t\t\t       PRIMARY KEY(id))\"\"\")\n",
    "\n",
    "# messy: letter G most prevalent: interpret as n/a ?"
   ]
  },
  {
   "cell_type": "code",
   "execution_count": 18,
   "metadata": {},
   "outputs": [],
   "source": [
    "cursor.execute(\"\"\"CREATE TABLE PartySafetyEquipement(id INTEGER,\n",
    "\t\t\t\t   description CHAR(1) NOT NULL UNIQUE,\n",
    "                                   CHECK (description BETWEEN 'A' AND 'Y'),\n",
    "\t\t\t\t   PRIMARY KEY(id))\"\"\")\n",
    "# clean as far as i can tell"
   ]
  },
  {
   "source": [
    "The following table holds for `VictimSex` and `PartySex`"
   ],
   "cell_type": "markdown",
   "metadata": {}
  },
  {
   "cell_type": "code",
   "execution_count": 37,
   "metadata": {},
   "outputs": [],
   "source": [
    "cursor.execute(\"\"\"CREATE TABLE PersonSex(id INTEGER,\n",
    "\t\t       description VARCHAR(6) NOT NULL UNIQUE,\n",
    "                       CHECK (description in ('male', 'female')),\n",
    "\t\t       PRIMARY KEY(id))\"\"\")\n",
    "# clean af, for PartySex and VictimSex"
   ]
  },
  {
   "cell_type": "code",
   "execution_count": 20,
   "metadata": {},
   "outputs": [],
   "source": [
    "cursor.execute(\"\"\"CREATE TABLE PartySobriety(id INTEGER,\n",
    "\t\t\t    description CHAR(1) NOT NULL UNIQUE,\n",
    "                            CHECK (description IN ('A', 'B', 'C', 'D', 'G', 'H')),\n",
    "\t\t\t    PRIMARY KEY(id))\"\"\")\n",
    "# clean af"
   ]
  },
  {
   "cell_type": "code",
   "execution_count": 22,
   "metadata": {},
   "outputs": [],
   "source": [
    "cursor.execute(\"\"\"CREATE TABLE PartyType(id INTEGER,\n",
    "\t\t\tdescription VARCHAR(15) NOT NULL UNIQUE,\n",
    "\t\t\tPRIMARY KEY(id))\"\"\")\n",
    "\n",
    "# clean"
   ]
  },
  {
   "cell_type": "code",
   "execution_count": 23,
   "metadata": {},
   "outputs": [],
   "source": [
    "cursor.execute(\"\"\"CREATE TABLE StatewideVehiculeType(id INTEGER,\n",
    "\t\t\t\t    description VARCHAR(30) NOT NULL UNIQUE,\n",
    "\t\t\t\t    PRIMARY KEY(id))\"\"\")\n",
    "# clean as far as i can tell"
   ]
  },
  {
   "cell_type": "code",
   "execution_count": 24,
   "metadata": {},
   "outputs": [],
   "source": [
    "cursor.execute(\"\"\"CREATE TABLE VehiculeMake(id INTEGER,\n",
    "\t\t\t   description VARCHAR(100) NOT NULL,\n",
    "\t\t\t   PRIMARY KEY(id))\"\"\")\n",
    "\n",
    "# clean"
   ]
  },
  {
   "source": [
    "# Collision\n",
    "## Main Tables"
   ],
   "cell_type": "markdown",
   "metadata": {}
  },
  {
   "cell_type": "code",
   "execution_count": 42,
   "metadata": {},
   "outputs": [],
   "source": [
    "cursor.execute(\"\"\"CREATE TABLE Collisions(case_id INTEGER, \n",
    "                        collision_date DATE NOT NULL,\n",
    "                        collision_time TIME,\n",
    "                        type_of_collision INTEGER,\n",
    "                        collision_severity INTEGER NOT NULL,\n",
    "                        hit_and_run INTEGER NOT NULL,\n",
    "                        tow_away BIT,\n",
    "                        FOREIGN KEY(type_of_collision) REFERENCES TypeOfCollision(id), \n",
    "                        FOREIGN KEY(collision_severity) REFERENCES CollisionSeverity(id), \n",
    "                        FOREIGN KEY(hit_and_run) REFERENCES HitAndRun(id),                      \n",
    "                        PRIMARY KEY(case_id))\"\"\")"
   ]
  },
  {
   "cell_type": "code",
   "execution_count": 43,
   "metadata": {},
   "outputs": [],
   "source": [
    "cursor.execute(\"\"\"CREATE TABLE Pcfs(case_id INTEGER NOT NULL,\n",
    "                    pcf_violation INTEGER,\n",
    "                    pcf_violation_category INTEGER,\n",
    "                    pcf_violation_subsection CHAR(1),\n",
    "                    FOREIGN KEY(pcf_violation_category) REFERENCES PcfViolationCategory(id),\n",
    "                    FOREIGN KEY(case_id) REFERENCES Collisions(case_id))\"\"\")\n",
    "# pcf_violation_subscection has weird values but we cannot infer\n",
    "# that they are wrong."
   ]
  },
  {
   "cell_type": "code",
   "execution_count": 44,
   "metadata": {},
   "outputs": [],
   "source": [
    "cursor.execute(\"\"\"CREATE TABLE Locations(case_id INTEGER NOT NULL,\n",
    "                        population INTEGER,\n",
    "                        county_city_location INTEGER NOT NULL,\n",
    "                        FOREIGN KEY(case_id) REFERENCES Collisions(case_id))\"\"\")"
   ]
  },
  {
   "cell_type": "code",
   "execution_count": 45,
   "metadata": {},
   "outputs": [],
   "source": [
    "cursor.execute(\"\"\"CREATE TABLE Factors(case_id INTEGER NOT NULL,\n",
    "                        location_type INTEGER,\n",
    "                        lighting INTEGER,\n",
    "                        road_condition_1 INTEGER,\n",
    "                        road_condition_2 INTEGER,\n",
    "                        road_surface INTEGER,\n",
    "                        weather_1 INTEGER,\n",
    "                        weather_2 INTEGER,\n",
    "                        FOREIGN KEY(location_type) REFERENCES LocationType(id),\n",
    "                        FOREIGN KEY(lighting) REFERENCES Lighting(id),\n",
    "                        FOREIGN KEY(road_condition_1) REFERENCES RoadCondition(id),\n",
    "                        FOREIGN KEY(road_condition_2) REFERENCES RoadCondition(id),\n",
    "                        FOREIGN KEY(road_surface) REFERENCES RoadSurface(id),\n",
    "                        FOREIGN KEY(weather_1) REFERENCES Weather(id),\n",
    "                        FOREIGN KEY(weather_2) REFERENCES Weather(id),\n",
    "                        FOREIGN KEY(case_id) REFERENCES Collisions(case_id))\"\"\")"
   ]
  },
  {
   "cell_type": "code",
   "execution_count": 46,
   "metadata": {},
   "outputs": [],
   "source": [
    "cursor.execute(\"\"\"CREATE TABLE Cases(case_id INTEGER NOT NULL,\n",
    "                    process_date DATE NOT NULL,\n",
    "                    officer_id VARCHAR(8),\n",
    "                    jurisdiction INTEGER,\n",
    "                    FOREIGN KEY(case_id) REFERENCES Collisions(case_id))\"\"\")\n",
    "# max officer_id length is 8. As some include letters, better make it VARCHAR."
   ]
  },
  {
   "source": [
    "## Satelite Enum Tables"
   ],
   "cell_type": "markdown",
   "metadata": {}
  },
  {
   "cell_type": "code",
   "execution_count": 61,
   "metadata": {},
   "outputs": [],
   "source": [
    "cursor.execute(\"\"\"CREATE TABLE CollisionSeverity(id INTEGER AUTO_INCREMENT,\n",
    "\t\t\t       description VARCHAR(25) NOT NULL UNIQUE,\n",
    "\t\t\t       PRIMARY KEY(id))\"\"\")\n",
    "# clean"
   ]
  },
  {
   "cell_type": "code",
   "execution_count": 26,
   "metadata": {},
   "outputs": [],
   "source": [
    "cursor.execute(\"\"\"CREATE TABLE HitAndRun(id INTEGER AUTO_INCREMENT,\n",
    "\t\t\tdescription VARCHAR(20) NOT NULL UNIQUE,\n",
    "\t\t\tPRIMARY KEY(id))\"\"\")\n",
    "# One dirty value: D -> NaN "
   ]
  },
  {
   "cell_type": "code",
   "execution_count": 27,
   "metadata": {},
   "outputs": [],
   "source": [
    "cursor.execute(\"\"\"CREATE TABLE Lighting(id INTEGER AUTO_INCREMENT,\n",
    "\t\t       description VARCHAR(35) NOT NULL UNIQUE,\n",
    "\t\t       PRIMARY KEY(id))\"\"\")\n",
    "# Clean"
   ]
  },
  {
   "cell_type": "code",
   "execution_count": 28,
   "metadata": {},
   "outputs": [],
   "source": [
    "cursor.execute(\"\"\"CREATE TABLE LocationType(id INTEGER AUTO_INCREMENT,\n",
    "\t\t\t   description VARCHAR(20) NOT NULL UNIQUE,\n",
    "\t\t\t   PRIMARY KEY(id))\"\"\")\n",
    "# clean"
   ]
  },
  {
   "cell_type": "code",
   "execution_count": 29,
   "metadata": {},
   "outputs": [],
   "source": [
    "cursor.execute(\"\"\"CREATE TABLE PcfViolationCategory(id INTEGER AUTO_INCREMENT,\n",
    "\t\t\t\t   description VARCHAR(70) NOT NULL UNIQUE,\n",
    "\t\t\t\t   PRIMARY KEY(id))\"\"\")\n",
    "\n",
    "# One dirty value: 21804 -> NaN"
   ]
  },
  {
   "cell_type": "code",
   "execution_count": 30,
   "metadata": {},
   "outputs": [],
   "source": [
    "cursor.execute(\"\"\"CREATE TABLE PrimaryCollisionFactor(id INTEGER,\n",
    "\t\t\t\t     description VARCHAR(25) NOT NULL UNIQUE,\n",
    "\t\t\t\t     PRIMARY KEY(id))\"\"\")\n",
    "# clean"
   ]
  },
  {
   "cell_type": "code",
   "execution_count": 31,
   "metadata": {},
   "outputs": [],
   "source": [
    "cursor.execute(\"\"\"CREATE TABLE RoadCondition(id INTEGER,\n",
    "\t\t\t    description VARCHAR(20) NOT NULL UNIQUE,\n",
    "\t\t\t    PRIMARY KEY(id))\"\"\")\n",
    "# clean"
   ]
  },
  {
   "cell_type": "code",
   "execution_count": 32,
   "metadata": {},
   "outputs": [],
   "source": [
    "cursor.execute(\"\"\"CREATE TABLE RoadSurface(id INTEGER,\n",
    "\t\t\t  description VARCHAR(15) NOT NULL UNIQUE,\n",
    "\t\t\t  PRIMARY KEY(id))\"\"\")\n",
    "# one dirty value: H -> NaN"
   ]
  },
  {
   "cell_type": "code",
   "execution_count": 33,
   "metadata": {},
   "outputs": [],
   "source": [
    "cursor.execute(\"\"\"CREATE TABLE TypeOfCollision(id INTEGER,\n",
    "\t\t\t      description VARCHAR(15) NOT NULL UNIQUE,\n",
    "\t\t\t      PRIMARY KEY(id))\"\"\")\n",
    "# clean"
   ]
  },
  {
   "cell_type": "code",
   "execution_count": 34,
   "metadata": {},
   "outputs": [],
   "source": [
    "cursor.execute(\"\"\"CREATE TABLE Weather(id INTEGER,\n",
    "\t\t      description VARCHAR(10) NOT NULL UNIQUE,\n",
    "\t\t      PRIMARY KEY(id))\"\"\")\n",
    "# clean"
   ]
  },
  {
   "source": [
    "# Victim\n",
    "## Main Table"
   ],
   "cell_type": "markdown",
   "metadata": {}
  },
  {
   "cell_type": "code",
   "execution_count": 53,
   "metadata": {},
   "outputs": [],
   "source": [
    "cursor.execute(\"\"\"CREATE TABLE Victims(id INTEGER,\n",
    "                        case_id INTEGER NOT NULL,\n",
    "                        party_number INTEGER NOT NULL,\n",
    "                        victim_age INTEGER,\n",
    "                        victim_sex INTEGER,\n",
    "                        victim_degree_of_injury INTEGER,\n",
    "                        victim_ejected INTEGER,\n",
    "                        victim_role INTEGER NOT NULL,\n",
    "                        victim_safety_equipment_1 INTEGER,\n",
    "                        victim_safety_equipment_2 INTEGER,\n",
    "                        victim_seating_position INTEGER,\n",
    "                        PRIMARY KEY(id),\n",
    "                        FOREIGN KEY(victim_sex) REFERENCES PersonSex(id),\n",
    "                        FOREIGN KEY(victim_safety_equipment_1) REFERENCES VictimSafetyEquipment(id),\n",
    "                        FOREIGN KEY(victim_safety_equipment_2) REFERENCES VictimSafetyEquipment(id),\n",
    "                        FOREIGN KEY(victim_degree_of_injury) REFERENCES VictimDegreeOfInjury(id),\n",
    "                        FOREIGN KEY(case_id) REFERENCES Collisions(case_id))\"\"\")"
   ]
  },
  {
   "source": [
    "## Satelite Table"
   ],
   "cell_type": "markdown",
   "metadata": {}
  },
  {
   "cell_type": "code",
   "execution_count": 52,
   "metadata": {},
   "outputs": [],
   "source": [
    "cursor.execute(\"\"\"CREATE TABLE VictimSafetyEquipment(id INTEGER,\n",
    "\t\t\t\t   description CHAR(1) NOT NULL UNIQUE,\n",
    "                                   CHECK(description BETWEEN 'A' AND 'Z'),\n",
    "\t\t\t\t   PRIMARY KEY(id))\"\"\")"
   ]
  },
  {
   "cell_type": "code",
   "execution_count": 36,
   "metadata": {},
   "outputs": [],
   "source": [
    "cursor.execute(\"\"\"CREATE TABLE VictimDegreeOfInjury(id INTEGER,\n",
    "\t\t\t\t   description VARCHAR(30) NOT NULL UNIQUE,\n",
    "\t\t\t\t   PRIMARY KEY(id))\"\"\")\n",
    "# one drity value: 7 -> NaN"
   ]
  },
  {
   "source": [
    "# Data import\n",
    "## Alterations to table definitions during data import\n",
    "\n",
    "Only use `SET FOREIGN_KEY_CHECKS` during definition of tables, *not in production*"
   ],
   "cell_type": "markdown",
   "metadata": {}
  },
  {
   "cell_type": "code",
   "execution_count": null,
   "metadata": {},
   "outputs": [],
   "source": [
    "cursor.execute(\"SET FOREIGN_KEY_CHECKS = 0\")\n",
    "\n",
    "cursor.execute(\"ALTER TABLE CollisionSeverity MODIFY id INTEGER AUTO_INCREMENT\")\n",
    "cursor.execute(\"ALTER TABLE HitAndRun MODIFY id INTEGER AUTO_INCREMENT\")\n",
    "cursor.execute(\"ALTER TABLE Lighting MODIFY id INTEGER AUTO_INCREMENT\")\n",
    "cursor.execute(\"ALTER TABLE LocationType MODIFY id INTEGER AUTO_INCREMENT\")\n",
    "cursor.execute(\"ALTER TABLE PrimaryCollisionFactor MODIFY id INTEGER AUTO_INCREMENT\")\n",
    "cursor.execute(\"ALTER TABLE RoadCondition MODIFY id INTEGER AUTO_INCREMENT\")\n",
    "cursor.execute(\"ALTER TABLE RoadSurface MODIFY id INTEGER AUTO_INCREMENT\")\n",
    "cursor.execute(\"ALTER TABLE TypeOfCollision MODIFY id INTEGER AUTO_INCREMENT\")\n",
    "cursor.execute(\"ALTER TABLE Weather MODIFY id INTEGER AUTO_INCREMENT\")\n",
    "\n",
    "cursor.execute(\"SET FOREIGN_KEY_CHECKS = 1\")"
   ]
  },
  {
   "cell_type": "code",
   "execution_count": 63,
   "metadata": {},
   "outputs": [],
   "source": [
    "cursor.execute(\"SET FOREIGN_KEY_CHECKS = 0\")\n",
    "\n",
    "cursor.execute(\"ALTER TABLE CellphoneUse MODIFY id INTEGER AUTO_INCREMENT\")\n",
    "cursor.execute(\"ALTER TABLE FinancialResponsability MODIFY id INTEGER AUTO_INCREMENT\")\n",
    "cursor.execute(\"ALTER TABLE MovementPrecedingCollision MODIFY id INTEGER AUTO_INCREMENT\")\n",
    "cursor.execute(\"ALTER TABLE OtherAssociatedFactors MODIFY id INTEGER AUTO_INCREMENT\")\n",
    "cursor.execute(\"ALTER TABLE PartyDrugPhysical MODIFY id INTEGER AUTO_INCREMENT\")\n",
    "cursor.execute(\"ALTER TABLE PartySafetyEquipement MODIFY id INTEGER AUTO_INCREMENT\")\n",
    "cursor.execute(\"ALTER TABLE PersonSex MODIFY id INTEGER AUTO_INCREMENT\")\n",
    "cursor.execute(\"ALTER TABLE PartySobriety MODIFY id INTEGER AUTO_INCREMENT\")\n",
    "cursor.execute(\"ALTER TABLE PartyType MODIFY id INTEGER AUTO_INCREMENT\")\n",
    "cursor.execute(\"ALTER TABLE StatewideVehiculeType MODIFY id INTEGER AUTO_INCREMENT\")\n",
    "cursor.execute(\"ALTER TABLE VehiculeMake MODIFY id INTEGER AUTO_INCREMENT\")\n",
    "\n",
    "cursor.execute(\"SET FOREIGN_KEY_CHECKS = 1\")"
   ]
  },
  {
   "cell_type": "code",
   "execution_count": 64,
   "metadata": {},
   "outputs": [],
   "source": [
    "cursor.execute(\"SET FOREIGN_KEY_CHECKS = 0\")\n",
    "\n",
    "cursor.execute(\"ALTER TABLE VictimSafetyEquipment MODIFY id INTEGER AUTO_INCREMENT\")\n",
    "cursor.execute(\"ALTER TABLE VictimDegreeOfInjury MODIFY id INTEGER AUTO_INCREMENT\")\n",
    "\n",
    "cursor.execute(\"SET FOREIGN_KEY_CHECKS = 1\")"
   ]
  },
  {
   "source": [
    "## Code to dump each csv row into the MySQL db"
   ],
   "cell_type": "markdown",
   "metadata": {}
  },
  {
   "cell_type": "code",
   "execution_count": 54,
   "metadata": {},
   "outputs": [],
   "source": [
    "import pandas as pd"
   ]
  },
  {
   "source": [
    "### Collision"
   ],
   "cell_type": "markdown",
   "metadata": {}
  },
  {
   "cell_type": "code",
   "execution_count": 104,
   "metadata": {},
   "outputs": [],
   "source": [
    "def dump_pcfs(row):\n",
    "    cursor.execute(\"\"\"INSERT INTO PcfViolationCategory\n",
    "        VALUES (%s)\n",
    "        ON DUPLICATE KEY UPDATE id=id\"\"\", (row.pcf_violation_category))\n",
    "    pcf_viol_categ_id = cursor.lastrowid\n",
    "\n",
    "    cursor.execute(\"\"\"INSERT INTO Pcfs\n",
    "        VALUES (%s, %s, %s, %s)\"\"\", (row.case_id, row.pcf_violation, pcf_viol_categ_id, row.pcf_violation_subsection))"
   ]
  },
  {
   "cell_type": "code",
   "execution_count": 105,
   "metadata": {},
   "outputs": [],
   "source": [
    "def dump_locations(row):\n",
    "    cursor.execute(\"\"\"INSERT INTO Pcfs\n",
    "        VALUES (%s, %s, %s)\"\"\", (row.case_id, row.population, row.county_city_location))"
   ]
  },
  {
   "cell_type": "code",
   "execution_count": 106,
   "metadata": {},
   "outputs": [],
   "source": [
    "def dump_factors(row):\n",
    "    cursor.execute(\"\"\"INSERT INTO LocationType\n",
    "        VALUES (%s)\n",
    "        ON DUPLICATE KEY UPDATE id=id\"\"\", (row.location_type,))\n",
    "    location_type_id = cursor.lastrowid\n",
    "\n",
    "    cursor.execute(\"\"\"INSERT INTO Lighting\n",
    "        VALUES (%s)\n",
    "        ON DUPLICATE KEY UPDATE id=id\"\"\", (row.lighting,))\n",
    "    lighting_id = cursor.lastrowid\n",
    "\n",
    "    cursor.execute(\"\"\"INSERT INTO RoadCondition\n",
    "        VALUES (%s)\n",
    "        ON DUPLICATE KEY UPDATE id=id\"\"\", (row.road_condition_1,))\n",
    "    road_cond1_id = cursor.lastrowid\n",
    "\n",
    "    cursor.execute(\"\"\"INSERT INTO RoadCondition\n",
    "        VALUES (%s)\n",
    "        ON DUPLICATE KEY UPDATE id=id\"\"\", (row.road_condition_2,))\n",
    "    road_cond2_id = cursor.lastrowid\n",
    "\n",
    "    cursor.execute(\"\"\"INSERT INTO RoadSurface\n",
    "        VALUES (%s)\n",
    "        ON DUPLICATE KEY UPDATE id=id\"\"\", (row.road_surface,))\n",
    "    road_surface_id = cursor.lastrowid\n",
    "\n",
    "    cursor.execute(\"\"\"INSERT INTO Weather\n",
    "        VALUES (%s)\n",
    "        ON DUPLICATE KEY UPDATE id=id\"\"\", (row.weather_1,))\n",
    "    weather1_id = cursor.lastrowid\n",
    "\n",
    "    cursor.execute(\"\"\"INSERT INTO Weather\n",
    "        VALUES (%s)\n",
    "        ON DUPLICATE KEY UPDATE id=id\"\"\", (row.weather_2,))\n",
    "    weather2_id = cursor.lastrowid\n",
    "\n",
    "    cursor.execute(\"\"\"INSERT INTO Factors\n",
    "        VALUES (%s, %s, %s, %s, %s, %s, %s, %s)\"\"\",(row.case_id, location_type_id, lighting_id, road_cond1_id, road_cond2_id, road_surface_id, weather1_id, weather2_id))"
   ]
  },
  {
   "cell_type": "code",
   "execution_count": 107,
   "metadata": {},
   "outputs": [],
   "source": [
    "def dump_cases(row):\n",
    "    cursor.execute(\"\"\"INSERT INTO Cases\n",
    "        VALUES (%s, %s, %s, %s)\"\"\",(row.case_id, row.process_date, row.officer_id, row.jurisdiction))"
   ]
  },
  {
   "cell_type": "code",
   "execution_count": 117,
   "metadata": {},
   "outputs": [],
   "source": [
    "def dump_collision_row(row):\n",
    "    cursor.execute(\"\"\"INSERT INTO TypeOfCollision \n",
    "        (description)\n",
    "        VALUES (%s)\n",
    "        ON DUPLICATE KEY UPDATE id=id\"\"\", (row.type_of_collision,))\n",
    "    col_type_id = cursor.lastrowid\n",
    "\n",
    "    cursor.execute(\"\"\"INSERT INTO CollisionSeverity\n",
    "        (description)\n",
    "        VALUES (%s)\n",
    "        ON DUPLICATE KEY UPDATE id=id\"\"\", (row.collision_severity,))\n",
    "    col_severity_id = cursor.lastrowid\n",
    "\n",
    "    cursor.execute(\"\"\"INSERT INTO HitAndRun\n",
    "        (description)\n",
    "        VALUES (%s)\n",
    "        ON DUPLICATE KEY UPDATE id=id\"\"\", (row.hit_and_run,))\n",
    "    hit_n_run_id = cursor.lastrowid\n",
    "\n",
    "    print(col_type_id)\n",
    "    print(col_severity_id)\n",
    "    print(hit_n_run_id)\n",
    "\n",
    "    cursor.execute(\"\"\"INSERT INTO Collisions\n",
    "        VALUES (%s, %s, %s, %s, %s, %s, %s)\"\"\", (row.case_id, row.collision_date, row.collision_time, col_type_id, col_severity_id, hit_n_run_id, row.tow_away))\n",
    "\n",
    "    dump_pcfs(row)\n",
    "    dump_locations(row)\n",
    "    dump_factors(row)\n",
    "    dump_cases(row)"
   ]
  },
  {
   "cell_type": "code",
   "execution_count": 109,
   "metadata": {},
   "outputs": [],
   "source": [
    "def import_collisions(df):\n",
    "    for row in df.itertuples(index=True, name=\"Pandas\"):\n",
    "        dump_collision_row(row)"
   ]
  },
  {
   "cell_type": "code",
   "execution_count": 55,
   "metadata": {},
   "outputs": [
    {
     "output_type": "stream",
     "name": "stderr",
     "text": [
      "/Users/xavier/miniconda3/lib/python3.7/site-packages/IPython/core/interactiveshell.py:3058: DtypeWarning: Columns (9) have mixed types.Specify dtype option on import or set low_memory=False.\n  interactivity=interactivity, compiler=compiler, result=result)\n"
     ]
    }
   ],
   "source": [
    "collisions = pd.read_csv('../collisions2018.csv')"
   ]
  },
  {
   "cell_type": "code",
   "execution_count": 120,
   "metadata": {},
   "outputs": [
    {
     "output_type": "error",
     "ename": "ProgrammingError",
     "evalue": "1701 (42000): Cannot truncate a table referenced in a foreign key constraint (`data`.`Pcfs`, CONSTRAINT `Pcfs_ibfk_2`)",
     "traceback": [
      "\u001b[0;31m---------------------------------------------------------------------------\u001b[0m",
      "\u001b[0;31mProgrammingError\u001b[0m                          Traceback (most recent call last)",
      "\u001b[0;32m<ipython-input-120-ae378a801158>\u001b[0m in \u001b[0;36m<module>\u001b[0;34m\u001b[0m\n\u001b[0;32m----> 1\u001b[0;31m \u001b[0mcursor\u001b[0m\u001b[0;34m.\u001b[0m\u001b[0mexecute\u001b[0m\u001b[0;34m(\u001b[0m\u001b[0;34m\"TRUNCATE TABLE Collisions\"\u001b[0m\u001b[0;34m)\u001b[0m\u001b[0;34m\u001b[0m\u001b[0;34m\u001b[0m\u001b[0m\n\u001b[0m\u001b[1;32m      2\u001b[0m \u001b[0mcursor\u001b[0m\u001b[0;34m.\u001b[0m\u001b[0mexecute\u001b[0m\u001b[0;34m(\u001b[0m\u001b[0;34m\"TRUNCATE TABLE TypeOfCollision\"\u001b[0m\u001b[0;34m)\u001b[0m\u001b[0;34m\u001b[0m\u001b[0;34m\u001b[0m\u001b[0m\n\u001b[1;32m      3\u001b[0m \u001b[0mcursor\u001b[0m\u001b[0;34m.\u001b[0m\u001b[0mexecute\u001b[0m\u001b[0;34m(\u001b[0m\u001b[0;34m\"TRUNCATE TABLE CollisionSeverity\"\u001b[0m\u001b[0;34m)\u001b[0m\u001b[0;34m\u001b[0m\u001b[0;34m\u001b[0m\u001b[0m\n\u001b[1;32m      4\u001b[0m \u001b[0mcursor\u001b[0m\u001b[0;34m.\u001b[0m\u001b[0mexecute\u001b[0m\u001b[0;34m(\u001b[0m\u001b[0;34m\"TRUNCATE TABLE HitAndRun\"\u001b[0m\u001b[0;34m)\u001b[0m\u001b[0;34m\u001b[0m\u001b[0;34m\u001b[0m\u001b[0m\n",
      "\u001b[0;32m~/miniconda3/lib/python3.7/site-packages/mysql/connector/cursor.py\u001b[0m in \u001b[0;36mexecute\u001b[0;34m(self, operation, params, multi)\u001b[0m\n\u001b[1;32m    566\u001b[0m \u001b[0;34m\u001b[0m\u001b[0m\n\u001b[1;32m    567\u001b[0m         \u001b[0;32mtry\u001b[0m\u001b[0;34m:\u001b[0m\u001b[0;34m\u001b[0m\u001b[0;34m\u001b[0m\u001b[0m\n\u001b[0;32m--> 568\u001b[0;31m             \u001b[0mself\u001b[0m\u001b[0;34m.\u001b[0m\u001b[0m_handle_result\u001b[0m\u001b[0;34m(\u001b[0m\u001b[0mself\u001b[0m\u001b[0;34m.\u001b[0m\u001b[0m_connection\u001b[0m\u001b[0;34m.\u001b[0m\u001b[0mcmd_query\u001b[0m\u001b[0;34m(\u001b[0m\u001b[0mstmt\u001b[0m\u001b[0;34m)\u001b[0m\u001b[0;34m)\u001b[0m\u001b[0;34m\u001b[0m\u001b[0;34m\u001b[0m\u001b[0m\n\u001b[0m\u001b[1;32m    569\u001b[0m         \u001b[0;32mexcept\u001b[0m \u001b[0merrors\u001b[0m\u001b[0;34m.\u001b[0m\u001b[0mInterfaceError\u001b[0m\u001b[0;34m:\u001b[0m\u001b[0;34m\u001b[0m\u001b[0;34m\u001b[0m\u001b[0m\n\u001b[1;32m    570\u001b[0m             \u001b[0;32mif\u001b[0m \u001b[0mself\u001b[0m\u001b[0;34m.\u001b[0m\u001b[0m_connection\u001b[0m\u001b[0;34m.\u001b[0m\u001b[0m_have_next_result\u001b[0m\u001b[0;34m:\u001b[0m  \u001b[0;31m# pylint: disable=W0212\u001b[0m\u001b[0;34m\u001b[0m\u001b[0;34m\u001b[0m\u001b[0m\n",
      "\u001b[0;32m~/miniconda3/lib/python3.7/site-packages/mysql/connector/connection.py\u001b[0m in \u001b[0;36mcmd_query\u001b[0;34m(self, query, raw, buffered, raw_as_string)\u001b[0m\n\u001b[1;32m    684\u001b[0m             \u001b[0mquery\u001b[0m \u001b[0;34m=\u001b[0m \u001b[0mquery\u001b[0m\u001b[0;34m.\u001b[0m\u001b[0mencode\u001b[0m\u001b[0;34m(\u001b[0m\u001b[0;34m'utf-8'\u001b[0m\u001b[0;34m)\u001b[0m\u001b[0;34m\u001b[0m\u001b[0;34m\u001b[0m\u001b[0m\n\u001b[1;32m    685\u001b[0m         \u001b[0;32mtry\u001b[0m\u001b[0;34m:\u001b[0m\u001b[0;34m\u001b[0m\u001b[0;34m\u001b[0m\u001b[0m\n\u001b[0;32m--> 686\u001b[0;31m             \u001b[0mresult\u001b[0m \u001b[0;34m=\u001b[0m \u001b[0mself\u001b[0m\u001b[0;34m.\u001b[0m\u001b[0m_handle_result\u001b[0m\u001b[0;34m(\u001b[0m\u001b[0mself\u001b[0m\u001b[0;34m.\u001b[0m\u001b[0m_send_cmd\u001b[0m\u001b[0;34m(\u001b[0m\u001b[0mServerCmd\u001b[0m\u001b[0;34m.\u001b[0m\u001b[0mQUERY\u001b[0m\u001b[0;34m,\u001b[0m \u001b[0mquery\u001b[0m\u001b[0;34m)\u001b[0m\u001b[0;34m)\u001b[0m\u001b[0;34m\u001b[0m\u001b[0;34m\u001b[0m\u001b[0m\n\u001b[0m\u001b[1;32m    687\u001b[0m         \u001b[0;32mexcept\u001b[0m \u001b[0merrors\u001b[0m\u001b[0;34m.\u001b[0m\u001b[0mProgrammingError\u001b[0m \u001b[0;32mas\u001b[0m \u001b[0merr\u001b[0m\u001b[0;34m:\u001b[0m\u001b[0;34m\u001b[0m\u001b[0;34m\u001b[0m\u001b[0m\n\u001b[1;32m    688\u001b[0m             \u001b[0;32mif\u001b[0m \u001b[0merr\u001b[0m\u001b[0;34m.\u001b[0m\u001b[0merrno\u001b[0m \u001b[0;34m==\u001b[0m \u001b[0;36m3948\u001b[0m \u001b[0;32mand\u001b[0m\u001b[0;31m \u001b[0m\u001b[0;31m\\\u001b[0m\u001b[0;34m\u001b[0m\u001b[0;34m\u001b[0m\u001b[0m\n",
      "\u001b[0;32m~/miniconda3/lib/python3.7/site-packages/mysql/connector/connection.py\u001b[0m in \u001b[0;36m_handle_result\u001b[0;34m(self, packet)\u001b[0m\n\u001b[1;32m    571\u001b[0m             \u001b[0;32mreturn\u001b[0m \u001b[0mself\u001b[0m\u001b[0;34m.\u001b[0m\u001b[0m_handle_eof\u001b[0m\u001b[0;34m(\u001b[0m\u001b[0mpacket\u001b[0m\u001b[0;34m)\u001b[0m\u001b[0;34m\u001b[0m\u001b[0;34m\u001b[0m\u001b[0m\n\u001b[1;32m    572\u001b[0m         \u001b[0;32melif\u001b[0m \u001b[0mpacket\u001b[0m\u001b[0;34m[\u001b[0m\u001b[0;36m4\u001b[0m\u001b[0;34m]\u001b[0m \u001b[0;34m==\u001b[0m \u001b[0;36m255\u001b[0m\u001b[0;34m:\u001b[0m\u001b[0;34m\u001b[0m\u001b[0;34m\u001b[0m\u001b[0m\n\u001b[0;32m--> 573\u001b[0;31m             \u001b[0;32mraise\u001b[0m \u001b[0merrors\u001b[0m\u001b[0;34m.\u001b[0m\u001b[0mget_exception\u001b[0m\u001b[0;34m(\u001b[0m\u001b[0mpacket\u001b[0m\u001b[0;34m)\u001b[0m\u001b[0;34m\u001b[0m\u001b[0;34m\u001b[0m\u001b[0m\n\u001b[0m\u001b[1;32m    574\u001b[0m \u001b[0;34m\u001b[0m\u001b[0m\n\u001b[1;32m    575\u001b[0m         \u001b[0;31m# We have a text result set\u001b[0m\u001b[0;34m\u001b[0m\u001b[0;34m\u001b[0m\u001b[0;34m\u001b[0m\u001b[0m\n",
      "\u001b[0;31mProgrammingError\u001b[0m: 1701 (42000): Cannot truncate a table referenced in a foreign key constraint (`data`.`Pcfs`, CONSTRAINT `Pcfs_ibfk_2`)"
     ]
    }
   ],
   "source": [
    "cursor.execute(\"TRUNCATE TABLE Collisions\")\n",
    "cursor.execute(\"TRUNCATE TABLE TypeOfCollision\")\n",
    "cursor.execute(\"TRUNCATE TABLE CollisionSeverity\")\n",
    "cursor.execute(\"TRUNCATE TABLE HitAndRun\")"
   ]
  },
  {
   "cell_type": "code",
   "execution_count": 118,
   "metadata": {},
   "outputs": [
    {
     "output_type": "stream",
     "name": "stdout",
     "text": [
      "0\n0\n0\n"
     ]
    },
    {
     "output_type": "error",
     "ename": "IntegrityError",
     "evalue": "1452 (23000): Cannot add or update a child row: a foreign key constraint fails (`data`.`Collisions`, CONSTRAINT `Collisions_ibfk_1` FOREIGN KEY (`type_of_collision`) REFERENCES `TypeOfCollision` (`id`))",
     "traceback": [
      "\u001b[0;31m---------------------------------------------------------------------------\u001b[0m",
      "\u001b[0;31mIntegrityError\u001b[0m                            Traceback (most recent call last)",
      "\u001b[0;32m<ipython-input-118-84ff841b8679>\u001b[0m in \u001b[0;36m<module>\u001b[0;34m\u001b[0m\n\u001b[0;32m----> 1\u001b[0;31m \u001b[0mimport_collisions\u001b[0m\u001b[0;34m(\u001b[0m\u001b[0mcollisions\u001b[0m\u001b[0;34m)\u001b[0m\u001b[0;34m\u001b[0m\u001b[0;34m\u001b[0m\u001b[0m\n\u001b[0m",
      "\u001b[0;32m<ipython-input-109-4ef7f0916964>\u001b[0m in \u001b[0;36mimport_collisions\u001b[0;34m(df)\u001b[0m\n\u001b[1;32m      1\u001b[0m \u001b[0;32mdef\u001b[0m \u001b[0mimport_collisions\u001b[0m\u001b[0;34m(\u001b[0m\u001b[0mdf\u001b[0m\u001b[0;34m)\u001b[0m\u001b[0;34m:\u001b[0m\u001b[0;34m\u001b[0m\u001b[0;34m\u001b[0m\u001b[0m\n\u001b[1;32m      2\u001b[0m     \u001b[0;32mfor\u001b[0m \u001b[0mrow\u001b[0m \u001b[0;32min\u001b[0m \u001b[0mdf\u001b[0m\u001b[0;34m.\u001b[0m\u001b[0mitertuples\u001b[0m\u001b[0;34m(\u001b[0m\u001b[0mindex\u001b[0m\u001b[0;34m=\u001b[0m\u001b[0;32mTrue\u001b[0m\u001b[0;34m,\u001b[0m \u001b[0mname\u001b[0m\u001b[0;34m=\u001b[0m\u001b[0;34m\"Pandas\"\u001b[0m\u001b[0;34m)\u001b[0m\u001b[0;34m:\u001b[0m\u001b[0;34m\u001b[0m\u001b[0;34m\u001b[0m\u001b[0m\n\u001b[0;32m----> 3\u001b[0;31m         \u001b[0mdump_collision_row\u001b[0m\u001b[0;34m(\u001b[0m\u001b[0mrow\u001b[0m\u001b[0;34m)\u001b[0m\u001b[0;34m\u001b[0m\u001b[0;34m\u001b[0m\u001b[0m\n\u001b[0m",
      "\u001b[0;32m<ipython-input-117-86cd0c031de5>\u001b[0m in \u001b[0;36mdump_collision_row\u001b[0;34m(row)\u001b[0m\n\u001b[1;32m     23\u001b[0m \u001b[0;34m\u001b[0m\u001b[0m\n\u001b[1;32m     24\u001b[0m     cursor.execute(\"\"\"INSERT INTO Collisions\n\u001b[0;32m---> 25\u001b[0;31m         VALUES (%s, %s, %s, %s, %s, %s, %s)\"\"\", (row.case_id, row.collision_date, row.collision_time, col_type_id, col_severity_id, hit_n_run_id, row.tow_away))\n\u001b[0m\u001b[1;32m     26\u001b[0m \u001b[0;34m\u001b[0m\u001b[0m\n\u001b[1;32m     27\u001b[0m     \u001b[0mdump_pcfs\u001b[0m\u001b[0;34m(\u001b[0m\u001b[0mrow\u001b[0m\u001b[0;34m)\u001b[0m\u001b[0;34m\u001b[0m\u001b[0;34m\u001b[0m\u001b[0m\n",
      "\u001b[0;32m~/miniconda3/lib/python3.7/site-packages/mysql/connector/cursor.py\u001b[0m in \u001b[0;36mexecute\u001b[0;34m(self, operation, params, multi)\u001b[0m\n\u001b[1;32m    566\u001b[0m \u001b[0;34m\u001b[0m\u001b[0m\n\u001b[1;32m    567\u001b[0m         \u001b[0;32mtry\u001b[0m\u001b[0;34m:\u001b[0m\u001b[0;34m\u001b[0m\u001b[0;34m\u001b[0m\u001b[0m\n\u001b[0;32m--> 568\u001b[0;31m             \u001b[0mself\u001b[0m\u001b[0;34m.\u001b[0m\u001b[0m_handle_result\u001b[0m\u001b[0;34m(\u001b[0m\u001b[0mself\u001b[0m\u001b[0;34m.\u001b[0m\u001b[0m_connection\u001b[0m\u001b[0;34m.\u001b[0m\u001b[0mcmd_query\u001b[0m\u001b[0;34m(\u001b[0m\u001b[0mstmt\u001b[0m\u001b[0;34m)\u001b[0m\u001b[0;34m)\u001b[0m\u001b[0;34m\u001b[0m\u001b[0;34m\u001b[0m\u001b[0m\n\u001b[0m\u001b[1;32m    569\u001b[0m         \u001b[0;32mexcept\u001b[0m \u001b[0merrors\u001b[0m\u001b[0;34m.\u001b[0m\u001b[0mInterfaceError\u001b[0m\u001b[0;34m:\u001b[0m\u001b[0;34m\u001b[0m\u001b[0;34m\u001b[0m\u001b[0m\n\u001b[1;32m    570\u001b[0m             \u001b[0;32mif\u001b[0m \u001b[0mself\u001b[0m\u001b[0;34m.\u001b[0m\u001b[0m_connection\u001b[0m\u001b[0;34m.\u001b[0m\u001b[0m_have_next_result\u001b[0m\u001b[0;34m:\u001b[0m  \u001b[0;31m# pylint: disable=W0212\u001b[0m\u001b[0;34m\u001b[0m\u001b[0;34m\u001b[0m\u001b[0m\n",
      "\u001b[0;32m~/miniconda3/lib/python3.7/site-packages/mysql/connector/connection.py\u001b[0m in \u001b[0;36mcmd_query\u001b[0;34m(self, query, raw, buffered, raw_as_string)\u001b[0m\n\u001b[1;32m    684\u001b[0m             \u001b[0mquery\u001b[0m \u001b[0;34m=\u001b[0m \u001b[0mquery\u001b[0m\u001b[0;34m.\u001b[0m\u001b[0mencode\u001b[0m\u001b[0;34m(\u001b[0m\u001b[0;34m'utf-8'\u001b[0m\u001b[0;34m)\u001b[0m\u001b[0;34m\u001b[0m\u001b[0;34m\u001b[0m\u001b[0m\n\u001b[1;32m    685\u001b[0m         \u001b[0;32mtry\u001b[0m\u001b[0;34m:\u001b[0m\u001b[0;34m\u001b[0m\u001b[0;34m\u001b[0m\u001b[0m\n\u001b[0;32m--> 686\u001b[0;31m             \u001b[0mresult\u001b[0m \u001b[0;34m=\u001b[0m \u001b[0mself\u001b[0m\u001b[0;34m.\u001b[0m\u001b[0m_handle_result\u001b[0m\u001b[0;34m(\u001b[0m\u001b[0mself\u001b[0m\u001b[0;34m.\u001b[0m\u001b[0m_send_cmd\u001b[0m\u001b[0;34m(\u001b[0m\u001b[0mServerCmd\u001b[0m\u001b[0;34m.\u001b[0m\u001b[0mQUERY\u001b[0m\u001b[0;34m,\u001b[0m \u001b[0mquery\u001b[0m\u001b[0;34m)\u001b[0m\u001b[0;34m)\u001b[0m\u001b[0;34m\u001b[0m\u001b[0;34m\u001b[0m\u001b[0m\n\u001b[0m\u001b[1;32m    687\u001b[0m         \u001b[0;32mexcept\u001b[0m \u001b[0merrors\u001b[0m\u001b[0;34m.\u001b[0m\u001b[0mProgrammingError\u001b[0m \u001b[0;32mas\u001b[0m \u001b[0merr\u001b[0m\u001b[0;34m:\u001b[0m\u001b[0;34m\u001b[0m\u001b[0;34m\u001b[0m\u001b[0m\n\u001b[1;32m    688\u001b[0m             \u001b[0;32mif\u001b[0m \u001b[0merr\u001b[0m\u001b[0;34m.\u001b[0m\u001b[0merrno\u001b[0m \u001b[0;34m==\u001b[0m \u001b[0;36m3948\u001b[0m \u001b[0;32mand\u001b[0m\u001b[0;31m \u001b[0m\u001b[0;31m\\\u001b[0m\u001b[0;34m\u001b[0m\u001b[0;34m\u001b[0m\u001b[0m\n",
      "\u001b[0;32m~/miniconda3/lib/python3.7/site-packages/mysql/connector/connection.py\u001b[0m in \u001b[0;36m_handle_result\u001b[0;34m(self, packet)\u001b[0m\n\u001b[1;32m    571\u001b[0m             \u001b[0;32mreturn\u001b[0m \u001b[0mself\u001b[0m\u001b[0;34m.\u001b[0m\u001b[0m_handle_eof\u001b[0m\u001b[0;34m(\u001b[0m\u001b[0mpacket\u001b[0m\u001b[0;34m)\u001b[0m\u001b[0;34m\u001b[0m\u001b[0;34m\u001b[0m\u001b[0m\n\u001b[1;32m    572\u001b[0m         \u001b[0;32melif\u001b[0m \u001b[0mpacket\u001b[0m\u001b[0;34m[\u001b[0m\u001b[0;36m4\u001b[0m\u001b[0;34m]\u001b[0m \u001b[0;34m==\u001b[0m \u001b[0;36m255\u001b[0m\u001b[0;34m:\u001b[0m\u001b[0;34m\u001b[0m\u001b[0;34m\u001b[0m\u001b[0m\n\u001b[0;32m--> 573\u001b[0;31m             \u001b[0;32mraise\u001b[0m \u001b[0merrors\u001b[0m\u001b[0;34m.\u001b[0m\u001b[0mget_exception\u001b[0m\u001b[0;34m(\u001b[0m\u001b[0mpacket\u001b[0m\u001b[0;34m)\u001b[0m\u001b[0;34m\u001b[0m\u001b[0;34m\u001b[0m\u001b[0m\n\u001b[0m\u001b[1;32m    574\u001b[0m \u001b[0;34m\u001b[0m\u001b[0m\n\u001b[1;32m    575\u001b[0m         \u001b[0;31m# We have a text result set\u001b[0m\u001b[0;34m\u001b[0m\u001b[0;34m\u001b[0m\u001b[0;34m\u001b[0m\u001b[0m\n",
      "\u001b[0;31mIntegrityError\u001b[0m: 1452 (23000): Cannot add or update a child row: a foreign key constraint fails (`data`.`Collisions`, CONSTRAINT `Collisions_ibfk_1` FOREIGN KEY (`type_of_collision`) REFERENCES `TypeOfCollision` (`id`))"
     ]
    }
   ],
   "source": [
    "import_collisions(collisions)"
   ]
  },
  {
   "cell_type": "code",
   "execution_count": null,
   "metadata": {},
   "outputs": [],
   "source": [
    "parties = pd.read_csv('../parties2018.csv')"
   ]
  },
  {
   "cell_type": "code",
   "execution_count": null,
   "metadata": {},
   "outputs": [],
   "source": [
    "def import_parties():\n",
    "    for row in parties.itertuples(index=True, name=\"Pandas\"):"
   ]
  },
  {
   "cell_type": "code",
   "execution_count": null,
   "metadata": {},
   "outputs": [],
   "source": [
    "victims = pd.read_csv('../victims2018.csv')"
   ]
  },
  {
   "cell_type": "code",
   "execution_count": null,
   "metadata": {},
   "outputs": [],
   "source": [
    "def import_victims(col):\n",
    "    for row in victims.itertuples(index=True, name=\"Pandas\"):"
   ]
  }
 ]
}