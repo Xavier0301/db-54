{
 "metadata": {
  "language_info": {
   "codemirror_mode": {
    "name": "ipython",
    "version": 3
   },
   "file_extension": ".py",
   "mimetype": "text/x-python",
   "name": "python",
   "nbconvert_exporter": "python",
   "pygments_lexer": "ipython3",
   "version": "3.7.3"
  },
  "orig_nbformat": 2,
  "kernelspec": {
   "name": "python373jvsc74a57bd0575ef1d0e6bebc78cce9f41e5461ee9c36f6b463def79c68585633dbbf58454e",
   "display_name": "Python 3.7.3 64-bit ('base': conda)"
  }
 },
 "nbformat": 4,
 "nbformat_minor": 2,
 "cells": [
  {
   "cell_type": "code",
   "execution_count": 2,
   "metadata": {},
   "outputs": [],
   "source": [
    "import mysql.connector\n",
    "from mysql.connector.constants import ClientFlag"
   ]
  },
  {
   "cell_type": "code",
   "execution_count": 3,
   "metadata": {},
   "outputs": [],
   "source": [
    "# config = {\n",
    "#     'user': 'root',\n",
    "#     'password': 'Hh12H8y2ppBAq5Cj',\n",
    "#     'host': '34.65.175.109',\n",
    "#     'client_flags': [ClientFlag.SSL],\n",
    "#     'ssl_ca': '/Users/xavier/Desktop/EPFL_Cours/Ici/DB/db-54/part2/ssl/server-ca.pem',\n",
    "#     'ssl_cert': '/Users/xavier/Desktop/EPFL_Cours/Ici/DB/db-54/part2/ssl/client-cert.pem',\n",
    "#     'ssl_key': '/Users/xavier/Desktop/EPFL_Cours/Ici/DB/db-54/part2/ssl/client-key.pem',\n",
    "#     'database': 'data'\n",
    "# }\n",
    "\n",
    "config = {\n",
    "    'user': 'root',\n",
    "    'password': 'Hh12H8y2ppBAq5Cj',\n",
    "    'host': 'localhost',\n",
    "    'database': 'data'\n",
    "}\n",
    "\n",
    "cnx = mysql.connector.connect(**config)\n",
    "cnx.autocommit = True\n",
    "cursor = cnx.cursor()"
   ]
  },
  {
   "source": [
    "# Party\n",
    "## Main Tables"
   ],
   "cell_type": "markdown",
   "metadata": {}
  },
  {
   "cell_type": "code",
   "execution_count": 37,
   "metadata": {},
   "outputs": [],
   "source": [
    "cursor.execute(\"\"\"CREATE TABLE Parties(id INTEGER,\n",
    "                        case_id VARCHAR(19) NOT NULL,\n",
    "                        party_number INTEGER NOT NULL,\n",
    "                        financial_responsibility INTEGER,\n",
    "                        party_age INTEGER,\n",
    "                        party_sex INTEGER,\n",
    "                        at_fault BIT NOT NULL,\n",
    "                        cellphone_use INTEGER,\n",
    "                        hazardous_materials CHAR(1),\n",
    "                        movement_preceding_collision INTEGER,\n",
    "                        other_associate_factor_1 INTEGER,\n",
    "                        other_associate_factor_2 INTEGER,\n",
    "                        party_drug_physical INTEGER,\n",
    "                        party_safety_equipment_1 INTEGER,\n",
    "                        party_safety_equipment_2 INTEGER,\n",
    "                        party_sobriety INTEGER,\n",
    "                        PRIMARY KEY(id),\n",
    "                        FOREIGN KEY(financial_responsibility) REFERENCES FinancialResponsibility(id),\n",
    "                        FOREIGN KEY(party_sex) REFERENCES PersonSex(id),\n",
    "                        FOREIGN KEY(cellphone_use) REFERENCES CellphoneUse(id),\n",
    "                        FOREIGN KEY(movement_preceding_collision) REFERENCES MovementPrecedingCollision(id),\n",
    "                        FOREIGN KEY(other_associate_factor_1) REFERENCES OtherAssociatedFactors(id),\n",
    "                        FOREIGN KEY(other_associate_factor_2) REFERENCES OtherAssociatedFactors(id),\n",
    "                        FOREIGN KEY(party_drug_physical) REFERENCES PartyDrugPhysical(id),\n",
    "                        FOREIGN KEY(party_safety_equipment_1) REFERENCES PartySafetyEquipement(id),\n",
    "                        FOREIGN KEY(party_safety_equipment_2) REFERENCES PartySafetyEquipement(id),\n",
    "                        FOREIGN KEY(party_sobriety) REFERENCES PartySobriety(id),\n",
    "                        FOREIGN KEY(case_id) REFERENCES Collisions(case_id))\"\"\")"
   ]
  },
  {
   "cell_type": "code",
   "execution_count": 38,
   "metadata": {},
   "outputs": [],
   "source": [
    "cursor.execute(\"\"\"CREATE TABLE Vehicles(party_id INTEGER NOT NULL,\n",
    "                        school_bus_related BIT,\n",
    "                        statewide_vehicle_type INTEGER,\n",
    "                        vehicle_make INTEGER,\n",
    "                        vehicle_year INTEGER,\n",
    "                        FOREIGN KEY(statewide_vehicle_type) REFERENCES StatewideVehiculeType(id),\n",
    "                        FOREIGN KEY(vehicle_make) REFERENCES VehiculeMake(id),\n",
    "                        FOREIGN KEY(party_id) REFERENCES Parties(id))\"\"\")"
   ]
  },
  {
   "source": [
    "## Satelite Enum Tables"
   ],
   "cell_type": "markdown",
   "metadata": {}
  },
  {
   "cell_type": "code",
   "execution_count": 26,
   "metadata": {},
   "outputs": [],
   "source": [
    "cursor.execute(\"CREATE TABLE OtherAssociatedFactors (id INTEGER AUTO_INCREMENT,\"\n",
    "    \"description CHAR(1) NOT NULL UNIQUE,\"\n",
    "    \"CHECK (description BETWEEN 'A' AND 'Z'),\"\n",
    "    \"PRIMARY KEY(id))\")"
   ]
  },
  {
   "cell_type": "code",
   "execution_count": 27,
   "metadata": {},
   "outputs": [],
   "source": [
    "cursor.execute(\"\"\"CREATE TABLE CellphoneUse(id INTEGER AUTO_INCREMENT,\n",
    "\t\t\t   description CHAR(1) NOT NULL UNIQUE,\n",
    "                CHECK (description BETWEEN 'B' AND 'D'),\t\n",
    "\t\t\t   PRIMARY KEY(id))\"\"\")\n",
    "# messy data: 1 -> B, 2 -> C, 3 -> D"
   ]
  },
  {
   "cell_type": "code",
   "execution_count": 28,
   "metadata": {},
   "outputs": [],
   "source": [
    "cursor.execute(\"\"\"CREATE TABLE FinancialResponsibility(id INTEGER AUTO_INCREMENT,\n",
    "\t\t\t   \t      description CHAR(1) NOT NULL UNIQUE,\n",
    "                                      CHECK (description IN ('N', 'Y', 'O', 'E')),\t\n",
    "\t\t\t              PRIMARY KEY(id))\"\"\")\n",
    "\n",
    "# clean data "
   ]
  },
  {
   "cell_type": "code",
   "execution_count": 29,
   "metadata": {},
   "outputs": [],
   "source": [
    "cursor.execute(\"\"\"CREATE TABLE MovementPrecedingCollision(id INTEGER AUTO_INCREMENT,\n",
    "\t\t\t\t\t description VARCHAR(100) NOT NULL UNIQUE,\n",
    "\t\t\t\t\t PRIMARY KEY(id))\"\"\")\n",
    "# seems clean, but cannot check every possibility as it's varchar."
   ]
  },
  {
   "cell_type": "code",
   "execution_count": 30,
   "metadata": {},
   "outputs": [],
   "source": [
    "cursor.execute(\"\"\"CREATE TABLE PartyDrugPhysical(id INTEGER AUTO_INCREMENT,\n",
    "\t\t\t       description CHAR(1) NOT NULL UNIQUE,\n",
    "                            CHECK (description IN ('E', 'F', 'H', 'I')),\n",
    "\t\t\t       PRIMARY KEY(id))\"\"\")\n",
    "\n",
    "# messy: letter G most prevalent: interpret as n/a ?"
   ]
  },
  {
   "cell_type": "code",
   "execution_count": 31,
   "metadata": {},
   "outputs": [],
   "source": [
    "cursor.execute(\"\"\"CREATE TABLE PartySafetyEquipement(id INTEGER AUTO_INCREMENT,\n",
    "\t\t\t\t   description CHAR(1) NOT NULL UNIQUE,\n",
    "                                   CHECK (description BETWEEN 'A' AND 'Y'),\n",
    "\t\t\t\t   PRIMARY KEY(id))\"\"\")\n",
    "# clean as far as i can tell"
   ]
  },
  {
   "source": [
    "The following table holds for `VictimSex` and `PartySex`"
   ],
   "cell_type": "markdown",
   "metadata": {}
  },
  {
   "cell_type": "code",
   "execution_count": 32,
   "metadata": {},
   "outputs": [],
   "source": [
    "cursor.execute(\"\"\"CREATE TABLE PersonSex(id INTEGER AUTO_INCREMENT,\n",
    "\t\t       description VARCHAR(6) NOT NULL UNIQUE,\n",
    "                       CHECK (description in ('male', 'female')),\n",
    "\t\t       PRIMARY KEY(id))\"\"\")\n",
    "# clean af, for PartySex and VictimSex"
   ]
  },
  {
   "cell_type": "code",
   "execution_count": 33,
   "metadata": {},
   "outputs": [],
   "source": [
    "cursor.execute(\"\"\"CREATE TABLE PartySobriety(id INTEGER AUTO_INCREMENT,\n",
    "\t\t\t    description CHAR(1) NOT NULL UNIQUE,\n",
    "                            CHECK (description IN ('A', 'B', 'C', 'D', 'G', 'H')),\n",
    "\t\t\t    PRIMARY KEY(id))\"\"\")\n",
    "# clean af"
   ]
  },
  {
   "source": [
    "cursor.execute(\"\"\"CREATE TABLE PartyType(id INTEGER AUTO_INCREMENT,\n",
    "\t\t\tdescription VARCHAR(15) NOT NULL UNIQUE,\n",
    "\t\t\tPRIMARY KEY(id))\"\"\")\n",
    "\n",
    "# clean"
   ],
   "cell_type": "code",
   "metadata": {},
   "execution_count": 34,
   "outputs": []
  },
  {
   "cell_type": "code",
   "execution_count": 35,
   "metadata": {},
   "outputs": [],
   "source": [
    "cursor.execute(\"\"\"CREATE TABLE StatewideVehiculeType(id INTEGER AUTO_INCREMENT,\n",
    "\t\t\t\t    description VARCHAR(35) NOT NULL UNIQUE,\n",
    "\t\t\t\t    PRIMARY KEY(id))\"\"\")\n",
    "# clean as far as i can tell"
   ]
  },
  {
   "cell_type": "code",
   "execution_count": 36,
   "metadata": {},
   "outputs": [],
   "source": [
    "cursor.execute(\"\"\"CREATE TABLE VehiculeMake(id INTEGER AUTO_INCREMENT,\n",
    "\t\t\t   description VARCHAR(28) NOT NULL,\n",
    "\t\t\t   PRIMARY KEY(id))\"\"\")\n",
    "\n",
    "# clean"
   ]
  },
  {
   "source": [
    "# Collision\n",
    "## Main Tables"
   ],
   "cell_type": "markdown",
   "metadata": {}
  },
  {
   "cell_type": "code",
   "execution_count": 21,
   "metadata": {},
   "outputs": [],
   "source": [
    "cursor.execute(\"\"\"CREATE TABLE Collisions(case_id VARCHAR(19), \n",
    "                        collision_date DATE NOT NULL,\n",
    "                        collision_time TIME,\n",
    "                        type_of_collision INTEGER,\n",
    "                        collision_severity INTEGER NOT NULL,\n",
    "                        hit_and_run INTEGER NOT NULL,\n",
    "                        tow_away BIT,\n",
    "                        FOREIGN KEY(type_of_collision) REFERENCES TypeOfCollision(id), \n",
    "                        FOREIGN KEY(collision_severity) REFERENCES CollisionSeverity(id), \n",
    "                        FOREIGN KEY(hit_and_run) REFERENCES HitAndRun(id),                      \n",
    "                        PRIMARY KEY(case_id))\"\"\")"
   ]
  },
  {
   "cell_type": "code",
   "execution_count": 22,
   "metadata": {},
   "outputs": [],
   "source": [
    "cursor.execute(\"\"\"CREATE TABLE Pcfs(case_id VARCHAR(19) NOT NULL,\n",
    "                    pcf_violation INTEGER,\n",
    "                    pcf_violation_category INTEGER,\n",
    "                    pcf_violation_subsection CHAR(1),\n",
    "                    FOREIGN KEY(pcf_violation_category) REFERENCES PcfViolationCategory(id),\n",
    "                    FOREIGN KEY(case_id) REFERENCES Collisions(case_id))\"\"\")\n",
    "# pcf_violation_subscection has weird values but we cannot infer\n",
    "# that they are wrong."
   ]
  },
  {
   "cell_type": "code",
   "execution_count": 23,
   "metadata": {},
   "outputs": [],
   "source": [
    "cursor.execute(\"\"\"CREATE TABLE Locations(case_id VARCHAR(19) NOT NULL,\n",
    "                        population INTEGER,\n",
    "                        county_city_location INTEGER NOT NULL,\n",
    "                        FOREIGN KEY(case_id) REFERENCES Collisions(case_id))\"\"\")"
   ]
  },
  {
   "cell_type": "code",
   "execution_count": 24,
   "metadata": {},
   "outputs": [],
   "source": [
    "cursor.execute(\"\"\"CREATE TABLE Factors(case_id VARCHAR(19) NOT NULL,\n",
    "                        location_type INTEGER,\n",
    "                        lighting INTEGER,\n",
    "                        road_condition_1 INTEGER,\n",
    "                        road_condition_2 INTEGER,\n",
    "                        road_surface INTEGER,\n",
    "                        weather_1 INTEGER,\n",
    "                        weather_2 INTEGER,\n",
    "                        FOREIGN KEY(location_type) REFERENCES LocationType(id),\n",
    "                        FOREIGN KEY(lighting) REFERENCES Lighting(id),\n",
    "                        FOREIGN KEY(road_condition_1) REFERENCES RoadCondition(id),\n",
    "                        FOREIGN KEY(road_condition_2) REFERENCES RoadCondition(id),\n",
    "                        FOREIGN KEY(road_surface) REFERENCES RoadSurface(id),\n",
    "                        FOREIGN KEY(weather_1) REFERENCES Weather(id),\n",
    "                        FOREIGN KEY(weather_2) REFERENCES Weather(id),\n",
    "                        FOREIGN KEY(case_id) REFERENCES Collisions(case_id))\"\"\")"
   ]
  },
  {
   "cell_type": "code",
   "execution_count": 25,
   "metadata": {},
   "outputs": [],
   "source": [
    "cursor.execute(\"\"\"CREATE TABLE Cases(case_id VARCHAR(19) NOT NULL,\n",
    "                    process_date DATE NOT NULL,\n",
    "                    officer_id VARCHAR(8),\n",
    "                    jurisdiction INTEGER,\n",
    "                    FOREIGN KEY(case_id) REFERENCES Collisions(case_id))\"\"\")\n",
    "# max officer_id length is 8. As some include letters, better make it VARCHAR."
   ]
  },
  {
   "source": [
    "## Satelite Enum Tables"
   ],
   "cell_type": "markdown",
   "metadata": {}
  },
  {
   "cell_type": "code",
   "execution_count": 11,
   "metadata": {},
   "outputs": [],
   "source": [
    "cursor.execute(\"\"\"CREATE TABLE CollisionSeverity(id INTEGER AUTO_INCREMENT,\n",
    "\t\t\t       description VARCHAR(25) NOT NULL UNIQUE,\n",
    "\t\t\t       PRIMARY KEY(id))\"\"\")\n",
    "# clean"
   ]
  },
  {
   "cell_type": "code",
   "execution_count": 12,
   "metadata": {},
   "outputs": [],
   "source": [
    "cursor.execute(\"\"\"CREATE TABLE HitAndRun(id INTEGER AUTO_INCREMENT,\n",
    "\t\t\tdescription VARCHAR(20) NOT NULL UNIQUE,\n",
    "\t\t\tPRIMARY KEY(id))\"\"\")\n",
    "# One dirty value: D -> NaN "
   ]
  },
  {
   "cell_type": "code",
   "execution_count": 13,
   "metadata": {},
   "outputs": [],
   "source": [
    "cursor.execute(\"\"\"CREATE TABLE Lighting(id INTEGER AUTO_INCREMENT,\n",
    "\t\t       description VARCHAR(39) NOT NULL UNIQUE,\n",
    "\t\t       PRIMARY KEY(id))\"\"\")\n",
    "# Clean"
   ]
  },
  {
   "cell_type": "code",
   "execution_count": 14,
   "metadata": {},
   "outputs": [],
   "source": [
    "cursor.execute(\"\"\"CREATE TABLE LocationType(id INTEGER AUTO_INCREMENT,\n",
    "\t\t\t   description VARCHAR(20) NOT NULL UNIQUE,\n",
    "\t\t\t   PRIMARY KEY(id))\"\"\")\n",
    "# clean"
   ]
  },
  {
   "cell_type": "code",
   "execution_count": 15,
   "metadata": {},
   "outputs": [],
   "source": [
    "cursor.execute(\"\"\"CREATE TABLE PcfViolationCategory(id INTEGER AUTO_INCREMENT,\n",
    "\t\t\t\t   description VARCHAR(70) NOT NULL UNIQUE,\n",
    "\t\t\t\t   PRIMARY KEY(id))\"\"\")\n",
    "\n",
    "# One dirty value: 21804 -> NaN"
   ]
  },
  {
   "cell_type": "code",
   "execution_count": 16,
   "metadata": {},
   "outputs": [],
   "source": [
    "cursor.execute(\"\"\"CREATE TABLE PrimaryCollisionFactor(id INTEGER AUTO_INCREMENT, \n",
    "\t\t\t\t     description VARCHAR(25) NOT NULL UNIQUE,\n",
    "\t\t\t\t     PRIMARY KEY(id))\"\"\")\n",
    "# clean"
   ]
  },
  {
   "cell_type": "code",
   "execution_count": 17,
   "metadata": {},
   "outputs": [],
   "source": [
    "cursor.execute(\"\"\"CREATE TABLE RoadCondition(id INTEGER AUTO_INCREMENT,\n",
    "\t\t\t    description VARCHAR(20) NOT NULL UNIQUE,\n",
    "\t\t\t    PRIMARY KEY(id))\"\"\")\n",
    "# clean"
   ]
  },
  {
   "cell_type": "code",
   "execution_count": 18,
   "metadata": {},
   "outputs": [],
   "source": [
    "cursor.execute(\"\"\"CREATE TABLE RoadSurface(id INTEGER AUTO_INCREMENT,\n",
    "\t\t\t  description VARCHAR(15) NOT NULL UNIQUE,\n",
    "\t\t\t  PRIMARY KEY(id))\"\"\")\n",
    "# one dirty value: H -> NaN"
   ]
  },
  {
   "cell_type": "code",
   "execution_count": 19,
   "metadata": {},
   "outputs": [],
   "source": [
    "cursor.execute(\"\"\"CREATE TABLE TypeOfCollision(id INTEGER AUTO_INCREMENT,\n",
    "\t\t\t      description VARCHAR(15) NOT NULL UNIQUE,\n",
    "\t\t\t      PRIMARY KEY(id))\"\"\")\n",
    "# clean"
   ]
  },
  {
   "cell_type": "code",
   "execution_count": 20,
   "metadata": {},
   "outputs": [],
   "source": [
    "cursor.execute(\"\"\"CREATE TABLE Weather(id INTEGER AUTO_INCREMENT,\n",
    "\t\t      description VARCHAR(10) NOT NULL UNIQUE,\n",
    "\t\t      PRIMARY KEY(id))\"\"\")\n",
    "# clean"
   ]
  },
  {
   "source": [
    "# Victim\n",
    "## Main Table"
   ],
   "cell_type": "markdown",
   "metadata": {}
  },
  {
   "cell_type": "code",
   "execution_count": 41,
   "metadata": {},
   "outputs": [],
   "source": [
    "cursor.execute(\"\"\"CREATE TABLE Victims(id INTEGER,\n",
    "                        case_id VARCHAR(19) NOT NULL,\n",
    "                        party_number INTEGER NOT NULL,\n",
    "                        victim_age INTEGER,\n",
    "                        victim_sex INTEGER,\n",
    "                        victim_degree_of_injury INTEGER,\n",
    "                        victim_ejected INTEGER,\n",
    "                        victim_role INTEGER NOT NULL,\n",
    "                        victim_safety_equipment_1 INTEGER,\n",
    "                        victim_safety_equipment_2 INTEGER,\n",
    "                        victim_seating_position INTEGER,\n",
    "                        PRIMARY KEY(id),\n",
    "                        FOREIGN KEY(victim_sex) REFERENCES PersonSex(id),\n",
    "                        FOREIGN KEY(victim_safety_equipment_1) REFERENCES VictimSafetyEquipment(id),\n",
    "                        FOREIGN KEY(victim_safety_equipment_2) REFERENCES VictimSafetyEquipment(id),\n",
    "                        FOREIGN KEY(victim_degree_of_injury) REFERENCES VictimDegreeOfInjury(id),\n",
    "                        FOREIGN KEY(case_id) REFERENCES Collisions(case_id))\"\"\")"
   ]
  },
  {
   "source": [
    "## Satelite Table"
   ],
   "cell_type": "markdown",
   "metadata": {}
  },
  {
   "cell_type": "code",
   "execution_count": 39,
   "metadata": {},
   "outputs": [],
   "source": [
    "cursor.execute(\"\"\"CREATE TABLE VictimSafetyEquipment(id INTEGER AUTO_INCREMENT,\n",
    "\t\t\t\t   description CHAR(1) NOT NULL UNIQUE,\n",
    "                                   CHECK(description BETWEEN 'A' AND 'Z'),\n",
    "\t\t\t\t   PRIMARY KEY(id))\"\"\")"
   ]
  },
  {
   "cell_type": "code",
   "execution_count": 40,
   "metadata": {},
   "outputs": [],
   "source": [
    "cursor.execute(\"\"\"CREATE TABLE VictimDegreeOfInjury(id INTEGER AUTO_INCREMENT,\n",
    "\t\t\t\t   description VARCHAR(30) NOT NULL UNIQUE,\n",
    "\t\t\t\t   PRIMARY KEY(id))\"\"\")\n",
    "# one drity value: 7 -> NaN"
   ]
  },
  {
   "source": [
    "# Data import\n",
    "## Alterations to table definitions during data import\n",
    "\n",
    "Only use `SET FOREIGN_KEY_CHECKS` during definition of tables, *not in production*"
   ],
   "cell_type": "markdown",
   "metadata": {}
  },
  {
   "cell_type": "code",
   "execution_count": 205,
   "metadata": {},
   "outputs": [],
   "source": [
    "cursor.execute(\"SET FOREIGN_KEY_CHECKS = 0\")\n",
    "\n",
    "cursor.execute(\"ALTER TABLE CollisionSeverity MODIFY id INTEGER AUTO_INCREMENT\")\n",
    "cursor.execute(\"ALTER TABLE HitAndRun MODIFY id INTEGER AUTO_INCREMENT\")\n",
    "cursor.execute(\"ALTER TABLE Lighting MODIFY id INTEGER AUTO_INCREMENT\")\n",
    "cursor.execute(\"ALTER TABLE LocationType MODIFY id INTEGER AUTO_INCREMENT\")\n",
    "cursor.execute(\"ALTER TABLE PrimaryCollisionFactor MODIFY id INTEGER AUTO_INCREMENT\")\n",
    "cursor.execute(\"ALTER TABLE RoadCondition MODIFY id INTEGER AUTO_INCREMENT\")\n",
    "cursor.execute(\"ALTER TABLE RoadSurface MODIFY id INTEGER AUTO_INCREMENT\")\n",
    "cursor.execute(\"ALTER TABLE TypeOfCollision MODIFY id INTEGER AUTO_INCREMENT\")\n",
    "cursor.execute(\"ALTER TABLE Weather MODIFY id INTEGER AUTO_INCREMENT\")\n",
    "cursor.execute(\"ALTER TABLE PcfViolationCategory MODIFY id INTEGER AUTO_INCREMENT\")\n",
    "\n",
    "cursor.execute(\"SET FOREIGN_KEY_CHECKS = 1\")"
   ]
  },
  {
   "cell_type": "code",
   "execution_count": 63,
   "metadata": {},
   "outputs": [],
   "source": [
    "cursor.execute(\"SET FOREIGN_KEY_CHECKS = 0\")\n",
    "\n",
    "cursor.execute(\"ALTER TABLE CellphoneUse MODIFY id INTEGER AUTO_INCREMENT\")\n",
    "cursor.execute(\"ALTER TABLE FinancialResponsibility MODIFY id INTEGER AUTO_INCREMENT\")\n",
    "cursor.execute(\"ALTER TABLE MovementPrecedingCollision MODIFY id INTEGER AUTO_INCREMENT\")\n",
    "cursor.execute(\"ALTER TABLE OtherAssociatedFactors MODIFY id INTEGER AUTO_INCREMENT\")\n",
    "cursor.execute(\"ALTER TABLE PartyDrugPhysical MODIFY id INTEGER AUTO_INCREMENT\")\n",
    "cursor.execute(\"ALTER TABLE PartySafetyEquipement MODIFY id INTEGER AUTO_INCREMENT\")\n",
    "cursor.execute(\"ALTER TABLE PersonSex MODIFY id INTEGER AUTO_INCREMENT\")\n",
    "cursor.execute(\"ALTER TABLE PartySobriety MODIFY id INTEGER AUTO_INCREMENT\")\n",
    "cursor.execute(\"ALTER TABLE PartyType MODIFY id INTEGER AUTO_INCREMENT\")\n",
    "cursor.execute(\"ALTER TABLE StatewideVehiculeType MODIFY id INTEGER AUTO_INCREMENT\")\n",
    "cursor.execute(\"ALTER TABLE VehiculeMake MODIFY id INTEGER AUTO_INCREMENT\")\n",
    "\n",
    "cursor.execute(\"SET FOREIGN_KEY_CHECKS = 1\")"
   ]
  },
  {
   "cell_type": "code",
   "execution_count": 64,
   "metadata": {},
   "outputs": [],
   "source": [
    "cursor.execute(\"SET FOREIGN_KEY_CHECKS = 0\")\n",
    "\n",
    "cursor.execute(\"ALTER TABLE VictimSafetyEquipment MODIFY id INTEGER AUTO_INCREMENT\")\n",
    "cursor.execute(\"ALTER TABLE VictimDegreeOfInjury MODIFY id INTEGER AUTO_INCREMENT\")\n",
    "\n",
    "cursor.execute(\"SET FOREIGN_KEY_CHECKS = 1\")"
   ]
  },
  {
   "cell_type": "code",
   "execution_count": 238,
   "metadata": {},
   "outputs": [],
   "source": [
    "cursor.execute(\"SET FOREIGN_KEY_CHECKS = 0\")\n",
    "\n",
    "cursor.execute(\"ALTER TABLE Lighting MODIFY COLUMN description VARCHAR(39)\")\n",
    "\n",
    "cursor.execute(\"SET FOREIGN_KEY_CHECKS = 1\")"
   ]
  },
  {
   "cell_type": "code",
   "execution_count": 563,
   "metadata": {},
   "outputs": [],
   "source": [
    "cursor.execute(\"SET FOREIGN_KEY_CHECKS = 0\")\n",
    "\n",
    "cursor.execute(\"ALTER TABLE StatewideVehiculeType MODIFY COLUMN description VARCHAR(35)\")\n",
    "cursor.execute(\"ALTER TABLE VehiculeMake MODIFY COLUMN description VARCHAR(28)\")\n",
    "\n",
    "cursor.execute(\"SET FOREIGN_KEY_CHECKS = 1\")"
   ]
  },
  {
   "cell_type": "code",
   "execution_count": 493,
   "metadata": {},
   "outputs": [],
   "source": [
    "cursor.execute(\"ALTER TABLE FinancialResponsability RENAME FinancialResponsibility\")"
   ]
  },
  {
   "cell_type": "code",
   "execution_count": 501,
   "metadata": {},
   "outputs": [],
   "source": [
    "cursor.execute(\"ALTER TABLE Parties RENAME COLUMN finanicial_responsibility TO financial_responsibility\")"
   ]
  },
  {
   "cell_type": "code",
   "execution_count": 502,
   "metadata": {},
   "outputs": [
    {
     "output_type": "stream",
     "name": "stdout",
     "text": [
      "Parties\nCREATE TABLE `Parties` (\n  `id` int NOT NULL,\n  `case_id` decimal(19,0) NOT NULL,\n  `party_number` int NOT NULL,\n  `financial_responsibility` int DEFAULT NULL,\n  `party_age` int DEFAULT NULL,\n  `party_sex` int DEFAULT NULL,\n  `at_fault` bit(1) NOT NULL,\n  `cellphone_use` int DEFAULT NULL,\n  `hazardous_materials` char(1) DEFAULT NULL,\n  `movement_preceding_collision` int DEFAULT NULL,\n  `other_associate_factor_1` int DEFAULT NULL,\n  `other_associate_factor_2` int DEFAULT NULL,\n  `party_drug_physical` int DEFAULT NULL,\n  `party_safety_equipment_1` int DEFAULT NULL,\n  `party_safety_equipment_2` int DEFAULT NULL,\n  `party_sobriety` int DEFAULT NULL,\n  PRIMARY KEY (`id`),\n  KEY `finanicial_responsibility` (`financial_responsibility`),\n  KEY `party_sex` (`party_sex`),\n  KEY `cellphone_use` (`cellphone_use`),\n  KEY `movement_preceding_collision` (`movement_preceding_collision`),\n  KEY `other_associate_factor_1` (`other_associate_factor_1`),\n  KEY `other_associate_factor_2` (`other_associate_factor_2`),\n  KEY `party_drug_physical` (`party_drug_physical`),\n  KEY `party_safety_equipment_1` (`party_safety_equipment_1`),\n  KEY `party_safety_equipment_2` (`party_safety_equipment_2`),\n  KEY `party_sobriety` (`party_sobriety`),\n  KEY `case_id` (`case_id`),\n  CONSTRAINT `parties_ibfk_1` FOREIGN KEY (`financial_responsibility`) REFERENCES `FinancialResponsibility` (`id`),\n  CONSTRAINT `parties_ibfk_10` FOREIGN KEY (`party_sobriety`) REFERENCES `PartySobriety` (`id`),\n  CONSTRAINT `parties_ibfk_11` FOREIGN KEY (`case_id`) REFERENCES `Collisions` (`case_id`),\n  CONSTRAINT `parties_ibfk_2` FOREIGN KEY (`party_sex`) REFERENCES `PersonSex` (`id`),\n  CONSTRAINT `parties_ibfk_3` FOREIGN KEY (`cellphone_use`) REFERENCES `CellphoneUse` (`id`),\n  CONSTRAINT `parties_ibfk_4` FOREIGN KEY (`movement_preceding_collision`) REFERENCES `MovementPrecedingCollision` (`id`),\n  CONSTRAINT `parties_ibfk_5` FOREIGN KEY (`other_associate_factor_1`) REFERENCES `OtherAssociatedFactors` (`id`),\n  CONSTRAINT `parties_ibfk_6` FOREIGN KEY (`other_associate_factor_2`) REFERENCES `OtherAssociatedFactors` (`id`),\n  CONSTRAINT `parties_ibfk_7` FOREIGN KEY (`party_drug_physical`) REFERENCES `PartyDrugPhysical` (`id`),\n  CONSTRAINT `parties_ibfk_8` FOREIGN KEY (`party_safety_equipment_1`) REFERENCES `PartySafetyEquipement` (`id`),\n  CONSTRAINT `parties_ibfk_9` FOREIGN KEY (`party_safety_equipment_2`) REFERENCES `PartySafetyEquipement` (`id`)\n) ENGINE=InnoDB DEFAULT CHARSET=utf8mb4 COLLATE=utf8mb4_0900_ai_ci\n"
     ]
    }
   ],
   "source": [
    "cursor.execute(\"SHOW CREATE TABLE Parties\")\n",
    "res = cursor.fetchall()[0]\n",
    "for x in res:\n",
    "    print(x)"
   ]
  },
  {
   "source": [
    "## Code to dump each csv row into the MySQL db"
   ],
   "cell_type": "markdown",
   "metadata": {}
  },
  {
   "cell_type": "code",
   "execution_count": 42,
   "metadata": {},
   "outputs": [],
   "source": [
    "import pandas as pd"
   ]
  },
  {
   "source": [
    "### Collision"
   ],
   "cell_type": "markdown",
   "metadata": {}
  },
  {
   "cell_type": "code",
   "execution_count": 43,
   "metadata": {},
   "outputs": [],
   "source": [
    "dict_pcf_violation_category = {}\n",
    "\n",
    "dict_location_type = {}\n",
    "dict_lighting = {}\n",
    "dict_road_condition = {}\n",
    "dict_road_surface = {}\n",
    "dict_weather = {}\n",
    "\n",
    "dict_type_of_collision = {}\n",
    "dict_collision_severity = {}\n",
    "dict_hit_and_run = {}"
   ]
  },
  {
   "cell_type": "code",
   "execution_count": 44,
   "metadata": {},
   "outputs": [],
   "source": [
    "def dump_pcfs(row):\n",
    "    if(row.pcf_violation_category is None):\n",
    "        pcf_viol_categ_id = None\n",
    "    elif row.pcf_violation_category in dict_pcf_violation_category:\n",
    "        pcf_viol_categ_id = dict_pcf_violation_category[row.pcf_violation_category]\n",
    "    else:\n",
    "        cursor.execute(\"\"\"INSERT INTO PcfViolationCategory\n",
    "            (description)\n",
    "            VALUES (%s)\n",
    "            ON DUPLICATE KEY UPDATE id=id\"\"\", (row.pcf_violation_category,))\n",
    "        cnx.commit()\n",
    "\n",
    "        cursor.execute(\"SELECT id FROM PcfViolationCategory WHERE description=%s LIMIT 0, 1\", (row.pcf_violation_category,))\n",
    "        pcf_viol_categ_id = cursor.fetchone()[0]\n",
    "\n",
    "        dict_pcf_violation_category[row.pcf_violation_category] = pcf_viol_categ_id\n",
    "\n",
    "    cursor.execute(\"\"\"INSERT INTO Pcfs\n",
    "        VALUES (%s, %s, %s, %s)\n",
    "        ON DUPLICATE KEY UPDATE case_id=case_id\"\"\", (row.case_id, row.pcf_violation, pcf_viol_categ_id, row.pcf_violation_subsection))"
   ]
  },
  {
   "cell_type": "code",
   "execution_count": 45,
   "metadata": {},
   "outputs": [],
   "source": [
    "def dump_locations(row):\n",
    "    cursor.execute(\"\"\"INSERT INTO Locations\n",
    "        VALUES (%s, %s, %s)\n",
    "        ON DUPLICATE KEY UPDATE case_id=case_id\"\"\", (row.case_id, row.population, row.county_city_location))"
   ]
  },
  {
   "cell_type": "code",
   "execution_count": 46,
   "metadata": {},
   "outputs": [],
   "source": [
    "def dump_location_type(row):\n",
    "    if(row.location_type is None):\n",
    "        location_type_id = None\n",
    "    elif row.location_type in dict_location_type:\n",
    "        location_type_id = dict_location_type[row.location_type]\n",
    "    else:\n",
    "        cursor.execute(\"\"\"INSERT INTO LocationType\n",
    "            (description)\n",
    "            VALUES (%s)\n",
    "            ON DUPLICATE KEY UPDATE id=id\"\"\", (row.location_type,))\n",
    "        cnx.commit()\n",
    "        \n",
    "        cursor.execute(\"SELECT id FROM LocationType WHERE description=%s LIMIT 0, 1\", (row.location_type,))\n",
    "        location_type_id = cursor.fetchone()[0]\n",
    "\n",
    "        dict_location_type[row.location_type] = location_type_id\n",
    "\n",
    "    return location_type_id"
   ]
  },
  {
   "cell_type": "code",
   "execution_count": 47,
   "metadata": {},
   "outputs": [],
   "source": [
    "def dump_lighting(row):\n",
    "    if(row.lighting is None):\n",
    "        lighting_id = None\n",
    "    elif row.lighting in dict_lighting:\n",
    "        lighting_id = dict_lighting[row.lighting] \n",
    "    else:\n",
    "        cursor.execute(\"\"\"INSERT INTO Lighting\n",
    "            (description)\n",
    "            VALUES (%s)\n",
    "            ON DUPLICATE KEY UPDATE id=id\"\"\", (row.lighting,))\n",
    "        cnx.commit()\n",
    "        \n",
    "        cursor.execute(\"SELECT id FROM Lighting WHERE description=%s LIMIT 0, 1\", (row.lighting,))\n",
    "        lighting_id = cursor.fetchone()[0]\n",
    "\n",
    "        dict_lighting[row.lighting] = lighting_id\n",
    "\n",
    "    return lighting_id"
   ]
  },
  {
   "cell_type": "code",
   "execution_count": 48,
   "metadata": {},
   "outputs": [],
   "source": [
    "def dump_road_condition_1(row):\n",
    "    if(row.road_condition_1 is None):\n",
    "        road_cond1_id = None\n",
    "    elif row.road_condition_1 in dict_road_condition:\n",
    "        road_cond1_id = dict_road_condition[row.road_condition_1] \n",
    "    else:\n",
    "        cursor.execute(\"\"\"INSERT INTO RoadCondition\n",
    "            (description)\n",
    "            VALUES (%s)\n",
    "            ON DUPLICATE KEY UPDATE id=id\"\"\", (row.road_condition_1,))\n",
    "        cnx.commit()\n",
    "        \n",
    "        cursor.execute(\"SELECT id FROM RoadCondition WHERE description=%s LIMIT 0, 1\", (row.road_condition_1,))\n",
    "        road_cond1_id = cursor.fetchone()[0]\n",
    "\n",
    "        dict_road_condition[row.road_condition_1] = road_cond1_id\n",
    "\n",
    "    return road_cond1_id"
   ]
  },
  {
   "cell_type": "code",
   "execution_count": 49,
   "metadata": {},
   "outputs": [],
   "source": [
    "def dump_road_condition_2(row):\n",
    "    if(row.road_condition_2 is None):\n",
    "        road_cond2_id = None\n",
    "    elif row.road_condition_2 in dict_road_condition:\n",
    "        road_cond2_id = dict_road_condition[row.road_condition_2] \n",
    "    else:\n",
    "        cursor.execute(\"\"\"INSERT INTO RoadCondition\n",
    "            (description)\n",
    "            VALUES (%s)\n",
    "            ON DUPLICATE KEY UPDATE id=id\"\"\", (row.road_condition_2,))\n",
    "        cnx.commit()\n",
    "        \n",
    "        cursor.execute(\"SELECT id FROM RoadCondition WHERE description=%s LIMIT 0, 1\", (row.road_condition_2,))\n",
    "        road_cond2_id = cursor.fetchone()[0]\n",
    "\n",
    "        dict_road_condition[row.road_condition_2] = road_cond2_id\n",
    "    \n",
    "    return road_cond2_id"
   ]
  },
  {
   "cell_type": "code",
   "execution_count": 50,
   "metadata": {},
   "outputs": [],
   "source": [
    "def dump_road_surface(row):\n",
    "    if(row.road_surface is None):\n",
    "        road_surface_id = None\n",
    "    elif row.road_surface in dict_road_surface:\n",
    "        road_surface_id = dict_road_surface[row.road_surface] \n",
    "    else:\n",
    "        cursor.execute(\"\"\"INSERT INTO RoadSurface\n",
    "            (description)\n",
    "            VALUES (%s)\n",
    "            ON DUPLICATE KEY UPDATE id=id\"\"\", (row.road_surface,))\n",
    "        cnx.commit()\n",
    "        \n",
    "        cursor.execute(\"SELECT id FROM RoadSurface WHERE description=%s LIMIT 0, 1\", (row.road_surface,))\n",
    "        road_surface_id = cursor.fetchone()[0]\n",
    "\n",
    "        dict_road_surface[row.road_surface] = road_surface_id\n",
    "\n",
    "    return road_surface_id"
   ]
  },
  {
   "cell_type": "code",
   "execution_count": 51,
   "metadata": {},
   "outputs": [],
   "source": [
    "def dump_weather_1(row):\n",
    "    if(row.weather_1 is None):\n",
    "        weather1_id = None\n",
    "    elif row.weather_1 in dict_weather:\n",
    "        weather1_id = dict_weather[row.weather_1] \n",
    "    else:\n",
    "        cursor.execute(\"\"\"INSERT INTO Weather\n",
    "            (description)\n",
    "            VALUES (%s)\n",
    "            ON DUPLICATE KEY UPDATE id=id\"\"\", (row.weather_1,))\n",
    "        cnx.commit()\n",
    "        \n",
    "        cursor.execute(\"SELECT id FROM Weather WHERE description=%s LIMIT 0, 1\", (row.weather_1,))\n",
    "        weather1_id = cursor.fetchone()[0]\n",
    "\n",
    "        dict_weather[row.weather_1] = weather1_id\n",
    "    \n",
    "    return weather1_id"
   ]
  },
  {
   "cell_type": "code",
   "execution_count": 52,
   "metadata": {},
   "outputs": [],
   "source": [
    "def dump_weather_2(row):\n",
    "    if(row.weather_2 is None):\n",
    "        weather2_id = None\n",
    "    elif row.weather_2 in dict_weather:\n",
    "        weather2_id = dict_weather[row.weather_2] \n",
    "    else:\n",
    "        cursor.execute(\"\"\"INSERT INTO Weather\n",
    "            (description)\n",
    "            VALUES (%s)\n",
    "            ON DUPLICATE KEY UPDATE id=id\"\"\", (row.weather_2,))\n",
    "        cnx.commit()\n",
    "        \n",
    "        cursor.execute(\"SELECT id FROM Weather WHERE description=%s LIMIT 0, 1\", (row.weather_2,))\n",
    "        weather2_id = cursor.fetchone()[0]\n",
    "\n",
    "        dict_weather[row.weather_2] = weather2_id\n",
    "    \n",
    "    return weather2_id"
   ]
  },
  {
   "cell_type": "code",
   "execution_count": 53,
   "metadata": {},
   "outputs": [],
   "source": [
    "def dump_factors(row):\n",
    "    location_type_id = dump_location_type(row)\n",
    "    lighting_id = dump_lighting(row)\n",
    "    road_cond1_id = dump_road_condition_1(row)\n",
    "    road_cond2_id = dump_road_condition_2(row)\n",
    "    road_surface_id = dump_road_surface(row)\n",
    "    weather1_id = dump_weather_1(row)\n",
    "    weather2_id = dump_weather_2(row)\n",
    "\n",
    "    cursor.execute(\"\"\"INSERT INTO Factors\n",
    "        VALUES (%s, %s, %s, %s, %s, %s, %s, %s)\n",
    "        ON DUPLICATE KEY UPDATE case_id=case_id\"\"\",(row.case_id, location_type_id, lighting_id, road_cond1_id, road_cond2_id, road_surface_id, weather1_id, weather2_id))"
   ]
  },
  {
   "cell_type": "code",
   "execution_count": 54,
   "metadata": {},
   "outputs": [],
   "source": [
    "def dump_cases(row):\n",
    "    cursor.execute(\"\"\"INSERT INTO Cases\n",
    "        VALUES (%s, %s, %s, %s)\n",
    "        ON DUPLICATE KEY UPDATE case_id=case_id\"\"\",(row.case_id, row.process_date, row.officer_id, row.jurisdiction))"
   ]
  },
  {
   "cell_type": "code",
   "execution_count": 55,
   "metadata": {},
   "outputs": [],
   "source": [
    "def dump_type_of_collision(row):\n",
    "    if(row.type_of_collision is None):\n",
    "        col_type_id = None\n",
    "    elif row.type_of_collision in dict_type_of_collision:\n",
    "        col_type_id = dict_type_of_collision[row.type_of_collision] \n",
    "    else:\n",
    "        cursor.execute(\"\"\"INSERT INTO TypeOfCollision \n",
    "            (description)\n",
    "            VALUES (%s)\n",
    "            ON DUPLICATE KEY UPDATE id=id\"\"\", (row.type_of_collision,))\n",
    "        cnx.commit()\n",
    "        cursor.execute(\"SELECT id FROM TypeOfCollision WHERE description=%s LIMIT 0, 1\", (row.type_of_collision,))\n",
    "        col_type_id = cursor.fetchone()[0]\n",
    "\n",
    "        dict_type_of_collision[row.type_of_collision] = col_type_id\n",
    "\n",
    "    return col_type_id"
   ]
  },
  {
   "cell_type": "code",
   "execution_count": 56,
   "metadata": {},
   "outputs": [],
   "source": [
    "def dump_collision_severity(row):\n",
    "    if row.collision_severity in dict_collision_severity:\n",
    "        col_severity_id = dict_collision_severity[row.collision_severity] \n",
    "    else:\n",
    "        cursor.execute(\"\"\"INSERT INTO CollisionSeverity\n",
    "            (description)\n",
    "            VALUES (%s)\n",
    "            ON DUPLICATE KEY UPDATE id=id\"\"\", (row.collision_severity,))\n",
    "        cnx.commit()\n",
    "        cursor.execute(\"SELECT id FROM CollisionSeverity WHERE description=%s LIMIT 0, 1\", (row.collision_severity,))\n",
    "        col_severity_id = cursor.fetchone()[0]\n",
    "\n",
    "        dict_collision_severity[row.collision_severity] = col_severity_id\n",
    "\n",
    "    return col_severity_id"
   ]
  },
  {
   "cell_type": "code",
   "execution_count": 57,
   "metadata": {},
   "outputs": [],
   "source": [
    "def dump_hit_and_run(row):\n",
    "    if row.hit_and_run in dict_hit_and_run:\n",
    "        hit_n_run_id = dict_hit_and_run[row.hit_and_run] \n",
    "    else:\n",
    "        cursor.execute(\"\"\"INSERT INTO HitAndRun\n",
    "            (description)\n",
    "            VALUES (%s)\n",
    "            ON DUPLICATE KEY UPDATE id=id\"\"\", (row.hit_and_run,))\n",
    "        cnx.commit()\n",
    "        cursor.execute(\"SELECT id FROM HitAndRun WHERE description=%s LIMIT 0, 1\", (row.hit_and_run,))\n",
    "        hit_n_run_id = cursor.fetchone()[0]\n",
    "\n",
    "        dict_hit_and_run[row.hit_and_run] = hit_n_run_id\n",
    "\n",
    "    return hit_n_run_id"
   ]
  },
  {
   "cell_type": "code",
   "execution_count": 58,
   "metadata": {},
   "outputs": [],
   "source": [
    "def dump_collision_row(row):\n",
    "    col_type_id = dump_type_of_collision(row)\n",
    "    col_severity_id = dump_collision_severity(row)\n",
    "    hit_n_run_id = dump_hit_and_run(row)\n",
    "\n",
    "    cursor.execute(\"\"\"INSERT INTO Collisions\n",
    "        VALUES (%s, %s, %s, %s, %s, %s, %s)\n",
    "        ON DUPLICATE KEY UPDATE case_id=case_id\"\"\", (row.case_id, row.collision_date, row.collision_time, col_type_id, col_severity_id, hit_n_run_id, row.tow_away))\n",
    "    cnx.commit()\n",
    "\n",
    "    dump_pcfs(row)\n",
    "    dump_locations(row)\n",
    "    dump_factors(row)\n",
    "    dump_cases(row)"
   ]
  },
  {
   "cell_type": "code",
   "execution_count": 59,
   "metadata": {},
   "outputs": [],
   "source": [
    "case_id_set = set()"
   ]
  },
  {
   "cell_type": "code",
   "execution_count": 60,
   "metadata": {},
   "outputs": [],
   "source": [
    "def import_collisions(df):\n",
    "    for idx, row in enumerate(df.itertuples(index=True, name=\"Pandas\")):\n",
    "        if(idx % 100000 == 0):\n",
    "            print(f\"row number {idx}\")\n",
    "        case_id_set.add(row.case_id)\n",
    "        dump_collision_row(row)"
   ]
  },
  {
   "cell_type": "code",
   "execution_count": 62,
   "metadata": {},
   "outputs": [
    {
     "output_type": "stream",
     "name": "stderr",
     "text": [
      "/Users/xavier/miniconda3/lib/python3.7/site-packages/IPython/core/interactiveshell.py:3058: DtypeWarning: Columns (9) have mixed types.Specify dtype option on import or set low_memory=False.\n  interactivity=interactivity, compiler=compiler, result=result)\n"
     ]
    }
   ],
   "source": [
    "collisions = pd.read_csv('../collisions2018.csv', dtype={'case_id': str})"
   ]
  },
  {
   "cell_type": "code",
   "execution_count": 63,
   "metadata": {},
   "outputs": [],
   "source": [
    "collisions = collisions.astype(object).where(pd.notnull(collisions),None)"
   ]
  },
  {
   "cell_type": "code",
   "execution_count": 64,
   "metadata": {},
   "outputs": [
    {
     "output_type": "stream",
     "name": "stdout",
     "text": [
      "row number 0\n",
      "row number 100000\n",
      "row number 200000\n",
      "row number 300000\n",
      "row number 400000\n",
      "row number 500000\n",
      "row number 600000\n",
      "row number 700000\n",
      "row number 800000\n",
      "row number 900000\n",
      "row number 1000000\n",
      "row number 1100000\n",
      "row number 1200000\n",
      "row number 1300000\n",
      "row number 1400000\n",
      "row number 1500000\n",
      "row number 1600000\n",
      "row number 1700000\n",
      "row number 1800000\n",
      "row number 1900000\n",
      "row number 2000000\n",
      "row number 2100000\n",
      "row number 2200000\n",
      "row number 2300000\n",
      "row number 2400000\n",
      "row number 2500000\n",
      "row number 2600000\n",
      "row number 2700000\n",
      "row number 2800000\n",
      "row number 2900000\n",
      "row number 3000000\n",
      "row number 3100000\n",
      "row number 3200000\n",
      "row number 3300000\n",
      "row number 3400000\n",
      "row number 3500000\n",
      "row number 3600000\n"
     ]
    }
   ],
   "source": [
    "import_collisions(collisions)"
   ]
  },
  {
   "cell_type": "code",
   "execution_count": 188,
   "metadata": {},
   "outputs": [
    {
     "output_type": "stream",
     "name": "stdout",
     "text": [
      "(4, 'event_scheduler', 'localhost', None, 'Daemon', 194392, 'Waiting on empty queue', None)\n(9, 'root', 'localhost', None, 'Sleep', 23, '', None)\n(10, 'root', '127.0.0.1:46402', None, 'Sleep', 12, '', None)\n(24701, 'root', '127.0.0.1:32920', None, 'Sleep', 1, '', None)\n(24751, 'root', '185.25.195.61:59564', 'data', 'Sleep', 289, '', None)\n(24759, 'root', '127.0.0.1:33090', None, 'Sleep', 12, '', None)\n(24774, 'root', '185.25.195.61:59661', 'data', 'Query', 0, 'starting', 'SHOW PROCESSLIST')\n(24789, 'root', '127.0.0.1:33176', None, 'Sleep', 12, '', None)\n"
     ]
    }
   ],
   "source": [
    "cursor.execute(\"SHOW PROCESSLIST\")\n",
    "res = cursor.fetchall()\n",
    "for x in res:\n",
    "    print(x)"
   ]
  },
  {
   "source": [
    "## Parties"
   ],
   "cell_type": "markdown",
   "metadata": {}
  },
  {
   "cell_type": "code",
   "execution_count": 65,
   "metadata": {},
   "outputs": [],
   "source": [
    "dicts = {}"
   ]
  },
  {
   "cell_type": "code",
   "execution_count": 66,
   "metadata": {},
   "outputs": [],
   "source": [
    "def dump_sattelite(row, table_name, col_name, can_null=True, val_mapping={}):\n",
    "    if col_name not in dicts:\n",
    "        dicts[col_name] = {}\n",
    "\n",
    "    if f\"{row[col_name]}\" in val_mapping:\n",
    "        col_value = val_mapping[f\"{row[col_name]}\"]\n",
    "    else:\n",
    "        col_value = row[col_name]  \n",
    "\n",
    "    if can_null and col_value is None:\n",
    "        ret_id = None\n",
    "    elif col_value in dicts[col_name]:\n",
    "        ret_id = dicts[col_name][col_value] \n",
    "    else:\n",
    "        cursor.execute(f\"\"\"INSERT INTO {table_name}\n",
    "            (description)\n",
    "            VALUES (%s)\n",
    "            ON DUPLICATE KEY UPDATE id=id\"\"\", (col_value,))\n",
    "        cnx.commit()\n",
    "        cursor.execute(f\"SELECT id FROM {table_name} WHERE description=%s LIMIT 0, 1\", (col_value,))\n",
    "        ret_id = cursor.fetchone()[0]\n",
    "\n",
    "        dicts[col_name][col_value] = ret_id\n",
    "\n",
    "    return ret_id"
   ]
  },
  {
   "cell_type": "code",
   "execution_count": 67,
   "metadata": {},
   "outputs": [],
   "source": [
    "def dump_vehicles(row):\n",
    "    statewide_vehicle_type_id = dump_sattelite(row, \"StatewideVehiculeType\", \"statewide_vehicle_type\")\n",
    "    vehicle_make_id = dump_sattelite(row, \"VehiculeMake\", \"vehicle_make\")\n",
    "\n",
    "    if row[\"school_bus_related\"] is None:\n",
    "        school_bus_related = None\n",
    "    else: \n",
    "        school_bus_related = True\n",
    "\n",
    "    cursor.execute(\"\"\"INSERT INTO Vehicles\n",
    "        VALUES (%s, %s, %s, %s, %s)\n",
    "        ON DUPLICATE KEY UPDATE party_id=party_id\"\"\", (row[\"id\"], school_bus_related, statewide_vehicle_type_id, vehicle_make_id, row[\"vehicle_year\"]))"
   ]
  },
  {
   "cell_type": "code",
   "execution_count": 68,
   "metadata": {},
   "outputs": [],
   "source": [
    "def dump_party_row(row):\n",
    "    financial_resp_id = dump_sattelite(row, \"FinancialResponsibility\", \"financial_responsibility\")\n",
    "    sex_id = dump_sattelite(row, \"PersonSex\", \"party_sex\")\n",
    "    cellphone_use_id = dump_sattelite(row, \"CellphoneUse\", \"cellphone_use\", val_mapping={\"1\": \"B\", \"2\": \"C\", \"3\": \"D\"})\n",
    "    movmt_preceding_col_id = dump_sattelite(row, \"MovementPrecedingCollision\", \"movement_preceding_collision\")\n",
    "    other_assoc_fac_1_id = dump_sattelite(row, \"OtherAssociatedFactors\", \"other_associate_factor_1\")\n",
    "    other_assoc_fac_2_id = dump_sattelite(row, \"OtherAssociatedFactors\", \"other_associate_factor_2\")\n",
    "    party_drug_phys_id = dump_sattelite(row, \"PartyDrugPhysical\", \"party_drug_physical\", val_mapping={\"G\": None})\n",
    "    party_safety_equip_1_id = dump_sattelite(row, \"PartySafetyEquipement\", \"party_safety_equipment_1\")\n",
    "    party_safety_equip_2_id = dump_sattelite(row, \"PartySafetyEquipement\", \"party_safety_equipment_2\")\n",
    "    party_sobriety_id = dump_sattelite(row, \"PartySobriety\", \"party_sobriety\")\n",
    "\n",
    "    cursor.execute(\"\"\"INSERT INTO Parties\n",
    "        VALUES (%s, %s, %s, %s, %s, %s, %s, %s, %s, %s, %s, %s, %s, %s, %s, %s)\n",
    "        ON DUPLICATE KEY UPDATE case_id=case_id\"\"\", (row[\"id\"], row[\"case_id\"], row[\"party_number\"], financial_resp_id, row[\"party_age\"], sex_id, row[\"at_fault\"], cellphone_use_id, row[\"hazardous_materials\"], movmt_preceding_col_id, other_assoc_fac_1_id, other_assoc_fac_2_id, party_drug_phys_id, party_safety_equip_1_id, party_safety_equip_2_id, party_sobriety_id))\n",
    "\n",
    "    dump_vehicles(row)"
   ]
  },
  {
   "cell_type": "code",
   "execution_count": 69,
   "metadata": {},
   "outputs": [],
   "source": [
    "def import_parties(df):\n",
    "    for idx, (k, row) in enumerate(df.iterrows()):\n",
    "        if(idx % 100000 == 0):\n",
    "            print(f\"row number {idx}\")\n",
    "        if(row.case_id not in case_id_set):\n",
    "            print(f'the party with id {row.id} has an erroneous case_id')\n",
    "        else:\n",
    "            dump_party_row(row)"
   ]
  },
  {
   "cell_type": "code",
   "execution_count": 70,
   "metadata": {},
   "outputs": [
    {
     "output_type": "stream",
     "name": "stderr",
     "text": [
      "/Users/xavier/miniconda3/lib/python3.7/site-packages/IPython/core/interactiveshell.py:3058: DtypeWarning: Columns (4,13,17) have mixed types.Specify dtype option on import or set low_memory=False.\n  interactivity=interactivity, compiler=compiler, result=result)\n"
     ]
    }
   ],
   "source": [
    "parties = pd.read_csv('../parties2018.csv', dtype={'case_id': str})"
   ]
  },
  {
   "cell_type": "code",
   "execution_count": 71,
   "metadata": {},
   "outputs": [],
   "source": [
    "parties = parties.astype(object).where(pd.notnull(parties),None)"
   ]
  },
  {
   "cell_type": "code",
   "execution_count": 72,
   "metadata": {},
   "outputs": [
    {
     "output_type": "stream",
     "name": "stdout",
     "text": [
      "row number 0\n",
      "row number 100000\n",
      "row number 200000\n",
      "row number 300000\n",
      "row number 400000\n",
      "row number 500000\n",
      "row number 600000\n",
      "row number 700000\n",
      "row number 800000\n",
      "row number 900000\n",
      "row number 1000000\n",
      "row number 1100000\n",
      "row number 1200000\n",
      "row number 1300000\n",
      "row number 1400000\n",
      "row number 1500000\n",
      "row number 1600000\n",
      "row number 1700000\n",
      "row number 1800000\n",
      "row number 1900000\n",
      "row number 2000000\n",
      "row number 2100000\n",
      "row number 2200000\n",
      "row number 2300000\n",
      "row number 2400000\n",
      "row number 2500000\n",
      "row number 2600000\n",
      "row number 2700000\n",
      "row number 2800000\n",
      "row number 2900000\n",
      "row number 3000000\n",
      "row number 3100000\n",
      "row number 3200000\n",
      "row number 3300000\n",
      "row number 3400000\n",
      "row number 3500000\n",
      "row number 3600000\n",
      "row number 3700000\n",
      "row number 3800000\n",
      "row number 3900000\n",
      "row number 4000000\n",
      "row number 4100000\n",
      "row number 4200000\n",
      "row number 4300000\n",
      "row number 4400000\n",
      "row number 4500000\n",
      "row number 4600000\n",
      "row number 4700000\n",
      "row number 4800000\n",
      "row number 4900000\n",
      "row number 5000000\n",
      "row number 5100000\n",
      "row number 5200000\n",
      "row number 5300000\n",
      "row number 5400000\n",
      "row number 5500000\n",
      "row number 5600000\n",
      "row number 5700000\n",
      "row number 5800000\n",
      "row number 5900000\n",
      "row number 6000000\n",
      "row number 6100000\n",
      "row number 6200000\n",
      "row number 6300000\n",
      "row number 6400000\n",
      "row number 6500000\n",
      "row number 6600000\n",
      "row number 6700000\n",
      "row number 6800000\n",
      "row number 6900000\n",
      "row number 7000000\n",
      "row number 7100000\n",
      "row number 7200000\n"
     ]
    }
   ],
   "source": [
    "import_parties(parties)"
   ]
  },
  {
   "source": [
    "## Victims"
   ],
   "cell_type": "markdown",
   "metadata": {}
  },
  {
   "cell_type": "code",
   "execution_count": 73,
   "metadata": {},
   "outputs": [],
   "source": [
    "def dump_victim_row(row):\n",
    "    victim_sex_id = dump_sattelite(row, \"PersonSex\", \"victim_sex\")\n",
    "    victim_safety_equip_1_id = dump_sattelite(row, \"VictimSafetyEquipment\", \"victim_safety_equipment_1\")\n",
    "    victim_safety_equip_2_id = dump_sattelite(row, \"VictimSafetyEquipment\", \"victim_safety_equipment_2\")\n",
    "    victim_deg_injury_id = dump_sattelite(row, \"VictimDegreeOfInjury\", \"victim_degree_of_injury\", val_mapping={\"7\": None})\n",
    "\n",
    "    cursor.execute(\"\"\"INSERT INTO Victims\n",
    "        VALUES (%s, %s, %s, %s, %s, %s, %s, %s, %s, %s, %s)\n",
    "        ON DUPLICATE KEY UPDATE case_id=case_id\"\"\", (row[\"id\"], row[\"case_id\"], row[\"party_number\"], row[\"victim_age\"], victim_sex_id, victim_deg_injury_id, row[\"victim_ejected\"], row[\"victim_role\"], victim_safety_equip_1_id, victim_safety_equip_2_id, row[\"victim_seating_position\"]))"
   ]
  },
  {
   "cell_type": "code",
   "execution_count": 74,
   "metadata": {},
   "outputs": [],
   "source": [
    "def import_victims(df):\n",
    "    for idx, (k, row) in enumerate(df.iterrows()):\n",
    "        if(idx % 10000 == 0):\n",
    "            print(f\"row number {idx}\")\n",
    "        if(row.case_id not in case_id_set):\n",
    "            print(f'the party with id {row.id} has an erroneous case_id')\n",
    "        dump_victim_row(row)"
   ]
  },
  {
   "source": [
    "victims = pd.read_csv('../victims2018.csv', dtype={'case_id': str})"
   ],
   "cell_type": "code",
   "metadata": {},
   "execution_count": 75,
   "outputs": [
    {
     "output_type": "stream",
     "name": "stderr",
     "text": [
      "/Users/xavier/miniconda3/lib/python3.7/site-packages/IPython/core/interactiveshell.py:3058: DtypeWarning: Columns (8) have mixed types.Specify dtype option on import or set low_memory=False.\n  interactivity=interactivity, compiler=compiler, result=result)\n"
     ]
    }
   ]
  },
  {
   "cell_type": "code",
   "execution_count": 76,
   "metadata": {},
   "outputs": [],
   "source": [
    "victims = victims.astype(object).where(pd.notnull(victims),None)"
   ]
  },
  {
   "cell_type": "code",
   "execution_count": 77,
   "metadata": {},
   "outputs": [
    {
     "output_type": "stream",
     "name": "stdout",
     "text": [
      "row number 0\n",
      "row number 10000\n",
      "row number 20000\n",
      "row number 30000\n",
      "row number 40000\n",
      "row number 50000\n",
      "row number 60000\n",
      "row number 70000\n",
      "row number 80000\n",
      "row number 90000\n",
      "row number 100000\n",
      "row number 110000\n",
      "row number 120000\n",
      "row number 130000\n",
      "row number 140000\n",
      "row number 150000\n",
      "row number 160000\n",
      "row number 170000\n",
      "row number 180000\n",
      "row number 190000\n",
      "row number 200000\n",
      "row number 210000\n",
      "row number 220000\n",
      "row number 230000\n",
      "row number 240000\n",
      "row number 250000\n",
      "row number 260000\n",
      "row number 270000\n",
      "row number 280000\n",
      "row number 290000\n",
      "row number 300000\n",
      "row number 310000\n",
      "row number 320000\n",
      "row number 330000\n",
      "row number 340000\n",
      "row number 350000\n",
      "row number 360000\n",
      "row number 370000\n",
      "row number 380000\n",
      "row number 390000\n",
      "row number 400000\n",
      "row number 410000\n",
      "row number 420000\n",
      "row number 430000\n",
      "row number 440000\n",
      "row number 450000\n",
      "row number 460000\n",
      "row number 470000\n",
      "row number 480000\n",
      "row number 490000\n",
      "row number 500000\n",
      "row number 510000\n",
      "row number 520000\n",
      "row number 530000\n",
      "row number 540000\n",
      "row number 550000\n",
      "row number 560000\n",
      "row number 570000\n",
      "row number 580000\n",
      "row number 590000\n",
      "row number 600000\n",
      "row number 610000\n",
      "row number 620000\n",
      "row number 630000\n",
      "row number 640000\n",
      "row number 650000\n",
      "row number 660000\n",
      "row number 670000\n",
      "row number 680000\n",
      "row number 690000\n",
      "row number 700000\n",
      "row number 710000\n",
      "row number 720000\n",
      "row number 730000\n",
      "row number 740000\n",
      "row number 750000\n",
      "row number 760000\n",
      "row number 770000\n",
      "row number 780000\n",
      "row number 790000\n",
      "row number 800000\n",
      "row number 810000\n",
      "row number 820000\n",
      "row number 830000\n",
      "row number 840000\n",
      "row number 850000\n",
      "row number 860000\n",
      "row number 870000\n",
      "row number 880000\n",
      "row number 890000\n",
      "row number 900000\n",
      "row number 910000\n",
      "row number 920000\n",
      "row number 930000\n",
      "row number 940000\n",
      "row number 950000\n",
      "row number 960000\n",
      "row number 970000\n",
      "row number 980000\n",
      "row number 990000\n",
      "row number 1000000\n",
      "row number 1010000\n",
      "row number 1020000\n",
      "row number 1030000\n",
      "row number 1040000\n",
      "row number 1050000\n",
      "row number 1060000\n",
      "row number 1070000\n",
      "row number 1080000\n",
      "row number 1090000\n",
      "row number 1100000\n",
      "row number 1110000\n",
      "row number 1120000\n",
      "row number 1130000\n",
      "row number 1140000\n",
      "row number 1150000\n",
      "row number 1160000\n",
      "row number 1170000\n",
      "row number 1180000\n",
      "row number 1190000\n",
      "row number 1200000\n",
      "row number 1210000\n",
      "row number 1220000\n",
      "row number 1230000\n",
      "row number 1240000\n",
      "row number 1250000\n",
      "row number 1260000\n",
      "row number 1270000\n",
      "row number 1280000\n",
      "row number 1290000\n",
      "row number 1300000\n",
      "row number 1310000\n",
      "row number 1320000\n",
      "row number 1330000\n",
      "row number 1340000\n",
      "row number 1350000\n",
      "row number 1360000\n",
      "row number 1370000\n",
      "row number 1380000\n",
      "row number 1390000\n",
      "row number 1400000\n",
      "row number 1410000\n",
      "row number 1420000\n",
      "row number 1430000\n",
      "row number 1440000\n",
      "row number 1450000\n",
      "row number 1460000\n",
      "row number 1470000\n",
      "row number 1480000\n",
      "row number 1490000\n",
      "row number 1500000\n",
      "row number 1510000\n",
      "row number 1520000\n",
      "row number 1530000\n",
      "row number 1540000\n",
      "row number 1550000\n",
      "row number 1560000\n",
      "row number 1570000\n",
      "row number 1580000\n",
      "row number 1590000\n",
      "row number 1600000\n",
      "row number 1610000\n",
      "row number 1620000\n",
      "row number 1630000\n",
      "row number 1640000\n",
      "row number 1650000\n",
      "row number 1660000\n",
      "row number 1670000\n",
      "row number 1680000\n",
      "row number 1690000\n",
      "row number 1700000\n",
      "row number 1710000\n",
      "row number 1720000\n",
      "row number 1730000\n",
      "row number 1740000\n",
      "row number 1750000\n",
      "row number 1760000\n",
      "row number 1770000\n",
      "row number 1780000\n",
      "row number 1790000\n",
      "row number 1800000\n",
      "row number 1810000\n",
      "row number 1820000\n",
      "row number 1830000\n",
      "row number 1840000\n",
      "row number 1850000\n",
      "row number 1860000\n",
      "row number 1870000\n",
      "row number 1880000\n",
      "row number 1890000\n",
      "row number 1900000\n",
      "row number 1910000\n",
      "row number 1920000\n",
      "row number 1930000\n",
      "row number 1940000\n",
      "row number 1950000\n",
      "row number 1960000\n",
      "row number 1970000\n",
      "row number 1980000\n",
      "row number 1990000\n",
      "row number 2000000\n",
      "row number 2010000\n",
      "row number 2020000\n",
      "row number 2030000\n",
      "row number 2040000\n",
      "row number 2050000\n",
      "row number 2060000\n",
      "row number 2070000\n",
      "row number 2080000\n",
      "row number 2090000\n",
      "row number 2100000\n",
      "row number 2110000\n",
      "row number 2120000\n",
      "row number 2130000\n",
      "row number 2140000\n",
      "row number 2150000\n",
      "row number 2160000\n",
      "row number 2170000\n",
      "row number 2180000\n",
      "row number 2190000\n",
      "row number 2200000\n",
      "row number 2210000\n",
      "row number 2220000\n",
      "row number 2230000\n",
      "row number 2240000\n",
      "row number 2250000\n",
      "row number 2260000\n",
      "row number 2270000\n",
      "row number 2280000\n",
      "row number 2290000\n",
      "row number 2300000\n",
      "row number 2310000\n",
      "row number 2320000\n",
      "row number 2330000\n",
      "row number 2340000\n",
      "row number 2350000\n",
      "row number 2360000\n",
      "row number 2370000\n",
      "row number 2380000\n",
      "row number 2390000\n",
      "row number 2400000\n",
      "row number 2410000\n",
      "row number 2420000\n",
      "row number 2430000\n",
      "row number 2440000\n",
      "row number 2450000\n",
      "row number 2460000\n",
      "row number 2470000\n",
      "row number 2480000\n",
      "row number 2490000\n",
      "row number 2500000\n",
      "row number 2510000\n",
      "row number 2520000\n",
      "row number 2530000\n",
      "row number 2540000\n",
      "row number 2550000\n",
      "row number 2560000\n",
      "row number 2570000\n",
      "row number 2580000\n",
      "row number 2590000\n",
      "row number 2600000\n",
      "row number 2610000\n",
      "row number 2620000\n",
      "row number 2630000\n",
      "row number 2640000\n",
      "row number 2650000\n",
      "row number 2660000\n",
      "row number 2670000\n",
      "row number 2680000\n",
      "row number 2690000\n",
      "row number 2700000\n",
      "row number 2710000\n",
      "row number 2720000\n",
      "row number 2730000\n",
      "row number 2740000\n",
      "row number 2750000\n",
      "row number 2760000\n",
      "row number 2770000\n",
      "row number 2780000\n",
      "row number 2790000\n",
      "row number 2800000\n",
      "row number 2810000\n",
      "row number 2820000\n",
      "row number 2830000\n",
      "row number 2840000\n",
      "row number 2850000\n",
      "row number 2860000\n",
      "row number 2870000\n",
      "row number 2880000\n",
      "row number 2890000\n",
      "row number 2900000\n",
      "row number 2910000\n",
      "row number 2920000\n",
      "row number 2930000\n",
      "row number 2940000\n",
      "row number 2950000\n",
      "row number 2960000\n",
      "row number 2970000\n",
      "row number 2980000\n",
      "row number 2990000\n",
      "row number 3000000\n",
      "row number 3010000\n",
      "row number 3020000\n",
      "row number 3030000\n",
      "row number 3040000\n",
      "row number 3050000\n",
      "row number 3060000\n",
      "row number 3070000\n",
      "row number 3080000\n",
      "row number 3090000\n",
      "row number 3100000\n",
      "row number 3110000\n",
      "row number 3120000\n",
      "row number 3130000\n",
      "row number 3140000\n",
      "row number 3150000\n",
      "row number 3160000\n",
      "row number 3170000\n",
      "row number 3180000\n",
      "row number 3190000\n",
      "row number 3200000\n",
      "row number 3210000\n",
      "row number 3220000\n",
      "row number 3230000\n",
      "row number 3240000\n",
      "row number 3250000\n",
      "row number 3260000\n",
      "row number 3270000\n",
      "row number 3280000\n",
      "row number 3290000\n",
      "row number 3300000\n",
      "row number 3310000\n",
      "row number 3320000\n",
      "row number 3330000\n",
      "row number 3340000\n",
      "row number 3350000\n",
      "row number 3360000\n",
      "row number 3370000\n",
      "row number 3380000\n",
      "row number 3390000\n",
      "row number 3400000\n",
      "row number 3410000\n",
      "row number 3420000\n",
      "row number 3430000\n",
      "row number 3440000\n",
      "row number 3450000\n",
      "row number 3460000\n",
      "row number 3470000\n",
      "row number 3480000\n",
      "row number 3490000\n",
      "row number 3500000\n",
      "row number 3510000\n",
      "row number 3520000\n",
      "row number 3530000\n",
      "row number 3540000\n",
      "row number 3550000\n",
      "row number 3560000\n",
      "row number 3570000\n",
      "row number 3580000\n",
      "row number 3590000\n",
      "row number 3600000\n",
      "row number 3610000\n",
      "row number 3620000\n",
      "row number 3630000\n",
      "row number 3640000\n",
      "row number 3650000\n",
      "row number 3660000\n",
      "row number 3670000\n",
      "row number 3680000\n",
      "row number 3690000\n",
      "row number 3700000\n",
      "row number 3710000\n",
      "row number 3720000\n",
      "row number 3730000\n",
      "row number 3740000\n",
      "row number 3750000\n",
      "row number 3760000\n",
      "row number 3770000\n",
      "row number 3780000\n",
      "row number 3790000\n",
      "row number 3800000\n",
      "row number 3810000\n",
      "row number 3820000\n",
      "row number 3830000\n",
      "row number 3840000\n",
      "row number 3850000\n",
      "row number 3860000\n",
      "row number 3870000\n",
      "row number 3880000\n",
      "row number 3890000\n",
      "row number 3900000\n",
      "row number 3910000\n",
      "row number 3920000\n",
      "row number 3930000\n",
      "row number 3940000\n",
      "row number 3950000\n",
      "row number 3960000\n",
      "row number 3970000\n",
      "row number 3980000\n",
      "row number 3990000\n",
      "row number 4000000\n",
      "row number 4010000\n",
      "row number 4020000\n",
      "row number 4030000\n",
      "row number 4040000\n",
      "row number 4050000\n",
      "row number 4060000\n",
      "row number 4070000\n",
      "row number 4080000\n"
     ]
    }
   ],
   "source": [
    "import_victims(victims)"
   ]
  },
  {
   "source": [
    "# Data correction\n",
    "\n",
    "`Collisions` is not as clean as I thought\n",
    "\n",
    "This is to clean the `hit_and_run` with value `D`"
   ],
   "cell_type": "markdown",
   "metadata": {}
  },
  {
   "cell_type": "code",
   "execution_count": 78,
   "metadata": {},
   "outputs": [],
   "source": [
    "# cursor.execute(\"SELECT * FROM Victims WHERE case_id='2816618'\")\n",
    "# res = cursor.fetchall()\n",
    "# for x in res:\n",
    "#     print(x)\n",
    "\n",
    "# case_id 2816618\n",
    "\n",
    "cursor.execute(\"DELETE FROM Victims WHERE case_id='2816618'\")\n",
    "\n",
    "cursor.execute(\"DELETE FROM Vehicles WHERE party_id='5234392'\")\n",
    "cursor.execute(\"DELETE FROM Vehicles WHERE party_id='5234393'\")\n",
    "cursor.execute(\"DELETE FROM Parties WHERE case_id='2816618'\")\n",
    "\n",
    "cursor.execute(\"DELETE FROM Locations WHERE case_id='2816618'\")\n",
    "cursor.execute(\"DELETE FROM Pcfs WHERE case_id='2816618'\")\n",
    "cursor.execute(\"DELETE FROM Factors WHERE case_id='2816618'\")\n",
    "cursor.execute(\"DELETE FROM Cases WHERE case_id='2816618'\")\n",
    "\n",
    "cursor.execute(\"DELETE FROM Collisions WHERE case_id='2816618'\")"
   ]
  },
  {
   "source": [
    "This is to clean the `pcf_violation_category` with value `21804`. \n",
    "\n",
    "As the column can be `NULL`, we simply delete the line. \n",
    "\n",
    "The same collision was responsible for all the anomalies hence we can just delete the corresponding `PcfViolationCategory` and that's it."
   ],
   "cell_type": "markdown",
   "metadata": {}
  },
  {
   "cell_type": "code",
   "execution_count": 79,
   "metadata": {},
   "outputs": [],
   "source": [
    "# cursor.execute(\"SELECT * FROM Pcfs WHERE pcf_violation_category in (SELECT id FROM PcfViolationCategory WHERE description='21804')\")\n",
    "cursor.execute(\"DELETE FROM PcfViolationCategory WHERE description='21804'\")"
   ]
  },
  {
   "source": [
    "This is to clean the `road_surface` with value `H`.\n",
    "\n",
    "As the column can be `NULL`, we simply delete the line. \n",
    "\n",
    "The same collision was responsible for all the anomalies hence we can just delete the corresponding `RoadSurface` and that's it."
   ],
   "cell_type": "markdown",
   "metadata": {}
  },
  {
   "cell_type": "code",
   "execution_count": 80,
   "metadata": {},
   "outputs": [],
   "source": [
    "# cursor.execute(\"SELECT * FROM Factors WHERE road_surface in (SELECT id FROM RoadSurface WHERE description='H')\")\n",
    "cursor.execute(\"DELETE FROM RoadSurface WHERE description='H'\")"
   ]
  },
  {
   "source": [
    "# Adding party type"
   ],
   "cell_type": "markdown",
   "metadata": {}
  },
  {
   "cell_type": "code",
   "execution_count": 86,
   "metadata": {},
   "outputs": [],
   "source": [
    "cursor.execute(\"\"\"ALTER TABLE Parties\n",
    "    ADD COLUMN party_type INTEGER\"\"\")"
   ]
  },
  {
   "cell_type": "code",
   "execution_count": 4,
   "metadata": {},
   "outputs": [
    {
     "output_type": "error",
     "ename": "KeyboardInterrupt",
     "evalue": "",
     "traceback": [
      "\u001b[0;31m---------------------------------------------------------------------------\u001b[0m",
      "\u001b[0;31mKeyboardInterrupt\u001b[0m                         Traceback (most recent call last)",
      "\u001b[0;32m<ipython-input-4-9155a0b4c78c>\u001b[0m in \u001b[0;36m<module>\u001b[0;34m\u001b[0m\n\u001b[1;32m      1\u001b[0m cursor.execute(\"\"\"ALTER TABLE Parties\n\u001b[0;32m----> 2\u001b[0;31m     ADD FOREIGN KEY (party_type) REFERENCES PartyType(id)\"\"\")\n\u001b[0m",
      "\u001b[0;32m~/miniconda3/lib/python3.7/site-packages/mysql/connector/cursor.py\u001b[0m in \u001b[0;36mexecute\u001b[0;34m(self, operation, params, multi)\u001b[0m\n\u001b[1;32m    566\u001b[0m \u001b[0;34m\u001b[0m\u001b[0m\n\u001b[1;32m    567\u001b[0m         \u001b[0;32mtry\u001b[0m\u001b[0;34m:\u001b[0m\u001b[0;34m\u001b[0m\u001b[0;34m\u001b[0m\u001b[0m\n\u001b[0;32m--> 568\u001b[0;31m             \u001b[0mself\u001b[0m\u001b[0;34m.\u001b[0m\u001b[0m_handle_result\u001b[0m\u001b[0;34m(\u001b[0m\u001b[0mself\u001b[0m\u001b[0;34m.\u001b[0m\u001b[0m_connection\u001b[0m\u001b[0;34m.\u001b[0m\u001b[0mcmd_query\u001b[0m\u001b[0;34m(\u001b[0m\u001b[0mstmt\u001b[0m\u001b[0;34m)\u001b[0m\u001b[0;34m)\u001b[0m\u001b[0;34m\u001b[0m\u001b[0;34m\u001b[0m\u001b[0m\n\u001b[0m\u001b[1;32m    569\u001b[0m         \u001b[0;32mexcept\u001b[0m \u001b[0merrors\u001b[0m\u001b[0;34m.\u001b[0m\u001b[0mInterfaceError\u001b[0m\u001b[0;34m:\u001b[0m\u001b[0;34m\u001b[0m\u001b[0;34m\u001b[0m\u001b[0m\n\u001b[1;32m    570\u001b[0m             \u001b[0;32mif\u001b[0m \u001b[0mself\u001b[0m\u001b[0;34m.\u001b[0m\u001b[0m_connection\u001b[0m\u001b[0;34m.\u001b[0m\u001b[0m_have_next_result\u001b[0m\u001b[0;34m:\u001b[0m  \u001b[0;31m# pylint: disable=W0212\u001b[0m\u001b[0;34m\u001b[0m\u001b[0;34m\u001b[0m\u001b[0m\n",
      "\u001b[0;32m~/miniconda3/lib/python3.7/site-packages/mysql/connector/connection.py\u001b[0m in \u001b[0;36mcmd_query\u001b[0;34m(self, query, raw, buffered, raw_as_string)\u001b[0m\n\u001b[1;32m    684\u001b[0m             \u001b[0mquery\u001b[0m \u001b[0;34m=\u001b[0m \u001b[0mquery\u001b[0m\u001b[0;34m.\u001b[0m\u001b[0mencode\u001b[0m\u001b[0;34m(\u001b[0m\u001b[0;34m'utf-8'\u001b[0m\u001b[0;34m)\u001b[0m\u001b[0;34m\u001b[0m\u001b[0;34m\u001b[0m\u001b[0m\n\u001b[1;32m    685\u001b[0m         \u001b[0;32mtry\u001b[0m\u001b[0;34m:\u001b[0m\u001b[0;34m\u001b[0m\u001b[0;34m\u001b[0m\u001b[0m\n\u001b[0;32m--> 686\u001b[0;31m             \u001b[0mresult\u001b[0m \u001b[0;34m=\u001b[0m \u001b[0mself\u001b[0m\u001b[0;34m.\u001b[0m\u001b[0m_handle_result\u001b[0m\u001b[0;34m(\u001b[0m\u001b[0mself\u001b[0m\u001b[0;34m.\u001b[0m\u001b[0m_send_cmd\u001b[0m\u001b[0;34m(\u001b[0m\u001b[0mServerCmd\u001b[0m\u001b[0;34m.\u001b[0m\u001b[0mQUERY\u001b[0m\u001b[0;34m,\u001b[0m \u001b[0mquery\u001b[0m\u001b[0;34m)\u001b[0m\u001b[0;34m)\u001b[0m\u001b[0;34m\u001b[0m\u001b[0;34m\u001b[0m\u001b[0m\n\u001b[0m\u001b[1;32m    687\u001b[0m         \u001b[0;32mexcept\u001b[0m \u001b[0merrors\u001b[0m\u001b[0;34m.\u001b[0m\u001b[0mProgrammingError\u001b[0m \u001b[0;32mas\u001b[0m \u001b[0merr\u001b[0m\u001b[0;34m:\u001b[0m\u001b[0;34m\u001b[0m\u001b[0;34m\u001b[0m\u001b[0m\n\u001b[1;32m    688\u001b[0m             \u001b[0;32mif\u001b[0m \u001b[0merr\u001b[0m\u001b[0;34m.\u001b[0m\u001b[0merrno\u001b[0m \u001b[0;34m==\u001b[0m \u001b[0;36m3948\u001b[0m \u001b[0;32mand\u001b[0m\u001b[0;31m \u001b[0m\u001b[0;31m\\\u001b[0m\u001b[0;34m\u001b[0m\u001b[0;34m\u001b[0m\u001b[0m\n",
      "\u001b[0;32m~/miniconda3/lib/python3.7/site-packages/mysql/connector/connection.py\u001b[0m in \u001b[0;36m_send_cmd\u001b[0;34m(self, command, argument, packet_number, packet, expect_response, compressed_packet_number)\u001b[0m\n\u001b[1;32m    416\u001b[0m         \u001b[0;32mif\u001b[0m \u001b[0;32mnot\u001b[0m \u001b[0mexpect_response\u001b[0m\u001b[0;34m:\u001b[0m\u001b[0;34m\u001b[0m\u001b[0;34m\u001b[0m\u001b[0m\n\u001b[1;32m    417\u001b[0m             \u001b[0;32mreturn\u001b[0m \u001b[0;32mNone\u001b[0m\u001b[0;34m\u001b[0m\u001b[0;34m\u001b[0m\u001b[0m\n\u001b[0;32m--> 418\u001b[0;31m         \u001b[0;32mreturn\u001b[0m \u001b[0mself\u001b[0m\u001b[0;34m.\u001b[0m\u001b[0m_socket\u001b[0m\u001b[0;34m.\u001b[0m\u001b[0mrecv\u001b[0m\u001b[0;34m(\u001b[0m\u001b[0;34m)\u001b[0m\u001b[0;34m\u001b[0m\u001b[0;34m\u001b[0m\u001b[0m\n\u001b[0m\u001b[1;32m    419\u001b[0m \u001b[0;34m\u001b[0m\u001b[0m\n\u001b[1;32m    420\u001b[0m     \u001b[0;32mdef\u001b[0m \u001b[0m_send_data\u001b[0m\u001b[0;34m(\u001b[0m\u001b[0mself\u001b[0m\u001b[0;34m,\u001b[0m \u001b[0mdata_file\u001b[0m\u001b[0;34m,\u001b[0m \u001b[0msend_empty_packet\u001b[0m\u001b[0;34m=\u001b[0m\u001b[0;32mFalse\u001b[0m\u001b[0;34m)\u001b[0m\u001b[0;34m:\u001b[0m\u001b[0;34m\u001b[0m\u001b[0;34m\u001b[0m\u001b[0m\n",
      "\u001b[0;32m~/miniconda3/lib/python3.7/site-packages/mysql/connector/network.py\u001b[0m in \u001b[0;36mrecv_plain\u001b[0;34m(self)\u001b[0m\n\u001b[1;32m    244\u001b[0m             \u001b[0mpacket_len\u001b[0m \u001b[0;34m=\u001b[0m \u001b[0;36m0\u001b[0m\u001b[0;34m\u001b[0m\u001b[0;34m\u001b[0m\u001b[0m\n\u001b[1;32m    245\u001b[0m             \u001b[0;32mwhile\u001b[0m \u001b[0mpacket_len\u001b[0m \u001b[0;34m<\u001b[0m \u001b[0;36m4\u001b[0m\u001b[0;34m:\u001b[0m\u001b[0;34m\u001b[0m\u001b[0;34m\u001b[0m\u001b[0m\n\u001b[0;32m--> 246\u001b[0;31m                 \u001b[0mchunk\u001b[0m \u001b[0;34m=\u001b[0m \u001b[0mself\u001b[0m\u001b[0;34m.\u001b[0m\u001b[0msock\u001b[0m\u001b[0;34m.\u001b[0m\u001b[0mrecv\u001b[0m\u001b[0;34m(\u001b[0m\u001b[0;36m4\u001b[0m \u001b[0;34m-\u001b[0m \u001b[0mpacket_len\u001b[0m\u001b[0;34m)\u001b[0m\u001b[0;34m\u001b[0m\u001b[0;34m\u001b[0m\u001b[0m\n\u001b[0m\u001b[1;32m    247\u001b[0m                 \u001b[0;32mif\u001b[0m \u001b[0;32mnot\u001b[0m \u001b[0mchunk\u001b[0m\u001b[0;34m:\u001b[0m\u001b[0;34m\u001b[0m\u001b[0;34m\u001b[0m\u001b[0m\n\u001b[1;32m    248\u001b[0m                     \u001b[0;32mraise\u001b[0m \u001b[0merrors\u001b[0m\u001b[0;34m.\u001b[0m\u001b[0mInterfaceError\u001b[0m\u001b[0;34m(\u001b[0m\u001b[0merrno\u001b[0m\u001b[0;34m=\u001b[0m\u001b[0;36m2013\u001b[0m\u001b[0;34m)\u001b[0m\u001b[0;34m\u001b[0m\u001b[0;34m\u001b[0m\u001b[0m\n",
      "\u001b[0;32m~/miniconda3/lib/python3.7/ssl.py\u001b[0m in \u001b[0;36mrecv\u001b[0;34m(self, buflen, flags)\u001b[0m\n\u001b[1;32m   1035\u001b[0m                     \u001b[0;34m\"non-zero flags not allowed in calls to recv() on %s\"\u001b[0m \u001b[0;34m%\u001b[0m\u001b[0;34m\u001b[0m\u001b[0;34m\u001b[0m\u001b[0m\n\u001b[1;32m   1036\u001b[0m                     self.__class__)\n\u001b[0;32m-> 1037\u001b[0;31m             \u001b[0;32mreturn\u001b[0m \u001b[0mself\u001b[0m\u001b[0;34m.\u001b[0m\u001b[0mread\u001b[0m\u001b[0;34m(\u001b[0m\u001b[0mbuflen\u001b[0m\u001b[0;34m)\u001b[0m\u001b[0;34m\u001b[0m\u001b[0;34m\u001b[0m\u001b[0m\n\u001b[0m\u001b[1;32m   1038\u001b[0m         \u001b[0;32melse\u001b[0m\u001b[0;34m:\u001b[0m\u001b[0;34m\u001b[0m\u001b[0;34m\u001b[0m\u001b[0m\n\u001b[1;32m   1039\u001b[0m             \u001b[0;32mreturn\u001b[0m \u001b[0msuper\u001b[0m\u001b[0;34m(\u001b[0m\u001b[0;34m)\u001b[0m\u001b[0;34m.\u001b[0m\u001b[0mrecv\u001b[0m\u001b[0;34m(\u001b[0m\u001b[0mbuflen\u001b[0m\u001b[0;34m,\u001b[0m \u001b[0mflags\u001b[0m\u001b[0;34m)\u001b[0m\u001b[0;34m\u001b[0m\u001b[0;34m\u001b[0m\u001b[0m\n",
      "\u001b[0;32m~/miniconda3/lib/python3.7/ssl.py\u001b[0m in \u001b[0;36mread\u001b[0;34m(self, len, buffer)\u001b[0m\n\u001b[1;32m    911\u001b[0m                 \u001b[0;32mreturn\u001b[0m \u001b[0mself\u001b[0m\u001b[0;34m.\u001b[0m\u001b[0m_sslobj\u001b[0m\u001b[0;34m.\u001b[0m\u001b[0mread\u001b[0m\u001b[0;34m(\u001b[0m\u001b[0mlen\u001b[0m\u001b[0;34m,\u001b[0m \u001b[0mbuffer\u001b[0m\u001b[0;34m)\u001b[0m\u001b[0;34m\u001b[0m\u001b[0;34m\u001b[0m\u001b[0m\n\u001b[1;32m    912\u001b[0m             \u001b[0;32melse\u001b[0m\u001b[0;34m:\u001b[0m\u001b[0;34m\u001b[0m\u001b[0;34m\u001b[0m\u001b[0m\n\u001b[0;32m--> 913\u001b[0;31m                 \u001b[0;32mreturn\u001b[0m \u001b[0mself\u001b[0m\u001b[0;34m.\u001b[0m\u001b[0m_sslobj\u001b[0m\u001b[0;34m.\u001b[0m\u001b[0mread\u001b[0m\u001b[0;34m(\u001b[0m\u001b[0mlen\u001b[0m\u001b[0;34m)\u001b[0m\u001b[0;34m\u001b[0m\u001b[0;34m\u001b[0m\u001b[0m\n\u001b[0m\u001b[1;32m    914\u001b[0m         \u001b[0;32mexcept\u001b[0m \u001b[0mSSLError\u001b[0m \u001b[0;32mas\u001b[0m \u001b[0mx\u001b[0m\u001b[0;34m:\u001b[0m\u001b[0;34m\u001b[0m\u001b[0;34m\u001b[0m\u001b[0m\n\u001b[1;32m    915\u001b[0m             \u001b[0;32mif\u001b[0m \u001b[0mx\u001b[0m\u001b[0;34m.\u001b[0m\u001b[0margs\u001b[0m\u001b[0;34m[\u001b[0m\u001b[0;36m0\u001b[0m\u001b[0;34m]\u001b[0m \u001b[0;34m==\u001b[0m \u001b[0mSSL_ERROR_EOF\u001b[0m \u001b[0;32mand\u001b[0m \u001b[0mself\u001b[0m\u001b[0;34m.\u001b[0m\u001b[0msuppress_ragged_eofs\u001b[0m\u001b[0;34m:\u001b[0m\u001b[0;34m\u001b[0m\u001b[0;34m\u001b[0m\u001b[0m\n",
      "\u001b[0;31mKeyboardInterrupt\u001b[0m: "
     ]
    }
   ],
   "source": [
    "cursor.execute(\"\"\"ALTER TABLE Parties\n",
    "    ADD FOREIGN KEY (party_type) REFERENCES PartyType(id)\"\"\")"
   ]
  },
  {
   "cell_type": "code",
   "execution_count": 89,
   "metadata": {},
   "outputs": [],
   "source": [
    "dict_party_type = {}"
   ]
  },
  {
   "cell_type": "code",
   "execution_count": 94,
   "metadata": {},
   "outputs": [],
   "source": [
    "def link_party_type(row):\n",
    "    if row.party_type is None:\n",
    "        party_type_id = None\n",
    "    elif row.party_type in dict_party_type:\n",
    "        party_type_id = dict_party_type[row.party_type] \n",
    "    else:\n",
    "        cursor.execute(\"\"\"INSERT INTO PartyType\n",
    "            (description)\n",
    "            VALUES (%s)\n",
    "            ON DUPLICATE KEY UPDATE id=id\"\"\", (row.party_type,))\n",
    "        cnx.commit()\n",
    "        cursor.execute(\"SELECT id FROM PartyType WHERE description=%s LIMIT 0, 1\", (row.party_type,))\n",
    "        party_type_id = cursor.fetchone()[0]\n",
    "\n",
    "        dict_party_type[row.party_type] = party_type_id\n",
    "\n",
    "    cursor.execute(\"\"\"UPDATE Parties \n",
    "        SET party_type = %s\n",
    "        WHERE id = %s AND case_id = %s\"\"\", (party_type_id, row.id, row.case_id))\n",
    "    \n",
    "\n",
    "def import_party_types(df):\n",
    "    for idx, (k, row) in enumerate(df.iterrows()):\n",
    "        if(idx % 100000 == 0):\n",
    "            print(f\"row number {idx}\")\n",
    "        else:\n",
    "            link_party_type(row)"
   ]
  },
  {
   "cell_type": "code",
   "execution_count": 90,
   "metadata": {},
   "outputs": [
    {
     "output_type": "stream",
     "name": "stderr",
     "text": [
      "/Users/xavier/miniconda3/lib/python3.7/site-packages/IPython/core/interactiveshell.py:3058: DtypeWarning: Columns (4,13,17) have mixed types.Specify dtype option on import or set low_memory=False.\n  interactivity=interactivity, compiler=compiler, result=result)\n"
     ]
    }
   ],
   "source": [
    "parties = pd.read_csv('../parties2018.csv', dtype={'case_id': str})"
   ]
  },
  {
   "cell_type": "code",
   "execution_count": 91,
   "metadata": {},
   "outputs": [],
   "source": [
    "parties = parties.astype(object).where(pd.notnull(parties),None)"
   ]
  },
  {
   "cell_type": "code",
   "execution_count": 95,
   "metadata": {},
   "outputs": [
    {
     "output_type": "stream",
     "name": "stdout",
     "text": [
      "row number 0\n",
      "row number 100000\n",
      "row number 200000\n",
      "row number 300000\n",
      "row number 400000\n",
      "row number 500000\n",
      "row number 600000\n",
      "row number 700000\n",
      "row number 800000\n",
      "row number 900000\n",
      "row number 1000000\n",
      "row number 1100000\n",
      "row number 1200000\n",
      "row number 1300000\n",
      "row number 1400000\n",
      "row number 1500000\n",
      "row number 1600000\n",
      "row number 1700000\n",
      "row number 1800000\n",
      "row number 1900000\n",
      "row number 2000000\n",
      "row number 2100000\n",
      "row number 2200000\n",
      "row number 2300000\n",
      "row number 2400000\n",
      "row number 2500000\n",
      "row number 2600000\n",
      "row number 2700000\n",
      "row number 2800000\n",
      "row number 2900000\n",
      "row number 3000000\n",
      "row number 3100000\n",
      "row number 3200000\n",
      "row number 3300000\n",
      "row number 3400000\n",
      "row number 3500000\n",
      "row number 3600000\n",
      "row number 3700000\n",
      "row number 3800000\n",
      "row number 3900000\n",
      "row number 4000000\n",
      "row number 4100000\n",
      "row number 4200000\n",
      "row number 4300000\n",
      "row number 4400000\n",
      "row number 4500000\n",
      "row number 4600000\n",
      "row number 4700000\n",
      "row number 4800000\n",
      "row number 4900000\n",
      "row number 5000000\n",
      "row number 5100000\n",
      "row number 5200000\n",
      "row number 5300000\n",
      "row number 5400000\n",
      "row number 5500000\n",
      "row number 5600000\n",
      "row number 5700000\n",
      "row number 5800000\n",
      "row number 5900000\n",
      "row number 6000000\n",
      "row number 6100000\n",
      "row number 6200000\n",
      "row number 6300000\n",
      "row number 6400000\n",
      "row number 6500000\n",
      "row number 6600000\n",
      "row number 6700000\n",
      "row number 6800000\n",
      "row number 6900000\n",
      "row number 7000000\n",
      "row number 7100000\n",
      "row number 7200000\n"
     ]
    }
   ],
   "source": [
    "import_party_types(parties)"
   ]
  },
  {
   "cell_type": "code",
   "execution_count": null,
   "metadata": {},
   "outputs": [],
   "source": []
  }
 ]
}