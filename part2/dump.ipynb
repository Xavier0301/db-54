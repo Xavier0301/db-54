{
 "metadata": {
  "language_info": {
   "codemirror_mode": {
    "name": "ipython",
    "version": 3
   },
   "file_extension": ".py",
   "mimetype": "text/x-python",
   "name": "python",
   "nbconvert_exporter": "python",
   "pygments_lexer": "ipython3",
   "version": "3.7.3"
  },
  "orig_nbformat": 2,
  "kernelspec": {
   "name": "python373jvsc74a57bd0575ef1d0e6bebc78cce9f41e5461ee9c36f6b463def79c68585633dbbf58454e",
   "display_name": "Python 3.7.3 64-bit ('base': conda)"
  }
 },
 "nbformat": 4,
 "nbformat_minor": 2,
 "cells": [
  {
   "cell_type": "code",
   "execution_count": 373,
   "metadata": {},
   "outputs": [],
   "source": [
    "import mysql.connector\n",
    "from mysql.connector.constants import ClientFlag"
   ]
  },
  {
   "cell_type": "code",
   "execution_count": 377,
   "metadata": {},
   "outputs": [],
   "source": [
    "# config = {\n",
    "#     'user': 'root',\n",
    "#     'password': 'Hh12H8y2ppBAq5Cj',\n",
    "#     'host': '34.65.175.109',\n",
    "#     'client_flags': [ClientFlag.SSL],\n",
    "#     'ssl_ca': '/Users/xavier/Desktop/EPFL_Cours/Ici/DB/db-54/part2/ssl/server-ca.pem',\n",
    "#     'ssl_cert': '/Users/xavier/Desktop/EPFL_Cours/Ici/DB/db-54/part2/ssl/client-cert.pem',\n",
    "#     'ssl_key': '/Users/xavier/Desktop/EPFL_Cours/Ici/DB/db-54/part2/ssl/client-key.pem',\n",
    "#     'database': 'data'\n",
    "# }\n",
    "\n",
    "config = {\n",
    "    'user': 'root',\n",
    "    'password': 'Hh12H8y2ppBAq5Cj',\n",
    "    'host': 'localhost',\n",
    "    'database': 'data'\n",
    "}\n",
    "\n",
    "cnx = mysql.connector.connect(**config)\n",
    "cnx.autocommit = True\n",
    "cursor = cnx.cursor()"
   ]
  },
  {
   "source": [
    "# Party\n",
    "## Main Tables"
   ],
   "cell_type": "markdown",
   "metadata": {}
  },
  {
   "cell_type": "code",
   "execution_count": 404,
   "metadata": {},
   "outputs": [],
   "source": [
    "cursor.execute(\"\"\"CREATE TABLE Parties(id INTEGER,\n",
    "                        case_id NUMERIC(19) NOT NULL,\n",
    "                        party_number INTEGER NOT NULL,\n",
    "                        finanicial_responsibility INTEGER,\n",
    "                        party_age INTEGER,\n",
    "                        party_sex INTEGER,\n",
    "                        at_fault BIT NOT NULL,\n",
    "                        cellphone_use INTEGER,\n",
    "                        hazardous_materials CHAR(1),\n",
    "                        movement_preceding_collision INTEGER,\n",
    "                        other_associate_factor_1 INTEGER,\n",
    "                        other_associate_factor_2 INTEGER,\n",
    "                        party_drug_physical INTEGER,\n",
    "                        party_safety_equipment_1 INTEGER,\n",
    "                        party_safety_equipment_2 INTEGER,\n",
    "                        party_sobriety INTEGER,\n",
    "                        PRIMARY KEY(id),\n",
    "                        FOREIGN KEY(finanicial_responsibility) REFERENCES FinancialResponsability(id),\n",
    "                        FOREIGN KEY(party_sex) REFERENCES PersonSex(id),\n",
    "                        FOREIGN KEY(cellphone_use) REFERENCES CellphoneUse(id),\n",
    "                        FOREIGN KEY(movement_preceding_collision) REFERENCES MovementPrecedingCollision(id),\n",
    "                        FOREIGN KEY(other_associate_factor_1) REFERENCES OtherAssociatedFactors(id),\n",
    "                        FOREIGN KEY(other_associate_factor_2) REFERENCES OtherAssociatedFactors(id),\n",
    "                        FOREIGN KEY(party_drug_physical) REFERENCES PartyDrugPhysical(id),\n",
    "                        FOREIGN KEY(party_safety_equipment_1) REFERENCES PartySafetyEquipement(id),\n",
    "                        FOREIGN KEY(party_safety_equipment_2) REFERENCES PartySafetyEquipement(id),\n",
    "                        FOREIGN KEY(party_sobriety) REFERENCES PartySobriety(id),\n",
    "                        FOREIGN KEY(case_id) REFERENCES Collisions(case_id))\"\"\")"
   ]
  },
  {
   "cell_type": "code",
   "execution_count": 405,
   "metadata": {},
   "outputs": [],
   "source": [
    "cursor.execute(\"\"\"CREATE TABLE Vehicles(party_id INTEGER NOT NULL,\n",
    "                        school_bus_related BIT,\n",
    "                        statewide_vehicle_type INTEGER,\n",
    "                        vehicle_make INTEGER,\n",
    "                        vehicle_year INTEGER,\n",
    "                        FOREIGN KEY(statewide_vehicle_type) REFERENCES StatewideVehiculeType(id),\n",
    "                        FOREIGN KEY(vehicle_make) REFERENCES VehiculeMake(id),\n",
    "                        FOREIGN KEY(party_id) REFERENCES Parties(id))\"\"\")"
   ]
  },
  {
   "source": [
    "## Satelite Enum Tables"
   ],
   "cell_type": "markdown",
   "metadata": {}
  },
  {
   "cell_type": "code",
   "execution_count": 393,
   "metadata": {},
   "outputs": [],
   "source": [
    "cursor.execute(\"CREATE TABLE OtherAssociatedFactors (id INTEGER AUTO_INCREMENT,\"\n",
    "    \"description CHAR(1) NOT NULL UNIQUE,\"\n",
    "    \"CHECK (description BETWEEN 'A' AND 'Z'),\"\n",
    "    \"PRIMARY KEY(id))\")"
   ]
  },
  {
   "cell_type": "code",
   "execution_count": 394,
   "metadata": {},
   "outputs": [],
   "source": [
    "cursor.execute(\"\"\"CREATE TABLE CellphoneUse(id INTEGER AUTO_INCREMENT,\n",
    "\t\t\t   description CHAR(1) NOT NULL UNIQUE,\n",
    "                CHECK (description BETWEEN 'B' AND 'D'),\t\n",
    "\t\t\t   PRIMARY KEY(id))\"\"\")\n",
    "# messy data: 1 -> B, 2 -> C, 3 -> D"
   ]
  },
  {
   "cell_type": "code",
   "execution_count": 395,
   "metadata": {},
   "outputs": [],
   "source": [
    "cursor.execute(\"\"\"CREATE TABLE FinancialResponsability(id INTEGER AUTO_INCREMENT,\n",
    "\t\t\t   \t      description CHAR(1) NOT NULL UNIQUE,\n",
    "                                      CHECK (description IN ('N', 'Y', 'O', 'E', '-')),\t\n",
    "\t\t\t              PRIMARY KEY(id))\"\"\")\n",
    "\n",
    "# clean data "
   ]
  },
  {
   "cell_type": "code",
   "execution_count": 396,
   "metadata": {},
   "outputs": [],
   "source": [
    "cursor.execute(\"\"\"CREATE TABLE MovementPrecedingCollision(id INTEGER AUTO_INCREMENT,\n",
    "\t\t\t\t\t description VARCHAR(100) NOT NULL UNIQUE,\n",
    "\t\t\t\t\t PRIMARY KEY(id))\"\"\")\n",
    "# varchar -> messy data, whatever."
   ]
  },
  {
   "cell_type": "code",
   "execution_count": 397,
   "metadata": {},
   "outputs": [],
   "source": [
    "cursor.execute(\"\"\"CREATE TABLE PartyDrugPhysical(id INTEGER AUTO_INCREMENT,\n",
    "\t\t\t       description CHAR(1) NOT NULL UNIQUE,\n",
    "                            CHECK (description IN ('E', 'F', 'H', 'I')),\n",
    "\t\t\t       PRIMARY KEY(id))\"\"\")\n",
    "\n",
    "# messy: letter G most prevalent: interpret as n/a ?"
   ]
  },
  {
   "cell_type": "code",
   "execution_count": 398,
   "metadata": {},
   "outputs": [],
   "source": [
    "cursor.execute(\"\"\"CREATE TABLE PartySafetyEquipement(id INTEGER AUTO_INCREMENT,\n",
    "\t\t\t\t   description CHAR(1) NOT NULL UNIQUE,\n",
    "                                   CHECK (description BETWEEN 'A' AND 'Y'),\n",
    "\t\t\t\t   PRIMARY KEY(id))\"\"\")\n",
    "# clean as far as i can tell"
   ]
  },
  {
   "source": [
    "The following table holds for `VictimSex` and `PartySex`"
   ],
   "cell_type": "markdown",
   "metadata": {}
  },
  {
   "cell_type": "code",
   "execution_count": 399,
   "metadata": {},
   "outputs": [],
   "source": [
    "cursor.execute(\"\"\"CREATE TABLE PersonSex(id INTEGER AUTO_INCREMENT,\n",
    "\t\t       description VARCHAR(6) NOT NULL UNIQUE,\n",
    "                       CHECK (description in ('male', 'female')),\n",
    "\t\t       PRIMARY KEY(id))\"\"\")\n",
    "# clean af, for PartySex and VictimSex"
   ]
  },
  {
   "cell_type": "code",
   "execution_count": 400,
   "metadata": {},
   "outputs": [],
   "source": [
    "cursor.execute(\"\"\"CREATE TABLE PartySobriety(id INTEGER AUTO_INCREMENT,\n",
    "\t\t\t    description CHAR(1) NOT NULL UNIQUE,\n",
    "                            CHECK (description IN ('A', 'B', 'C', 'D', 'G', 'H')),\n",
    "\t\t\t    PRIMARY KEY(id))\"\"\")\n",
    "# clean af"
   ]
  },
  {
   "source": [
    "cursor.execute(\"\"\"CREATE TABLE PartyType(id INTEGER AUTO_INCREMENT,\n",
    "\t\t\tdescription VARCHAR(15) NOT NULL UNIQUE,\n",
    "\t\t\tPRIMARY KEY(id))\"\"\")\n",
    "\n",
    "# clean"
   ],
   "cell_type": "code",
   "metadata": {},
   "execution_count": 401,
   "outputs": []
  },
  {
   "cell_type": "code",
   "execution_count": 402,
   "metadata": {},
   "outputs": [],
   "source": [
    "cursor.execute(\"\"\"CREATE TABLE StatewideVehiculeType(id INTEGER AUTO_INCREMENT,\n",
    "\t\t\t\t    description VARCHAR(30) NOT NULL UNIQUE,\n",
    "\t\t\t\t    PRIMARY KEY(id))\"\"\")\n",
    "# clean as far as i can tell"
   ]
  },
  {
   "cell_type": "code",
   "execution_count": 403,
   "metadata": {},
   "outputs": [],
   "source": [
    "cursor.execute(\"\"\"CREATE TABLE VehiculeMake(id INTEGER AUTO_INCREMENT,\n",
    "\t\t\t   description VARCHAR(100) NOT NULL,\n",
    "\t\t\t   PRIMARY KEY(id))\"\"\")\n",
    "\n",
    "# clean"
   ]
  },
  {
   "source": [
    "# Collision\n",
    "## Main Tables"
   ],
   "cell_type": "markdown",
   "metadata": {}
  },
  {
   "cell_type": "code",
   "execution_count": 388,
   "metadata": {},
   "outputs": [],
   "source": [
    "cursor.execute(\"\"\"CREATE TABLE Collisions(case_id NUMERIC(19), \n",
    "                        collision_date DATE NOT NULL,\n",
    "                        collision_time TIME,\n",
    "                        type_of_collision INTEGER,\n",
    "                        collision_severity INTEGER NOT NULL,\n",
    "                        hit_and_run INTEGER NOT NULL,\n",
    "                        tow_away BIT,\n",
    "                        FOREIGN KEY(type_of_collision) REFERENCES TypeOfCollision(id), \n",
    "                        FOREIGN KEY(collision_severity) REFERENCES CollisionSeverity(id), \n",
    "                        FOREIGN KEY(hit_and_run) REFERENCES HitAndRun(id),                      \n",
    "                        PRIMARY KEY(case_id))\"\"\")"
   ]
  },
  {
   "cell_type": "code",
   "execution_count": 389,
   "metadata": {},
   "outputs": [],
   "source": [
    "cursor.execute(\"\"\"CREATE TABLE Pcfs(case_id NUMERIC(19) NOT NULL,\n",
    "                    pcf_violation INTEGER,\n",
    "                    pcf_violation_category INTEGER,\n",
    "                    pcf_violation_subsection CHAR(1),\n",
    "                    FOREIGN KEY(pcf_violation_category) REFERENCES PcfViolationCategory(id),\n",
    "                    FOREIGN KEY(case_id) REFERENCES Collisions(case_id))\"\"\")\n",
    "# pcf_violation_subscection has weird values but we cannot infer\n",
    "# that they are wrong."
   ]
  },
  {
   "cell_type": "code",
   "execution_count": 390,
   "metadata": {},
   "outputs": [],
   "source": [
    "cursor.execute(\"\"\"CREATE TABLE Locations(case_id NUMERIC(19) NOT NULL,\n",
    "                        population INTEGER,\n",
    "                        county_city_location INTEGER NOT NULL,\n",
    "                        FOREIGN KEY(case_id) REFERENCES Collisions(case_id))\"\"\")"
   ]
  },
  {
   "cell_type": "code",
   "execution_count": 391,
   "metadata": {},
   "outputs": [],
   "source": [
    "cursor.execute(\"\"\"CREATE TABLE Factors(case_id NUMERIC(19) NOT NULL,\n",
    "                        location_type INTEGER,\n",
    "                        lighting INTEGER,\n",
    "                        road_condition_1 INTEGER,\n",
    "                        road_condition_2 INTEGER,\n",
    "                        road_surface INTEGER,\n",
    "                        weather_1 INTEGER,\n",
    "                        weather_2 INTEGER,\n",
    "                        FOREIGN KEY(location_type) REFERENCES LocationType(id),\n",
    "                        FOREIGN KEY(lighting) REFERENCES Lighting(id),\n",
    "                        FOREIGN KEY(road_condition_1) REFERENCES RoadCondition(id),\n",
    "                        FOREIGN KEY(road_condition_2) REFERENCES RoadCondition(id),\n",
    "                        FOREIGN KEY(road_surface) REFERENCES RoadSurface(id),\n",
    "                        FOREIGN KEY(weather_1) REFERENCES Weather(id),\n",
    "                        FOREIGN KEY(weather_2) REFERENCES Weather(id),\n",
    "                        FOREIGN KEY(case_id) REFERENCES Collisions(case_id))\"\"\")"
   ]
  },
  {
   "cell_type": "code",
   "execution_count": 392,
   "metadata": {},
   "outputs": [],
   "source": [
    "cursor.execute(\"\"\"CREATE TABLE Cases(case_id NUMERIC(19) NOT NULL,\n",
    "                    process_date DATE NOT NULL,\n",
    "                    officer_id VARCHAR(8),\n",
    "                    jurisdiction INTEGER,\n",
    "                    FOREIGN KEY(case_id) REFERENCES Collisions(case_id))\"\"\")\n",
    "# max officer_id length is 8. As some include letters, better make it VARCHAR."
   ]
  },
  {
   "source": [
    "## Satelite Enum Tables"
   ],
   "cell_type": "markdown",
   "metadata": {}
  },
  {
   "cell_type": "code",
   "execution_count": 378,
   "metadata": {},
   "outputs": [],
   "source": [
    "cursor.execute(\"\"\"CREATE TABLE CollisionSeverity(id INTEGER AUTO_INCREMENT,\n",
    "\t\t\t       description VARCHAR(25) NOT NULL UNIQUE,\n",
    "\t\t\t       PRIMARY KEY(id))\"\"\")\n",
    "# clean"
   ]
  },
  {
   "cell_type": "code",
   "execution_count": 379,
   "metadata": {},
   "outputs": [],
   "source": [
    "cursor.execute(\"\"\"CREATE TABLE HitAndRun(id INTEGER AUTO_INCREMENT,\n",
    "\t\t\tdescription VARCHAR(20) NOT NULL UNIQUE,\n",
    "\t\t\tPRIMARY KEY(id))\"\"\")\n",
    "# One dirty value: D -> NaN "
   ]
  },
  {
   "cell_type": "code",
   "execution_count": 380,
   "metadata": {},
   "outputs": [],
   "source": [
    "cursor.execute(\"\"\"CREATE TABLE Lighting(id INTEGER AUTO_INCREMENT,\n",
    "\t\t       description VARCHAR(39) NOT NULL UNIQUE,\n",
    "\t\t       PRIMARY KEY(id))\"\"\")\n",
    "# Clean"
   ]
  },
  {
   "cell_type": "code",
   "execution_count": 381,
   "metadata": {},
   "outputs": [],
   "source": [
    "cursor.execute(\"\"\"CREATE TABLE LocationType(id INTEGER AUTO_INCREMENT,\n",
    "\t\t\t   description VARCHAR(20) NOT NULL UNIQUE,\n",
    "\t\t\t   PRIMARY KEY(id))\"\"\")\n",
    "# clean"
   ]
  },
  {
   "cell_type": "code",
   "execution_count": 382,
   "metadata": {},
   "outputs": [],
   "source": [
    "cursor.execute(\"\"\"CREATE TABLE PcfViolationCategory(id INTEGER AUTO_INCREMENT,\n",
    "\t\t\t\t   description VARCHAR(70) NOT NULL UNIQUE,\n",
    "\t\t\t\t   PRIMARY KEY(id))\"\"\")\n",
    "\n",
    "# One dirty value: 21804 -> NaN"
   ]
  },
  {
   "cell_type": "code",
   "execution_count": 383,
   "metadata": {},
   "outputs": [],
   "source": [
    "cursor.execute(\"\"\"CREATE TABLE PrimaryCollisionFactor(id INTEGER AUTO_INCREMENT, \n",
    "\t\t\t\t     description VARCHAR(25) NOT NULL UNIQUE,\n",
    "\t\t\t\t     PRIMARY KEY(id))\"\"\")\n",
    "# clean"
   ]
  },
  {
   "cell_type": "code",
   "execution_count": 384,
   "metadata": {},
   "outputs": [],
   "source": [
    "cursor.execute(\"\"\"CREATE TABLE RoadCondition(id INTEGER AUTO_INCREMENT,\n",
    "\t\t\t    description VARCHAR(20) NOT NULL UNIQUE,\n",
    "\t\t\t    PRIMARY KEY(id))\"\"\")\n",
    "# clean"
   ]
  },
  {
   "cell_type": "code",
   "execution_count": 385,
   "metadata": {},
   "outputs": [],
   "source": [
    "cursor.execute(\"\"\"CREATE TABLE RoadSurface(id INTEGER AUTO_INCREMENT,\n",
    "\t\t\t  description VARCHAR(15) NOT NULL UNIQUE,\n",
    "\t\t\t  PRIMARY KEY(id))\"\"\")\n",
    "# one dirty value: H -> NaN"
   ]
  },
  {
   "cell_type": "code",
   "execution_count": 386,
   "metadata": {},
   "outputs": [],
   "source": [
    "cursor.execute(\"\"\"CREATE TABLE TypeOfCollision(id INTEGER AUTO_INCREMENT,\n",
    "\t\t\t      description VARCHAR(15) NOT NULL UNIQUE,\n",
    "\t\t\t      PRIMARY KEY(id))\"\"\")\n",
    "# clean"
   ]
  },
  {
   "cell_type": "code",
   "execution_count": 387,
   "metadata": {},
   "outputs": [],
   "source": [
    "cursor.execute(\"\"\"CREATE TABLE Weather(id INTEGER AUTO_INCREMENT,\n",
    "\t\t      description VARCHAR(10) NOT NULL UNIQUE,\n",
    "\t\t      PRIMARY KEY(id))\"\"\")\n",
    "# clean"
   ]
  },
  {
   "source": [
    "# Victim\n",
    "## Main Table"
   ],
   "cell_type": "markdown",
   "metadata": {}
  },
  {
   "cell_type": "code",
   "execution_count": 408,
   "metadata": {},
   "outputs": [],
   "source": [
    "cursor.execute(\"\"\"CREATE TABLE Victims(id INTEGER,\n",
    "                        case_id NUMERIC(19) NOT NULL,\n",
    "                        party_number INTEGER NOT NULL,\n",
    "                        victim_age INTEGER,\n",
    "                        victim_sex INTEGER,\n",
    "                        victim_degree_of_injury INTEGER,\n",
    "                        victim_ejected INTEGER,\n",
    "                        victim_role INTEGER NOT NULL,\n",
    "                        victim_safety_equipment_1 INTEGER,\n",
    "                        victim_safety_equipment_2 INTEGER,\n",
    "                        victim_seating_position INTEGER,\n",
    "                        PRIMARY KEY(id),\n",
    "                        FOREIGN KEY(victim_sex) REFERENCES PersonSex(id),\n",
    "                        FOREIGN KEY(victim_safety_equipment_1) REFERENCES VictimSafetyEquipment(id),\n",
    "                        FOREIGN KEY(victim_safety_equipment_2) REFERENCES VictimSafetyEquipment(id),\n",
    "                        FOREIGN KEY(victim_degree_of_injury) REFERENCES VictimDegreeOfInjury(id),\n",
    "                        FOREIGN KEY(case_id) REFERENCES Collisions(case_id))\"\"\")"
   ]
  },
  {
   "source": [
    "## Satelite Table"
   ],
   "cell_type": "markdown",
   "metadata": {}
  },
  {
   "cell_type": "code",
   "execution_count": 406,
   "metadata": {},
   "outputs": [],
   "source": [
    "cursor.execute(\"\"\"CREATE TABLE VictimSafetyEquipment(id INTEGER AUTO_INCREMENT,\n",
    "\t\t\t\t   description CHAR(1) NOT NULL UNIQUE,\n",
    "                                   CHECK(description BETWEEN 'A' AND 'Z'),\n",
    "\t\t\t\t   PRIMARY KEY(id))\"\"\")"
   ]
  },
  {
   "cell_type": "code",
   "execution_count": 407,
   "metadata": {},
   "outputs": [],
   "source": [
    "cursor.execute(\"\"\"CREATE TABLE VictimDegreeOfInjury(id INTEGER AUTO_INCREMENT,\n",
    "\t\t\t\t   description VARCHAR(30) NOT NULL UNIQUE,\n",
    "\t\t\t\t   PRIMARY KEY(id))\"\"\")\n",
    "# one drity value: 7 -> NaN"
   ]
  },
  {
   "source": [
    "# Data import\n",
    "## Alterations to table definitions during data import\n",
    "\n",
    "Only use `SET FOREIGN_KEY_CHECKS` during definition of tables, *not in production*"
   ],
   "cell_type": "markdown",
   "metadata": {}
  },
  {
   "cell_type": "code",
   "execution_count": 205,
   "metadata": {},
   "outputs": [],
   "source": [
    "cursor.execute(\"SET FOREIGN_KEY_CHECKS = 0\")\n",
    "\n",
    "cursor.execute(\"ALTER TABLE CollisionSeverity MODIFY id INTEGER AUTO_INCREMENT\")\n",
    "cursor.execute(\"ALTER TABLE HitAndRun MODIFY id INTEGER AUTO_INCREMENT\")\n",
    "cursor.execute(\"ALTER TABLE Lighting MODIFY id INTEGER AUTO_INCREMENT\")\n",
    "cursor.execute(\"ALTER TABLE LocationType MODIFY id INTEGER AUTO_INCREMENT\")\n",
    "cursor.execute(\"ALTER TABLE PrimaryCollisionFactor MODIFY id INTEGER AUTO_INCREMENT\")\n",
    "cursor.execute(\"ALTER TABLE RoadCondition MODIFY id INTEGER AUTO_INCREMENT\")\n",
    "cursor.execute(\"ALTER TABLE RoadSurface MODIFY id INTEGER AUTO_INCREMENT\")\n",
    "cursor.execute(\"ALTER TABLE TypeOfCollision MODIFY id INTEGER AUTO_INCREMENT\")\n",
    "cursor.execute(\"ALTER TABLE Weather MODIFY id INTEGER AUTO_INCREMENT\")\n",
    "cursor.execute(\"ALTER TABLE PcfViolationCategory MODIFY id INTEGER AUTO_INCREMENT\")\n",
    "\n",
    "cursor.execute(\"SET FOREIGN_KEY_CHECKS = 1\")"
   ]
  },
  {
   "cell_type": "code",
   "execution_count": 63,
   "metadata": {},
   "outputs": [],
   "source": [
    "cursor.execute(\"SET FOREIGN_KEY_CHECKS = 0\")\n",
    "\n",
    "cursor.execute(\"ALTER TABLE CellphoneUse MODIFY id INTEGER AUTO_INCREMENT\")\n",
    "cursor.execute(\"ALTER TABLE FinancialResponsability MODIFY id INTEGER AUTO_INCREMENT\")\n",
    "cursor.execute(\"ALTER TABLE MovementPrecedingCollision MODIFY id INTEGER AUTO_INCREMENT\")\n",
    "cursor.execute(\"ALTER TABLE OtherAssociatedFactors MODIFY id INTEGER AUTO_INCREMENT\")\n",
    "cursor.execute(\"ALTER TABLE PartyDrugPhysical MODIFY id INTEGER AUTO_INCREMENT\")\n",
    "cursor.execute(\"ALTER TABLE PartySafetyEquipement MODIFY id INTEGER AUTO_INCREMENT\")\n",
    "cursor.execute(\"ALTER TABLE PersonSex MODIFY id INTEGER AUTO_INCREMENT\")\n",
    "cursor.execute(\"ALTER TABLE PartySobriety MODIFY id INTEGER AUTO_INCREMENT\")\n",
    "cursor.execute(\"ALTER TABLE PartyType MODIFY id INTEGER AUTO_INCREMENT\")\n",
    "cursor.execute(\"ALTER TABLE StatewideVehiculeType MODIFY id INTEGER AUTO_INCREMENT\")\n",
    "cursor.execute(\"ALTER TABLE VehiculeMake MODIFY id INTEGER AUTO_INCREMENT\")\n",
    "\n",
    "cursor.execute(\"SET FOREIGN_KEY_CHECKS = 1\")"
   ]
  },
  {
   "cell_type": "code",
   "execution_count": 64,
   "metadata": {},
   "outputs": [],
   "source": [
    "cursor.execute(\"SET FOREIGN_KEY_CHECKS = 0\")\n",
    "\n",
    "cursor.execute(\"ALTER TABLE VictimSafetyEquipment MODIFY id INTEGER AUTO_INCREMENT\")\n",
    "cursor.execute(\"ALTER TABLE VictimDegreeOfInjury MODIFY id INTEGER AUTO_INCREMENT\")\n",
    "\n",
    "cursor.execute(\"SET FOREIGN_KEY_CHECKS = 1\")"
   ]
  },
  {
   "cell_type": "code",
   "execution_count": 238,
   "metadata": {},
   "outputs": [],
   "source": [
    "cursor.execute(\"SET FOREIGN_KEY_CHECKS = 0\")\n",
    "\n",
    "cursor.execute(\"ALTER TABLE Lighting MODIFY COLUMN description VARCHAR(39)\")\n",
    "\n",
    "cursor.execute(\"SET FOREIGN_KEY_CHECKS = 1\")"
   ]
  },
  {
   "source": [
    "## Code to dump each csv row into the MySQL db"
   ],
   "cell_type": "markdown",
   "metadata": {}
  },
  {
   "cell_type": "code",
   "execution_count": 291,
   "metadata": {},
   "outputs": [],
   "source": [
    "import pandas as pd"
   ]
  },
  {
   "cell_type": "code",
   "execution_count": 474,
   "metadata": {},
   "outputs": [],
   "source": [
    "dict_pcf_violation_category = {}\n",
    "\n",
    "dict_location_type = {}\n",
    "dict_lighting = {}\n",
    "dict_road_condition = {}\n",
    "dict_road_surface = {}\n",
    "dict_weather = {}\n",
    "\n",
    "dict_type_of_collision = {}\n",
    "dict_collision_severity = {}\n",
    "dict_hit_and_run = {}"
   ]
  },
  {
   "source": [
    "### Collision"
   ],
   "cell_type": "markdown",
   "metadata": {}
  },
  {
   "cell_type": "code",
   "execution_count": 475,
   "metadata": {},
   "outputs": [],
   "source": [
    "def dump_pcfs(row):\n",
    "    if(row.pcf_violation_category is None):\n",
    "        pcf_viol_categ_id = None\n",
    "    elif row.pcf_violation_category in dict_pcf_violation_category:\n",
    "        pcf_viol_categ_id = dict_pcf_violation_category[row.pcf_violation_category]\n",
    "    else:\n",
    "        cursor.execute(\"\"\"INSERT INTO PcfViolationCategory\n",
    "            (description)\n",
    "            VALUES (%s)\n",
    "            ON DUPLICATE KEY UPDATE id=id\"\"\", (row.pcf_violation_category,))\n",
    "        cnx.commit()\n",
    "\n",
    "        cursor.execute(\"SELECT id FROM PcfViolationCategory WHERE description=%s LIMIT 0, 1\", (row.pcf_violation_category,))\n",
    "        pcf_viol_categ_id = cursor.fetchone()[0]\n",
    "\n",
    "        dict_pcf_violation_category[row.pcf_violation_category] = pcf_viol_categ_id\n",
    "\n",
    "    cursor.execute(\"\"\"INSERT INTO Pcfs\n",
    "        VALUES (%s, %s, %s, %s)\n",
    "        ON DUPLICATE KEY UPDATE case_id=case_id\"\"\", (row.case_id, row.pcf_violation, pcf_viol_categ_id, row.pcf_violation_subsection))"
   ]
  },
  {
   "cell_type": "code",
   "execution_count": 476,
   "metadata": {},
   "outputs": [],
   "source": [
    "def dump_locations(row):\n",
    "    cursor.execute(\"\"\"INSERT INTO Locations\n",
    "        VALUES (%s, %s, %s)\n",
    "        ON DUPLICATE KEY UPDATE case_id=case_id\"\"\", (row.case_id, row.population, row.county_city_location))"
   ]
  },
  {
   "cell_type": "code",
   "execution_count": 477,
   "metadata": {},
   "outputs": [],
   "source": [
    "def dump_location_type(row):\n",
    "    if(row.location_type is None):\n",
    "        location_type_id = None\n",
    "    elif row.location_type in dict_location_type:\n",
    "        location_type_id = dict_location_type[row.location_type]\n",
    "    else:\n",
    "        cursor.execute(\"\"\"INSERT INTO LocationType\n",
    "            (description)\n",
    "            VALUES (%s)\n",
    "            ON DUPLICATE KEY UPDATE id=id\"\"\", (row.location_type,))\n",
    "        cnx.commit()\n",
    "        \n",
    "        cursor.execute(\"SELECT id FROM LocationType WHERE description=%s LIMIT 0, 1\", (row.location_type,))\n",
    "        location_type_id = cursor.fetchone()[0]\n",
    "\n",
    "        dict_location_type[row.location_type] = location_type_id\n",
    "\n",
    "    return location_type_id"
   ]
  },
  {
   "cell_type": "code",
   "execution_count": 478,
   "metadata": {},
   "outputs": [],
   "source": [
    "def dump_lighting(row):\n",
    "    if(row.lighting is None):\n",
    "        lighting_id = None\n",
    "    elif row.lighting in dict_lighting:\n",
    "        lighting_id = dict_lighting[row.lighting] \n",
    "    else:\n",
    "        cursor.execute(\"\"\"INSERT INTO Lighting\n",
    "            (description)\n",
    "            VALUES (%s)\n",
    "            ON DUPLICATE KEY UPDATE id=id\"\"\", (row.lighting,))\n",
    "        cnx.commit()\n",
    "        \n",
    "        cursor.execute(\"SELECT id FROM Lighting WHERE description=%s LIMIT 0, 1\", (row.lighting,))\n",
    "        lighting_id = cursor.fetchone()[0]\n",
    "\n",
    "        dict_lighting[row.lighting] = lighting_id\n",
    "\n",
    "    return lighting_id"
   ]
  },
  {
   "cell_type": "code",
   "execution_count": 479,
   "metadata": {},
   "outputs": [],
   "source": [
    "def dump_road_condition_1(row):\n",
    "    if(row.road_condition_1 is None):\n",
    "        road_cond1_id = None\n",
    "    elif row.road_condition_1 in dict_road_condition:\n",
    "        road_cond1_id = dict_road_condition[row.road_condition_1] \n",
    "    else:\n",
    "        cursor.execute(\"\"\"INSERT INTO RoadCondition\n",
    "            (description)\n",
    "            VALUES (%s)\n",
    "            ON DUPLICATE KEY UPDATE id=id\"\"\", (row.road_condition_1,))\n",
    "        cnx.commit()\n",
    "        \n",
    "        cursor.execute(\"SELECT id FROM RoadCondition WHERE description=%s LIMIT 0, 1\", (row.road_condition_1,))\n",
    "        road_cond1_id = cursor.fetchone()[0]\n",
    "\n",
    "        dict_road_condition[row.road_condition_1] = road_cond1_id\n",
    "\n",
    "    return road_cond1_id"
   ]
  },
  {
   "cell_type": "code",
   "execution_count": 480,
   "metadata": {},
   "outputs": [],
   "source": [
    "def dump_road_condition_2(row):\n",
    "    if(row.road_condition_2 is None):\n",
    "        road_cond2_id = None\n",
    "    elif row.road_condition_2 in dict_road_condition:\n",
    "        road_cond2_id = dict_road_condition[row.road_condition_2] \n",
    "    else:\n",
    "        cursor.execute(\"\"\"INSERT INTO RoadCondition\n",
    "            (description)\n",
    "            VALUES (%s)\n",
    "            ON DUPLICATE KEY UPDATE id=id\"\"\", (row.road_condition_2,))\n",
    "        cnx.commit()\n",
    "        \n",
    "        cursor.execute(\"SELECT id FROM RoadCondition WHERE description=%s LIMIT 0, 1\", (row.road_condition_2,))\n",
    "        road_cond2_id = cursor.fetchone()[0]\n",
    "\n",
    "        dict_road_condition[row.road_condition_2] = road_cond2_id\n",
    "    \n",
    "    return road_cond2_id"
   ]
  },
  {
   "cell_type": "code",
   "execution_count": 481,
   "metadata": {},
   "outputs": [],
   "source": [
    "def dump_road_surface(row):\n",
    "    if(row.road_surface is None):\n",
    "        road_surface_id = None\n",
    "    elif row.road_surface in dict_road_surface:\n",
    "        road_surface_id = dict_road_surface[row.road_surface] \n",
    "    else:\n",
    "        cursor.execute(\"\"\"INSERT INTO RoadSurface\n",
    "            (description)\n",
    "            VALUES (%s)\n",
    "            ON DUPLICATE KEY UPDATE id=id\"\"\", (row.road_surface,))\n",
    "        cnx.commit()\n",
    "        \n",
    "        cursor.execute(\"SELECT id FROM RoadSurface WHERE description=%s LIMIT 0, 1\", (row.road_surface,))\n",
    "        road_surface_id = cursor.fetchone()[0]\n",
    "\n",
    "        dict_road_surface[row.road_surface] = road_surface_id\n",
    "\n",
    "    return road_surface_id"
   ]
  },
  {
   "cell_type": "code",
   "execution_count": 482,
   "metadata": {},
   "outputs": [],
   "source": [
    "def dump_weather_1(row):\n",
    "    if(row.weather_1 is None):\n",
    "        weather1_id = None\n",
    "    elif row.weather_1 in dict_weather:\n",
    "        weather1_id = dict_weather[row.weather_1] \n",
    "    else:\n",
    "        cursor.execute(\"\"\"INSERT INTO Weather\n",
    "            (description)\n",
    "            VALUES (%s)\n",
    "            ON DUPLICATE KEY UPDATE id=id\"\"\", (row.weather_1,))\n",
    "        cnx.commit()\n",
    "        \n",
    "        cursor.execute(\"SELECT id FROM Weather WHERE description=%s LIMIT 0, 1\", (row.weather_1,))\n",
    "        weather1_id = cursor.fetchone()[0]\n",
    "\n",
    "        dict_weather[row.weather_1] = weather1_id\n",
    "    \n",
    "    return weather1_id"
   ]
  },
  {
   "cell_type": "code",
   "execution_count": 483,
   "metadata": {},
   "outputs": [],
   "source": [
    "def dump_weather_2(row):\n",
    "    if(row.weather_2 is None):\n",
    "        weather2_id = None\n",
    "    elif row.weather_2 in dict_weather:\n",
    "        weather2_id = dict_weather[row.weather_2] \n",
    "    else:\n",
    "        cursor.execute(\"\"\"INSERT INTO Weather\n",
    "            (description)\n",
    "            VALUES (%s)\n",
    "            ON DUPLICATE KEY UPDATE id=id\"\"\", (row.weather_2,))\n",
    "        cnx.commit()\n",
    "        \n",
    "        cursor.execute(\"SELECT id FROM Weather WHERE description=%s LIMIT 0, 1\", (row.weather_2,))\n",
    "        weather2_id = cursor.fetchone()[0]\n",
    "\n",
    "        dict_weather[row.weather_2] = weather2_id\n",
    "    \n",
    "    return weather2_id"
   ]
  },
  {
   "cell_type": "code",
   "execution_count": 484,
   "metadata": {},
   "outputs": [],
   "source": [
    "def dump_factors(row):\n",
    "    location_type_id = dump_location_type(row)\n",
    "    lighting_id = dump_lighting(row)\n",
    "    road_cond1_id = dump_road_condition_1(row)\n",
    "    road_cond2_id = dump_road_condition_2(row)\n",
    "    road_surface_id = dump_road_surface(row)\n",
    "    weather1_id = dump_weather_1(row)\n",
    "    weather2_id = dump_weather_2(row)\n",
    "\n",
    "    cursor.execute(\"\"\"INSERT INTO Factors\n",
    "        VALUES (%s, %s, %s, %s, %s, %s, %s, %s)\n",
    "        ON DUPLICATE KEY UPDATE case_id=case_id\"\"\",(row.case_id, location_type_id, lighting_id, road_cond1_id, road_cond2_id, road_surface_id, weather1_id, weather2_id))"
   ]
  },
  {
   "cell_type": "code",
   "execution_count": 485,
   "metadata": {},
   "outputs": [],
   "source": [
    "def dump_cases(row):\n",
    "    cursor.execute(\"\"\"INSERT INTO Cases\n",
    "        VALUES (%s, %s, %s, %s)\n",
    "        ON DUPLICATE KEY UPDATE case_id=case_id\"\"\",(row.case_id, row.process_date, row.officer_id, row.jurisdiction))"
   ]
  },
  {
   "cell_type": "code",
   "execution_count": 486,
   "metadata": {},
   "outputs": [],
   "source": [
    "def dump_type_of_collision(row):\n",
    "    if(row.type_of_collision is None):\n",
    "        col_type_id = None\n",
    "    elif row.type_of_collision in dict_type_of_collision:\n",
    "        col_type_id = dict_type_of_collision[row.type_of_collision] \n",
    "    else:\n",
    "        cursor.execute(\"\"\"INSERT INTO TypeOfCollision \n",
    "            (description)\n",
    "            VALUES (%s)\n",
    "            ON DUPLICATE KEY UPDATE id=id\"\"\", (row.type_of_collision,))\n",
    "        cnx.commit()\n",
    "        cursor.execute(\"SELECT id FROM TypeOfCollision WHERE description=%s LIMIT 0, 1\", (row.type_of_collision,))\n",
    "        col_type_id = cursor.fetchone()[0]\n",
    "\n",
    "        dict_type_of_collision[row.type_of_collision] = col_type_id\n",
    "\n",
    "    return col_type_id"
   ]
  },
  {
   "cell_type": "code",
   "execution_count": 487,
   "metadata": {},
   "outputs": [],
   "source": [
    "def dump_collision_severity(row):\n",
    "    if row.collision_severity in dict_collision_severity:\n",
    "        col_severity_id = dict_collision_severity[row.collision_severity] \n",
    "    else:\n",
    "        cursor.execute(\"\"\"INSERT INTO CollisionSeverity\n",
    "            (description)\n",
    "            VALUES (%s)\n",
    "            ON DUPLICATE KEY UPDATE id=id\"\"\", (row.collision_severity,))\n",
    "        cnx.commit()\n",
    "        cursor.execute(\"SELECT id FROM CollisionSeverity WHERE description=%s LIMIT 0, 1\", (row.collision_severity,))\n",
    "        col_severity_id = cursor.fetchone()[0]\n",
    "\n",
    "        dict_collision_severity[row.collision_severity] = col_severity_id\n",
    "\n",
    "    return col_severity_id"
   ]
  },
  {
   "cell_type": "code",
   "execution_count": 488,
   "metadata": {},
   "outputs": [],
   "source": [
    "def dump_hit_and_run(row):\n",
    "    if row.hit_and_run in dict_hit_and_run:\n",
    "        hit_n_run_id = dict_hit_and_run[row.hit_and_run] \n",
    "    else:\n",
    "        cursor.execute(\"\"\"INSERT INTO HitAndRun\n",
    "            (description)\n",
    "            VALUES (%s)\n",
    "            ON DUPLICATE KEY UPDATE id=id\"\"\", (row.hit_and_run,))\n",
    "        cnx.commit()\n",
    "        cursor.execute(\"SELECT id FROM HitAndRun WHERE description=%s LIMIT 0, 1\", (row.hit_and_run,))\n",
    "        hit_n_run_id = cursor.fetchone()[0]\n",
    "\n",
    "        dict_hit_and_run[row.hit_and_run] = hit_n_run_id\n",
    "\n",
    "    return hit_n_run_id"
   ]
  },
  {
   "cell_type": "code",
   "execution_count": 489,
   "metadata": {},
   "outputs": [],
   "source": [
    "def dump_collision_row(row):\n",
    "    col_type_id = dump_type_of_collision(row)\n",
    "    col_severity_id = dump_collision_severity(row)\n",
    "    hit_n_run_id = dump_hit_and_run(row)\n",
    "\n",
    "    cursor.execute(\"\"\"INSERT INTO Collisions\n",
    "        VALUES (%s, %s, %s, %s, %s, %s, %s)\n",
    "        ON DUPLICATE KEY UPDATE case_id=case_id\"\"\", (row.case_id, row.collision_date, row.collision_time, col_type_id, col_severity_id, hit_n_run_id, row.tow_away))\n",
    "    cnx.commit()\n",
    "\n",
    "    dump_pcfs(row)\n",
    "    dump_locations(row)\n",
    "    dump_factors(row)\n",
    "    dump_cases(row)"
   ]
  },
  {
   "cell_type": "code",
   "execution_count": 490,
   "metadata": {},
   "outputs": [],
   "source": [
    "def import_collisions(df):\n",
    "    for idx, row in enumerate(df.itertuples(index=True, name=\"Pandas\")):\n",
    "        if(idx % 10000 == 0):\n",
    "            print(f\"row number {idx}\")\n",
    "        dump_collision_row(row)"
   ]
  },
  {
   "cell_type": "code",
   "execution_count": 208,
   "metadata": {},
   "outputs": [
    {
     "output_type": "stream",
     "name": "stderr",
     "text": [
      "/Users/xavier/miniconda3/lib/python3.7/site-packages/IPython/core/interactiveshell.py:3058: DtypeWarning: Columns (9) have mixed types.Specify dtype option on import or set low_memory=False.\n  interactivity=interactivity, compiler=compiler, result=result)\n"
     ]
    }
   ],
   "source": [
    "collisions = pd.read_csv('../collisions2018.csv')"
   ]
  },
  {
   "cell_type": "code",
   "execution_count": 211,
   "metadata": {},
   "outputs": [],
   "source": [
    "collisions = collisions.astype(object).where(pd.notnull(collisions),None)"
   ]
  },
  {
   "cell_type": "code",
   "execution_count": 491,
   "metadata": {},
   "outputs": [
    {
     "output_type": "stream",
     "name": "stdout",
     "text": [
      "row number 0\n",
      "row number 10000\n",
      "row number 20000\n",
      "row number 30000\n",
      "row number 40000\n",
      "row number 50000\n",
      "row number 60000\n",
      "row number 70000\n",
      "row number 80000\n",
      "row number 90000\n",
      "row number 100000\n",
      "row number 110000\n",
      "row number 120000\n",
      "row number 130000\n",
      "row number 140000\n",
      "row number 150000\n",
      "row number 160000\n",
      "row number 170000\n",
      "row number 180000\n",
      "row number 190000\n",
      "row number 200000\n",
      "row number 210000\n",
      "row number 220000\n",
      "row number 230000\n",
      "row number 240000\n",
      "row number 250000\n",
      "row number 260000\n",
      "row number 270000\n",
      "row number 280000\n",
      "row number 290000\n",
      "row number 300000\n",
      "row number 310000\n",
      "row number 320000\n",
      "row number 330000\n",
      "row number 340000\n",
      "row number 350000\n",
      "row number 360000\n",
      "row number 370000\n",
      "row number 380000\n",
      "row number 390000\n",
      "row number 400000\n",
      "row number 410000\n",
      "row number 420000\n",
      "row number 430000\n",
      "row number 440000\n",
      "row number 450000\n",
      "row number 460000\n",
      "row number 470000\n",
      "row number 480000\n",
      "row number 490000\n",
      "row number 500000\n",
      "row number 510000\n",
      "row number 520000\n",
      "row number 530000\n",
      "row number 540000\n",
      "row number 550000\n",
      "row number 560000\n",
      "row number 570000\n",
      "row number 580000\n",
      "row number 590000\n",
      "row number 600000\n",
      "row number 610000\n",
      "row number 620000\n",
      "row number 630000\n",
      "row number 640000\n",
      "row number 650000\n",
      "row number 660000\n",
      "row number 670000\n",
      "row number 680000\n",
      "row number 690000\n",
      "row number 700000\n",
      "row number 710000\n",
      "row number 720000\n",
      "row number 730000\n",
      "row number 740000\n",
      "row number 750000\n",
      "row number 760000\n",
      "row number 770000\n",
      "row number 780000\n",
      "row number 790000\n",
      "row number 800000\n",
      "row number 810000\n",
      "row number 820000\n",
      "row number 830000\n",
      "row number 840000\n",
      "row number 850000\n",
      "row number 860000\n",
      "row number 870000\n",
      "row number 880000\n",
      "row number 890000\n",
      "row number 900000\n",
      "row number 910000\n",
      "row number 920000\n",
      "row number 930000\n",
      "row number 940000\n",
      "row number 950000\n",
      "row number 960000\n",
      "row number 970000\n",
      "row number 980000\n",
      "row number 990000\n",
      "row number 1000000\n",
      "row number 1010000\n",
      "row number 1020000\n",
      "row number 1030000\n",
      "row number 1040000\n",
      "row number 1050000\n",
      "row number 1060000\n",
      "row number 1070000\n",
      "row number 1080000\n",
      "row number 1090000\n",
      "row number 1100000\n",
      "row number 1110000\n",
      "row number 1120000\n",
      "row number 1130000\n",
      "row number 1140000\n",
      "row number 1150000\n",
      "row number 1160000\n",
      "row number 1170000\n",
      "row number 1180000\n",
      "row number 1190000\n",
      "row number 1200000\n",
      "row number 1210000\n",
      "row number 1220000\n",
      "row number 1230000\n",
      "row number 1240000\n",
      "row number 1250000\n",
      "row number 1260000\n",
      "row number 1270000\n",
      "row number 1280000\n",
      "row number 1290000\n",
      "row number 1300000\n",
      "row number 1310000\n",
      "row number 1320000\n",
      "row number 1330000\n",
      "row number 1340000\n",
      "row number 1350000\n",
      "row number 1360000\n",
      "row number 1370000\n",
      "row number 1380000\n",
      "row number 1390000\n",
      "row number 1400000\n",
      "row number 1410000\n",
      "row number 1420000\n",
      "row number 1430000\n",
      "row number 1440000\n",
      "row number 1450000\n",
      "row number 1460000\n",
      "row number 1470000\n",
      "row number 1480000\n",
      "row number 1490000\n",
      "row number 1500000\n",
      "row number 1510000\n",
      "row number 1520000\n",
      "row number 1530000\n",
      "row number 1540000\n",
      "row number 1550000\n",
      "row number 1560000\n",
      "row number 1570000\n",
      "row number 1580000\n",
      "row number 1590000\n",
      "row number 1600000\n",
      "row number 1610000\n",
      "row number 1620000\n",
      "row number 1630000\n",
      "row number 1640000\n",
      "row number 1650000\n",
      "row number 1660000\n",
      "row number 1670000\n",
      "row number 1680000\n",
      "row number 1690000\n",
      "row number 1700000\n",
      "row number 1710000\n",
      "row number 1720000\n",
      "row number 1730000\n",
      "row number 1740000\n",
      "row number 1750000\n",
      "row number 1760000\n",
      "row number 1770000\n",
      "row number 1780000\n",
      "row number 1790000\n",
      "row number 1800000\n",
      "row number 1810000\n",
      "row number 1820000\n",
      "row number 1830000\n",
      "row number 1840000\n",
      "row number 1850000\n",
      "row number 1860000\n",
      "row number 1870000\n",
      "row number 1880000\n",
      "row number 1890000\n",
      "row number 1900000\n",
      "row number 1910000\n",
      "row number 1920000\n",
      "row number 1930000\n",
      "row number 1940000\n",
      "row number 1950000\n",
      "row number 1960000\n",
      "row number 1970000\n",
      "row number 1980000\n",
      "row number 1990000\n",
      "row number 2000000\n",
      "row number 2010000\n",
      "row number 2020000\n",
      "row number 2030000\n",
      "row number 2040000\n",
      "row number 2050000\n",
      "row number 2060000\n",
      "row number 2070000\n",
      "row number 2080000\n",
      "row number 2090000\n",
      "row number 2100000\n",
      "row number 2110000\n",
      "row number 2120000\n",
      "row number 2130000\n",
      "row number 2140000\n",
      "row number 2150000\n",
      "row number 2160000\n",
      "row number 2170000\n",
      "row number 2180000\n",
      "row number 2190000\n",
      "row number 2200000\n",
      "row number 2210000\n",
      "row number 2220000\n",
      "row number 2230000\n",
      "row number 2240000\n",
      "row number 2250000\n",
      "row number 2260000\n",
      "row number 2270000\n",
      "row number 2280000\n",
      "row number 2290000\n",
      "row number 2300000\n",
      "row number 2310000\n",
      "row number 2320000\n",
      "row number 2330000\n",
      "row number 2340000\n",
      "row number 2350000\n",
      "row number 2360000\n",
      "row number 2370000\n",
      "row number 2380000\n",
      "row number 2390000\n",
      "row number 2400000\n",
      "row number 2410000\n",
      "row number 2420000\n",
      "row number 2430000\n",
      "row number 2440000\n",
      "row number 2450000\n",
      "row number 2460000\n",
      "row number 2470000\n",
      "row number 2480000\n",
      "row number 2490000\n",
      "row number 2500000\n",
      "row number 2510000\n",
      "row number 2520000\n",
      "row number 2530000\n",
      "row number 2540000\n",
      "row number 2550000\n",
      "row number 2560000\n",
      "row number 2570000\n",
      "row number 2580000\n",
      "row number 2590000\n",
      "row number 2600000\n",
      "row number 2610000\n",
      "row number 2620000\n",
      "row number 2630000\n",
      "row number 2640000\n",
      "row number 2650000\n",
      "row number 2660000\n",
      "row number 2670000\n",
      "row number 2680000\n",
      "row number 2690000\n",
      "row number 2700000\n",
      "row number 2710000\n",
      "row number 2720000\n",
      "row number 2730000\n",
      "row number 2740000\n",
      "row number 2750000\n",
      "row number 2760000\n",
      "row number 2770000\n",
      "row number 2780000\n",
      "row number 2790000\n",
      "row number 2800000\n",
      "row number 2810000\n",
      "row number 2820000\n",
      "row number 2830000\n",
      "row number 2840000\n",
      "row number 2850000\n",
      "row number 2860000\n",
      "row number 2870000\n",
      "row number 2880000\n",
      "row number 2890000\n",
      "row number 2900000\n",
      "row number 2910000\n",
      "row number 2920000\n",
      "row number 2930000\n",
      "row number 2940000\n",
      "row number 2950000\n",
      "row number 2960000\n",
      "row number 2970000\n",
      "row number 2980000\n",
      "row number 2990000\n",
      "row number 3000000\n",
      "row number 3010000\n",
      "row number 3020000\n",
      "row number 3030000\n",
      "row number 3040000\n",
      "row number 3050000\n",
      "row number 3060000\n",
      "row number 3070000\n",
      "row number 3080000\n",
      "row number 3090000\n",
      "row number 3100000\n",
      "row number 3110000\n",
      "row number 3120000\n",
      "row number 3130000\n",
      "row number 3140000\n",
      "row number 3150000\n",
      "row number 3160000\n",
      "row number 3170000\n",
      "row number 3180000\n",
      "row number 3190000\n",
      "row number 3200000\n",
      "row number 3210000\n",
      "row number 3220000\n",
      "row number 3230000\n",
      "row number 3240000\n",
      "row number 3250000\n",
      "row number 3260000\n",
      "row number 3270000\n",
      "row number 3280000\n",
      "row number 3290000\n",
      "row number 3300000\n",
      "row number 3310000\n",
      "row number 3320000\n",
      "row number 3330000\n",
      "row number 3340000\n",
      "row number 3350000\n",
      "row number 3360000\n",
      "row number 3370000\n",
      "row number 3380000\n",
      "row number 3390000\n",
      "row number 3400000\n",
      "row number 3410000\n",
      "row number 3420000\n",
      "row number 3430000\n",
      "row number 3440000\n",
      "row number 3450000\n",
      "row number 3460000\n",
      "row number 3470000\n",
      "row number 3480000\n",
      "row number 3490000\n",
      "row number 3500000\n",
      "row number 3510000\n",
      "row number 3520000\n",
      "row number 3530000\n",
      "row number 3540000\n",
      "row number 3550000\n",
      "row number 3560000\n",
      "row number 3570000\n",
      "row number 3580000\n",
      "row number 3590000\n",
      "row number 3600000\n",
      "row number 3610000\n",
      "row number 3620000\n",
      "row number 3630000\n",
      "row number 3640000\n",
      "row number 3650000\n",
      "row number 3660000\n",
      "row number 3670000\n"
     ]
    }
   ],
   "source": [
    "import_collisions(collisions)"
   ]
  },
  {
   "cell_type": "code",
   "execution_count": 188,
   "metadata": {},
   "outputs": [
    {
     "output_type": "stream",
     "name": "stdout",
     "text": [
      "(4, 'event_scheduler', 'localhost', None, 'Daemon', 194392, 'Waiting on empty queue', None)\n(9, 'root', 'localhost', None, 'Sleep', 23, '', None)\n(10, 'root', '127.0.0.1:46402', None, 'Sleep', 12, '', None)\n(24701, 'root', '127.0.0.1:32920', None, 'Sleep', 1, '', None)\n(24751, 'root', '185.25.195.61:59564', 'data', 'Sleep', 289, '', None)\n(24759, 'root', '127.0.0.1:33090', None, 'Sleep', 12, '', None)\n(24774, 'root', '185.25.195.61:59661', 'data', 'Query', 0, 'starting', 'SHOW PROCESSLIST')\n(24789, 'root', '127.0.0.1:33176', None, 'Sleep', 12, '', None)\n"
     ]
    }
   ],
   "source": [
    "cursor.execute(\"SHOW PROCESSLIST\")\n",
    "res = cursor.fetchall()\n",
    "for x in res:\n",
    "    print(x)"
   ]
  },
  {
   "cell_type": "code",
   "execution_count": null,
   "metadata": {},
   "outputs": [],
   "source": [
    "parties = pd.read_csv('../parties2018.csv')"
   ]
  },
  {
   "cell_type": "code",
   "execution_count": null,
   "metadata": {},
   "outputs": [],
   "source": [
    "def import_parties():\n",
    "    for row in parties.itertuples(index=True, name=\"Pandas\"):"
   ]
  },
  {
   "cell_type": "code",
   "execution_count": null,
   "metadata": {},
   "outputs": [],
   "source": [
    "victims = pd.read_csv('../victims2018.csv')"
   ]
  },
  {
   "cell_type": "code",
   "execution_count": null,
   "metadata": {},
   "outputs": [],
   "source": [
    "def import_victims(col):\n",
    "    for row in victims.itertuples(index=True, name=\"Pandas\"):"
   ]
  }
 ]
}