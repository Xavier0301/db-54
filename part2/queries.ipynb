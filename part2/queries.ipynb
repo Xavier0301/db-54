{
 "cells": [
  {
   "cell_type": "code",
   "execution_count": 2,
   "metadata": {},
   "outputs": [],
   "source": [
    "import mysql.connector\n",
    "from mysql.connector.constants import ClientFlag"
   ]
  },
  {
   "cell_type": "code",
   "execution_count": 3,
   "metadata": {},
   "outputs": [],
   "source": [
    "config = {\n",
    "    'user': 'root',\n",
    "    'password': 'Hh12H8y2ppBAq5Cj',\n",
    "    'host': 'localhost',\n",
    "    'database': 'data',\n",
    "    #'auth_plugin' : 'mysql_native_password'\n",
    "}\n",
    "\n",
    "cnx = mysql.connector.connect(**config)\n",
    "cnx.autocommit = True\n",
    "cursor = cnx.cursor()"
   ]
  },
  {
   "cell_type": "code",
   "execution_count": 11,
   "metadata": {},
   "outputs": [],
   "source": [
    "def markdown_table(res, titles):\n",
    "    if len(titles) != len(res[0]):\n",
    "        raise Exception(\"arg arrays don't match\")\n",
    "\n",
    "    table = ' | '.join(titles)\n",
    "    table += '\\n'\n",
    "    table += ' | '.join([\":---:\"] * len(titles))\n",
    "    table += '\\n'\n",
    "\n",
    "    for row in res:\n",
    "        table += ' | '.join([str(elem) for elem in row])\n",
    "        table += '\\n'\n",
    "\n",
    "    return table"
   ]
  },
  {
   "cell_type": "markdown",
   "metadata": {},
   "source": [
    "# Query 1"
   ]
  },
  {
   "cell_type": "code",
   "execution_count": 4,
   "metadata": {},
   "outputs": [],
   "source": [
    "cursor.execute(\"\"\"SELECT EXTRACT(YEAR FROM c.collision_date) as year, COUNT(*) as number_of_collisions\n",
    "FROM Collisions c \n",
    "GROUP BY EXTRACT(YEAR FROM c.collision_date)\n",
    "LIMIT 20\"\"\")"
   ]
  },
  {
   "cell_type": "code",
   "execution_count": 5,
   "metadata": {
    "tags": []
   },
   "outputs": [],
   "source": [
    "res = cursor.fetchall()"
   ]
  },
  {
   "cell_type": "code",
   "execution_count": 6,
   "metadata": {},
   "outputs": [
    {
     "name": "stdout",
     "output_type": "stream",
     "text": [
      "(2002, 544741)\n",
      "(2003, 538954)\n",
      "(2001, 522562)\n",
      "(2004, 538295)\n",
      "(2005, 532725)\n",
      "(2006, 498849)\n",
      "(2007, 501908)\n",
      "(2017, 7)\n",
      "(2018, 21)\n"
     ]
    }
   ],
   "source": [
    "for x in res:\n",
    "    print(x)"
   ]
  },
  {
   "cell_type": "code",
   "execution_count": 7,
   "metadata": {},
   "outputs": [
    {
     "name": "stdout",
     "output_type": "stream",
     "text": [
      "Year | Count\n",
      ":---: | :---:\n",
      "2002 | 544741\n",
      "2003 | 538954\n",
      "2001 | 522562\n",
      "2004 | 538295\n",
      "2005 | 532725\n",
      "2006 | 498849\n",
      "2007 | 501908\n",
      "2017 | 7\n",
      "2018 | 21\n",
      "\n"
     ]
    }
   ],
   "source": [
    "print(markdown_table(res, [\"Year\", \"Count\"]))"
   ]
  },
  {
   "cell_type": "markdown",
   "metadata": {},
   "source": [
    "# Query 2"
   ]
  },
  {
   "cell_type": "code",
   "execution_count": 24,
   "metadata": {},
   "outputs": [
    {
     "ename": "ProgrammingError",
     "evalue": "1050 (42S01): Table 'MostPopularVehicle' already exists",
     "output_type": "error",
     "traceback": [
      "\u001b[0;31m---------------------------------------------------------------------------\u001b[0m",
      "\u001b[0;31mProgrammingError\u001b[0m                          Traceback (most recent call last)",
      "\u001b[0;32m<ipython-input-24-e129b0674715>\u001b[0m in \u001b[0;36m<module>\u001b[0;34m\u001b[0m\n\u001b[0;32m----> 1\u001b[0;31m cursor.execute(\"\"\"CREATE VIEW MostPopularVehicle AS\n\u001b[0m\u001b[1;32m      2\u001b[0m (SELECT COUNT(p.id) as number_of_vehicles, v.vehicle_make as brand_id\n\u001b[1;32m      3\u001b[0m                              \u001b[0mFROM\u001b[0m \u001b[0mParties\u001b[0m \u001b[0mp\u001b[0m\u001b[0;34m,\u001b[0m \u001b[0mVehicles\u001b[0m \u001b[0mv\u001b[0m\u001b[0;34m\u001b[0m\u001b[0;34m\u001b[0m\u001b[0m\n\u001b[1;32m      4\u001b[0m                              \u001b[0mWHERE\u001b[0m \u001b[0mp\u001b[0m\u001b[0;34m.\u001b[0m\u001b[0mid\u001b[0m \u001b[0;34m=\u001b[0m \u001b[0mv\u001b[0m\u001b[0;34m.\u001b[0m\u001b[0mparty_id\u001b[0m \u001b[0mGROUP\u001b[0m \u001b[0mBY\u001b[0m \u001b[0mv\u001b[0m\u001b[0;34m.\u001b[0m\u001b[0mvehicle_make\u001b[0m\u001b[0;34m\u001b[0m\u001b[0;34m\u001b[0m\u001b[0m\n\u001b[1;32m      5\u001b[0m                              \u001b[0mORDER\u001b[0m \u001b[0mBY\u001b[0m \u001b[0mnumber_of_vehicles\u001b[0m \u001b[0mdesc\u001b[0m\u001b[0;34m\u001b[0m\u001b[0;34m\u001b[0m\u001b[0m\n",
      "\u001b[0;32m~/anaconda3/lib/python3.8/site-packages/mysql/connector/cursor.py\u001b[0m in \u001b[0;36mexecute\u001b[0;34m(self, operation, params, multi)\u001b[0m\n\u001b[1;32m    549\u001b[0m         \u001b[0;32melse\u001b[0m\u001b[0;34m:\u001b[0m\u001b[0;34m\u001b[0m\u001b[0;34m\u001b[0m\u001b[0m\n\u001b[1;32m    550\u001b[0m             \u001b[0;32mtry\u001b[0m\u001b[0;34m:\u001b[0m\u001b[0;34m\u001b[0m\u001b[0;34m\u001b[0m\u001b[0m\n\u001b[0;32m--> 551\u001b[0;31m                 \u001b[0mself\u001b[0m\u001b[0;34m.\u001b[0m\u001b[0m_handle_result\u001b[0m\u001b[0;34m(\u001b[0m\u001b[0mself\u001b[0m\u001b[0;34m.\u001b[0m\u001b[0m_connection\u001b[0m\u001b[0;34m.\u001b[0m\u001b[0mcmd_query\u001b[0m\u001b[0;34m(\u001b[0m\u001b[0mstmt\u001b[0m\u001b[0;34m)\u001b[0m\u001b[0;34m)\u001b[0m\u001b[0;34m\u001b[0m\u001b[0;34m\u001b[0m\u001b[0m\n\u001b[0m\u001b[1;32m    552\u001b[0m             \u001b[0;32mexcept\u001b[0m \u001b[0merrors\u001b[0m\u001b[0;34m.\u001b[0m\u001b[0mInterfaceError\u001b[0m\u001b[0;34m:\u001b[0m\u001b[0;34m\u001b[0m\u001b[0;34m\u001b[0m\u001b[0m\n\u001b[1;32m    553\u001b[0m                 \u001b[0;32mif\u001b[0m \u001b[0mself\u001b[0m\u001b[0;34m.\u001b[0m\u001b[0m_connection\u001b[0m\u001b[0;34m.\u001b[0m\u001b[0m_have_next_result\u001b[0m\u001b[0;34m:\u001b[0m  \u001b[0;31m# pylint: disable=W0212\u001b[0m\u001b[0;34m\u001b[0m\u001b[0;34m\u001b[0m\u001b[0m\n",
      "\u001b[0;32m~/anaconda3/lib/python3.8/site-packages/mysql/connector/connection.py\u001b[0m in \u001b[0;36mcmd_query\u001b[0;34m(self, query, raw, buffered, raw_as_string)\u001b[0m\n\u001b[1;32m    488\u001b[0m         \u001b[0;32mif\u001b[0m \u001b[0;32mnot\u001b[0m \u001b[0misinstance\u001b[0m\u001b[0;34m(\u001b[0m\u001b[0mquery\u001b[0m\u001b[0;34m,\u001b[0m \u001b[0mbytes\u001b[0m\u001b[0;34m)\u001b[0m\u001b[0;34m:\u001b[0m\u001b[0;34m\u001b[0m\u001b[0;34m\u001b[0m\u001b[0m\n\u001b[1;32m    489\u001b[0m             \u001b[0mquery\u001b[0m \u001b[0;34m=\u001b[0m \u001b[0mquery\u001b[0m\u001b[0;34m.\u001b[0m\u001b[0mencode\u001b[0m\u001b[0;34m(\u001b[0m\u001b[0;34m'utf-8'\u001b[0m\u001b[0;34m)\u001b[0m\u001b[0;34m\u001b[0m\u001b[0;34m\u001b[0m\u001b[0m\n\u001b[0;32m--> 490\u001b[0;31m         \u001b[0mresult\u001b[0m \u001b[0;34m=\u001b[0m \u001b[0mself\u001b[0m\u001b[0;34m.\u001b[0m\u001b[0m_handle_result\u001b[0m\u001b[0;34m(\u001b[0m\u001b[0mself\u001b[0m\u001b[0;34m.\u001b[0m\u001b[0m_send_cmd\u001b[0m\u001b[0;34m(\u001b[0m\u001b[0mServerCmd\u001b[0m\u001b[0;34m.\u001b[0m\u001b[0mQUERY\u001b[0m\u001b[0;34m,\u001b[0m \u001b[0mquery\u001b[0m\u001b[0;34m)\u001b[0m\u001b[0;34m)\u001b[0m\u001b[0;34m\u001b[0m\u001b[0;34m\u001b[0m\u001b[0m\n\u001b[0m\u001b[1;32m    491\u001b[0m \u001b[0;34m\u001b[0m\u001b[0m\n\u001b[1;32m    492\u001b[0m         \u001b[0;32mif\u001b[0m \u001b[0mself\u001b[0m\u001b[0;34m.\u001b[0m\u001b[0m_have_next_result\u001b[0m\u001b[0;34m:\u001b[0m\u001b[0;34m\u001b[0m\u001b[0;34m\u001b[0m\u001b[0m\n",
      "\u001b[0;32m~/anaconda3/lib/python3.8/site-packages/mysql/connector/connection.py\u001b[0m in \u001b[0;36m_handle_result\u001b[0;34m(self, packet)\u001b[0m\n\u001b[1;32m    393\u001b[0m             \u001b[0;32mreturn\u001b[0m \u001b[0mself\u001b[0m\u001b[0;34m.\u001b[0m\u001b[0m_handle_eof\u001b[0m\u001b[0;34m(\u001b[0m\u001b[0mpacket\u001b[0m\u001b[0;34m)\u001b[0m\u001b[0;34m\u001b[0m\u001b[0;34m\u001b[0m\u001b[0m\n\u001b[1;32m    394\u001b[0m         \u001b[0;32melif\u001b[0m \u001b[0mpacket\u001b[0m\u001b[0;34m[\u001b[0m\u001b[0;36m4\u001b[0m\u001b[0;34m]\u001b[0m \u001b[0;34m==\u001b[0m \u001b[0;36m255\u001b[0m\u001b[0;34m:\u001b[0m\u001b[0;34m\u001b[0m\u001b[0;34m\u001b[0m\u001b[0m\n\u001b[0;32m--> 395\u001b[0;31m             \u001b[0;32mraise\u001b[0m \u001b[0merrors\u001b[0m\u001b[0;34m.\u001b[0m\u001b[0mget_exception\u001b[0m\u001b[0;34m(\u001b[0m\u001b[0mpacket\u001b[0m\u001b[0;34m)\u001b[0m\u001b[0;34m\u001b[0m\u001b[0;34m\u001b[0m\u001b[0m\n\u001b[0m\u001b[1;32m    396\u001b[0m \u001b[0;34m\u001b[0m\u001b[0m\n\u001b[1;32m    397\u001b[0m         \u001b[0;31m# We have a text result set\u001b[0m\u001b[0;34m\u001b[0m\u001b[0;34m\u001b[0m\u001b[0;34m\u001b[0m\u001b[0m\n",
      "\u001b[0;31mProgrammingError\u001b[0m: 1050 (42S01): Table 'MostPopularVehicle' already exists"
     ]
    }
   ],
   "source": [
    "cursor.execute(\"\"\"CREATE VIEW MostPopularVehicle AS\n",
    "(SELECT COUNT(p.id) as number_of_vehicles, v.vehicle_make as brand_id\n",
    "\t\t\t     FROM Parties p, Vehicles v\n",
    "\t\t\t     WHERE p.id = v.party_id GROUP BY v.vehicle_make\n",
    "\t\t\t     ORDER BY number_of_vehicles desc\n",
    "\t\t\t     limit 1)\"\"\")"
   ]
  },
  {
   "cell_type": "code",
   "execution_count": 52,
   "metadata": {},
   "outputs": [
    {
     "ename": "InterfaceError",
     "evalue": "No result set to fetch from.",
     "output_type": "error",
     "traceback": [
      "\u001b[0;31m---------------------------------------------------------------------------\u001b[0m",
      "\u001b[0;31mInterfaceError\u001b[0m                            Traceback (most recent call last)",
      "\u001b[0;32m<ipython-input-52-9a9a37c46629>\u001b[0m in \u001b[0;36m<module>\u001b[0;34m\u001b[0m\n\u001b[0;32m----> 1\u001b[0;31m \u001b[0mres\u001b[0m \u001b[0;34m=\u001b[0m \u001b[0mcursor\u001b[0m\u001b[0;34m.\u001b[0m\u001b[0mfetchall\u001b[0m\u001b[0;34m(\u001b[0m\u001b[0;34m)\u001b[0m\u001b[0;34m\u001b[0m\u001b[0;34m\u001b[0m\u001b[0m\n\u001b[0m\u001b[1;32m      2\u001b[0m \u001b[0;32mfor\u001b[0m \u001b[0mx\u001b[0m \u001b[0;32min\u001b[0m \u001b[0mres\u001b[0m\u001b[0;34m:\u001b[0m\u001b[0;34m\u001b[0m\u001b[0;34m\u001b[0m\u001b[0m\n\u001b[1;32m      3\u001b[0m     \u001b[0mprint\u001b[0m\u001b[0;34m(\u001b[0m\u001b[0mx\u001b[0m\u001b[0;34m)\u001b[0m\u001b[0;34m\u001b[0m\u001b[0;34m\u001b[0m\u001b[0m\n",
      "\u001b[0;32m~/anaconda3/lib/python3.8/site-packages/mysql/connector/cursor.py\u001b[0m in \u001b[0;36mfetchall\u001b[0;34m(self)\u001b[0m\n",
      "\u001b[0;31mInterfaceError\u001b[0m: No result set to fetch from."
     ]
    }
   ],
   "source": [
    "res = cursor.fetchall()\n",
    "for x in res:\n",
    "    print(x)"
   ]
  },
  {
   "cell_type": "code",
   "execution_count": 17,
   "metadata": {},
   "outputs": [],
   "source": [
    "cursor.execute(\"\"\"SELECT vm.description as most_popular, vp.number_of_vehicles as number_of_vehicles\n",
    "FROM VehiculeMake vm, MostPopularVehicle vp\n",
    "WHERE vm.id = 1\"\"\")"
   ]
  },
  {
   "cell_type": "code",
   "execution_count": 18,
   "metadata": {},
   "outputs": [],
   "source": [
    "res = cursor.fetchall()"
   ]
  },
  {
   "cell_type": "code",
   "execution_count": null,
   "metadata": {},
   "outputs": [],
   "source": [
    "for x in res:\n",
    "    print(x)"
   ]
  },
  {
   "cell_type": "code",
   "execution_count": 19,
   "metadata": {},
   "outputs": [
    {
     "name": "stdout",
     "output_type": "stream",
     "text": [
      "Brand | Count\n",
      ":---: | :---:\n",
      "FORD | 1129719\n",
      "\n"
     ]
    }
   ],
   "source": [
    "print(markdown_table(res, [\"Brand\", \"Count\"]))"
   ]
  },
  {
   "cell_type": "markdown",
   "metadata": {},
   "source": [
    "# Query 3"
   ]
  },
  {
   "cell_type": "code",
   "execution_count": 17,
   "metadata": {},
   "outputs": [],
   "source": [
    "cursor.execute(\"\"\"SELECT\n",
    "  (\n",
    "    SELECT\n",
    "      COUNT(*)\n",
    "    FROM\n",
    "      (\n",
    "        SELECT\n",
    "          c.case_id\n",
    "        FROM\n",
    "          Collisions c,\n",
    "          Factors f,\n",
    "          Lighting l\n",
    "        WHERE\n",
    "          c.case_id = f.case_id\n",
    "          AND f.lighting = l.id\n",
    "          AND l.description LIKE 'dark%'\n",
    "      ) AS DarkCols\n",
    "  ) / (\n",
    "    SELECT\n",
    "      COUNT(*)\n",
    "    FROM\n",
    "      Collisions\n",
    "  )\"\"\")"
   ]
  },
  {
   "cell_type": "code",
   "execution_count": 18,
   "metadata": {},
   "outputs": [
    {
     "name": "stdout",
     "output_type": "stream",
     "text": [
      "(Decimal('0.2798'),)\n"
     ]
    }
   ],
   "source": [
    "res = cursor.fetchall()\n",
    "for x in res:\n",
    "    print(x)"
   ]
  },
  {
   "cell_type": "markdown",
   "metadata": {},
   "source": [
    "# Query 4"
   ]
  },
  {
   "cell_type": "code",
   "execution_count": 124,
   "metadata": {},
   "outputs": [],
   "source": [
    "cursor.execute(\"\"\"SELECT COUNT(snowy.case_id)\n",
    "FROM Collisions snowy , Factors f , Weather w \n",
    "WHERE snowy.case_id = f.case_id AND\n",
    "      (f.weather_1 = w.id OR\n",
    "      f.weather_2 = w.id) AND\n",
    "      w.description LIKE 'snowing' \"\"\")"
   ]
  },
  {
   "cell_type": "code",
   "execution_count": 125,
   "metadata": {},
   "outputs": [
    {
     "name": "stdout",
     "output_type": "stream",
     "text": [
      "(8542,)\n"
     ]
    }
   ],
   "source": [
    "res = cursor.fetchall()\n",
    "for x in res:\n",
    "    print(x)"
   ]
  },
  {
   "cell_type": "markdown",
   "metadata": {},
   "source": [
    "# Query 5"
   ]
  },
  {
   "cell_type": "code",
   "execution_count": 19,
   "metadata": {},
   "outputs": [],
   "source": [
    "cursor.execute(\"\"\"\n",
    "SELECT \n",
    "    CASE DAYOFWEEK(collision_date) \n",
    "        WHEN 1 THEN 'Sunday'\n",
    "        WHEN 2 THEN 'Monday'\n",
    "        WHEN 3 THEN 'Tuesday'\n",
    "        WHEN 4 THEN 'Wednesday'\n",
    "        WHEN 5 THEN 'Thursday'\n",
    "        WHEN 6 THEN 'Friday'\n",
    "        ELSE 'Saturday'\n",
    "    END as day, \n",
    "    COUNT(*) as counts \n",
    "FROM   Collisions\n",
    "GROUP BY day\n",
    "ORDER BY counts desc\n",
    "LIMIT 1\"\"\")"
   ]
  },
  {
   "cell_type": "code",
   "execution_count": 20,
   "metadata": {
    "tags": []
   },
   "outputs": [
    {
     "output_type": "stream",
     "name": "stdout",
     "text": [
      "('Friday', 614853)\n"
     ]
    }
   ],
   "source": [
    "res = cursor.fetchall()\n",
    "for x in res:\n",
    "    print(x)"
   ]
  },
  {
   "cell_type": "markdown",
   "metadata": {},
   "source": [
    "# Query 6"
   ]
  },
  {
   "cell_type": "code",
   "execution_count": 7,
   "metadata": {},
   "outputs": [],
   "source": [
    "cursor.execute(\"\"\"\n",
    "SELECT \n",
    "    CASE weather\n",
    "        WHEN 1 THEN 'clear'\n",
    "        WHEN 2 THEN 'cloudy'\n",
    "        WHEN 3 THEN 'fog'\n",
    "        WHEN 4 THEN 'other'\n",
    "        WHEN 5 THEN 'raining'\n",
    "        WHEN 6 THEN 'snowing'\n",
    "        ELSE 'wind'\n",
    "    END AS weather_type,\n",
    "    SUM(counts) as counts \n",
    "FROM\n",
    "    (SELECT f.weather_1 as weather, COUNT(*) as counts\n",
    "    FROM Factors f\n",
    "    GROUP BY f.weather_1\n",
    "    UNION ALL\n",
    "    SELECT f.weather_2 as weather, COUNT(*) as counts\n",
    "    FROM Factors f\n",
    "    GROUP BY f.weather_2) AS WeatherList\n",
    "    GROUP BY weather\n",
    "    ORDER BY counts DESC\"\"\")"
   ]
  },
  {
   "cell_type": "code",
   "execution_count": 8,
   "metadata": {},
   "outputs": [],
   "source": [
    "res = cursor.fetchall()"
   ]
  },
  {
   "cell_type": "code",
   "execution_count": 9,
   "metadata": {},
   "outputs": [
    {
     "output_type": "stream",
     "name": "stdout",
     "text": [
      "('wind', Decimal('3592379'))\n('clear', Decimal('2941042'))\n('cloudy', Decimal('548250'))\n('snowing', Decimal('223752'))\n('fog', Decimal('21259'))\n('wind', Decimal('13952'))\n('other', Decimal('8530'))\n('raining', Decimal('6960'))\n"
     ]
    }
   ],
   "source": [
    "for x in res:\n",
    "    print(x)"
   ]
  },
  {
   "cell_type": "code",
   "execution_count": 13,
   "metadata": {},
   "outputs": [
    {
     "output_type": "stream",
     "name": "stdout",
     "text": [
      "weather_type | count\n:---: | :---:\nwind | 3592379\nclear | 2941042\ncloudy | 548250\nsnowing | 223752\nfog | 21259\nwind | 13952\nother | 8530\nraining | 6960\n\n"
     ]
    }
   ],
   "source": [
    "print(markdown_table(res, ['weather_type', 'count']))"
   ]
  },
  {
   "cell_type": "markdown",
   "metadata": {},
   "source": [
    "# Query 7"
   ]
  },
  {
   "cell_type": "code",
   "execution_count": 100,
   "metadata": {},
   "outputs": [],
   "source": [
    "cursor.execute(\"\"\"SELECT COUNT(*) as count \n",
    "FROM Parties p, Factors f\n",
    "WHERE \n",
    "\tp.at_fault = 1 \n",
    "\tAND \n",
    "\tp.financial_responsibility IN \n",
    "\t\t(SELECT id FROM FinancialResponsibility WHERE description='Y')\n",
    "\tAND \n",
    "\tf.case_id = p.case_id\n",
    "\tAND \n",
    "\t\t(f.road_condition_1 IN\n",
    "\t\t\t(SELECT id FROM RoadCondition WHERE description='loose material') \n",
    "\t\tOR\n",
    "\t\tf.road_condition_2 IN \n",
    "\t\t\t(SELECT id FROM RoadCondition WHERE description='loose material') \n",
    "\t\t)\"\"\")"
   ]
  },
  {
   "cell_type": "code",
   "execution_count": 101,
   "metadata": {},
   "outputs": [
    {
     "name": "stdout",
     "output_type": "stream",
     "text": [
      "(4818,)\n"
     ]
    }
   ],
   "source": [
    "res = cursor.fetchall()\n",
    "for x in res:\n",
    "    print(x)"
   ]
  },
  {
   "cell_type": "markdown",
   "metadata": {},
   "source": [
    "# Query 8"
   ]
  },
  {
   "cell_type": "code",
   "execution_count": 56,
   "metadata": {},
   "outputs": [],
   "source": [
    "cursor.execute(\"\"\"CREATE INDEX index_victim_age ON Victims(victim_age)\"\"\")"
   ]
  },
  {
   "cell_type": "code",
   "execution_count": 60,
   "metadata": {},
   "outputs": [
    {
     "output_type": "error",
     "ename": "InternalError",
     "evalue": "Unread result found",
     "traceback": [
      "\u001b[0;31m---------------------------------------------------------------------------\u001b[0m",
      "\u001b[0;31mInternalError\u001b[0m                             Traceback (most recent call last)",
      "\u001b[0;32m<ipython-input-60-f1b562871b03>\u001b[0m in \u001b[0;36m<module>\u001b[0;34m\u001b[0m\n\u001b[1;32m     10\u001b[0m     ORDER BY v.victim_age) AS d\n\u001b[1;32m     11\u001b[0m \u001b[0mWHERE\u001b[0m\u001b[0;34m\u001b[0m\u001b[0;34m\u001b[0m\u001b[0m\n\u001b[0;32m---> 12\u001b[0;31m d.rowindex IN (FLOOR(@rowindex / 2), CEIL(@rowindex / 2));\"\"\")\n\u001b[0m",
      "\u001b[0;32m~/miniconda3/lib/python3.7/site-packages/mysql/connector/cursor.py\u001b[0m in \u001b[0;36mexecute\u001b[0;34m(self, operation, params, multi)\u001b[0m\n\u001b[1;32m    536\u001b[0m             \u001b[0;32mraise\u001b[0m \u001b[0merrors\u001b[0m\u001b[0;34m.\u001b[0m\u001b[0mProgrammingError\u001b[0m\u001b[0;34m(\u001b[0m\u001b[0;34m\"Cursor is not connected\"\u001b[0m\u001b[0;34m)\u001b[0m\u001b[0;34m\u001b[0m\u001b[0;34m\u001b[0m\u001b[0m\n\u001b[1;32m    537\u001b[0m \u001b[0;34m\u001b[0m\u001b[0m\n\u001b[0;32m--> 538\u001b[0;31m         \u001b[0mself\u001b[0m\u001b[0;34m.\u001b[0m\u001b[0m_connection\u001b[0m\u001b[0;34m.\u001b[0m\u001b[0mhandle_unread_result\u001b[0m\u001b[0;34m(\u001b[0m\u001b[0;34m)\u001b[0m\u001b[0;34m\u001b[0m\u001b[0;34m\u001b[0m\u001b[0m\n\u001b[0m\u001b[1;32m    539\u001b[0m \u001b[0;34m\u001b[0m\u001b[0m\n\u001b[1;32m    540\u001b[0m         \u001b[0mself\u001b[0m\u001b[0;34m.\u001b[0m\u001b[0m_reset_result\u001b[0m\u001b[0;34m(\u001b[0m\u001b[0;34m)\u001b[0m\u001b[0;34m\u001b[0m\u001b[0;34m\u001b[0m\u001b[0m\n",
      "\u001b[0;32m~/miniconda3/lib/python3.7/site-packages/mysql/connector/connection.py\u001b[0m in \u001b[0;36mhandle_unread_result\u001b[0;34m(self)\u001b[0m\n\u001b[1;32m   1275\u001b[0m             \u001b[0mself\u001b[0m\u001b[0;34m.\u001b[0m\u001b[0mconsume_results\u001b[0m\u001b[0;34m(\u001b[0m\u001b[0;34m)\u001b[0m\u001b[0;34m\u001b[0m\u001b[0;34m\u001b[0m\u001b[0m\n\u001b[1;32m   1276\u001b[0m         \u001b[0;32melif\u001b[0m \u001b[0mself\u001b[0m\u001b[0;34m.\u001b[0m\u001b[0munread_result\u001b[0m\u001b[0;34m:\u001b[0m\u001b[0;34m\u001b[0m\u001b[0;34m\u001b[0m\u001b[0m\n\u001b[0;32m-> 1277\u001b[0;31m             \u001b[0;32mraise\u001b[0m \u001b[0merrors\u001b[0m\u001b[0;34m.\u001b[0m\u001b[0mInternalError\u001b[0m\u001b[0;34m(\u001b[0m\u001b[0;34m\"Unread result found\"\u001b[0m\u001b[0;34m)\u001b[0m\u001b[0;34m\u001b[0m\u001b[0;34m\u001b[0m\u001b[0m\n\u001b[0m",
      "\u001b[0;31mInternalError\u001b[0m: Unread result found"
     ]
    }
   ],
   "source": [
    "cursor.execute(\"SET @rowindex := -1;\")\n",
    "\n",
    "cursor.execute(\"\"\"\n",
    "SELECT\n",
    "   AVG(d.age) as median\n",
    "FROM\n",
    "   (SELECT @rowindex:=@rowindex + 1 AS rowindex,\n",
    "           v.victim_age AS age\n",
    "    FROM Victims v\n",
    "    ORDER BY v.victim_age) AS d\n",
    "WHERE\n",
    "d.rowindex IN (FLOOR(@rowindex / 2), CEIL(@rowindex / 2));\"\"\")"
   ]
  },
  {
   "cell_type": "code",
   "execution_count": 1,
   "metadata": {},
   "outputs": [
    {
     "output_type": "error",
     "ename": "NameError",
     "evalue": "name 'cursor' is not defined",
     "traceback": [
      "\u001b[0;31m---------------------------------------------------------------------------\u001b[0m",
      "\u001b[0;31mNameError\u001b[0m                                 Traceback (most recent call last)",
      "\u001b[0;32m<ipython-input-1-9a9a37c46629>\u001b[0m in \u001b[0;36m<module>\u001b[0;34m\u001b[0m\n\u001b[0;32m----> 1\u001b[0;31m \u001b[0mres\u001b[0m \u001b[0;34m=\u001b[0m \u001b[0mcursor\u001b[0m\u001b[0;34m.\u001b[0m\u001b[0mfetchall\u001b[0m\u001b[0;34m(\u001b[0m\u001b[0;34m)\u001b[0m\u001b[0;34m\u001b[0m\u001b[0;34m\u001b[0m\u001b[0m\n\u001b[0m\u001b[1;32m      2\u001b[0m \u001b[0;32mfor\u001b[0m \u001b[0mx\u001b[0m \u001b[0;32min\u001b[0m \u001b[0mres\u001b[0m\u001b[0;34m:\u001b[0m\u001b[0;34m\u001b[0m\u001b[0;34m\u001b[0m\u001b[0m\n\u001b[1;32m      3\u001b[0m     \u001b[0mprint\u001b[0m\u001b[0;34m(\u001b[0m\u001b[0mx\u001b[0m\u001b[0;34m)\u001b[0m\u001b[0;34m\u001b[0m\u001b[0;34m\u001b[0m\u001b[0m\n",
      "\u001b[0;31mNameError\u001b[0m: name 'cursor' is not defined"
     ]
    }
   ],
   "source": [
    "res = cursor.fetchall()\n",
    "for x in res:\n",
    "    print(x)"
   ]
  },
  {
   "cell_type": "code",
   "execution_count": 3,
   "metadata": {},
   "outputs": [],
   "source": [
    "cursor.execute(\"\"\"SELECT\n",
    "  victim_seating_position\n",
    "FROM\n",
    "  Victims\n",
    "GROUP BY\n",
    "  victim_seating_position\n",
    "ORDER BY\n",
    "  COUNT(*) DESC\n",
    "limit\n",
    "  1\"\"\")"
   ]
  },
  {
   "cell_type": "code",
   "execution_count": 4,
   "metadata": {},
   "outputs": [],
   "source": [
    "res = cursor.fetchall()"
   ]
  },
  {
   "cell_type": "code",
   "execution_count": 5,
   "metadata": {},
   "outputs": [
    {
     "name": "stdout",
     "output_type": "stream",
     "text": [
      "(3,)\n"
     ]
    }
   ],
   "source": [
    "for x in res:\n",
    "    print(x)"
   ]
  },
  {
   "cell_type": "code",
   "execution_count": 6,
   "metadata": {},
   "outputs": [
    {
     "ename": "NameError",
     "evalue": "name 'markdown_table' is not defined",
     "output_type": "error",
     "traceback": [
      "\u001b[0;31m---------------------------------------------------------------------------\u001b[0m",
      "\u001b[0;31mNameError\u001b[0m                                 Traceback (most recent call last)",
      "\u001b[0;32m<ipython-input-6-51a6fc5b16d0>\u001b[0m in \u001b[0;36m<module>\u001b[0;34m\u001b[0m\n\u001b[0;32m----> 1\u001b[0;31m \u001b[0mprint\u001b[0m\u001b[0;34m(\u001b[0m\u001b[0mmarkdown_table\u001b[0m\u001b[0;34m(\u001b[0m\u001b[0mres\u001b[0m\u001b[0;34m,\u001b[0m \u001b[0;34m[\u001b[0m\u001b[0;34m'Fraction'\u001b[0m\u001b[0;34m]\u001b[0m\u001b[0;34m)\u001b[0m\u001b[0;34m)\u001b[0m\u001b[0;34m\u001b[0m\u001b[0;34m\u001b[0m\u001b[0m\n\u001b[0m",
      "\u001b[0;31mNameError\u001b[0m: name 'markdown_table' is not defined"
     ]
    }
   ],
   "source": [
    "print(markdown_table(res, ['Fraction']))"
   ]
  },
  {
   "cell_type": "markdown",
   "metadata": {},
   "source": [
    "# Query 9"
   ]
  },
  {
   "cell_type": "code",
   "execution_count": 30,
   "metadata": {},
   "outputs": [],
   "source": [
    "cursor.execute(\"\"\"SELECT\n",
    "  (\n",
    "    (\n",
    "      SELECT\n",
    "        COUNT(V.case_id)\n",
    "      FROM\n",
    "        Victims V,\n",
    "        VictimSafetyEquipment S\n",
    "      WHERE\n",
    "        (\n",
    "          V.victim_safety_equipment_1 = S.id\n",
    "          OR V.victim_safety_equipment_2 = S.id\n",
    "        )\n",
    "        AND S.description IN ('C', 'E', 'G')\n",
    "    ) / ((SELECT COUNT(*) FROM Victims) + (SELECT COUNT(*) FROM Parties))\n",
    "  )\"\"\")"
   ]
  },
  {
   "cell_type": "code",
   "execution_count": 31,
   "metadata": {},
   "outputs": [],
   "source": [
    "res = cursor.fetchall()"
   ]
  },
  {
   "cell_type": "code",
   "execution_count": 32,
   "metadata": {},
   "outputs": [
    {
     "output_type": "stream",
     "name": "stdout",
     "text": [
      "Fraction\n:---:\n0.2691\n\n"
     ]
    }
   ],
   "source": [
    "print(markdown_table(res, ['Fraction']))"
   ]
  },
  {
   "cell_type": "markdown",
   "metadata": {},
   "source": [
    "# Query 10"
   ]
  },
  {
   "cell_type": "code",
   "execution_count": 21,
   "metadata": {},
   "outputs": [],
   "source": [
    "# cursor.execute(\"\"\"SELECT\n",
    "#    CASE WHEN collision_time BETWEEN '00:00:00'\n",
    "#    AND '00:59:00' THEN '0' WHEN collision_time BETWEEN '01:00:00'\n",
    "#    AND '01:59:00' THEN '1' WHEN collision_time BETWEEN '02:00:00'\n",
    "#    AND '02:59:00' THEN '2' WHEN collision_time BETWEEN '03:00:00'\n",
    "#    AND '03:59:00' THEN '3' WHEN collision_time BETWEEN '04:00:00'\n",
    "#    AND '04:59:00' THEN '4' WHEN collision_time BETWEEN '05:00:00'\n",
    "#    AND '05:59:00' THEN '5' WHEN collision_time BETWEEN '06:00:00'\n",
    "#    AND '06:59:00' THEN '6' WHEN collision_time BETWEEN '07:00:00'\n",
    "#    AND '07:59:00' THEN '7' WHEN collision_time BETWEEN '08:00:00'\n",
    "#    AND '08:59:00' THEN '8' WHEN collision_time BETWEEN '09:00:00'\n",
    "#    AND '09:59:00' THEN '9' WHEN collision_time BETWEEN '10:00:00'\n",
    "#    AND '10:59:00' THEN '10' WHEN collision_time BETWEEN '11:00:00'\n",
    "#    AND '11:59:00' THEN '11' WHEN collision_time BETWEEN '12:00:00'\n",
    "#    AND '12:59:00' THEN '12' WHEN collision_time BETWEEN '13:00:00'\n",
    "#    AND '13:59:00' THEN '13' WHEN collision_time BETWEEN '14:00:00'\n",
    "#    AND '14:59:00' THEN '14' WHEN collision_time BETWEEN '15:00:00'\n",
    "#    AND '15:59:00' THEN '15' WHEN collision_time BETWEEN '16:00:00'\n",
    "#    AND '16:59:00' THEN '16' WHEN collision_time BETWEEN '17:00:00'\n",
    "#    AND '17:59:00' THEN '17' WHEN collision_time BETWEEN '18:00:00'\n",
    "#    AND '18:59:00' THEN '18' WHEN collision_time BETWEEN '19:00:00'\n",
    "#    AND '19:59:00' THEN '19' WHEN collision_time BETWEEN '20:00:00'\n",
    "#    AND '20:59:00' THEN '20' WHEN collision_time BETWEEN '21:00:00'\n",
    "#    AND '21:59:00' THEN '21' WHEN collision_time BETWEEN '22:00:00'\n",
    "#    AND '22:59:00' THEN '22' ELSE '23' END AS hour_ranges,\n",
    "#    count(1) / (SELECT COUNT(*) FROM Collisions) as count\n",
    "#  FROM\n",
    "#    Collisions\n",
    "#  GROUP BY\n",
    "#    hour_ranges\n",
    "#  LIMIT 20\"\"\")\n",
    "\n",
    "cursor.execute(\"\"\"SELECT\n",
    "   TIME_FORMAT(collision_time, \"%h%p\") AS hour_ranges,\n",
    "   count(1) * 100.0 / (SELECT COUNT(*) FROM Collisions) as count\n",
    " FROM\n",
    "   Collisions\n",
    " GROUP BY\n",
    "   hour_ranges\"\"\")"
   ]
  },
  {
   "cell_type": "code",
   "execution_count": 23,
   "metadata": {},
   "outputs": [],
   "source": []
  },
  {
   "cell_type": "code",
   "execution_count": 22,
   "metadata": {},
   "outputs": [],
   "source": [
    "res = cursor.fetchall()"
   ]
  },
  {
   "cell_type": "code",
   "execution_count": 23,
   "metadata": {},
   "outputs": [
    {
     "output_type": "stream",
     "name": "stdout",
     "text": [
      "Hour Ranges | Counts\n:---: | :---:\n03PM | 7.74805\n07PM | 4.42864\n07AM | 5.17068\n11AM | 4.89138\n05PM | 7.90707\n04PM | 7.33087\n08AM | 5.23360\n06AM | 2.62328\n12PM | 5.77554\n11PM | 2.38452\n10PM | 2.86186\n10AM | 4.22712\n02AM | 1.80804\n02PM | 6.54758\n01AM | 1.82982\n09AM | 4.08810\n06PM | 6.30052\n01PM | 5.77527\n09PM | 3.28186\n08PM | 3.48964\n05AM | 1.44671\n12AM | 1.90845\nNone | 0.80600\n03AM | 1.15409\n04AM | 0.98130\n\n"
     ]
    }
   ],
   "source": [
    "print(markdown_table(res, ['Hour Ranges', 'Counts']))"
   ]
  },
  {
   "source": [
    "Hour Ranges | Counts\n",
    ":---: | :---:\n",
    "15 | 0.0775\n",
    "19 | 0.0443\n",
    "7 | 0.0517\n",
    "11 | 0.0489\n",
    "17 | 0.0790\n",
    "16 | 0.0733\n",
    "8 | 0.0523\n",
    "6 | 0.0262\n",
    "12 | 0.0578\n",
    "23 | 0.0319\n",
    "22 | 0.0286\n",
    "10 | 0.0423\n",
    "2 | 0.0181\n",
    "14 | 0.0655\n",
    "1 | 0.0183\n",
    "9 | 0.0409\n",
    "18 | 0.0630\n",
    "13 | 0.0578\n",
    "21 | 0.0328\n",
    "20 | 0.0349"
   ],
   "cell_type": "markdown",
   "metadata": {}
  }
 ],
 "metadata": {
  "kernelspec": {
   "name": "python373jvsc74a57bd0575ef1d0e6bebc78cce9f41e5461ee9c36f6b463def79c68585633dbbf58454e",
   "display_name": "Python 3.7.3 64-bit ('base': conda)"
  },
  "language_info": {
   "codemirror_mode": {
    "name": "ipython",
    "version": 3
   },
   "file_extension": ".py",
   "mimetype": "text/x-python",
   "name": "python",
   "nbconvert_exporter": "python",
   "pygments_lexer": "ipython3",
   "version": "3.7.3"
  },
  "metadata": {
   "interpreter": {
    "hash": "97bc2c7c187403e015fbc9337e5c0a175db10957dce6aa4ee71587c6f450d1fd"
   }
  }
 },
 "nbformat": 4,
 "nbformat_minor": 2
}