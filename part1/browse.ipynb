{
 "metadata": {
  "language_info": {
   "codemirror_mode": {
    "name": "ipython",
    "version": 3
   },
   "file_extension": ".py",
   "mimetype": "text/x-python",
   "name": "python",
   "nbconvert_exporter": "python",
   "pygments_lexer": "ipython3",
   "version": "3.7.3"
  },
  "orig_nbformat": 2,
  "kernelspec": {
   "name": "python373jvsc74a57bd0575ef1d0e6bebc78cce9f41e5461ee9c36f6b463def79c68585633dbbf58454e",
   "display_name": "Python 3.7.3 64-bit ('base': conda)"
  }
 },
 "nbformat": 4,
 "nbformat_minor": 2,
 "cells": [
  {
   "cell_type": "code",
   "execution_count": 1,
   "metadata": {},
   "outputs": [],
   "source": [
    "import pandas as pd\n",
    "pd.set_option(\"display.max.columns\", None)"
   ]
  },
  {
   "cell_type": "code",
   "execution_count": 3,
   "metadata": {},
   "outputs": [
    {
     "output_type": "stream",
     "name": "stderr",
     "text": [
      "/Users/xavier/miniconda3/lib/python3.7/site-packages/IPython/core/interactiveshell.py:3058: DtypeWarning: Columns (9) have mixed types.Specify dtype option on import or set low_memory=False.\n  interactivity=interactivity, compiler=compiler, result=result)\n"
     ]
    }
   ],
   "source": [
    "col = pd.read_csv('../collisions2018.csv', dtype={'case_id': str})"
   ]
  },
  {
   "cell_type": "code",
   "execution_count": 7,
   "metadata": {},
   "outputs": [
    {
     "output_type": "execute_result",
     "data": {
      "text/plain": [
       "19"
      ]
     },
     "metadata": {},
     "execution_count": 7
    }
   ],
   "source": [
    "col['case_id'].str.len().max()"
   ]
  },
  {
   "cell_type": "code",
   "execution_count": 5,
   "metadata": {},
   "outputs": [
    {
     "output_type": "execute_result",
     "data": {
      "text/plain": [
       "0803992                1\n",
       "1953011204182909296    1\n",
       "1946465                1\n",
       "2446660                1\n",
       "2238279                1\n",
       "                      ..\n",
       "1202604                1\n",
       "2751083                1\n",
       "0906183                1\n",
       "2632569                1\n",
       "2996887                1\n",
       "Name: case_id, Length: 3678063, dtype: int64"
      ]
     },
     "metadata": {},
     "execution_count": 5
    }
   ],
   "source": [
    "# col.head(15)\n",
    "\n",
    "# col[\"lighting\"].str.len().max()\n",
    "col[\"case_id\"].value_counts(dropna=False)\n",
    "# col['jurisdiction'].isnull().values.any()"
   ]
  },
  {
   "cell_type": "code",
   "execution_count": 115,
   "metadata": {},
   "outputs": [
    {
     "output_type": "execute_result",
     "data": {
      "text/plain": [
       "           case_id collision_date    collision_severity collision_time  \\\n",
       "2637317  2816618.0     2006-09-14  property damage only       14:30:00   \n",
       "\n",
       "         county_city_location hit_and_run  jurisdiction  lighting  \\\n",
       "2637317                   501           D         501.0  daylight   \n",
       "\n",
       "        location_type officer_id  pcf_violation pcf_violation_category  \\\n",
       "2637317           NaN        226            NaN                  21804   \n",
       "\n",
       "        pcf_violation_subsection  population primary_collision_factor  \\\n",
       "2637317                        N         2.0                      NaN   \n",
       "\n",
       "        process_date  ramp_intersection road_condition_1 road_condition_2  \\\n",
       "2637317   2007-01-16                NaN              NaN            holes   \n",
       "\n",
       "        road_surface  tow_away type_of_collision weather_1 weather_2  \n",
       "2637317            H       0.0          rear end       NaN       NaN  "
      ],
      "text/html": "<div>\n<style scoped>\n    .dataframe tbody tr th:only-of-type {\n        vertical-align: middle;\n    }\n\n    .dataframe tbody tr th {\n        vertical-align: top;\n    }\n\n    .dataframe thead th {\n        text-align: right;\n    }\n</style>\n<table border=\"1\" class=\"dataframe\">\n  <thead>\n    <tr style=\"text-align: right;\">\n      <th></th>\n      <th>case_id</th>\n      <th>collision_date</th>\n      <th>collision_severity</th>\n      <th>collision_time</th>\n      <th>county_city_location</th>\n      <th>hit_and_run</th>\n      <th>jurisdiction</th>\n      <th>lighting</th>\n      <th>location_type</th>\n      <th>officer_id</th>\n      <th>pcf_violation</th>\n      <th>pcf_violation_category</th>\n      <th>pcf_violation_subsection</th>\n      <th>population</th>\n      <th>primary_collision_factor</th>\n      <th>process_date</th>\n      <th>ramp_intersection</th>\n      <th>road_condition_1</th>\n      <th>road_condition_2</th>\n      <th>road_surface</th>\n      <th>tow_away</th>\n      <th>type_of_collision</th>\n      <th>weather_1</th>\n      <th>weather_2</th>\n    </tr>\n  </thead>\n  <tbody>\n    <tr>\n      <th>2637317</th>\n      <td>2816618.0</td>\n      <td>2006-09-14</td>\n      <td>property damage only</td>\n      <td>14:30:00</td>\n      <td>501</td>\n      <td>D</td>\n      <td>501.0</td>\n      <td>daylight</td>\n      <td>NaN</td>\n      <td>226</td>\n      <td>NaN</td>\n      <td>21804</td>\n      <td>N</td>\n      <td>2.0</td>\n      <td>NaN</td>\n      <td>2007-01-16</td>\n      <td>NaN</td>\n      <td>NaN</td>\n      <td>holes</td>\n      <td>H</td>\n      <td>0.0</td>\n      <td>rear end</td>\n      <td>NaN</td>\n      <td>NaN</td>\n    </tr>\n  </tbody>\n</table>\n</div>"
     },
     "metadata": {},
     "execution_count": 115
    }
   ],
   "source": [
    "col.loc[col['road_surface'] == 'H']"
   ]
  },
  {
   "cell_type": "code",
   "execution_count": 19,
   "metadata": {},
   "outputs": [
    {
     "output_type": "stream",
     "name": "stdout",
     "text": [
      "<class 'pandas.core.frame.DataFrame'>\nRangeIndex: 3678063 entries, 0 to 3678062\nData columns (total 24 columns):\n #   Column                    Dtype  \n---  ------                    -----  \n 0   case_id                   float64\n 1   collision_date            object \n 2   collision_severity        object \n 3   collision_time            object \n 4   county_city_location      int64  \n 5   hit_and_run               object \n 6   jurisdiction              float64\n 7   lighting                  object \n 8   location_type             object \n 9   officer_id                object \n 10  pcf_violation             float64\n 11  pcf_violation_category    object \n 12  pcf_violation_subsection  object \n 13  population                float64\n 14  primary_collision_factor  object \n 15  process_date              object \n 16  ramp_intersection         float64\n 17  road_condition_1          object \n 18  road_condition_2          object \n 19  road_surface              object \n 20  tow_away                  float64\n 21  type_of_collision         object \n 22  weather_1                 object \n 23  weather_2                 object \ndtypes: float64(6), int64(1), object(17)\nmemory usage: 673.5+ MB\n"
     ]
    }
   ],
   "source": [
    "col.info()"
   ]
  },
  {
   "cell_type": "code",
   "execution_count": 7,
   "metadata": {},
   "outputs": [
    {
     "output_type": "stream",
     "name": "stderr",
     "text": [
      "/Users/xavier/miniconda3/lib/python3.7/site-packages/IPython/core/interactiveshell.py:3058: DtypeWarning: Columns (4,13,17) have mixed types.Specify dtype option on import or set low_memory=False.\n  interactivity=interactivity, compiler=compiler, result=result)\n"
     ]
    }
   ],
   "source": [
    "part = pd.read_csv('../parties2018.csv', dtype={'case_id': str})"
   ]
  },
  {
   "cell_type": "code",
   "execution_count": 8,
   "metadata": {},
   "outputs": [
    {
     "output_type": "execute_result",
     "data": {
      "text/plain": [
       "Y      5249681\n",
       "N       746801\n",
       "O       664187\n",
       "NaN     624967\n",
       "E          970\n",
       "Name: financial_responsibility, dtype: int64"
      ]
     },
     "metadata": {},
     "execution_count": 8
    }
   ],
   "source": [
    "# part.head(20)\n",
    "# part.loc[part[\"case_id\"] == 3.0]\n",
    "# part.loc[part[\"school_bus_related\"]  ]\n",
    "# part['party_type'].str.len().max()\n",
    "part['financial_responsibility'].value_counts(dropna=False)\n",
    "# part['pcf_violation'].isnull().values.any()"
   ]
  },
  {
   "cell_type": "code",
   "execution_count": 21,
   "metadata": {},
   "outputs": [
    {
     "output_type": "stream",
     "name": "stdout",
     "text": [
      "<class 'pandas.core.frame.DataFrame'>\nRangeIndex: 7286606 entries, 0 to 7286605\nData columns (total 21 columns):\n #   Column                        Dtype  \n---  ------                        -----  \n 0   at_fault                      int64  \n 1   case_id                       float64\n 2   cellphone_use                 object \n 3   financial_responsibility      object \n 4   hazardous_materials           object \n 5   id                            int64  \n 6   movement_preceding_collision  object \n 7   other_associate_factor_1      object \n 8   other_associate_factor_2      object \n 9   party_age                     float64\n 10  party_drug_physical           object \n 11  party_number                  int64  \n 12  party_safety_equipment_1      object \n 13  party_safety_equipment_2      object \n 14  party_sex                     object \n 15  party_sobriety                object \n 16  party_type                    object \n 17  school_bus_related            object \n 18  statewide_vehicle_type        object \n 19  vehicle_make                  object \n 20  vehicle_year                  float64\ndtypes: float64(3), int64(3), object(15)\nmemory usage: 1.1+ GB\n"
     ]
    }
   ],
   "source": [
    "part.info()"
   ]
  },
  {
   "cell_type": "code",
   "execution_count": 3,
   "metadata": {},
   "outputs": [
    {
     "output_type": "stream",
     "name": "stderr",
     "text": [
      "/Users/xavier/miniconda3/lib/python3.7/site-packages/IPython/core/interactiveshell.py:3058: DtypeWarning: Columns (8) have mixed types.Specify dtype option on import or set low_memory=False.\n  interactivity=interactivity, compiler=compiler, result=result)\n"
     ]
    }
   ],
   "source": [
    "vict = pd.read_csv('../victims2018.csv', dtype={'case_id': str})"
   ]
  },
  {
   "cell_type": "code",
   "execution_count": 5,
   "metadata": {},
   "outputs": [
    {
     "output_type": "execute_result",
     "data": {
      "text/plain": [
       "G      1604459\n",
       "M       852496\n",
       "P       502238\n",
       "L       333893\n",
       "NaN     223521\n",
       "Q       131274\n",
       "B        88341\n",
       "C        80584\n",
       "A        52112\n",
       "H        45154\n",
       "N        43321\n",
       "W        41968\n",
       "V        28304\n",
       "E        12132\n",
       "D        11974\n",
       "Y         8160\n",
       "F         6602\n",
       "U         6303\n",
       "J         3747\n",
       "T         1677\n",
       "S         1202\n",
       "K         1168\n",
       "R         1062\n",
       "X          993\n",
       "Name: victim_safety_equipment_1, dtype: int64"
      ]
     },
     "metadata": {},
     "execution_count": 5
    }
   ],
   "source": [
    "# vict.head(15)\n",
    "# vict.loc[vict['case_id'] == 3.0]\n",
    "vict[\"victim_safety_equipment_1\"].value_counts(dropna=False)\n",
    "# vict['victim_safety_equipment_1'].str.len().max()"
   ]
  },
  {
   "cell_type": "code",
   "execution_count": 23,
   "metadata": {},
   "outputs": [
    {
     "output_type": "stream",
     "name": "stdout",
     "text": [
      "<class 'pandas.core.frame.DataFrame'>\nRangeIndex: 4082685 entries, 0 to 4082684\nData columns (total 11 columns):\n #   Column                     Dtype  \n---  ------                     -----  \n 0   case_id                    float64\n 1   id                         int64  \n 2   party_number               int64  \n 3   victim_age                 float64\n 4   victim_degree_of_injury    object \n 5   victim_ejected             float64\n 6   victim_role                int64  \n 7   victim_safety_equipment_1  object \n 8   victim_safety_equipment_2  object \n 9   victim_seating_position    float64\n 10  victim_sex                 object \ndtypes: float64(4), int64(3), object(4)\nmemory usage: 342.6+ MB\n"
     ]
    }
   ],
   "source": [
    "vict.info()"
   ]
  },
  {
   "cell_type": "code",
   "execution_count": 4,
   "metadata": {},
   "outputs": [
    {
     "output_type": "execute_result",
     "data": {
      "text/plain": [
       "True"
      ]
     },
     "metadata": {},
     "execution_count": 4
    }
   ],
   "source": [
    "vict[\"id\"].is_unique"
   ]
  },
  {
   "cell_type": "code",
   "execution_count": 7,
   "metadata": {},
   "outputs": [
    {
     "output_type": "execute_result",
     "data": {
      "text/plain": [
       "25.0"
      ]
     },
     "metadata": {},
     "execution_count": 7
    }
   ],
   "source": [
    "vict[\"victim_age\"].median()"
   ]
  },
  {
   "cell_type": "code",
   "execution_count": null,
   "metadata": {},
   "outputs": [],
   "source": []
  }
 ]
}