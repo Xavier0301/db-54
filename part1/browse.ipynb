{
 "metadata": {
  "language_info": {
   "codemirror_mode": {
    "name": "ipython",
    "version": 3
   },
   "file_extension": ".py",
   "mimetype": "text/x-python",
   "name": "python",
   "nbconvert_exporter": "python",
   "pygments_lexer": "ipython3",
   "version": "3.7.3-final"
  },
  "orig_nbformat": 2,
  "kernelspec": {
   "name": "python3",
   "display_name": "Python 3.7.3 64-bit ('base': conda)",
   "metadata": {
    "interpreter": {
     "hash": "575ef1d0e6bebc78cce9f41e5461ee9c36f6b463def79c68585633dbbf58454e"
    }
   }
  }
 },
 "nbformat": 4,
 "nbformat_minor": 2,
 "cells": [
  {
   "cell_type": "code",
   "execution_count": 2,
   "metadata": {},
   "outputs": [],
   "source": [
    "import pandas as pd\n",
    "pd.set_option(\"display.max.columns\", None)"
   ]
  },
  {
   "cell_type": "code",
   "execution_count": 16,
   "metadata": {},
   "outputs": [],
   "source": [
    "col = pd.read_csv('collisions2018.csv')"
   ]
  },
  {
   "cell_type": "code",
   "execution_count": 31,
   "metadata": {},
   "outputs": [
    {
     "output_type": "execute_result",
     "data": {
      "text/plain": [
       "    case_id collision_date    collision_severity collision_time  \\\n",
       "0       1.0     2002-01-18  property damage only       15:30:00   \n",
       "1       2.0     2002-02-13  property damage only       19:30:00   \n",
       "2       3.0     2002-02-11  property damage only       15:30:00   \n",
       "3       4.0     2002-02-12  property damage only       07:45:00   \n",
       "4       5.0     2002-02-14         severe injury       11:35:00   \n",
       "5       6.0     2002-02-14  property damage only       17:40:00   \n",
       "6       7.0     2002-02-14  property damage only       17:55:00   \n",
       "7       8.0     2002-02-14  property damage only       15:45:00   \n",
       "8       9.0     2002-02-13                  pain       16:12:00   \n",
       "9      11.0     2002-02-09  property damage only       08:00:00   \n",
       "10     12.0     2002-02-19  property damage only       06:30:00   \n",
       "11     13.0     2002-02-11          other injury       12:08:00   \n",
       "12     14.0     2002-02-15          other injury       12:10:00   \n",
       "13     15.0     2002-02-15  property damage only       15:15:00   \n",
       "14     16.0     2002-02-15                  pain       16:50:00   \n",
       "\n",
       "    county_city_location      hit_and_run  jurisdiction  \\\n",
       "0                   1900  not hit and run        9575.0   \n",
       "1                   1500      misdemeanor        9420.0   \n",
       "2                   1502      misdemeanor        9420.0   \n",
       "3                   1500      misdemeanor        9420.0   \n",
       "4                   1500  not hit and run        9420.0   \n",
       "5                   1500  not hit and run        9420.0   \n",
       "6                   1500  not hit and run        9420.0   \n",
       "7                   1502  not hit and run        9420.0   \n",
       "8                   1500  not hit and run        9420.0   \n",
       "9                   1502  not hit and run        9420.0   \n",
       "10                  1500  not hit and run        9420.0   \n",
       "11                  1500  not hit and run        9420.0   \n",
       "12                  1500  not hit and run        9420.0   \n",
       "13                  1502  not hit and run        9420.0   \n",
       "14                  1500  not hit and run        9420.0   \n",
       "\n",
       "                   lighting location_type officer_id  pcf_violation  \\\n",
       "0                  daylight           NaN      16418        22107.0   \n",
       "1                       NaN           NaN      14360        22515.0   \n",
       "2                  daylight       highway      16117        23114.0   \n",
       "3                  daylight           NaN       6078        22450.0   \n",
       "4                  daylight           NaN      13851        22350.0   \n",
       "5              dusk or dawn           NaN      16153        22106.0   \n",
       "6   dark with street lights           NaN      14706        21658.0   \n",
       "7                  daylight       highway      15833        22350.0   \n",
       "8                  daylight           NaN      15896        21801.0   \n",
       "9                  daylight           NaN      12547        22106.0   \n",
       "10                 daylight           NaN      10426        21451.0   \n",
       "11                 daylight           NaN      13295        21202.0   \n",
       "12                 daylight           NaN      12547        21453.0   \n",
       "13                 daylight           NaN      15833        22350.0   \n",
       "14                 daylight       highway      13649        22107.0   \n",
       "\n",
       "        pcf_violation_category pcf_violation_subsection  population  \\\n",
       "0             improper turning                      NaN         9.0   \n",
       "1            hazardous parking                        A         9.0   \n",
       "2    other hazardous violation                        A         6.0   \n",
       "3    traffic signals and signs                        A         9.0   \n",
       "4                     speeding                      NaN         9.0   \n",
       "5   unsafe starting or backing                      NaN         9.0   \n",
       "6           unsafe lane change                        A         9.0   \n",
       "7                     speeding                      NaN         6.0   \n",
       "8      automobile right of way                        A         9.0   \n",
       "9   unsafe starting or backing                      NaN         6.0   \n",
       "10   other hazardous violation                        A         9.0   \n",
       "11          wrong side of road                        A         9.0   \n",
       "12   traffic signals and signs                        A         9.0   \n",
       "13                    speeding                      NaN         6.0   \n",
       "14            improper turning                      NaN         9.0   \n",
       "\n",
       "   primary_collision_factor process_date  ramp_intersection road_condition_1  \\\n",
       "0    vehicle code violation   2002-06-14                NaN           normal   \n",
       "1    vehicle code violation   2002-03-29                NaN           normal   \n",
       "2    vehicle code violation   2003-07-15                NaN           normal   \n",
       "3    vehicle code violation   2002-05-22                NaN           normal   \n",
       "4    vehicle code violation   2003-07-28                NaN           normal   \n",
       "5    vehicle code violation   2002-03-29                NaN           normal   \n",
       "6    vehicle code violation   2002-03-29                NaN           normal   \n",
       "7    vehicle code violation   2002-05-15                NaN           normal   \n",
       "8    vehicle code violation   2002-03-28                NaN           normal   \n",
       "9    vehicle code violation   2002-04-16                NaN           normal   \n",
       "10   vehicle code violation   2002-03-28                NaN           normal   \n",
       "11   vehicle code violation   2002-03-28                NaN           normal   \n",
       "12   vehicle code violation   2002-03-28                NaN           normal   \n",
       "13   vehicle code violation   2002-03-28                NaN           normal   \n",
       "14   vehicle code violation   2002-05-28                NaN           normal   \n",
       "\n",
       "   road_condition_2 road_surface  tow_away type_of_collision weather_1  \\\n",
       "0               NaN          dry       1.0          rear end     clear   \n",
       "1               NaN          dry       0.0        hit object     clear   \n",
       "2               NaN          dry       0.0        hit object     clear   \n",
       "3               NaN          dry       0.0         sideswipe     clear   \n",
       "4               NaN          dry       1.0        overturned     clear   \n",
       "5               NaN          dry       0.0          rear end     clear   \n",
       "6               NaN          dry       0.0         sideswipe     clear   \n",
       "7               NaN          dry       0.0          rear end     clear   \n",
       "8               NaN          dry       1.0         broadside    cloudy   \n",
       "9               NaN          dry       0.0             other     clear   \n",
       "10              NaN          dry       0.0         broadside     clear   \n",
       "11              NaN          dry       0.0         broadside     clear   \n",
       "12              NaN          dry       1.0         broadside    cloudy   \n",
       "13              NaN          dry       0.0          rear end     clear   \n",
       "14              NaN          dry       1.0        hit object     clear   \n",
       "\n",
       "   weather_2  \n",
       "0        NaN  \n",
       "1        NaN  \n",
       "2        NaN  \n",
       "3        NaN  \n",
       "4        NaN  \n",
       "5        NaN  \n",
       "6        NaN  \n",
       "7        NaN  \n",
       "8        NaN  \n",
       "9        NaN  \n",
       "10       NaN  \n",
       "11       NaN  \n",
       "12       NaN  \n",
       "13       NaN  \n",
       "14       NaN  "
      ],
      "text/html": "<div>\n<style scoped>\n    .dataframe tbody tr th:only-of-type {\n        vertical-align: middle;\n    }\n\n    .dataframe tbody tr th {\n        vertical-align: top;\n    }\n\n    .dataframe thead th {\n        text-align: right;\n    }\n</style>\n<table border=\"1\" class=\"dataframe\">\n  <thead>\n    <tr style=\"text-align: right;\">\n      <th></th>\n      <th>case_id</th>\n      <th>collision_date</th>\n      <th>collision_severity</th>\n      <th>collision_time</th>\n      <th>county_city_location</th>\n      <th>hit_and_run</th>\n      <th>jurisdiction</th>\n      <th>lighting</th>\n      <th>location_type</th>\n      <th>officer_id</th>\n      <th>pcf_violation</th>\n      <th>pcf_violation_category</th>\n      <th>pcf_violation_subsection</th>\n      <th>population</th>\n      <th>primary_collision_factor</th>\n      <th>process_date</th>\n      <th>ramp_intersection</th>\n      <th>road_condition_1</th>\n      <th>road_condition_2</th>\n      <th>road_surface</th>\n      <th>tow_away</th>\n      <th>type_of_collision</th>\n      <th>weather_1</th>\n      <th>weather_2</th>\n    </tr>\n  </thead>\n  <tbody>\n    <tr>\n      <th>0</th>\n      <td>1.0</td>\n      <td>2002-01-18</td>\n      <td>property damage only</td>\n      <td>15:30:00</td>\n      <td>1900</td>\n      <td>not hit and run</td>\n      <td>9575.0</td>\n      <td>daylight</td>\n      <td>NaN</td>\n      <td>16418</td>\n      <td>22107.0</td>\n      <td>improper turning</td>\n      <td>NaN</td>\n      <td>9.0</td>\n      <td>vehicle code violation</td>\n      <td>2002-06-14</td>\n      <td>NaN</td>\n      <td>normal</td>\n      <td>NaN</td>\n      <td>dry</td>\n      <td>1.0</td>\n      <td>rear end</td>\n      <td>clear</td>\n      <td>NaN</td>\n    </tr>\n    <tr>\n      <th>1</th>\n      <td>2.0</td>\n      <td>2002-02-13</td>\n      <td>property damage only</td>\n      <td>19:30:00</td>\n      <td>1500</td>\n      <td>misdemeanor</td>\n      <td>9420.0</td>\n      <td>NaN</td>\n      <td>NaN</td>\n      <td>14360</td>\n      <td>22515.0</td>\n      <td>hazardous parking</td>\n      <td>A</td>\n      <td>9.0</td>\n      <td>vehicle code violation</td>\n      <td>2002-03-29</td>\n      <td>NaN</td>\n      <td>normal</td>\n      <td>NaN</td>\n      <td>dry</td>\n      <td>0.0</td>\n      <td>hit object</td>\n      <td>clear</td>\n      <td>NaN</td>\n    </tr>\n    <tr>\n      <th>2</th>\n      <td>3.0</td>\n      <td>2002-02-11</td>\n      <td>property damage only</td>\n      <td>15:30:00</td>\n      <td>1502</td>\n      <td>misdemeanor</td>\n      <td>9420.0</td>\n      <td>daylight</td>\n      <td>highway</td>\n      <td>16117</td>\n      <td>23114.0</td>\n      <td>other hazardous violation</td>\n      <td>A</td>\n      <td>6.0</td>\n      <td>vehicle code violation</td>\n      <td>2003-07-15</td>\n      <td>NaN</td>\n      <td>normal</td>\n      <td>NaN</td>\n      <td>dry</td>\n      <td>0.0</td>\n      <td>hit object</td>\n      <td>clear</td>\n      <td>NaN</td>\n    </tr>\n    <tr>\n      <th>3</th>\n      <td>4.0</td>\n      <td>2002-02-12</td>\n      <td>property damage only</td>\n      <td>07:45:00</td>\n      <td>1500</td>\n      <td>misdemeanor</td>\n      <td>9420.0</td>\n      <td>daylight</td>\n      <td>NaN</td>\n      <td>6078</td>\n      <td>22450.0</td>\n      <td>traffic signals and signs</td>\n      <td>A</td>\n      <td>9.0</td>\n      <td>vehicle code violation</td>\n      <td>2002-05-22</td>\n      <td>NaN</td>\n      <td>normal</td>\n      <td>NaN</td>\n      <td>dry</td>\n      <td>0.0</td>\n      <td>sideswipe</td>\n      <td>clear</td>\n      <td>NaN</td>\n    </tr>\n    <tr>\n      <th>4</th>\n      <td>5.0</td>\n      <td>2002-02-14</td>\n      <td>severe injury</td>\n      <td>11:35:00</td>\n      <td>1500</td>\n      <td>not hit and run</td>\n      <td>9420.0</td>\n      <td>daylight</td>\n      <td>NaN</td>\n      <td>13851</td>\n      <td>22350.0</td>\n      <td>speeding</td>\n      <td>NaN</td>\n      <td>9.0</td>\n      <td>vehicle code violation</td>\n      <td>2003-07-28</td>\n      <td>NaN</td>\n      <td>normal</td>\n      <td>NaN</td>\n      <td>dry</td>\n      <td>1.0</td>\n      <td>overturned</td>\n      <td>clear</td>\n      <td>NaN</td>\n    </tr>\n    <tr>\n      <th>5</th>\n      <td>6.0</td>\n      <td>2002-02-14</td>\n      <td>property damage only</td>\n      <td>17:40:00</td>\n      <td>1500</td>\n      <td>not hit and run</td>\n      <td>9420.0</td>\n      <td>dusk or dawn</td>\n      <td>NaN</td>\n      <td>16153</td>\n      <td>22106.0</td>\n      <td>unsafe starting or backing</td>\n      <td>NaN</td>\n      <td>9.0</td>\n      <td>vehicle code violation</td>\n      <td>2002-03-29</td>\n      <td>NaN</td>\n      <td>normal</td>\n      <td>NaN</td>\n      <td>dry</td>\n      <td>0.0</td>\n      <td>rear end</td>\n      <td>clear</td>\n      <td>NaN</td>\n    </tr>\n    <tr>\n      <th>6</th>\n      <td>7.0</td>\n      <td>2002-02-14</td>\n      <td>property damage only</td>\n      <td>17:55:00</td>\n      <td>1500</td>\n      <td>not hit and run</td>\n      <td>9420.0</td>\n      <td>dark with street lights</td>\n      <td>NaN</td>\n      <td>14706</td>\n      <td>21658.0</td>\n      <td>unsafe lane change</td>\n      <td>A</td>\n      <td>9.0</td>\n      <td>vehicle code violation</td>\n      <td>2002-03-29</td>\n      <td>NaN</td>\n      <td>normal</td>\n      <td>NaN</td>\n      <td>dry</td>\n      <td>0.0</td>\n      <td>sideswipe</td>\n      <td>clear</td>\n      <td>NaN</td>\n    </tr>\n    <tr>\n      <th>7</th>\n      <td>8.0</td>\n      <td>2002-02-14</td>\n      <td>property damage only</td>\n      <td>15:45:00</td>\n      <td>1502</td>\n      <td>not hit and run</td>\n      <td>9420.0</td>\n      <td>daylight</td>\n      <td>highway</td>\n      <td>15833</td>\n      <td>22350.0</td>\n      <td>speeding</td>\n      <td>NaN</td>\n      <td>6.0</td>\n      <td>vehicle code violation</td>\n      <td>2002-05-15</td>\n      <td>NaN</td>\n      <td>normal</td>\n      <td>NaN</td>\n      <td>dry</td>\n      <td>0.0</td>\n      <td>rear end</td>\n      <td>clear</td>\n      <td>NaN</td>\n    </tr>\n    <tr>\n      <th>8</th>\n      <td>9.0</td>\n      <td>2002-02-13</td>\n      <td>pain</td>\n      <td>16:12:00</td>\n      <td>1500</td>\n      <td>not hit and run</td>\n      <td>9420.0</td>\n      <td>daylight</td>\n      <td>NaN</td>\n      <td>15896</td>\n      <td>21801.0</td>\n      <td>automobile right of way</td>\n      <td>A</td>\n      <td>9.0</td>\n      <td>vehicle code violation</td>\n      <td>2002-03-28</td>\n      <td>NaN</td>\n      <td>normal</td>\n      <td>NaN</td>\n      <td>dry</td>\n      <td>1.0</td>\n      <td>broadside</td>\n      <td>cloudy</td>\n      <td>NaN</td>\n    </tr>\n    <tr>\n      <th>9</th>\n      <td>11.0</td>\n      <td>2002-02-09</td>\n      <td>property damage only</td>\n      <td>08:00:00</td>\n      <td>1502</td>\n      <td>not hit and run</td>\n      <td>9420.0</td>\n      <td>daylight</td>\n      <td>NaN</td>\n      <td>12547</td>\n      <td>22106.0</td>\n      <td>unsafe starting or backing</td>\n      <td>NaN</td>\n      <td>6.0</td>\n      <td>vehicle code violation</td>\n      <td>2002-04-16</td>\n      <td>NaN</td>\n      <td>normal</td>\n      <td>NaN</td>\n      <td>dry</td>\n      <td>0.0</td>\n      <td>other</td>\n      <td>clear</td>\n      <td>NaN</td>\n    </tr>\n    <tr>\n      <th>10</th>\n      <td>12.0</td>\n      <td>2002-02-19</td>\n      <td>property damage only</td>\n      <td>06:30:00</td>\n      <td>1500</td>\n      <td>not hit and run</td>\n      <td>9420.0</td>\n      <td>daylight</td>\n      <td>NaN</td>\n      <td>10426</td>\n      <td>21451.0</td>\n      <td>other hazardous violation</td>\n      <td>A</td>\n      <td>9.0</td>\n      <td>vehicle code violation</td>\n      <td>2002-03-28</td>\n      <td>NaN</td>\n      <td>normal</td>\n      <td>NaN</td>\n      <td>dry</td>\n      <td>0.0</td>\n      <td>broadside</td>\n      <td>clear</td>\n      <td>NaN</td>\n    </tr>\n    <tr>\n      <th>11</th>\n      <td>13.0</td>\n      <td>2002-02-11</td>\n      <td>other injury</td>\n      <td>12:08:00</td>\n      <td>1500</td>\n      <td>not hit and run</td>\n      <td>9420.0</td>\n      <td>daylight</td>\n      <td>NaN</td>\n      <td>13295</td>\n      <td>21202.0</td>\n      <td>wrong side of road</td>\n      <td>A</td>\n      <td>9.0</td>\n      <td>vehicle code violation</td>\n      <td>2002-03-28</td>\n      <td>NaN</td>\n      <td>normal</td>\n      <td>NaN</td>\n      <td>dry</td>\n      <td>0.0</td>\n      <td>broadside</td>\n      <td>clear</td>\n      <td>NaN</td>\n    </tr>\n    <tr>\n      <th>12</th>\n      <td>14.0</td>\n      <td>2002-02-15</td>\n      <td>other injury</td>\n      <td>12:10:00</td>\n      <td>1500</td>\n      <td>not hit and run</td>\n      <td>9420.0</td>\n      <td>daylight</td>\n      <td>NaN</td>\n      <td>12547</td>\n      <td>21453.0</td>\n      <td>traffic signals and signs</td>\n      <td>A</td>\n      <td>9.0</td>\n      <td>vehicle code violation</td>\n      <td>2002-03-28</td>\n      <td>NaN</td>\n      <td>normal</td>\n      <td>NaN</td>\n      <td>dry</td>\n      <td>1.0</td>\n      <td>broadside</td>\n      <td>cloudy</td>\n      <td>NaN</td>\n    </tr>\n    <tr>\n      <th>13</th>\n      <td>15.0</td>\n      <td>2002-02-15</td>\n      <td>property damage only</td>\n      <td>15:15:00</td>\n      <td>1502</td>\n      <td>not hit and run</td>\n      <td>9420.0</td>\n      <td>daylight</td>\n      <td>NaN</td>\n      <td>15833</td>\n      <td>22350.0</td>\n      <td>speeding</td>\n      <td>NaN</td>\n      <td>6.0</td>\n      <td>vehicle code violation</td>\n      <td>2002-03-28</td>\n      <td>NaN</td>\n      <td>normal</td>\n      <td>NaN</td>\n      <td>dry</td>\n      <td>0.0</td>\n      <td>rear end</td>\n      <td>clear</td>\n      <td>NaN</td>\n    </tr>\n    <tr>\n      <th>14</th>\n      <td>16.0</td>\n      <td>2002-02-15</td>\n      <td>pain</td>\n      <td>16:50:00</td>\n      <td>1500</td>\n      <td>not hit and run</td>\n      <td>9420.0</td>\n      <td>daylight</td>\n      <td>highway</td>\n      <td>13649</td>\n      <td>22107.0</td>\n      <td>improper turning</td>\n      <td>NaN</td>\n      <td>9.0</td>\n      <td>vehicle code violation</td>\n      <td>2002-05-28</td>\n      <td>NaN</td>\n      <td>normal</td>\n      <td>NaN</td>\n      <td>dry</td>\n      <td>1.0</td>\n      <td>hit object</td>\n      <td>clear</td>\n      <td>NaN</td>\n    </tr>\n  </tbody>\n</table>\n</div>"
     },
     "metadata": {},
     "execution_count": 31
    }
   ],
   "source": [
    "col.head(15)"
   ]
  },
  {
   "cell_type": "code",
   "execution_count": 19,
   "metadata": {},
   "outputs": [
    {
     "output_type": "stream",
     "name": "stdout",
     "text": [
      "<class 'pandas.core.frame.DataFrame'>\nRangeIndex: 3678063 entries, 0 to 3678062\nData columns (total 24 columns):\n #   Column                    Dtype  \n---  ------                    -----  \n 0   case_id                   float64\n 1   collision_date            object \n 2   collision_severity        object \n 3   collision_time            object \n 4   county_city_location      int64  \n 5   hit_and_run               object \n 6   jurisdiction              float64\n 7   lighting                  object \n 8   location_type             object \n 9   officer_id                object \n 10  pcf_violation             float64\n 11  pcf_violation_category    object \n 12  pcf_violation_subsection  object \n 13  population                float64\n 14  primary_collision_factor  object \n 15  process_date              object \n 16  ramp_intersection         float64\n 17  road_condition_1          object \n 18  road_condition_2          object \n 19  road_surface              object \n 20  tow_away                  float64\n 21  type_of_collision         object \n 22  weather_1                 object \n 23  weather_2                 object \ndtypes: float64(6), int64(1), object(17)\nmemory usage: 673.5+ MB\n"
     ]
    }
   ],
   "source": [
    "col.info()"
   ]
  },
  {
   "cell_type": "code",
   "execution_count": 12,
   "metadata": {},
   "outputs": [],
   "source": [
    "part = pd.read_csv('parties2018.csv')"
   ]
  },
  {
   "cell_type": "code",
   "execution_count": 33,
   "metadata": {},
   "outputs": [
    {
     "output_type": "execute_result",
     "data": {
      "text/plain": [
       "    at_fault  case_id cellphone_use financial_responsibility  \\\n",
       "0          1      1.0             C                        Y   \n",
       "1          0      1.0             D                        O   \n",
       "2          0      2.0           NaN                        O   \n",
       "3          0      3.0             D                        Y   \n",
       "4          1      3.0             D                      NaN   \n",
       "5          1      4.0             D                      NaN   \n",
       "6          0      4.0             C                        Y   \n",
       "7          1      5.0             D                        Y   \n",
       "8          1      6.0             C                        Y   \n",
       "9          0      6.0             C                        Y   \n",
       "10         1      7.0             C                        N   \n",
       "11         0      7.0             C                        Y   \n",
       "12         1      8.0             C                        Y   \n",
       "13         0      8.0             C                        Y   \n",
       "14         1      9.0             D                        Y   \n",
       "15         0      9.0             D                        Y   \n",
       "16         0     11.0             D                        Y   \n",
       "17         1     11.0             D                        Y   \n",
       "18         1     12.0             D                      NaN   \n",
       "19         0     12.0             D                        Y   \n",
       "\n",
       "   hazardous_materials  id movement_preceding_collision  \\\n",
       "0                  NaN   8                        other   \n",
       "1                  NaN   9                       parked   \n",
       "2                  NaN  10          proceeding straight   \n",
       "3                  NaN  11          proceeding straight   \n",
       "4                  NaN  12          proceeding straight   \n",
       "5                  NaN  13             making left turn   \n",
       "6                  NaN  14             making left turn   \n",
       "7                  NaN  15          proceeding straight   \n",
       "8                  NaN  16                      backing   \n",
       "9                  NaN  17                      stopped   \n",
       "10                 NaN  18               changing lanes   \n",
       "11                 NaN  19          proceeding straight   \n",
       "12                 NaN  20          proceeding straight   \n",
       "13                 NaN  21             slowing/stopping   \n",
       "14                 NaN  22             making left turn   \n",
       "15                 NaN  23          proceeding straight   \n",
       "16                 NaN  24          proceeding straight   \n",
       "17                 NaN  25                      backing   \n",
       "18                 NaN  26            making right turn   \n",
       "19                 NaN  27          proceeding straight   \n",
       "\n",
       "   other_associate_factor_1 other_associate_factor_2  party_age  \\\n",
       "0                         L                      NaN       84.0   \n",
       "1                         N                      NaN        NaN   \n",
       "2                         O                      NaN        NaN   \n",
       "3                         N                      NaN       20.0   \n",
       "4                         N                      NaN        NaN   \n",
       "5                         A                      NaN        NaN   \n",
       "6                         N                      NaN       26.0   \n",
       "7                         N                      NaN       44.0   \n",
       "8                         N                      NaN       22.0   \n",
       "9                         N                      NaN       44.0   \n",
       "10                        N                      NaN       19.0   \n",
       "11                        N                      NaN       29.0   \n",
       "12                        N                      NaN       67.0   \n",
       "13                        G                      NaN       31.0   \n",
       "14                        N                      NaN       73.0   \n",
       "15                        N                      NaN       40.0   \n",
       "16                        N                      NaN       49.0   \n",
       "17                        N                      NaN       25.0   \n",
       "18                        N                      NaN       23.0   \n",
       "19                        N                      NaN       49.0   \n",
       "\n",
       "   party_drug_physical  party_number party_safety_equipment_1  \\\n",
       "0                  NaN             1                        G   \n",
       "1                    H             2                      NaN   \n",
       "2                    H             1                      NaN   \n",
       "3                  NaN             1                        G   \n",
       "4                    G             2                      NaN   \n",
       "5                    G             1                        B   \n",
       "6                  NaN             2                        G   \n",
       "7                  NaN             1                        G   \n",
       "8                  NaN             1                        G   \n",
       "9                  NaN             2                        G   \n",
       "10                 NaN             1                        G   \n",
       "11                 NaN             2                        G   \n",
       "12                 NaN             1                        G   \n",
       "13                 NaN             2                        F   \n",
       "14                 NaN             1                        G   \n",
       "15                 NaN             2                        G   \n",
       "16                 NaN             1                        G   \n",
       "17                 NaN             2                        G   \n",
       "18                 NaN             1                        G   \n",
       "19                 NaN             2                        G   \n",
       "\n",
       "   party_safety_equipment_2 party_sex party_sobriety      party_type  \\\n",
       "0                       NaN    female              A          driver   \n",
       "1                       NaN       NaN              H  parked vehicle   \n",
       "2                       NaN       NaN              H           other   \n",
       "3                       NaN    female              A          driver   \n",
       "4                       NaN       NaN              G          driver   \n",
       "5                       NaN      male              G          driver   \n",
       "6                       NaN    female              A          driver   \n",
       "7                       NaN      male              A          driver   \n",
       "8                       NaN    female              A          driver   \n",
       "9                       NaN    female              A          driver   \n",
       "10                      NaN    female              A          driver   \n",
       "11                      NaN    female              A          driver   \n",
       "12                      NaN      male              A          driver   \n",
       "13                      NaN    female              A          driver   \n",
       "14                      NaN      male              A          driver   \n",
       "15                      NaN    female              A          driver   \n",
       "16                      NaN      male              A          driver   \n",
       "17                      NaN    female              A          driver   \n",
       "18                      NaN    female              A          driver   \n",
       "19                      NaN      male              A          driver   \n",
       "\n",
       "   school_bus_related               statewide_vehicle_type  vehicle_make  \\\n",
       "0                 NaN                        passenger car          FORD   \n",
       "1                 NaN                        passenger car         BUICK   \n",
       "2                 NaN                pickup or panel truck        TOYOTA   \n",
       "3                 NaN                        passenger car          FORD   \n",
       "4                 NaN                pickup or panel truck           NaN   \n",
       "5                 NaN                        passenger car         HONDA   \n",
       "6                 NaN                        passenger car        TOYOTA   \n",
       "7                 NaN  truck or truck tractor with trailer  FREIGHTLINER   \n",
       "8                 NaN                        passenger car     CHEVROLET   \n",
       "9                 NaN                pickup or panel truck          FORD   \n",
       "10                NaN                        passenger car     CHEVROLET   \n",
       "11                NaN                        passenger car         DODGE   \n",
       "12                NaN                pickup or panel truck         DODGE   \n",
       "13                NaN                pickup or panel truck     CHEVROLET   \n",
       "14                NaN                pickup or panel truck          FORD   \n",
       "15                NaN                pickup or panel truck        NISSAN   \n",
       "16                NaN                        passenger car      CHRYSLER   \n",
       "17                NaN                pickup or panel truck    MITSUBISHI   \n",
       "18                NaN                        passenger car         HONDA   \n",
       "19                NaN                pickup or panel truck         DODGE   \n",
       "\n",
       "    vehicle_year  \n",
       "0         2000.0  \n",
       "1         1992.0  \n",
       "2            NaN  \n",
       "3         1995.0  \n",
       "4            NaN  \n",
       "5            NaN  \n",
       "6         2001.0  \n",
       "7         2001.0  \n",
       "8         1997.0  \n",
       "9         2001.0  \n",
       "10        1991.0  \n",
       "11        1996.0  \n",
       "12        1997.0  \n",
       "13        1994.0  \n",
       "14        1985.0  \n",
       "15        1985.0  \n",
       "16        1991.0  \n",
       "17        1988.0  \n",
       "18        1991.0  \n",
       "19        1999.0  "
      ],
      "text/html": "<div>\n<style scoped>\n    .dataframe tbody tr th:only-of-type {\n        vertical-align: middle;\n    }\n\n    .dataframe tbody tr th {\n        vertical-align: top;\n    }\n\n    .dataframe thead th {\n        text-align: right;\n    }\n</style>\n<table border=\"1\" class=\"dataframe\">\n  <thead>\n    <tr style=\"text-align: right;\">\n      <th></th>\n      <th>at_fault</th>\n      <th>case_id</th>\n      <th>cellphone_use</th>\n      <th>financial_responsibility</th>\n      <th>hazardous_materials</th>\n      <th>id</th>\n      <th>movement_preceding_collision</th>\n      <th>other_associate_factor_1</th>\n      <th>other_associate_factor_2</th>\n      <th>party_age</th>\n      <th>party_drug_physical</th>\n      <th>party_number</th>\n      <th>party_safety_equipment_1</th>\n      <th>party_safety_equipment_2</th>\n      <th>party_sex</th>\n      <th>party_sobriety</th>\n      <th>party_type</th>\n      <th>school_bus_related</th>\n      <th>statewide_vehicle_type</th>\n      <th>vehicle_make</th>\n      <th>vehicle_year</th>\n    </tr>\n  </thead>\n  <tbody>\n    <tr>\n      <th>0</th>\n      <td>1</td>\n      <td>1.0</td>\n      <td>C</td>\n      <td>Y</td>\n      <td>NaN</td>\n      <td>8</td>\n      <td>other</td>\n      <td>L</td>\n      <td>NaN</td>\n      <td>84.0</td>\n      <td>NaN</td>\n      <td>1</td>\n      <td>G</td>\n      <td>NaN</td>\n      <td>female</td>\n      <td>A</td>\n      <td>driver</td>\n      <td>NaN</td>\n      <td>passenger car</td>\n      <td>FORD</td>\n      <td>2000.0</td>\n    </tr>\n    <tr>\n      <th>1</th>\n      <td>0</td>\n      <td>1.0</td>\n      <td>D</td>\n      <td>O</td>\n      <td>NaN</td>\n      <td>9</td>\n      <td>parked</td>\n      <td>N</td>\n      <td>NaN</td>\n      <td>NaN</td>\n      <td>H</td>\n      <td>2</td>\n      <td>NaN</td>\n      <td>NaN</td>\n      <td>NaN</td>\n      <td>H</td>\n      <td>parked vehicle</td>\n      <td>NaN</td>\n      <td>passenger car</td>\n      <td>BUICK</td>\n      <td>1992.0</td>\n    </tr>\n    <tr>\n      <th>2</th>\n      <td>0</td>\n      <td>2.0</td>\n      <td>NaN</td>\n      <td>O</td>\n      <td>NaN</td>\n      <td>10</td>\n      <td>proceeding straight</td>\n      <td>O</td>\n      <td>NaN</td>\n      <td>NaN</td>\n      <td>H</td>\n      <td>1</td>\n      <td>NaN</td>\n      <td>NaN</td>\n      <td>NaN</td>\n      <td>H</td>\n      <td>other</td>\n      <td>NaN</td>\n      <td>pickup or panel truck</td>\n      <td>TOYOTA</td>\n      <td>NaN</td>\n    </tr>\n    <tr>\n      <th>3</th>\n      <td>0</td>\n      <td>3.0</td>\n      <td>D</td>\n      <td>Y</td>\n      <td>NaN</td>\n      <td>11</td>\n      <td>proceeding straight</td>\n      <td>N</td>\n      <td>NaN</td>\n      <td>20.0</td>\n      <td>NaN</td>\n      <td>1</td>\n      <td>G</td>\n      <td>NaN</td>\n      <td>female</td>\n      <td>A</td>\n      <td>driver</td>\n      <td>NaN</td>\n      <td>passenger car</td>\n      <td>FORD</td>\n      <td>1995.0</td>\n    </tr>\n    <tr>\n      <th>4</th>\n      <td>1</td>\n      <td>3.0</td>\n      <td>D</td>\n      <td>NaN</td>\n      <td>NaN</td>\n      <td>12</td>\n      <td>proceeding straight</td>\n      <td>N</td>\n      <td>NaN</td>\n      <td>NaN</td>\n      <td>G</td>\n      <td>2</td>\n      <td>NaN</td>\n      <td>NaN</td>\n      <td>NaN</td>\n      <td>G</td>\n      <td>driver</td>\n      <td>NaN</td>\n      <td>pickup or panel truck</td>\n      <td>NaN</td>\n      <td>NaN</td>\n    </tr>\n    <tr>\n      <th>5</th>\n      <td>1</td>\n      <td>4.0</td>\n      <td>D</td>\n      <td>NaN</td>\n      <td>NaN</td>\n      <td>13</td>\n      <td>making left turn</td>\n      <td>A</td>\n      <td>NaN</td>\n      <td>NaN</td>\n      <td>G</td>\n      <td>1</td>\n      <td>B</td>\n      <td>NaN</td>\n      <td>male</td>\n      <td>G</td>\n      <td>driver</td>\n      <td>NaN</td>\n      <td>passenger car</td>\n      <td>HONDA</td>\n      <td>NaN</td>\n    </tr>\n    <tr>\n      <th>6</th>\n      <td>0</td>\n      <td>4.0</td>\n      <td>C</td>\n      <td>Y</td>\n      <td>NaN</td>\n      <td>14</td>\n      <td>making left turn</td>\n      <td>N</td>\n      <td>NaN</td>\n      <td>26.0</td>\n      <td>NaN</td>\n      <td>2</td>\n      <td>G</td>\n      <td>NaN</td>\n      <td>female</td>\n      <td>A</td>\n      <td>driver</td>\n      <td>NaN</td>\n      <td>passenger car</td>\n      <td>TOYOTA</td>\n      <td>2001.0</td>\n    </tr>\n    <tr>\n      <th>7</th>\n      <td>1</td>\n      <td>5.0</td>\n      <td>D</td>\n      <td>Y</td>\n      <td>NaN</td>\n      <td>15</td>\n      <td>proceeding straight</td>\n      <td>N</td>\n      <td>NaN</td>\n      <td>44.0</td>\n      <td>NaN</td>\n      <td>1</td>\n      <td>G</td>\n      <td>NaN</td>\n      <td>male</td>\n      <td>A</td>\n      <td>driver</td>\n      <td>NaN</td>\n      <td>truck or truck tractor with trailer</td>\n      <td>FREIGHTLINER</td>\n      <td>2001.0</td>\n    </tr>\n    <tr>\n      <th>8</th>\n      <td>1</td>\n      <td>6.0</td>\n      <td>C</td>\n      <td>Y</td>\n      <td>NaN</td>\n      <td>16</td>\n      <td>backing</td>\n      <td>N</td>\n      <td>NaN</td>\n      <td>22.0</td>\n      <td>NaN</td>\n      <td>1</td>\n      <td>G</td>\n      <td>NaN</td>\n      <td>female</td>\n      <td>A</td>\n      <td>driver</td>\n      <td>NaN</td>\n      <td>passenger car</td>\n      <td>CHEVROLET</td>\n      <td>1997.0</td>\n    </tr>\n    <tr>\n      <th>9</th>\n      <td>0</td>\n      <td>6.0</td>\n      <td>C</td>\n      <td>Y</td>\n      <td>NaN</td>\n      <td>17</td>\n      <td>stopped</td>\n      <td>N</td>\n      <td>NaN</td>\n      <td>44.0</td>\n      <td>NaN</td>\n      <td>2</td>\n      <td>G</td>\n      <td>NaN</td>\n      <td>female</td>\n      <td>A</td>\n      <td>driver</td>\n      <td>NaN</td>\n      <td>pickup or panel truck</td>\n      <td>FORD</td>\n      <td>2001.0</td>\n    </tr>\n    <tr>\n      <th>10</th>\n      <td>1</td>\n      <td>7.0</td>\n      <td>C</td>\n      <td>N</td>\n      <td>NaN</td>\n      <td>18</td>\n      <td>changing lanes</td>\n      <td>N</td>\n      <td>NaN</td>\n      <td>19.0</td>\n      <td>NaN</td>\n      <td>1</td>\n      <td>G</td>\n      <td>NaN</td>\n      <td>female</td>\n      <td>A</td>\n      <td>driver</td>\n      <td>NaN</td>\n      <td>passenger car</td>\n      <td>CHEVROLET</td>\n      <td>1991.0</td>\n    </tr>\n    <tr>\n      <th>11</th>\n      <td>0</td>\n      <td>7.0</td>\n      <td>C</td>\n      <td>Y</td>\n      <td>NaN</td>\n      <td>19</td>\n      <td>proceeding straight</td>\n      <td>N</td>\n      <td>NaN</td>\n      <td>29.0</td>\n      <td>NaN</td>\n      <td>2</td>\n      <td>G</td>\n      <td>NaN</td>\n      <td>female</td>\n      <td>A</td>\n      <td>driver</td>\n      <td>NaN</td>\n      <td>passenger car</td>\n      <td>DODGE</td>\n      <td>1996.0</td>\n    </tr>\n    <tr>\n      <th>12</th>\n      <td>1</td>\n      <td>8.0</td>\n      <td>C</td>\n      <td>Y</td>\n      <td>NaN</td>\n      <td>20</td>\n      <td>proceeding straight</td>\n      <td>N</td>\n      <td>NaN</td>\n      <td>67.0</td>\n      <td>NaN</td>\n      <td>1</td>\n      <td>G</td>\n      <td>NaN</td>\n      <td>male</td>\n      <td>A</td>\n      <td>driver</td>\n      <td>NaN</td>\n      <td>pickup or panel truck</td>\n      <td>DODGE</td>\n      <td>1997.0</td>\n    </tr>\n    <tr>\n      <th>13</th>\n      <td>0</td>\n      <td>8.0</td>\n      <td>C</td>\n      <td>Y</td>\n      <td>NaN</td>\n      <td>21</td>\n      <td>slowing/stopping</td>\n      <td>G</td>\n      <td>NaN</td>\n      <td>31.0</td>\n      <td>NaN</td>\n      <td>2</td>\n      <td>F</td>\n      <td>NaN</td>\n      <td>female</td>\n      <td>A</td>\n      <td>driver</td>\n      <td>NaN</td>\n      <td>pickup or panel truck</td>\n      <td>CHEVROLET</td>\n      <td>1994.0</td>\n    </tr>\n    <tr>\n      <th>14</th>\n      <td>1</td>\n      <td>9.0</td>\n      <td>D</td>\n      <td>Y</td>\n      <td>NaN</td>\n      <td>22</td>\n      <td>making left turn</td>\n      <td>N</td>\n      <td>NaN</td>\n      <td>73.0</td>\n      <td>NaN</td>\n      <td>1</td>\n      <td>G</td>\n      <td>NaN</td>\n      <td>male</td>\n      <td>A</td>\n      <td>driver</td>\n      <td>NaN</td>\n      <td>pickup or panel truck</td>\n      <td>FORD</td>\n      <td>1985.0</td>\n    </tr>\n    <tr>\n      <th>15</th>\n      <td>0</td>\n      <td>9.0</td>\n      <td>D</td>\n      <td>Y</td>\n      <td>NaN</td>\n      <td>23</td>\n      <td>proceeding straight</td>\n      <td>N</td>\n      <td>NaN</td>\n      <td>40.0</td>\n      <td>NaN</td>\n      <td>2</td>\n      <td>G</td>\n      <td>NaN</td>\n      <td>female</td>\n      <td>A</td>\n      <td>driver</td>\n      <td>NaN</td>\n      <td>pickup or panel truck</td>\n      <td>NISSAN</td>\n      <td>1985.0</td>\n    </tr>\n    <tr>\n      <th>16</th>\n      <td>0</td>\n      <td>11.0</td>\n      <td>D</td>\n      <td>Y</td>\n      <td>NaN</td>\n      <td>24</td>\n      <td>proceeding straight</td>\n      <td>N</td>\n      <td>NaN</td>\n      <td>49.0</td>\n      <td>NaN</td>\n      <td>1</td>\n      <td>G</td>\n      <td>NaN</td>\n      <td>male</td>\n      <td>A</td>\n      <td>driver</td>\n      <td>NaN</td>\n      <td>passenger car</td>\n      <td>CHRYSLER</td>\n      <td>1991.0</td>\n    </tr>\n    <tr>\n      <th>17</th>\n      <td>1</td>\n      <td>11.0</td>\n      <td>D</td>\n      <td>Y</td>\n      <td>NaN</td>\n      <td>25</td>\n      <td>backing</td>\n      <td>N</td>\n      <td>NaN</td>\n      <td>25.0</td>\n      <td>NaN</td>\n      <td>2</td>\n      <td>G</td>\n      <td>NaN</td>\n      <td>female</td>\n      <td>A</td>\n      <td>driver</td>\n      <td>NaN</td>\n      <td>pickup or panel truck</td>\n      <td>MITSUBISHI</td>\n      <td>1988.0</td>\n    </tr>\n    <tr>\n      <th>18</th>\n      <td>1</td>\n      <td>12.0</td>\n      <td>D</td>\n      <td>NaN</td>\n      <td>NaN</td>\n      <td>26</td>\n      <td>making right turn</td>\n      <td>N</td>\n      <td>NaN</td>\n      <td>23.0</td>\n      <td>NaN</td>\n      <td>1</td>\n      <td>G</td>\n      <td>NaN</td>\n      <td>female</td>\n      <td>A</td>\n      <td>driver</td>\n      <td>NaN</td>\n      <td>passenger car</td>\n      <td>HONDA</td>\n      <td>1991.0</td>\n    </tr>\n    <tr>\n      <th>19</th>\n      <td>0</td>\n      <td>12.0</td>\n      <td>D</td>\n      <td>Y</td>\n      <td>NaN</td>\n      <td>27</td>\n      <td>proceeding straight</td>\n      <td>N</td>\n      <td>NaN</td>\n      <td>49.0</td>\n      <td>NaN</td>\n      <td>2</td>\n      <td>G</td>\n      <td>NaN</td>\n      <td>male</td>\n      <td>A</td>\n      <td>driver</td>\n      <td>NaN</td>\n      <td>pickup or panel truck</td>\n      <td>DODGE</td>\n      <td>1999.0</td>\n    </tr>\n  </tbody>\n</table>\n</div>"
     },
     "metadata": {},
     "execution_count": 33
    }
   ],
   "source": [
    "part.head(20)\n",
    "# part.loc[part[\"case_id\"] == 3.0]"
   ]
  },
  {
   "cell_type": "code",
   "execution_count": 21,
   "metadata": {},
   "outputs": [
    {
     "output_type": "stream",
     "name": "stdout",
     "text": [
      "<class 'pandas.core.frame.DataFrame'>\nRangeIndex: 7286606 entries, 0 to 7286605\nData columns (total 21 columns):\n #   Column                        Dtype  \n---  ------                        -----  \n 0   at_fault                      int64  \n 1   case_id                       float64\n 2   cellphone_use                 object \n 3   financial_responsibility      object \n 4   hazardous_materials           object \n 5   id                            int64  \n 6   movement_preceding_collision  object \n 7   other_associate_factor_1      object \n 8   other_associate_factor_2      object \n 9   party_age                     float64\n 10  party_drug_physical           object \n 11  party_number                  int64  \n 12  party_safety_equipment_1      object \n 13  party_safety_equipment_2      object \n 14  party_sex                     object \n 15  party_sobriety                object \n 16  party_type                    object \n 17  school_bus_related            object \n 18  statewide_vehicle_type        object \n 19  vehicle_make                  object \n 20  vehicle_year                  float64\ndtypes: float64(3), int64(3), object(15)\nmemory usage: 1.1+ GB\n"
     ]
    }
   ],
   "source": [
    "part.info()"
   ]
  },
  {
   "cell_type": "code",
   "execution_count": 3,
   "metadata": {},
   "outputs": [],
   "source": [
    "vict = pd.read_csv('victims2018.csv')"
   ]
  },
  {
   "cell_type": "code",
   "execution_count": 29,
   "metadata": {},
   "outputs": [
    {
     "output_type": "execute_result",
     "data": {
      "text/plain": [
       "    case_id  id  party_number  victim_age victim_degree_of_injury  \\\n",
       "0       3.0   3             1        21.0               no injury   \n",
       "1       5.0   4             1        44.0           severe injury   \n",
       "2       8.0   5             1        59.0               no injury   \n",
       "3       8.0   6             2        31.0               no injury   \n",
       "4       9.0   7             2        14.0       complaint of pain   \n",
       "5       9.0   8             2        39.0               no injury   \n",
       "6      13.0   9             1        47.0    other visible injury   \n",
       "7      14.0  10             2        26.0    other visible injury   \n",
       "8      14.0  11             3        40.0       complaint of pain   \n",
       "9      15.0  12             1         8.0               no injury   \n",
       "10     15.0  13             2        59.0               no injury   \n",
       "11     16.0  14             1        20.0       complaint of pain   \n",
       "12     17.0  15             1        38.0               no injury   \n",
       "13     17.0  16             2        17.0               no injury   \n",
       "14     20.0  17             1        21.0               no injury   \n",
       "\n",
       "    victim_ejected  victim_role victim_safety_equipment_1  \\\n",
       "0              0.0            2                         G   \n",
       "1              0.0            1                         G   \n",
       "2              0.0            2                         G   \n",
       "3              0.0            2                         G   \n",
       "4              0.0            2                         C   \n",
       "5              0.0            2                         G   \n",
       "6              1.0            4                         V   \n",
       "7              0.0            1                         G   \n",
       "8              0.0            1                         G   \n",
       "9              0.0            2                         G   \n",
       "10             0.0            2                         G   \n",
       "11             0.0            1                         L   \n",
       "12             0.0            2                         G   \n",
       "13             0.0            2                         C   \n",
       "14             0.0            2                         G   \n",
       "\n",
       "   victim_safety_equipment_2  victim_seating_position victim_sex  \n",
       "0                        NaN                      3.0       male  \n",
       "1                        NaN                      1.0       male  \n",
       "2                        NaN                      3.0     female  \n",
       "3                        NaN                      3.0       male  \n",
       "4                        NaN                      6.0     female  \n",
       "5                        NaN                      3.0     female  \n",
       "6                        NaN                      1.0       male  \n",
       "7                        NaN                      1.0     female  \n",
       "8                        NaN                      1.0       male  \n",
       "9                        NaN                      3.0     female  \n",
       "10                       NaN                      3.0     female  \n",
       "11                       NaN                      1.0     female  \n",
       "12                       NaN                      3.0     female  \n",
       "13                       NaN                      2.0     female  \n",
       "14                       NaN                      3.0       male  "
      ],
      "text/html": "<div>\n<style scoped>\n    .dataframe tbody tr th:only-of-type {\n        vertical-align: middle;\n    }\n\n    .dataframe tbody tr th {\n        vertical-align: top;\n    }\n\n    .dataframe thead th {\n        text-align: right;\n    }\n</style>\n<table border=\"1\" class=\"dataframe\">\n  <thead>\n    <tr style=\"text-align: right;\">\n      <th></th>\n      <th>case_id</th>\n      <th>id</th>\n      <th>party_number</th>\n      <th>victim_age</th>\n      <th>victim_degree_of_injury</th>\n      <th>victim_ejected</th>\n      <th>victim_role</th>\n      <th>victim_safety_equipment_1</th>\n      <th>victim_safety_equipment_2</th>\n      <th>victim_seating_position</th>\n      <th>victim_sex</th>\n    </tr>\n  </thead>\n  <tbody>\n    <tr>\n      <th>0</th>\n      <td>3.0</td>\n      <td>3</td>\n      <td>1</td>\n      <td>21.0</td>\n      <td>no injury</td>\n      <td>0.0</td>\n      <td>2</td>\n      <td>G</td>\n      <td>NaN</td>\n      <td>3.0</td>\n      <td>male</td>\n    </tr>\n    <tr>\n      <th>1</th>\n      <td>5.0</td>\n      <td>4</td>\n      <td>1</td>\n      <td>44.0</td>\n      <td>severe injury</td>\n      <td>0.0</td>\n      <td>1</td>\n      <td>G</td>\n      <td>NaN</td>\n      <td>1.0</td>\n      <td>male</td>\n    </tr>\n    <tr>\n      <th>2</th>\n      <td>8.0</td>\n      <td>5</td>\n      <td>1</td>\n      <td>59.0</td>\n      <td>no injury</td>\n      <td>0.0</td>\n      <td>2</td>\n      <td>G</td>\n      <td>NaN</td>\n      <td>3.0</td>\n      <td>female</td>\n    </tr>\n    <tr>\n      <th>3</th>\n      <td>8.0</td>\n      <td>6</td>\n      <td>2</td>\n      <td>31.0</td>\n      <td>no injury</td>\n      <td>0.0</td>\n      <td>2</td>\n      <td>G</td>\n      <td>NaN</td>\n      <td>3.0</td>\n      <td>male</td>\n    </tr>\n    <tr>\n      <th>4</th>\n      <td>9.0</td>\n      <td>7</td>\n      <td>2</td>\n      <td>14.0</td>\n      <td>complaint of pain</td>\n      <td>0.0</td>\n      <td>2</td>\n      <td>C</td>\n      <td>NaN</td>\n      <td>6.0</td>\n      <td>female</td>\n    </tr>\n    <tr>\n      <th>5</th>\n      <td>9.0</td>\n      <td>8</td>\n      <td>2</td>\n      <td>39.0</td>\n      <td>no injury</td>\n      <td>0.0</td>\n      <td>2</td>\n      <td>G</td>\n      <td>NaN</td>\n      <td>3.0</td>\n      <td>female</td>\n    </tr>\n    <tr>\n      <th>6</th>\n      <td>13.0</td>\n      <td>9</td>\n      <td>1</td>\n      <td>47.0</td>\n      <td>other visible injury</td>\n      <td>1.0</td>\n      <td>4</td>\n      <td>V</td>\n      <td>NaN</td>\n      <td>1.0</td>\n      <td>male</td>\n    </tr>\n    <tr>\n      <th>7</th>\n      <td>14.0</td>\n      <td>10</td>\n      <td>2</td>\n      <td>26.0</td>\n      <td>other visible injury</td>\n      <td>0.0</td>\n      <td>1</td>\n      <td>G</td>\n      <td>NaN</td>\n      <td>1.0</td>\n      <td>female</td>\n    </tr>\n    <tr>\n      <th>8</th>\n      <td>14.0</td>\n      <td>11</td>\n      <td>3</td>\n      <td>40.0</td>\n      <td>complaint of pain</td>\n      <td>0.0</td>\n      <td>1</td>\n      <td>G</td>\n      <td>NaN</td>\n      <td>1.0</td>\n      <td>male</td>\n    </tr>\n    <tr>\n      <th>9</th>\n      <td>15.0</td>\n      <td>12</td>\n      <td>1</td>\n      <td>8.0</td>\n      <td>no injury</td>\n      <td>0.0</td>\n      <td>2</td>\n      <td>G</td>\n      <td>NaN</td>\n      <td>3.0</td>\n      <td>female</td>\n    </tr>\n    <tr>\n      <th>10</th>\n      <td>15.0</td>\n      <td>13</td>\n      <td>2</td>\n      <td>59.0</td>\n      <td>no injury</td>\n      <td>0.0</td>\n      <td>2</td>\n      <td>G</td>\n      <td>NaN</td>\n      <td>3.0</td>\n      <td>female</td>\n    </tr>\n    <tr>\n      <th>11</th>\n      <td>16.0</td>\n      <td>14</td>\n      <td>1</td>\n      <td>20.0</td>\n      <td>complaint of pain</td>\n      <td>0.0</td>\n      <td>1</td>\n      <td>L</td>\n      <td>NaN</td>\n      <td>1.0</td>\n      <td>female</td>\n    </tr>\n    <tr>\n      <th>12</th>\n      <td>17.0</td>\n      <td>15</td>\n      <td>1</td>\n      <td>38.0</td>\n      <td>no injury</td>\n      <td>0.0</td>\n      <td>2</td>\n      <td>G</td>\n      <td>NaN</td>\n      <td>3.0</td>\n      <td>female</td>\n    </tr>\n    <tr>\n      <th>13</th>\n      <td>17.0</td>\n      <td>16</td>\n      <td>2</td>\n      <td>17.0</td>\n      <td>no injury</td>\n      <td>0.0</td>\n      <td>2</td>\n      <td>C</td>\n      <td>NaN</td>\n      <td>2.0</td>\n      <td>female</td>\n    </tr>\n    <tr>\n      <th>14</th>\n      <td>20.0</td>\n      <td>17</td>\n      <td>1</td>\n      <td>21.0</td>\n      <td>no injury</td>\n      <td>0.0</td>\n      <td>2</td>\n      <td>G</td>\n      <td>NaN</td>\n      <td>3.0</td>\n      <td>male</td>\n    </tr>\n  </tbody>\n</table>\n</div>"
     },
     "metadata": {},
     "execution_count": 29
    }
   ],
   "source": [
    "vict.head(15)\n",
    "# vict.loc[vict['case_id'] == 3.0]"
   ]
  },
  {
   "cell_type": "code",
   "execution_count": 27,
   "metadata": {},
   "outputs": [
    {
     "output_type": "execute_result",
     "data": {
      "text/plain": [
       "1     1916883\n",
       "2     1870134\n",
       "3      239077\n",
       "4       43874\n",
       "5        8961\n",
       "       ...   \n",
       "62          1\n",
       "54          1\n",
       "60          1\n",
       "32          1\n",
       "46          1\n",
       "Name: party_number, Length: 86, dtype: int64"
      ]
     },
     "metadata": {},
     "execution_count": 27
    }
   ],
   "source": [
    "vict[\"party_number\"].value_counts(dropna=False)"
   ]
  },
  {
   "cell_type": "code",
   "execution_count": 23,
   "metadata": {},
   "outputs": [
    {
     "output_type": "stream",
     "name": "stdout",
     "text": [
      "<class 'pandas.core.frame.DataFrame'>\nRangeIndex: 4082685 entries, 0 to 4082684\nData columns (total 11 columns):\n #   Column                     Dtype  \n---  ------                     -----  \n 0   case_id                    float64\n 1   id                         int64  \n 2   party_number               int64  \n 3   victim_age                 float64\n 4   victim_degree_of_injury    object \n 5   victim_ejected             float64\n 6   victim_role                int64  \n 7   victim_safety_equipment_1  object \n 8   victim_safety_equipment_2  object \n 9   victim_seating_position    float64\n 10  victim_sex                 object \ndtypes: float64(4), int64(3), object(4)\nmemory usage: 342.6+ MB\n"
     ]
    }
   ],
   "source": [
    "vict.info()"
   ]
  },
  {
   "cell_type": "code",
   "execution_count": 4,
   "metadata": {},
   "outputs": [
    {
     "output_type": "execute_result",
     "data": {
      "text/plain": [
       "True"
      ]
     },
     "metadata": {},
     "execution_count": 4
    }
   ],
   "source": [
    "vict[\"id\"].is_unique"
   ]
  },
  {
   "cell_type": "code",
   "execution_count": null,
   "metadata": {},
   "outputs": [],
   "source": []
  }
 ]
}