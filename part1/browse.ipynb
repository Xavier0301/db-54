{
 "metadata": {
  "language_info": {
   "codemirror_mode": {
    "name": "ipython",
    "version": 3
   },
   "file_extension": ".py",
   "mimetype": "text/x-python",
   "name": "python",
   "nbconvert_exporter": "python",
   "pygments_lexer": "ipython3",
   "version": "3.7.3-final"
  },
  "orig_nbformat": 2,
  "kernelspec": {
   "name": "python3",
   "display_name": "Python 3.7.3 64-bit ('base': conda)",
   "metadata": {
    "interpreter": {
     "hash": "575ef1d0e6bebc78cce9f41e5461ee9c36f6b463def79c68585633dbbf58454e"
    }
   }
  }
 },
 "nbformat": 4,
 "nbformat_minor": 2,
 "cells": [
  {
   "cell_type": "code",
   "execution_count": 2,
   "metadata": {},
   "outputs": [],
   "source": [
    "import pandas as pd\n",
    "pd.set_option(\"display.max.columns\", None)"
   ]
  },
  {
   "cell_type": "code",
   "execution_count": 16,
   "metadata": {},
   "outputs": [],
   "source": [
    "col = pd.read_csv('collisions2018.csv')"
   ]
  },
  {
   "cell_type": "code",
   "execution_count": 31,
   "metadata": {},
   "outputs": [
    {
     "output_type": "execute_result",
     "data": {
      "text/plain": [
       "    case_id collision_date    collision_severity collision_time  \\\n",
       "0       1.0     2002-01-18  property damage only       15:30:00   \n",
       "1       2.0     2002-02-13  property damage only       19:30:00   \n",
       "2       3.0     2002-02-11  property damage only       15:30:00   \n",
       "3       4.0     2002-02-12  property damage only       07:45:00   \n",
       "4       5.0     2002-02-14         severe injury       11:35:00   \n",
       "5       6.0     2002-02-14  property damage only       17:40:00   \n",
       "6       7.0     2002-02-14  property damage only       17:55:00   \n",
       "7       8.0     2002-02-14  property damage only       15:45:00   \n",
       "8       9.0     2002-02-13                  pain       16:12:00   \n",
       "9      11.0     2002-02-09  property damage only       08:00:00   \n",
       "10     12.0     2002-02-19  property damage only       06:30:00   \n",
       "11     13.0     2002-02-11          other injury       12:08:00   \n",
       "12     14.0     2002-02-15          other injury       12:10:00   \n",
       "13     15.0     2002-02-15  property damage only       15:15:00   \n",
       "14     16.0     2002-02-15                  pain       16:50:00   \n",
       "\n",
       "    county_city_location      hit_and_run  jurisdiction  \\\n",
       "0                   1900  not hit and run        9575.0   \n",
       "1                   1500      misdemeanor        9420.0   \n",
       "2                   1502      misdemeanor        9420.0   \n",
       "3                   1500      misdemeanor        9420.0   \n",
       "4                   1500  not hit and run        9420.0   \n",
       "5                   1500  not hit and run        9420.0   \n",
       "6                   1500  not hit and run        9420.0   \n",
       "7                   1502  not hit and run        9420.0   \n",
       "8                   1500  not hit and run        9420.0   \n",
       "9                   1502  not hit and run        9420.0   \n",
       "10                  1500  not hit and run        9420.0   \n",
       "11                  1500  not hit and run        9420.0   \n",
       "12                  1500  not hit and run        9420.0   \n",
       "13                  1502  not hit and run        9420.0   \n",
       "14                  1500  not hit and run        9420.0   \n",
       "\n",
       "                   lighting location_type officer_id  pcf_violation  \\\n",
       "0                  daylight           NaN      16418        22107.0   \n",
       "1                       NaN           NaN      14360        22515.0   \n",
       "2                  daylight       highway      16117        23114.0   \n",
       "3                  daylight           NaN       6078        22450.0   \n",
       "4                  daylight           NaN      13851        22350.0   \n",
       "5              dusk or dawn           NaN      16153        22106.0   \n",
       "6   dark with street lights           NaN      14706        21658.0   \n",
       "7                  daylight       highway      15833        22350.0   \n",
       "8                  daylight           NaN      15896        21801.0   \n",
       "9                  daylight           NaN      12547        22106.0   \n",
       "10                 daylight           NaN      10426        21451.0   \n",
       "11                 daylight           NaN      13295        21202.0   \n",
       "12                 daylight           NaN      12547        21453.0   \n",
       "13                 daylight           NaN      15833        22350.0   \n",
       "14                 daylight       highway      13649        22107.0   \n",
       "\n",
       "        pcf_violation_category pcf_violation_subsection  population  \\\n",
       "0             improper turning                      NaN         9.0   \n",
       "1            hazardous parking                        A         9.0   \n",
       "2    other hazardous violation                        A         6.0   \n",
       "3    traffic signals and signs                        A         9.0   \n",
       "4                     speeding                      NaN         9.0   \n",
       "5   unsafe starting or backing                      NaN         9.0   \n",
       "6           unsafe lane change                        A         9.0   \n",
       "7                     speeding                      NaN         6.0   \n",
       "8      automobile right of way                        A         9.0   \n",
       "9   unsafe starting or backing                      NaN         6.0   \n",
       "10   other hazardous violation                        A         9.0   \n",
       "11          wrong side of road                        A         9.0   \n",
       "12   traffic signals and signs                        A         9.0   \n",
       "13                    speeding                      NaN         6.0   \n",
       "14            improper turning                      NaN         9.0   \n",
       "\n",
       "   primary_collision_factor process_date  ramp_intersection road_condition_1  \\\n",
       "0    vehicle code violation   2002-06-14                NaN           normal   \n",
       "1    vehicle code violation   2002-03-29                NaN           normal   \n",
       "2    vehicle code violation   2003-07-15                NaN           normal   \n",
       "3    vehicle code violation   2002-05-22                NaN           normal   \n",
       "4    vehicle code violation   2003-07-28                NaN           normal   \n",
       "5    vehicle code violation   2002-03-29                NaN           normal   \n",
       "6    vehicle code violation   2002-03-29                NaN           normal   \n",
       "7    vehicle code violation   2002-05-15                NaN           normal   \n",
       "8    vehicle code violation   2002-03-28                NaN           normal   \n",
       "9    vehicle code violation   2002-04-16                NaN           normal   \n",
       "10   vehicle code violation   2002-03-28                NaN           normal   \n",
       "11   vehicle code violation   2002-03-28                NaN           normal   \n",
       "12   vehicle code violation   2002-03-28                NaN           normal   \n",
       "13   vehicle code violation   2002-03-28                NaN           normal   \n",
       "14   vehicle code violation   2002-05-28                NaN           normal   \n",
       "\n",
       "   road_condition_2 road_surface  tow_away type_of_collision weather_1  \\\n",
       "0               NaN          dry       1.0          rear end     clear   \n",
       "1               NaN          dry       0.0        hit object     clear   \n",
       "2               NaN          dry       0.0        hit object     clear   \n",
       "3               NaN          dry       0.0         sideswipe     clear   \n",
       "4               NaN          dry       1.0        overturned     clear   \n",
       "5               NaN          dry       0.0          rear end     clear   \n",
       "6               NaN          dry       0.0         sideswipe     clear   \n",
       "7               NaN          dry       0.0          rear end     clear   \n",
       "8               NaN          dry       1.0         broadside    cloudy   \n",
       "9               NaN          dry       0.0             other     clear   \n",
       "10              NaN          dry       0.0         broadside     clear   \n",
       "11              NaN          dry       0.0         broadside     clear   \n",
       "12              NaN          dry       1.0         broadside    cloudy   \n",
       "13              NaN          dry       0.0          rear end     clear   \n",
       "14              NaN          dry       1.0        hit object     clear   \n",
       "\n",
       "   weather_2  \n",
       "0        NaN  \n",
       "1        NaN  \n",
       "2        NaN  \n",
       "3        NaN  \n",
       "4        NaN  \n",
       "5        NaN  \n",
       "6        NaN  \n",
       "7        NaN  \n",
       "8        NaN  \n",
       "9        NaN  \n",
       "10       NaN  \n",
       "11       NaN  \n",
       "12       NaN  \n",
       "13       NaN  \n",
       "14       NaN  "
      ],
      "text/html": "<div>\n<style scoped>\n    .dataframe tbody tr th:only-of-type {\n        vertical-align: middle;\n    }\n\n    .dataframe tbody tr th {\n        vertical-align: top;\n    }\n\n    .dataframe thead th {\n        text-align: right;\n    }\n</style>\n<table border=\"1\" class=\"dataframe\">\n  <thead>\n    <tr style=\"text-align: right;\">\n      <th></th>\n      <th>case_id</th>\n      <th>collision_date</th>\n      <th>collision_severity</th>\n      <th>collision_time</th>\n      <th>county_city_location</th>\n      <th>hit_and_run</th>\n      <th>jurisdiction</th>\n      <th>lighting</th>\n      <th>location_type</th>\n      <th>officer_id</th>\n      <th>pcf_violation</th>\n      <th>pcf_violation_category</th>\n      <th>pcf_violation_subsection</th>\n      <th>population</th>\n      <th>primary_collision_factor</th>\n      <th>process_date</th>\n      <th>ramp_intersection</th>\n      <th>road_condition_1</th>\n      <th>road_condition_2</th>\n      <th>road_surface</th>\n      <th>tow_away</th>\n      <th>type_of_collision</th>\n      <th>weather_1</th>\n      <th>weather_2</th>\n    </tr>\n  </thead>\n  <tbody>\n    <tr>\n      <th>0</th>\n      <td>1.0</td>\n      <td>2002-01-18</td>\n      <td>property damage only</td>\n      <td>15:30:00</td>\n      <td>1900</td>\n      <td>not hit and run</td>\n      <td>9575.0</td>\n      <td>daylight</td>\n      <td>NaN</td>\n      <td>16418</td>\n      <td>22107.0</td>\n      <td>improper turning</td>\n      <td>NaN</td>\n      <td>9.0</td>\n      <td>vehicle code violation</td>\n      <td>2002-06-14</td>\n      <td>NaN</td>\n      <td>normal</td>\n      <td>NaN</td>\n      <td>dry</td>\n      <td>1.0</td>\n      <td>rear end</td>\n      <td>clear</td>\n      <td>NaN</td>\n    </tr>\n    <tr>\n      <th>1</th>\n      <td>2.0</td>\n      <td>2002-02-13</td>\n      <td>property damage only</td>\n      <td>19:30:00</td>\n      <td>1500</td>\n      <td>misdemeanor</td>\n      <td>9420.0</td>\n      <td>NaN</td>\n      <td>NaN</td>\n      <td>14360</td>\n      <td>22515.0</td>\n      <td>hazardous parking</td>\n      <td>A</td>\n      <td>9.0</td>\n      <td>vehicle code violation</td>\n      <td>2002-03-29</td>\n      <td>NaN</td>\n      <td>normal</td>\n      <td>NaN</td>\n      <td>dry</td>\n      <td>0.0</td>\n      <td>hit object</td>\n      <td>clear</td>\n      <td>NaN</td>\n    </tr>\n    <tr>\n      <th>2</th>\n      <td>3.0</td>\n      <td>2002-02-11</td>\n      <td>property damage only</td>\n      <td>15:30:00</td>\n      <td>1502</td>\n      <td>misdemeanor</td>\n      <td>9420.0</td>\n      <td>daylight</td>\n      <td>highway</td>\n      <td>16117</td>\n      <td>23114.0</td>\n      <td>other hazardous violation</td>\n      <td>A</td>\n      <td>6.0</td>\n      <td>vehicle code violation</td>\n      <td>2003-07-15</td>\n      <td>NaN</td>\n      <td>normal</td>\n      <td>NaN</td>\n      <td>dry</td>\n      <td>0.0</td>\n      <td>hit object</td>\n      <td>clear</td>\n      <td>NaN</td>\n    </tr>\n    <tr>\n      <th>3</th>\n      <td>4.0</td>\n      <td>2002-02-12</td>\n      <td>property damage only</td>\n      <td>07:45:00</td>\n      <td>1500</td>\n      <td>misdemeanor</td>\n      <td>9420.0</td>\n      <td>daylight</td>\n      <td>NaN</td>\n      <td>6078</td>\n      <td>22450.0</td>\n      <td>traffic signals and signs</td>\n      <td>A</td>\n      <td>9.0</td>\n      <td>vehicle code violation</td>\n      <td>2002-05-22</td>\n      <td>NaN</td>\n      <td>normal</td>\n      <td>NaN</td>\n      <td>dry</td>\n      <td>0.0</td>\n      <td>sideswipe</td>\n      <td>clear</td>\n      <td>NaN</td>\n    </tr>\n    <tr>\n      <th>4</th>\n      <td>5.0</td>\n      <td>2002-02-14</td>\n      <td>severe injury</td>\n      <td>11:35:00</td>\n      <td>1500</td>\n      <td>not hit and run</td>\n      <td>9420.0</td>\n      <td>daylight</td>\n      <td>NaN</td>\n      <td>13851</td>\n      <td>22350.0</td>\n      <td>speeding</td>\n      <td>NaN</td>\n      <td>9.0</td>\n      <td>vehicle code violation</td>\n      <td>2003-07-28</td>\n      <td>NaN</td>\n      <td>normal</td>\n      <td>NaN</td>\n      <td>dry</td>\n      <td>1.0</td>\n      <td>overturned</td>\n      <td>clear</td>\n      <td>NaN</td>\n    </tr>\n    <tr>\n      <th>5</th>\n      <td>6.0</td>\n      <td>2002-02-14</td>\n      <td>property damage only</td>\n      <td>17:40:00</td>\n      <td>1500</td>\n      <td>not hit and run</td>\n      <td>9420.0</td>\n      <td>dusk or dawn</td>\n      <td>NaN</td>\n      <td>16153</td>\n      <td>22106.0</td>\n      <td>unsafe starting or backing</td>\n      <td>NaN</td>\n      <td>9.0</td>\n      <td>vehicle code violation</td>\n      <td>2002-03-29</td>\n      <td>NaN</td>\n      <td>normal</td>\n      <td>NaN</td>\n      <td>dry</td>\n      <td>0.0</td>\n      <td>rear end</td>\n      <td>clear</td>\n      <td>NaN</td>\n    </tr>\n    <tr>\n      <th>6</th>\n      <td>7.0</td>\n      <td>2002-02-14</td>\n      <td>property damage only</td>\n      <td>17:55:00</td>\n      <td>1500</td>\n      <td>not hit and run</td>\n      <td>9420.0</td>\n      <td>dark with street lights</td>\n      <td>NaN</td>\n      <td>14706</td>\n      <td>21658.0</td>\n      <td>unsafe lane change</td>\n      <td>A</td>\n      <td>9.0</td>\n      <td>vehicle code violation</td>\n      <td>2002-03-29</td>\n      <td>NaN</td>\n      <td>normal</td>\n      <td>NaN</td>\n      <td>dry</td>\n      <td>0.0</td>\n      <td>sideswipe</td>\n      <td>clear</td>\n      <td>NaN</td>\n    </tr>\n    <tr>\n      <th>7</th>\n      <td>8.0</td>\n      <td>2002-02-14</td>\n      <td>property damage only</td>\n      <td>15:45:00</td>\n      <td>1502</td>\n      <td>not hit and run</td>\n      <td>9420.0</td>\n      <td>daylight</td>\n      <td>highway</td>\n      <td>15833</td>\n      <td>22350.0</td>\n      <td>speeding</td>\n      <td>NaN</td>\n      <td>6.0</td>\n      <td>vehicle code violation</td>\n      <td>2002-05-15</td>\n      <td>NaN</td>\n      <td>normal</td>\n      <td>NaN</td>\n      <td>dry</td>\n      <td>0.0</td>\n      <td>rear end</td>\n      <td>clear</td>\n      <td>NaN</td>\n    </tr>\n    <tr>\n      <th>8</th>\n      <td>9.0</td>\n      <td>2002-02-13</td>\n      <td>pain</td>\n      <td>16:12:00</td>\n      <td>1500</td>\n      <td>not hit and run</td>\n      <td>9420.0</td>\n      <td>daylight</td>\n      <td>NaN</td>\n      <td>15896</td>\n      <td>21801.0</td>\n      <td>automobile right of way</td>\n      <td>A</td>\n      <td>9.0</td>\n      <td>vehicle code violation</td>\n      <td>2002-03-28</td>\n      <td>NaN</td>\n      <td>normal</td>\n      <td>NaN</td>\n      <td>dry</td>\n      <td>1.0</td>\n      <td>broadside</td>\n      <td>cloudy</td>\n      <td>NaN</td>\n    </tr>\n    <tr>\n      <th>9</th>\n      <td>11.0</td>\n      <td>2002-02-09</td>\n      <td>property damage only</td>\n      <td>08:00:00</td>\n      <td>1502</td>\n      <td>not hit and run</td>\n      <td>9420.0</td>\n      <td>daylight</td>\n      <td>NaN</td>\n      <td>12547</td>\n      <td>22106.0</td>\n      <td>unsafe starting or backing</td>\n      <td>NaN</td>\n      <td>6.0</td>\n      <td>vehicle code violation</td>\n      <td>2002-04-16</td>\n      <td>NaN</td>\n      <td>normal</td>\n      <td>NaN</td>\n      <td>dry</td>\n      <td>0.0</td>\n      <td>other</td>\n      <td>clear</td>\n      <td>NaN</td>\n    </tr>\n    <tr>\n      <th>10</th>\n      <td>12.0</td>\n      <td>2002-02-19</td>\n      <td>property damage only</td>\n      <td>06:30:00</td>\n      <td>1500</td>\n      <td>not hit and run</td>\n      <td>9420.0</td>\n      <td>daylight</td>\n      <td>NaN</td>\n      <td>10426</td>\n      <td>21451.0</td>\n      <td>other hazardous violation</td>\n      <td>A</td>\n      <td>9.0</td>\n      <td>vehicle code violation</td>\n      <td>2002-03-28</td>\n      <td>NaN</td>\n      <td>normal</td>\n      <td>NaN</td>\n      <td>dry</td>\n      <td>0.0</td>\n      <td>broadside</td>\n      <td>clear</td>\n      <td>NaN</td>\n    </tr>\n    <tr>\n      <th>11</th>\n      <td>13.0</td>\n      <td>2002-02-11</td>\n      <td>other injury</td>\n      <td>12:08:00</td>\n      <td>1500</td>\n      <td>not hit and run</td>\n      <td>9420.0</td>\n      <td>daylight</td>\n      <td>NaN</td>\n      <td>13295</td>\n      <td>21202.0</td>\n      <td>wrong side of road</td>\n      <td>A</td>\n      <td>9.0</td>\n      <td>vehicle code violation</td>\n      <td>2002-03-28</td>\n      <td>NaN</td>\n      <td>normal</td>\n      <td>NaN</td>\n      <td>dry</td>\n      <td>0.0</td>\n      <td>broadside</td>\n      <td>clear</td>\n      <td>NaN</td>\n    </tr>\n    <tr>\n      <th>12</th>\n      <td>14.0</td>\n      <td>2002-02-15</td>\n      <td>other injury</td>\n      <td>12:10:00</td>\n      <td>1500</td>\n      <td>not hit and run</td>\n      <td>9420.0</td>\n      <td>daylight</td>\n      <td>NaN</td>\n      <td>12547</td>\n      <td>21453.0</td>\n      <td>traffic signals and signs</td>\n      <td>A</td>\n      <td>9.0</td>\n      <td>vehicle code violation</td>\n      <td>2002-03-28</td>\n      <td>NaN</td>\n      <td>normal</td>\n      <td>NaN</td>\n      <td>dry</td>\n      <td>1.0</td>\n      <td>broadside</td>\n      <td>cloudy</td>\n      <td>NaN</td>\n    </tr>\n    <tr>\n      <th>13</th>\n      <td>15.0</td>\n      <td>2002-02-15</td>\n      <td>property damage only</td>\n      <td>15:15:00</td>\n      <td>1502</td>\n      <td>not hit and run</td>\n      <td>9420.0</td>\n      <td>daylight</td>\n      <td>NaN</td>\n      <td>15833</td>\n      <td>22350.0</td>\n      <td>speeding</td>\n      <td>NaN</td>\n      <td>6.0</td>\n      <td>vehicle code violation</td>\n      <td>2002-03-28</td>\n      <td>NaN</td>\n      <td>normal</td>\n      <td>NaN</td>\n      <td>dry</td>\n      <td>0.0</td>\n      <td>rear end</td>\n      <td>clear</td>\n      <td>NaN</td>\n    </tr>\n    <tr>\n      <th>14</th>\n      <td>16.0</td>\n      <td>2002-02-15</td>\n      <td>pain</td>\n      <td>16:50:00</td>\n      <td>1500</td>\n      <td>not hit and run</td>\n      <td>9420.0</td>\n      <td>daylight</td>\n      <td>highway</td>\n      <td>13649</td>\n      <td>22107.0</td>\n      <td>improper turning</td>\n      <td>NaN</td>\n      <td>9.0</td>\n      <td>vehicle code violation</td>\n      <td>2002-05-28</td>\n      <td>NaN</td>\n      <td>normal</td>\n      <td>NaN</td>\n      <td>dry</td>\n      <td>1.0</td>\n      <td>hit object</td>\n      <td>clear</td>\n      <td>NaN</td>\n    </tr>\n  </tbody>\n</table>\n</div>"
     },
     "metadata": {},
     "execution_count": 31
    }
   ],
   "source": [
    "col.head(15)"
   ]
  },
  {
   "cell_type": "code",
   "execution_count": 19,
   "metadata": {},
   "outputs": [
    {
     "output_type": "stream",
     "name": "stdout",
     "text": [
      "<class 'pandas.core.frame.DataFrame'>\nRangeIndex: 3678063 entries, 0 to 3678062\nData columns (total 24 columns):\n #   Column                    Dtype  \n---  ------                    -----  \n 0   case_id                   float64\n 1   collision_date            object \n 2   collision_severity        object \n 3   collision_time            object \n 4   county_city_location      int64  \n 5   hit_and_run               object \n 6   jurisdiction              float64\n 7   lighting                  object \n 8   location_type             object \n 9   officer_id                object \n 10  pcf_violation             float64\n 11  pcf_violation_category    object \n 12  pcf_violation_subsection  object \n 13  population                float64\n 14  primary_collision_factor  object \n 15  process_date              object \n 16  ramp_intersection         float64\n 17  road_condition_1          object \n 18  road_condition_2          object \n 19  road_surface              object \n 20  tow_away                  float64\n 21  type_of_collision         object \n 22  weather_1                 object \n 23  weather_2                 object \ndtypes: float64(6), int64(1), object(17)\nmemory usage: 673.5+ MB\n"
     ]
    }
   ],
   "source": [
    "col.info()"
   ]
  },
  {
   "cell_type": "code",
   "execution_count": 3,
   "metadata": {},
   "outputs": [],
   "source": [
    "part = pd.read_csv('parties2018.csv')"
   ]
  },
  {
   "cell_type": "code",
   "execution_count": 4,
   "metadata": {},
   "outputs": [
    {
     "output_type": "error",
     "ename": "ValueError",
     "evalue": "Cannot mask with non-boolean array containing NA / NaN values",
     "traceback": [
      "\u001b[0;31m---------------------------------------------------------------------------\u001b[0m",
      "\u001b[0;31mValueError\u001b[0m                                Traceback (most recent call last)",
      "\u001b[0;32m<ipython-input-4-87854ebcb343>\u001b[0m in \u001b[0;36m<module>\u001b[0;34m\u001b[0m\n\u001b[1;32m      1\u001b[0m \u001b[0mpart\u001b[0m\u001b[0;34m.\u001b[0m\u001b[0mhead\u001b[0m\u001b[0;34m(\u001b[0m\u001b[0;36m20\u001b[0m\u001b[0;34m)\u001b[0m\u001b[0;34m\u001b[0m\u001b[0;34m\u001b[0m\u001b[0m\n\u001b[1;32m      2\u001b[0m \u001b[0;31m# part.loc[part[\"case_id\"] == 3.0]\u001b[0m\u001b[0;34m\u001b[0m\u001b[0;34m\u001b[0m\u001b[0;34m\u001b[0m\u001b[0m\n\u001b[0;32m----> 3\u001b[0;31m \u001b[0mpart\u001b[0m\u001b[0;34m.\u001b[0m\u001b[0mloc\u001b[0m\u001b[0;34m[\u001b[0m\u001b[0mpart\u001b[0m\u001b[0;34m[\u001b[0m\u001b[0;34m\"school_bus_related\"\u001b[0m\u001b[0;34m]\u001b[0m  \u001b[0;34m]\u001b[0m\u001b[0;34m\u001b[0m\u001b[0;34m\u001b[0m\u001b[0m\n\u001b[0m",
      "\u001b[0;32m~/miniconda3/lib/python3.7/site-packages/pandas/core/indexing.py\u001b[0m in \u001b[0;36m__getitem__\u001b[0;34m(self, key)\u001b[0m\n\u001b[1;32m   1766\u001b[0m \u001b[0;34m\u001b[0m\u001b[0m\n\u001b[1;32m   1767\u001b[0m             \u001b[0mmaybe_callable\u001b[0m \u001b[0;34m=\u001b[0m \u001b[0mcom\u001b[0m\u001b[0;34m.\u001b[0m\u001b[0mapply_if_callable\u001b[0m\u001b[0;34m(\u001b[0m\u001b[0mkey\u001b[0m\u001b[0;34m,\u001b[0m \u001b[0mself\u001b[0m\u001b[0;34m.\u001b[0m\u001b[0mobj\u001b[0m\u001b[0;34m)\u001b[0m\u001b[0;34m\u001b[0m\u001b[0;34m\u001b[0m\u001b[0m\n\u001b[0;32m-> 1768\u001b[0;31m             \u001b[0;32mreturn\u001b[0m \u001b[0mself\u001b[0m\u001b[0;34m.\u001b[0m\u001b[0m_getitem_axis\u001b[0m\u001b[0;34m(\u001b[0m\u001b[0mmaybe_callable\u001b[0m\u001b[0;34m,\u001b[0m \u001b[0maxis\u001b[0m\u001b[0;34m=\u001b[0m\u001b[0maxis\u001b[0m\u001b[0;34m)\u001b[0m\u001b[0;34m\u001b[0m\u001b[0;34m\u001b[0m\u001b[0m\n\u001b[0m\u001b[1;32m   1769\u001b[0m \u001b[0;34m\u001b[0m\u001b[0m\n\u001b[1;32m   1770\u001b[0m     \u001b[0;32mdef\u001b[0m \u001b[0m_is_scalar_access\u001b[0m\u001b[0;34m(\u001b[0m\u001b[0mself\u001b[0m\u001b[0;34m,\u001b[0m \u001b[0mkey\u001b[0m\u001b[0;34m:\u001b[0m \u001b[0mTuple\u001b[0m\u001b[0;34m)\u001b[0m\u001b[0;34m:\u001b[0m\u001b[0;34m\u001b[0m\u001b[0;34m\u001b[0m\u001b[0m\n",
      "\u001b[0;32m~/miniconda3/lib/python3.7/site-packages/pandas/core/indexing.py\u001b[0m in \u001b[0;36m_getitem_axis\u001b[0;34m(self, key, axis)\u001b[0m\n\u001b[1;32m   1911\u001b[0m             \u001b[0mself\u001b[0m\u001b[0;34m.\u001b[0m\u001b[0m_validate_key\u001b[0m\u001b[0;34m(\u001b[0m\u001b[0mkey\u001b[0m\u001b[0;34m,\u001b[0m \u001b[0maxis\u001b[0m\u001b[0;34m)\u001b[0m\u001b[0;34m\u001b[0m\u001b[0;34m\u001b[0m\u001b[0m\n\u001b[1;32m   1912\u001b[0m             \u001b[0;32mreturn\u001b[0m \u001b[0mself\u001b[0m\u001b[0;34m.\u001b[0m\u001b[0m_get_slice_axis\u001b[0m\u001b[0;34m(\u001b[0m\u001b[0mkey\u001b[0m\u001b[0;34m,\u001b[0m \u001b[0maxis\u001b[0m\u001b[0;34m=\u001b[0m\u001b[0maxis\u001b[0m\u001b[0;34m)\u001b[0m\u001b[0;34m\u001b[0m\u001b[0;34m\u001b[0m\u001b[0m\n\u001b[0;32m-> 1913\u001b[0;31m         \u001b[0;32melif\u001b[0m \u001b[0mcom\u001b[0m\u001b[0;34m.\u001b[0m\u001b[0mis_bool_indexer\u001b[0m\u001b[0;34m(\u001b[0m\u001b[0mkey\u001b[0m\u001b[0;34m)\u001b[0m\u001b[0;34m:\u001b[0m\u001b[0;34m\u001b[0m\u001b[0;34m\u001b[0m\u001b[0m\n\u001b[0m\u001b[1;32m   1914\u001b[0m             \u001b[0;32mreturn\u001b[0m \u001b[0mself\u001b[0m\u001b[0;34m.\u001b[0m\u001b[0m_getbool_axis\u001b[0m\u001b[0;34m(\u001b[0m\u001b[0mkey\u001b[0m\u001b[0;34m,\u001b[0m \u001b[0maxis\u001b[0m\u001b[0;34m=\u001b[0m\u001b[0maxis\u001b[0m\u001b[0;34m)\u001b[0m\u001b[0;34m\u001b[0m\u001b[0;34m\u001b[0m\u001b[0m\n\u001b[1;32m   1915\u001b[0m         \u001b[0;32melif\u001b[0m \u001b[0mis_list_like_indexer\u001b[0m\u001b[0;34m(\u001b[0m\u001b[0mkey\u001b[0m\u001b[0;34m)\u001b[0m\u001b[0;34m:\u001b[0m\u001b[0;34m\u001b[0m\u001b[0;34m\u001b[0m\u001b[0m\n",
      "\u001b[0;32m~/miniconda3/lib/python3.7/site-packages/pandas/core/common.py\u001b[0m in \u001b[0;36mis_bool_indexer\u001b[0;34m(key)\u001b[0m\n\u001b[1;32m    134\u001b[0m                 \u001b[0mna_msg\u001b[0m \u001b[0;34m=\u001b[0m \u001b[0;34m\"Cannot mask with non-boolean array containing NA / NaN values\"\u001b[0m\u001b[0;34m\u001b[0m\u001b[0;34m\u001b[0m\u001b[0m\n\u001b[1;32m    135\u001b[0m                 \u001b[0;32mif\u001b[0m \u001b[0misna\u001b[0m\u001b[0;34m(\u001b[0m\u001b[0mkey\u001b[0m\u001b[0;34m)\u001b[0m\u001b[0;34m.\u001b[0m\u001b[0many\u001b[0m\u001b[0;34m(\u001b[0m\u001b[0;34m)\u001b[0m\u001b[0;34m:\u001b[0m\u001b[0;34m\u001b[0m\u001b[0;34m\u001b[0m\u001b[0m\n\u001b[0;32m--> 136\u001b[0;31m                     \u001b[0;32mraise\u001b[0m \u001b[0mValueError\u001b[0m\u001b[0;34m(\u001b[0m\u001b[0mna_msg\u001b[0m\u001b[0;34m)\u001b[0m\u001b[0;34m\u001b[0m\u001b[0;34m\u001b[0m\u001b[0m\n\u001b[0m\u001b[1;32m    137\u001b[0m                 \u001b[0;32mreturn\u001b[0m \u001b[0;32mFalse\u001b[0m\u001b[0;34m\u001b[0m\u001b[0;34m\u001b[0m\u001b[0m\n\u001b[1;32m    138\u001b[0m             \u001b[0;32mreturn\u001b[0m \u001b[0;32mTrue\u001b[0m\u001b[0;34m\u001b[0m\u001b[0;34m\u001b[0m\u001b[0m\n",
      "\u001b[0;31mValueError\u001b[0m: Cannot mask with non-boolean array containing NA / NaN values"
     ]
    }
   ],
   "source": [
    "part.head(20)\n",
    "# part.loc[part[\"case_id\"] == 3.0]\n",
    "part.loc[part[\"school_bus_related\"]  ]"
   ]
  },
  {
   "cell_type": "code",
   "execution_count": 21,
   "metadata": {},
   "outputs": [
    {
     "output_type": "stream",
     "name": "stdout",
     "text": [
      "<class 'pandas.core.frame.DataFrame'>\nRangeIndex: 7286606 entries, 0 to 7286605\nData columns (total 21 columns):\n #   Column                        Dtype  \n---  ------                        -----  \n 0   at_fault                      int64  \n 1   case_id                       float64\n 2   cellphone_use                 object \n 3   financial_responsibility      object \n 4   hazardous_materials           object \n 5   id                            int64  \n 6   movement_preceding_collision  object \n 7   other_associate_factor_1      object \n 8   other_associate_factor_2      object \n 9   party_age                     float64\n 10  party_drug_physical           object \n 11  party_number                  int64  \n 12  party_safety_equipment_1      object \n 13  party_safety_equipment_2      object \n 14  party_sex                     object \n 15  party_sobriety                object \n 16  party_type                    object \n 17  school_bus_related            object \n 18  statewide_vehicle_type        object \n 19  vehicle_make                  object \n 20  vehicle_year                  float64\ndtypes: float64(3), int64(3), object(15)\nmemory usage: 1.1+ GB\n"
     ]
    }
   ],
   "source": [
    "part.info()"
   ]
  },
  {
   "cell_type": "code",
   "execution_count": 3,
   "metadata": {},
   "outputs": [],
   "source": [
    "vict = pd.read_csv('victims2018.csv')"
   ]
  },
  {
   "cell_type": "code",
   "execution_count": 1,
   "metadata": {},
   "outputs": [
    {
     "output_type": "error",
     "ename": "NameError",
     "evalue": "name 'vict' is not defined",
     "traceback": [
      "\u001b[0;31m---------------------------------------------------------------------------\u001b[0m",
      "\u001b[0;31mNameError\u001b[0m                                 Traceback (most recent call last)",
      "\u001b[0;32m<ipython-input-1-ea0801c2592d>\u001b[0m in \u001b[0;36m<module>\u001b[0;34m\u001b[0m\n\u001b[1;32m      1\u001b[0m \u001b[0;31m# vict.head(15)\u001b[0m\u001b[0;34m\u001b[0m\u001b[0;34m\u001b[0m\u001b[0;34m\u001b[0m\u001b[0m\n\u001b[1;32m      2\u001b[0m \u001b[0;31m# vict.loc[vict['case_id'] == 3.0]\u001b[0m\u001b[0;34m\u001b[0m\u001b[0;34m\u001b[0m\u001b[0;34m\u001b[0m\u001b[0m\n\u001b[0;32m----> 3\u001b[0;31m \u001b[0mvict\u001b[0m\u001b[0;34m[\u001b[0m\u001b[0;34m\"school_bus_related\"\u001b[0m\u001b[0;34m]\u001b[0m\u001b[0;34m.\u001b[0m\u001b[0mvalue_counts\u001b[0m\u001b[0;34m(\u001b[0m\u001b[0;34m)\u001b[0m\u001b[0;34m\u001b[0m\u001b[0;34m\u001b[0m\u001b[0m\n\u001b[0m",
      "\u001b[0;31mNameError\u001b[0m: name 'vict' is not defined"
     ]
    }
   ],
   "source": [
    "# vict.head(15)\n",
    "# vict.loc[vict['case_id'] == 3.0]\n",
    "vict[\"school_bus_related\"].value_counts()"
   ]
  },
  {
   "cell_type": "code",
   "execution_count": 27,
   "metadata": {},
   "outputs": [
    {
     "output_type": "execute_result",
     "data": {
      "text/plain": [
       "1     1916883\n",
       "2     1870134\n",
       "3      239077\n",
       "4       43874\n",
       "5        8961\n",
       "       ...   \n",
       "62          1\n",
       "54          1\n",
       "60          1\n",
       "32          1\n",
       "46          1\n",
       "Name: party_number, Length: 86, dtype: int64"
      ]
     },
     "metadata": {},
     "execution_count": 27
    }
   ],
   "source": [
    "vict[\"party_number\"].value_counts(dropna=False)"
   ]
  },
  {
   "cell_type": "code",
   "execution_count": 23,
   "metadata": {},
   "outputs": [
    {
     "output_type": "stream",
     "name": "stdout",
     "text": [
      "<class 'pandas.core.frame.DataFrame'>\nRangeIndex: 4082685 entries, 0 to 4082684\nData columns (total 11 columns):\n #   Column                     Dtype  \n---  ------                     -----  \n 0   case_id                    float64\n 1   id                         int64  \n 2   party_number               int64  \n 3   victim_age                 float64\n 4   victim_degree_of_injury    object \n 5   victim_ejected             float64\n 6   victim_role                int64  \n 7   victim_safety_equipment_1  object \n 8   victim_safety_equipment_2  object \n 9   victim_seating_position    float64\n 10  victim_sex                 object \ndtypes: float64(4), int64(3), object(4)\nmemory usage: 342.6+ MB\n"
     ]
    }
   ],
   "source": [
    "vict.info()"
   ]
  },
  {
   "cell_type": "code",
   "execution_count": 4,
   "metadata": {},
   "outputs": [
    {
     "output_type": "execute_result",
     "data": {
      "text/plain": [
       "True"
      ]
     },
     "metadata": {},
     "execution_count": 4
    }
   ],
   "source": [
    "vict[\"id\"].is_unique"
   ]
  },
  {
   "cell_type": "code",
   "execution_count": null,
   "metadata": {},
   "outputs": [],
   "source": []
  }
 ]
}