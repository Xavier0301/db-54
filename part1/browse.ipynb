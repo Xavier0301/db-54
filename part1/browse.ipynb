{
 "metadata": {
  "language_info": {
   "codemirror_mode": {
    "name": "ipython",
    "version": 3
   },
   "file_extension": ".py",
   "mimetype": "text/x-python",
   "name": "python",
   "nbconvert_exporter": "python",
   "pygments_lexer": "ipython3",
   "version": "3.7.3"
  },
  "orig_nbformat": 2,
  "kernelspec": {
   "name": "python373jvsc74a57bd0575ef1d0e6bebc78cce9f41e5461ee9c36f6b463def79c68585633dbbf58454e",
   "display_name": "Python 3.7.3 64-bit ('base': conda)"
  }
 },
 "nbformat": 4,
 "nbformat_minor": 2,
 "cells": [
  {
   "cell_type": "code",
   "execution_count": 3,
   "metadata": {},
   "outputs": [],
   "source": [
    "import pandas as pd\n",
    "pd.set_option(\"display.max.columns\", None)"
   ]
  },
  {
   "cell_type": "code",
   "execution_count": 19,
   "metadata": {},
   "outputs": [
    {
     "output_type": "stream",
     "name": "stderr",
     "text": [
      "/Users/xavier/miniconda3/lib/python3.7/site-packages/IPython/core/interactiveshell.py:3058: DtypeWarning: Columns (9) have mixed types.Specify dtype option on import or set low_memory=False.\n  interactivity=interactivity, compiler=compiler, result=result)\n"
     ]
    }
   ],
   "source": [
    "col = pd.read_csv('collisions2018.csv')"
   ]
  },
  {
   "cell_type": "code",
   "execution_count": 75,
   "metadata": {},
   "outputs": [
    {
     "output_type": "execute_result",
     "data": {
      "text/plain": [
       "8.0"
      ]
     },
     "metadata": {},
     "execution_count": 75
    }
   ],
   "source": [
    "# col.head(15)\n",
    "col[\"officer_id\"].str.len().max()\n",
    "# col[\"officer_id\"].value_counts(dropna=False)\n",
    "# col['jurisdiction'].isnull().values.any()"
   ]
  },
  {
   "cell_type": "code",
   "execution_count": 19,
   "metadata": {},
   "outputs": [
    {
     "output_type": "stream",
     "name": "stdout",
     "text": [
      "<class 'pandas.core.frame.DataFrame'>\nRangeIndex: 3678063 entries, 0 to 3678062\nData columns (total 24 columns):\n #   Column                    Dtype  \n---  ------                    -----  \n 0   case_id                   float64\n 1   collision_date            object \n 2   collision_severity        object \n 3   collision_time            object \n 4   county_city_location      int64  \n 5   hit_and_run               object \n 6   jurisdiction              float64\n 7   lighting                  object \n 8   location_type             object \n 9   officer_id                object \n 10  pcf_violation             float64\n 11  pcf_violation_category    object \n 12  pcf_violation_subsection  object \n 13  population                float64\n 14  primary_collision_factor  object \n 15  process_date              object \n 16  ramp_intersection         float64\n 17  road_condition_1          object \n 18  road_condition_2          object \n 19  road_surface              object \n 20  tow_away                  float64\n 21  type_of_collision         object \n 22  weather_1                 object \n 23  weather_2                 object \ndtypes: float64(6), int64(1), object(17)\nmemory usage: 673.5+ MB\n"
     ]
    }
   ],
   "source": [
    "col.info()"
   ]
  },
  {
   "cell_type": "code",
   "execution_count": 4,
   "metadata": {},
   "outputs": [
    {
     "output_type": "stream",
     "name": "stderr",
     "text": [
      "/Users/xavier/miniconda3/lib/python3.7/site-packages/IPython/core/interactiveshell.py:3058: DtypeWarning: Columns (4,13,17) have mixed types.Specify dtype option on import or set low_memory=False.\n  interactivity=interactivity, compiler=compiler, result=result)\n"
     ]
    }
   ],
   "source": [
    "part = pd.read_csv('parties2018.csv')"
   ]
  },
  {
   "cell_type": "code",
   "execution_count": 81,
   "metadata": {},
   "outputs": [
    {
     "output_type": "execute_result",
     "data": {
      "text/plain": [
       "A      5613380\n",
       "G       678479\n",
       "H       382563\n",
       "B       255808\n",
       "NaN     251743\n",
       "D        56710\n",
       "C        47923\n",
       "Name: party_sobriety, dtype: int64"
      ]
     },
     "metadata": {},
     "execution_count": 81
    }
   ],
   "source": [
    "# part.head(20)\n",
    "# part.loc[part[\"case_id\"] == 3.0]\n",
    "# part.loc[part[\"school_bus_related\"]  ]\n",
    "part['party_sobriety'].value_counts(dropna=False)\n",
    "# part['pcf_violation'].isnull().values.any()"
   ]
  },
  {
   "cell_type": "code",
   "execution_count": 21,
   "metadata": {},
   "outputs": [
    {
     "output_type": "stream",
     "name": "stdout",
     "text": [
      "<class 'pandas.core.frame.DataFrame'>\nRangeIndex: 7286606 entries, 0 to 7286605\nData columns (total 21 columns):\n #   Column                        Dtype  \n---  ------                        -----  \n 0   at_fault                      int64  \n 1   case_id                       float64\n 2   cellphone_use                 object \n 3   financial_responsibility      object \n 4   hazardous_materials           object \n 5   id                            int64  \n 6   movement_preceding_collision  object \n 7   other_associate_factor_1      object \n 8   other_associate_factor_2      object \n 9   party_age                     float64\n 10  party_drug_physical           object \n 11  party_number                  int64  \n 12  party_safety_equipment_1      object \n 13  party_safety_equipment_2      object \n 14  party_sex                     object \n 15  party_sobriety                object \n 16  party_type                    object \n 17  school_bus_related            object \n 18  statewide_vehicle_type        object \n 19  vehicle_make                  object \n 20  vehicle_year                  float64\ndtypes: float64(3), int64(3), object(15)\nmemory usage: 1.1+ GB\n"
     ]
    }
   ],
   "source": [
    "part.info()"
   ]
  },
  {
   "cell_type": "code",
   "execution_count": 91,
   "metadata": {},
   "outputs": [
    {
     "output_type": "stream",
     "name": "stderr",
     "text": [
      "/Users/xavier/miniconda3/lib/python3.7/site-packages/IPython/core/interactiveshell.py:3058: DtypeWarning: Columns (8) have mixed types.Specify dtype option on import or set low_memory=False.\n  interactivity=interactivity, compiler=compiler, result=result)\n"
     ]
    }
   ],
   "source": [
    "vict = pd.read_csv('../victims2018.csv')"
   ]
  },
  {
   "cell_type": "code",
   "execution_count": 90,
   "metadata": {},
   "outputs": [
    {
     "output_type": "execute_result",
     "data": {
      "text/plain": [
       "3.0    1332081\n",
       "1.0    1326095\n",
       "6.0     451234\n",
       "4.0     364753\n",
       "9.0     204837\n",
       "5.0     163115\n",
       "0.0      72234\n",
       "2.0      70471\n",
       "7.0      51631\n",
       "8.0      41278\n",
       "NaN       4956\n",
       "Name: victim_seating_position, dtype: int64"
      ]
     },
     "metadata": {},
     "execution_count": 90
    }
   ],
   "source": [
    "# vict.head(15)\n",
    "# vict.loc[vict['case_id'] == 3.0]\n",
    "vict[\"victim_seating_position\"].value_counts(dropna=False)"
   ]
  },
  {
   "cell_type": "code",
   "execution_count": 27,
   "metadata": {},
   "outputs": [
    {
     "output_type": "execute_result",
     "data": {
      "text/plain": [
       "1     1916883\n",
       "2     1870134\n",
       "3      239077\n",
       "4       43874\n",
       "5        8961\n",
       "       ...   \n",
       "62          1\n",
       "54          1\n",
       "60          1\n",
       "32          1\n",
       "46          1\n",
       "Name: party_number, Length: 86, dtype: int64"
      ]
     },
     "metadata": {},
     "execution_count": 27
    }
   ],
   "source": [
    "vict[\"party_number\"].value_counts(dropna=False)"
   ]
  },
  {
   "cell_type": "code",
   "execution_count": 23,
   "metadata": {},
   "outputs": [
    {
     "output_type": "stream",
     "name": "stdout",
     "text": [
      "<class 'pandas.core.frame.DataFrame'>\nRangeIndex: 4082685 entries, 0 to 4082684\nData columns (total 11 columns):\n #   Column                     Dtype  \n---  ------                     -----  \n 0   case_id                    float64\n 1   id                         int64  \n 2   party_number               int64  \n 3   victim_age                 float64\n 4   victim_degree_of_injury    object \n 5   victim_ejected             float64\n 6   victim_role                int64  \n 7   victim_safety_equipment_1  object \n 8   victim_safety_equipment_2  object \n 9   victim_seating_position    float64\n 10  victim_sex                 object \ndtypes: float64(4), int64(3), object(4)\nmemory usage: 342.6+ MB\n"
     ]
    }
   ],
   "source": [
    "vict.info()"
   ]
  },
  {
   "cell_type": "code",
   "execution_count": 4,
   "metadata": {},
   "outputs": [
    {
     "output_type": "execute_result",
     "data": {
      "text/plain": [
       "True"
      ]
     },
     "metadata": {},
     "execution_count": 4
    }
   ],
   "source": [
    "vict[\"id\"].is_unique"
   ]
  },
  {
   "cell_type": "code",
   "execution_count": null,
   "metadata": {},
   "outputs": [],
   "source": []
  }
 ]
}